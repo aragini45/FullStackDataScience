{
 "cells": [
  {
   "cell_type": "code",
   "execution_count": 1,
   "id": "f1e8a5a3",
   "metadata": {},
   "outputs": [],
   "source": [
    "# 1. What is a Python library? Why do we use Python libraries?\n",
    "\n",
    "\"\"\"\n",
    "\n",
    "A Python library is a collection of pre-written code that developers can use to perform common tasks without needing to write code from scratch. Libraries provide modules, functions, and classes that simplify programming by providing ready-to-use tools for specific functionalities.\n",
    "\n",
    "Why use Python libraries?\n",
    "\n",
    "Reusability: Code can be reused across multiple projects.\n",
    "Efficiency: Saves time by reducing the need to write code for common tasks.\n",
    "Community support: Many libraries are open-source and maintained by the community, ensuring updates and improvements.\n",
    "Functionality: Libraries often encapsulate complex algorithms and functionalities, making them easier to implement.\n",
    "\n",
    "\"\"\""
   ]
  },
  {
   "cell_type": "code",
   "execution_count": 2,
   "id": "27f00922",
   "metadata": {},
   "outputs": [],
   "source": [
    "#  2. What is the difference between Numpy array and List?\n",
    "\n",
    "\"\"\"\n",
    "\n",
    "Homogeneity: NumPy arrays are homogeneous (all elements are of the same type), while Python lists can hold mixed data types.\n",
    "Performance: NumPy arrays are more efficient for numerical computations due to optimized performance, whereas lists are more flexible but slower for mathematical operations.\n",
    "Functionality: NumPy provides a rich set of mathematical functions for arrays, including element-wise operations, while lists do not have built-in mathematical capabilities.\n",
    "\n",
    "\"\"\""
   ]
  },
  {
   "cell_type": "code",
   "execution_count": 10,
   "id": "e98b6bf5",
   "metadata": {},
   "outputs": [
    {
     "data": {
      "text/plain": [
       "((3, 4), 12, 2)"
      ]
     },
     "execution_count": 10,
     "metadata": {},
     "output_type": "execute_result"
    }
   ],
   "source": [
    "# 3. Find the shape, size and dimension of the following array?\n",
    "#  [[1, 2, 3, 4]\n",
    "\n",
    "# [5, 6, 7, 8],\n",
    "\n",
    "# [9, 10, 11, 12]]\n",
    "\n",
    "import numpy as np\n",
    "\n",
    "array = np.array([[1, 2, 3, 4],\n",
    "                  [5, 6, 7, 8],\n",
    "                  [9, 10, 11, 12]])\n",
    "\n",
    "shape = array.shape  # Shape of the array\n",
    "size = array.size    # Total number of elements\n",
    "dimension = array.ndim  # Number of dimensions\n",
    "\n",
    "shape, size, dimension\n"
   ]
  },
  {
   "cell_type": "code",
   "execution_count": 11,
   "id": "3f6837a9",
   "metadata": {},
   "outputs": [],
   "source": [
    "# 4. Write python code to access the first row of the following array?\n",
    "#  [[1, 2, 3, 4]\n",
    "\n",
    "# [5, 6, 7, 8],\n",
    "\n",
    "# [9, 10, 11, 12]]\n",
    "\n",
    "first_row = array[0]\n"
   ]
  },
  {
   "cell_type": "code",
   "execution_count": null,
   "id": "4f43087e",
   "metadata": {},
   "outputs": [],
   "source": [
    "# 5. How do you access the element at the third row and fourth column from the given numpy array?\n",
    "#  [[1, 2, 3, 4]\n",
    "\n",
    "# [5, 6, 7, 8],\n",
    "\n",
    "# [9, 10, 11, 12]]\n",
    "\n",
    "element = array[2, 3]  # Accessing the element at the 3rd row and 4th column\n"
   ]
  },
  {
   "cell_type": "code",
   "execution_count": null,
   "id": "56448883",
   "metadata": {},
   "outputs": [],
   "source": [
    "# 6. Write code to extract all odd-indexed elements from the given numpy array?\n",
    "#  [[1, 2, 3, 4]\n",
    "\n",
    "# [5, 6, 7, 8],\n",
    "\n",
    "# [9, 10, 11, 12]]\n",
    "\n",
    "odd_indexed_elements = array[:, 1::2]  # Extracting odd-indexed columns\n"
   ]
  },
  {
   "cell_type": "code",
   "execution_count": null,
   "id": "971508cb",
   "metadata": {},
   "outputs": [],
   "source": [
    "\n",
    "# 7. How can you generate a random 3x3 matrix with values between 0 and 1?\n",
    "\n",
    "random_matrix = np.random.rand(3, 3)\n",
    "\n",
    "\n",
    "\n"
   ]
  },
  {
   "cell_type": "code",
   "execution_count": 12,
   "id": "690d58e8",
   "metadata": {},
   "outputs": [],
   "source": [
    "#  8. Describe the difference between np.random.rand and np.random.randn?\n",
    "\n",
    "\"\"\"np.random.rand: Generates random numbers uniformly distributed between 0 and 1.\n",
    "np.random.randn: Generates random numbers from a standard normal distribution (mean = 0, standard deviation = 1).\n",
    "\n",
    "\"\"\""
   ]
  },
  {
   "cell_type": "code",
   "execution_count": 4,
   "id": "4f1d8729",
   "metadata": {},
   "outputs": [],
   "source": [
    "# 9. Write code to increase the dimension of the following array?\n",
    "#  [[1, 2, 3, 4]\n",
    "\n",
    "# [5, 6, 7, 8],\n",
    "\n",
    "# [9, 10, 11, 12]]\n",
    "\n",
    "# Original array\n",
    "array = np.array([[1, 2, 3, 4],\n",
    "                  [5, 6, 7, 8],\n",
    "                  [9, 10, 11, 12]])\n",
    "\n",
    "# Increasing dimensions\n",
    "new_array = np.expand_dims(array, axis=0)  # Adds a new axis at the 0th position\n"
   ]
  },
  {
   "cell_type": "code",
   "execution_count": null,
   "id": "945fc553",
   "metadata": {},
   "outputs": [],
   "source": [
    "# 10. How to transpose the following array in NumPy?\n",
    "#  [[1, 2, 3, 4]\n",
    "\n",
    "# [5, 6, 7, 8],\n",
    "\n",
    "# [9, 10, 11, 12]]\n",
    "\n",
    "transposed_array = array.T  # Transpose the array\n"
   ]
  },
  {
   "cell_type": "code",
   "execution_count": null,
   "id": "9abbdc36",
   "metadata": {},
   "outputs": [],
   "source": [
    "# 11. Consider the following matrix:\n",
    "\n",
    "# Matrix A: [[1, 2, 3, 4] [5, 6, 7, 8],[9, 10, 11, 12]]\n",
    "#  Matrix B: [[1, 2, 3, 4] [5, 6, 7, 8],[9, 10, 11, 12]]\n",
    "\n",
    "\n",
    "# Perform the following operation using Python\n",
    "# 1 Index wise multiplication\n",
    "# 2 Matrix multiplication\n",
    "# 3 Add both the matrics\n",
    "# 4 Subtract matrix B from A\n",
    "# 5 Divide Matrix B by A\n",
    "\n",
    "# Given matrices\n",
    "A = np.array([[1, 2, 3, 4],\n",
    "              [5, 6, 7, 8],\n",
    "              [9, 10, 11, 12]])\n",
    "\n",
    "B = np.array([[1, 2, 3, 4],\n",
    "              [5, 6, 7, 8],\n",
    "              [9, 10, 11, 12]])\n",
    "\n",
    "# Element-wise multiplication\n",
    "elementwise_multiplication = A * B\n",
    "\n",
    "# Matrix multiplication\n",
    "matrix_multiplication = np.dot(A, B.T)  # Note: B.T for valid multiplication\n",
    "\n",
    "# Addition\n",
    "addition = A + B\n",
    "\n",
    "# Subtraction\n",
    "subtraction = A - B\n",
    "\n",
    "# Division\n",
    "division = np.divide(B, A, out=np.zeros_like(B), where=A!=0)  # Avoid division by zero\n"
   ]
  },
  {
   "cell_type": "code",
   "execution_count": 5,
   "id": "14cb3b4d",
   "metadata": {},
   "outputs": [],
   "source": [
    "# 12. Which function in Numpy can be used to swap the byte order of an array?\n",
    "\"\"\"\n",
    "The function used to swap the byte order of an array is numpy.ndarray.byteswap().\n",
    "\"\"\""
   ]
  },
  {
   "cell_type": "code",
   "execution_count": 6,
   "id": "50317ba1",
   "metadata": {},
   "outputs": [],
   "source": [
    "\n",
    "#  13. What is the significance of the np.linalg.inv function?\n",
    "\"\"\"\n",
    "The np.linalg.inv() function computes the multiplicative inverse (or the matrix inverse) of a square matrix.\n",
    "It is significant in solving linear equations and finding solutions in linear algebra.\n",
    "\"\"\""
   ]
  },
  {
   "cell_type": "code",
   "execution_count": 7,
   "id": "61549b92",
   "metadata": {},
   "outputs": [],
   "source": [
    "# 14. What does the np.reshape function do, and how is it used?\n",
    "\"\"\"\n",
    "The np.reshape() function changes the shape of an existing NumPy array without changing its data. It allows you to rearrange the dimensions of the array. The total number of elements must remain the same.\n",
    "\"\"\"\n",
    "reshaped_array = np.reshape(array, (4, 3))  # Reshape to 4 rows and 3 columns\n"
   ]
  },
  {
   "cell_type": "code",
   "execution_count": 8,
   "id": "1987146d",
   "metadata": {},
   "outputs": [],
   "source": [
    "# 15. What is broadcasting in Numpy?\n",
    "\"\"\"Broadcasting is a powerful mechanism in NumPy that allows operations on arrays of different shapes and sizes. It enables NumPy to perform arithmetic operations on arrays of different dimensions by \"stretching\" the smaller array across the larger one. For example, you can add a scalar to a matrix, and NumPy will automatically apply the scalar to each element of the matrix.\n",
    "\n",
    "\"\"\""
   ]
  },
  {
   "cell_type": "code",
   "execution_count": null,
   "id": "6a21f115",
   "metadata": {},
   "outputs": [],
   "source": []
  },
  {
   "cell_type": "code",
   "execution_count": null,
   "id": "707c4837",
   "metadata": {},
   "outputs": [],
   "source": []
  }
 ],
 "metadata": {
  "kernelspec": {
   "display_name": "Python (ml_kernel)",
   "language": "python",
   "name": "your_env_name"
  },
  "language_info": {
   "codemirror_mode": {
    "name": "ipython",
    "version": 3
   },
   "file_extension": ".py",
   "mimetype": "text/x-python",
   "name": "python",
   "nbconvert_exporter": "python",
   "pygments_lexer": "ipython3",
   "version": "3.8.0"
  }
 },
 "nbformat": 4,
 "nbformat_minor": 5
}
