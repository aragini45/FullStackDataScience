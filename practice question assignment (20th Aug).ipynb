{
 "cells": [
  {
   "cell_type": "markdown",
   "id": "13c1498e",
   "metadata": {},
   "source": [
    "# TOPIC: String Based Assignment Problem"
   ]
  },
  {
   "cell_type": "code",
   "execution_count": 6,
   "id": "b832ed2e",
   "metadata": {},
   "outputs": [
    {
     "name": "stdout",
     "output_type": "stream",
     "text": [
      "Enter one string - pwskills\n",
      "reversed string is sllikswp\n"
     ]
    }
   ],
   "source": [
    "# Write a program to reverse a string.\n",
    "\n",
    "s = input(\"Enter one string - \")\n",
    "print(f\"reversed string is {s[::-1]}\")"
   ]
  },
  {
   "cell_type": "code",
   "execution_count": 7,
   "id": "e9770c51",
   "metadata": {},
   "outputs": [
    {
     "name": "stdout",
     "output_type": "stream",
     "text": [
      "Enter a string: pw skills sllikswp\n",
      "The input string is a palindrome.\n"
     ]
    }
   ],
   "source": [
    "# Check if a string is a palindrome.\n",
    "\n",
    "# Take user input for a string\n",
    "input_string = input(\"Enter a string: \")\n",
    "\n",
    "# Remove spaces and convert to lowercase for accurate palindrome check\n",
    "cleaned_string = input_string.replace(\" \", \"\").lower()\n",
    "\n",
    "# Reverse the cleaned string using string slicing\n",
    "reversed_string = cleaned_string[::-1]\n",
    "\n",
    "# Check if the original and reversed strings are the same\n",
    "if cleaned_string == reversed_string:\n",
    "    print(\"The input string is a palindrome.\")\n",
    "else:\n",
    "    print(\"The input string is not a palindrome.\")"
   ]
  },
  {
   "cell_type": "code",
   "execution_count": 12,
   "id": "8e40849c",
   "metadata": {},
   "outputs": [
    {
     "name": "stdout",
     "output_type": "stream",
     "text": [
      "Enter one string - pw Skills\n",
      "string in UPPER CASE is \n",
      " PW SKILLS\n"
     ]
    }
   ],
   "source": [
    "# Convert a string to uppercase.\n",
    "s = input(\"Enter one string - \")\n",
    "print(f\"string in UPPER CASE is \\n {s.upper()}\")"
   ]
  },
  {
   "cell_type": "code",
   "execution_count": 13,
   "id": "adc3d6d9",
   "metadata": {},
   "outputs": [
    {
     "name": "stdout",
     "output_type": "stream",
     "text": [
      "Enter one string - pW skiLLS\n",
      "string in UPPER CASE is \n",
      " pw skills\n"
     ]
    }
   ],
   "source": [
    "# Convert a string to lowercase.\n",
    "s = input(\"Enter one string - \")\n",
    "print(f\"string in UPPER CASE is \\n {s.lower()}\")"
   ]
  },
  {
   "cell_type": "code",
   "execution_count": 22,
   "id": "ffece511",
   "metadata": {},
   "outputs": [
    {
     "name": "stdout",
     "output_type": "stream",
     "text": [
      "Enter a sentence: pw skills education\n",
      "The number of vowels in the sentence is: 6\n"
     ]
    }
   ],
   "source": [
    "# Count the number of vowels in a string\n",
    "\n",
    "\n",
    "# Take user input for a sentence\n",
    "sentence = input(\"Enter a sentence: \")\n",
    "\n",
    "# Initialize a variable to count vowels\n",
    "vowel_count = 0\n",
    "\n",
    "# Define a list of vowels\n",
    "vowels = ['a', 'e', 'i', 'o', 'u']\n",
    "\n",
    "# Convert the sentence to lowercase to handle both uppercase and lowercase vowels\n",
    "sentence_lower = sentence.lower().replace(\" \", \"\")\n",
    "\n",
    "# Iterate through each character in the sentence\n",
    "for char in sentence_lower:\n",
    "    if char in vowels:\n",
    "        vowel_count += 1\n",
    "\n",
    "# Display the vowel count\n",
    "print(\"The number of vowels in the sentence is:\", vowel_count)"
   ]
  },
  {
   "cell_type": "code",
   "execution_count": 23,
   "id": "b67abf4f",
   "metadata": {},
   "outputs": [
    {
     "name": "stdout",
     "output_type": "stream",
     "text": [
      "Enter a sentence: pw skills education\n",
      "The number of vowels in the sentence is: 11\n"
     ]
    }
   ],
   "source": [
    "#  Count the number of consonants in a string\n",
    "\n",
    "# Take user input for a sentence\n",
    "sentence = input(\"Enter a sentence: \")\n",
    "\n",
    "# Initialize a variable to count vowels\n",
    "consonants_count = 0\n",
    "\n",
    "# Define a list of vowels\n",
    "vowels = ['a', 'e', 'i', 'o', 'u']\n",
    "\n",
    "# Convert the sentence to lowercase to handle both uppercase and lowercase vowels\n",
    "sentence_lower = sentence.lower().replace(\" \", \"\")\n",
    "\n",
    "# Iterate through each character in the sentence\n",
    "for char in sentence_lower:\n",
    "    if char not in vowels:\n",
    "        consonants_count += 1\n",
    "\n",
    "# Display the vowel count\n",
    "print(\"The number of vowels in the sentence is:\", consonants_count)"
   ]
  },
  {
   "cell_type": "code",
   "execution_count": 4,
   "id": "0d917cce",
   "metadata": {},
   "outputs": [
    {
     "name": "stdout",
     "output_type": "stream",
     "text": [
      "Enter a string:          jhgbfjsg.       fgjhbfjg|\n",
      "Modified string without whitespaces: \n",
      " jhgbfjsg.fgjhbfjg|\n"
     ]
    }
   ],
   "source": [
    "# Remove all whitespaces from a string.\n",
    "\n",
    "# Take user input for a string\n",
    "input_string = input(\"Enter a string: \")\n",
    "\n",
    "# Remove all whitespaces from the string\n",
    "modified_string = input_string.replace(\" \", \"\").replace(\"\\t\", \"\").replace(\"\\n\", \"\")\n",
    "\n",
    "# Display the modified string without whitespaces\n",
    "print(\"Modified string without whitespaces: \\n\", modified_string)\n"
   ]
  },
  {
   "cell_type": "code",
   "execution_count": 5,
   "id": "7f686754",
   "metadata": {},
   "outputs": [
    {
     "name": "stdout",
     "output_type": "stream",
     "text": [
      "Enter a string: pwskills education\n",
      "Length of the string: 18\n"
     ]
    }
   ],
   "source": [
    "# Find the length of a string without using the `len()` function\n",
    "# Take user input for a string\n",
    "input_string = input(\"Enter a string: \")\n",
    "\n",
    "# Initialize a counter for the length\n",
    "length = 0\n",
    "\n",
    "# Iterate through the characters in the string and count them\n",
    "for char in input_string:\n",
    "    length += 1\n",
    "\n",
    "# Display the length of the string\n",
    "print(\"Length of the string:\", length)\n"
   ]
  },
  {
   "cell_type": "code",
   "execution_count": 8,
   "id": "2abfcc88",
   "metadata": {},
   "outputs": [
    {
     "name": "stdout",
     "output_type": "stream",
     "text": [
      "Enter a string: pwskills\n",
      "Enter the specific word to search for: edu\n",
      "The string does not contain the word 'edu'.\n"
     ]
    }
   ],
   "source": [
    "# Check if a string contains a specific word.\n",
    "# Take user input for a string\n",
    "input_string = input(\"Enter a string: \")\n",
    "\n",
    "# Specify the word to search for\n",
    "specific_word = input(\"Enter the specific word to search for: \")\n",
    "\n",
    "# Check if the specific word is present in the string\n",
    "if specific_word in input_string:\n",
    "    print(f\"The string contains the word '{specific_word}'.\")\n",
    "else:\n",
    "    print(f\"The string does not contain the word '{specific_word}'.\")\n"
   ]
  },
  {
   "cell_type": "code",
   "execution_count": 9,
   "id": "1be58c0f",
   "metadata": {},
   "outputs": [
    {
     "name": "stdout",
     "output_type": "stream",
     "text": [
      "Enter a string: pwskills edu\n",
      "Enter the word to replace: edu\n",
      "Enter the replacement word: education\n",
      "Modified string: pwskills education\n"
     ]
    }
   ],
   "source": [
    "#  Replace a word in a string with another word.\n",
    "# Take user input for a string\n",
    "input_string = input(\"Enter a string: \")\n",
    "\n",
    "# Specify the word to replace and the replacement word\n",
    "word_to_replace = input(\"Enter the word to replace: \")\n",
    "replacement_word = input(\"Enter the replacement word: \")\n",
    "\n",
    "# Replace the word in the string\n",
    "modified_string = input_string.replace(word_to_replace, replacement_word)\n",
    "\n",
    "# Display the modified string\n",
    "print(\"Modified string:\", modified_string)\n"
   ]
  },
  {
   "cell_type": "code",
   "execution_count": 10,
   "id": "6e8ad962",
   "metadata": {},
   "outputs": [
    {
     "name": "stdout",
     "output_type": "stream",
     "text": [
      "Enter a string: pw skills pw pw pw skills edu\n",
      "Enter the word to count: pw\n",
      "The word 'pw' appears 4 times in the string.\n"
     ]
    }
   ],
   "source": [
    "# Count the occurrences of a word in a string\n",
    "# Take user input for a string\n",
    "input_string = input(\"Enter a string: \")\n",
    "\n",
    "# Specify the word to count\n",
    "word_to_count = input(\"Enter the word to count: \")\n",
    "\n",
    "# Split the string into words and count the occurrences\n",
    "words = input_string.split()\n",
    "word_count = words.count(word_to_count)\n",
    "\n",
    "# Display the count of occurrences\n",
    "print(f\"The word '{word_to_count}' appears {word_count} times in the string.\")\n"
   ]
  },
  {
   "cell_type": "code",
   "execution_count": 12,
   "id": "5bc685ac",
   "metadata": {},
   "outputs": [
    {
     "name": "stdout",
     "output_type": "stream",
     "text": [
      "Enter a string: pw\n",
      "Enter the word to find: edu\n",
      "The word 'edu' is not found in the string.\n"
     ]
    }
   ],
   "source": [
    "# Find the first occurrence of a word in a string.\n",
    "# Take user input for a string\n",
    "input_string = input(\"Enter a string: \")\n",
    "\n",
    "# Specify the word to find\n",
    "word_to_find = input(\"Enter the word to find: \")\n",
    "\n",
    "# Find the first occurrence of the word in the string\n",
    "index = input_string.find(word_to_find)\n",
    "\n",
    "if index != -1:\n",
    "    print(f\"The word '{word_to_find}' first appears at index {index}.\")\n",
    "else:\n",
    "    print(f\"The word '{word_to_find}' is not found in the string.\")\n"
   ]
  },
  {
   "cell_type": "code",
   "execution_count": 13,
   "id": "62932fbc",
   "metadata": {},
   "outputs": [
    {
     "name": "stdout",
     "output_type": "stream",
     "text": [
      "Enter a string: pw skills pw pw pw skills edu\n",
      "Enter the word to find: edu\n",
      "The word 'edu' last appears at index 26.\n"
     ]
    }
   ],
   "source": [
    "# Find the last occurrence of a word in a string.\n",
    "\n",
    "# Take user input for a string\n",
    "input_string = input(\"Enter a string: \")\n",
    "\n",
    "# Specify the word to find\n",
    "word_to_find = input(\"Enter the word to find: \")\n",
    "\n",
    "# Find the last occurrence of the word in the string\n",
    "index = input_string.rfind(word_to_find)\n",
    "\n",
    "if index != -1:\n",
    "    print(f\"The word '{word_to_find}' last appears at index {index}.\")\n",
    "else:\n",
    "    print(f\"The word '{word_to_find}' is not found in the string.\")\n"
   ]
  },
  {
   "cell_type": "code",
   "execution_count": 14,
   "id": "4b016254",
   "metadata": {},
   "outputs": [
    {
     "name": "stdout",
     "output_type": "stream",
     "text": [
      "Enter a string: pw skills edu\n",
      "List of words: ['pw', 'skills', 'edu']\n"
     ]
    }
   ],
   "source": [
    "# Split a string into a list of words\n",
    "\n",
    "# Take user input for a string\n",
    "input_string = input(\"Enter a string: \")\n",
    "\n",
    "# Split the string into a list of words\n",
    "word_list = input_string.split()\n",
    "\n",
    "# Display the list of words\n",
    "print(\"List of words:\", word_list)\n"
   ]
  },
  {
   "cell_type": "code",
   "execution_count": 15,
   "id": "06d3d2b1",
   "metadata": {},
   "outputs": [
    {
     "name": "stdout",
     "output_type": "stream",
     "text": [
      "Enter a list of words (separated by spaces): pw skills edu\n",
      "Joined string: pw skills edu\n"
     ]
    }
   ],
   "source": [
    "# Join a list of words into a string.\n",
    "\n",
    "# Take user input for a list of words\n",
    "word_list = input(\"Enter a list of words (separated by spaces): \").split()\n",
    "\n",
    "# Join the list of words into a string using a space as the separator\n",
    "joined_string = ' '.join(word_list)\n",
    "\n",
    "# Display the joined string\n",
    "print(\"Joined string:\", joined_string)\n"
   ]
  },
  {
   "cell_type": "code",
   "execution_count": 17,
   "id": "c9be324c",
   "metadata": {},
   "outputs": [
    {
     "name": "stdout",
     "output_type": "stream",
     "text": [
      "Enter a string with spaces: pw skills edu\n",
      "Modified string: pw_skills_edu\n"
     ]
    }
   ],
   "source": [
    "# Convert a string where words are separated by spaces to one where words are separated by underscores.\n",
    "\n",
    "# Take user input for a string with spaces\n",
    "input_string = input(\"Enter a string with spaces: \")\n",
    "\n",
    "# Replace spaces with underscores\n",
    "modified_string = input_string.replace(\" \", \"_\")\n",
    "\n",
    "# Display the modified string\n",
    "print(\"Modified string:\", modified_string)\n"
   ]
  },
  {
   "cell_type": "code",
   "execution_count": 19,
   "id": "5ed357f7",
   "metadata": {},
   "outputs": [
    {
     "name": "stdout",
     "output_type": "stream",
     "text": [
      "Enter a string: pw skills edu\n",
      "Enter the starting word or phrase: edu\n",
      "The string does not start with 'edu'.\n"
     ]
    }
   ],
   "source": [
    "#  Check if a string starts with a specific word or phrase.\n",
    "\n",
    "# Take user input for a string\n",
    "input_string = input(\"Enter a string: \")\n",
    "\n",
    "# Specify the word or phrase to check\n",
    "start_word = input(\"Enter the starting word or phrase: \")\n",
    "\n",
    "# Check if the string starts with the specified word or phrase\n",
    "if input_string.startswith(start_word):\n",
    "    print(f\"The string starts with '{start_word}'.\")\n",
    "else:\n",
    "    print(f\"The string does not start with '{start_word}'.\")\n"
   ]
  },
  {
   "cell_type": "code",
   "execution_count": 20,
   "id": "249eb526",
   "metadata": {},
   "outputs": [
    {
     "name": "stdout",
     "output_type": "stream",
     "text": [
      "Enter a string: pe skills edu\n",
      "Enter the ending word or phrase: edu\n",
      "The string ends with 'edu'.\n"
     ]
    }
   ],
   "source": [
    "# Check if a string ends with a specific word or phrase.\n",
    "\n",
    "# Take user input for a string\n",
    "input_string = input(\"Enter a string: \")\n",
    "\n",
    "# Specify the word or phrase to check\n",
    "end_word = input(\"Enter the ending word or phrase: \")\n",
    "\n",
    "# Check if the string ends with the specified word or phrase\n",
    "if input_string.endswith(end_word):\n",
    "    print(f\"The string ends with '{end_word}'.\")\n",
    "else:\n",
    "    print(f\"The string does not end with '{end_word}'.\")\n"
   ]
  },
  {
   "cell_type": "code",
   "execution_count": 22,
   "id": "542f0a09",
   "metadata": {},
   "outputs": [
    {
     "name": "stdout",
     "output_type": "stream",
     "text": [
      "Enter a string: pw sKills edU\n",
      "Title case: Pw Skills Edu\n"
     ]
    }
   ],
   "source": [
    "# Convert a string to title case (e.g., \"hello world\" to \"Hello World\").\n",
    "\n",
    "# Take user input for a string\n",
    "input_string = input(\"Enter a string: \")\n",
    "\n",
    "# Convert the string to title case\n",
    "title_case_string = input_string.title()\n",
    "\n",
    "# Display the string in title case\n",
    "print(\"Title case:\", title_case_string)\n"
   ]
  },
  {
   "cell_type": "code",
   "execution_count": 23,
   "id": "b8c8651a",
   "metadata": {},
   "outputs": [
    {
     "name": "stdout",
     "output_type": "stream",
     "text": [
      "Enter a string: pw skills education\n",
      "The longest word in the string is: education\n"
     ]
    }
   ],
   "source": [
    "# Find the longest word in a string.\n",
    "\n",
    "# Take user input for a string\n",
    "input_string = input(\"Enter a string: \")\n",
    "\n",
    "# Split the string into words\n",
    "words = input_string.split()\n",
    "\n",
    "# Find the longest word using the max() function and len() as the key\n",
    "longest_word = max(words, key=len)\n",
    "\n",
    "# Display the longest word\n",
    "print(\"The longest word in the string is:\", longest_word)\n"
   ]
  },
  {
   "cell_type": "code",
   "execution_count": 25,
   "id": "237df65b",
   "metadata": {},
   "outputs": [
    {
     "name": "stdout",
     "output_type": "stream",
     "text": [
      "Enter a string: pw skills edu\n",
      "The shortest word in the string is: pw\n"
     ]
    }
   ],
   "source": [
    "# Find the shortest word in a string\n",
    "\n",
    "# Take user input for a string\n",
    "input_string = input(\"Enter a string: \")\n",
    "\n",
    "# Split the string into words\n",
    "words = input_string.split()\n",
    "\n",
    "# Find the shortest word using the min() function and len() as the key\n",
    "shortest_word = min(words, key=len)\n",
    "\n",
    "# Display the shortest word\n",
    "print(\"The shortest word in the string is:\", shortest_word)\n"
   ]
  },
  {
   "cell_type": "code",
   "execution_count": 26,
   "id": "4e745f09",
   "metadata": {},
   "outputs": [
    {
     "name": "stdout",
     "output_type": "stream",
     "text": [
      "Enter a string: pw skills edu\n",
      "Reversed string: edu skills pw\n"
     ]
    }
   ],
   "source": [
    "#  Reverse the order of words in a string.\n",
    "\n",
    "# Take user input for a string\n",
    "input_string = input(\"Enter a string: \")\n",
    "\n",
    "# Split the string into words\n",
    "words = input_string.split()\n",
    "\n",
    "# Reverse the order of words\n",
    "reversed_words = reversed(words)\n",
    "\n",
    "# Join the reversed words back into a string\n",
    "reversed_string = ' '.join(reversed_words)\n",
    "\n",
    "# Display the reversed string\n",
    "print(\"Reversed string:\", reversed_string)\n",
    "\n"
   ]
  },
  {
   "cell_type": "code",
   "execution_count": 28,
   "id": "ae06092b",
   "metadata": {},
   "outputs": [
    {
     "name": "stdout",
     "output_type": "stream",
     "text": [
      "Enter a string: qw123rSD\n",
      "The string is alphanumeric.\n"
     ]
    }
   ],
   "source": [
    "# Check if a string is alphanumeric.\n",
    "\n",
    "# Take user input for a string\n",
    "input_string = input(\"Enter a string: \")\n",
    "\n",
    "# Check if the string is alphanumeric\n",
    "if input_string.isalnum():\n",
    "    print(\"The string is alphanumeric.\")\n",
    "else:\n",
    "    print(\"The string is not alphanumeric.\")\n"
   ]
  },
  {
   "cell_type": "code",
   "execution_count": 29,
   "id": "1bce260c",
   "metadata": {},
   "outputs": [
    {
     "name": "stdout",
     "output_type": "stream",
     "text": [
      "Enter a string: 12 pwskills 12 edu\n",
      "Extracted digits: 1212\n"
     ]
    }
   ],
   "source": [
    "# Extract all digits from a string\n",
    "\n",
    "# Take user input for a string\n",
    "input_string = input(\"Enter a string: \")\n",
    "\n",
    "# Initialize an empty string to store the extracted digits\n",
    "extracted_digits = \"\"\n",
    "\n",
    "# Iterate through the characters and keep digits\n",
    "for char in input_string:\n",
    "    if char.isdigit():\n",
    "        extracted_digits += char\n",
    "\n",
    "# Display the extracted digits\n",
    "print(\"Extracted digits:\", extracted_digits)\n"
   ]
  },
  {
   "cell_type": "code",
   "execution_count": 30,
   "id": "3aec8c74",
   "metadata": {},
   "outputs": [
    {
     "name": "stdout",
     "output_type": "stream",
     "text": [
      "Enter a string: 12 pwskills 12 edu\n",
      "Extracted alphabets: pwskillsedu\n"
     ]
    }
   ],
   "source": [
    "# Extract all alphabets from a string.\n",
    "\n",
    "# Take user input for a string\n",
    "input_string = input(\"Enter a string: \")\n",
    "\n",
    "# Initialize an empty string to store the extracted alphabets\n",
    "extracted_alphabets = \"\"\n",
    "\n",
    "# Iterate through the characters and keep alphabets\n",
    "for char in input_string:\n",
    "    if char.isalpha():\n",
    "        extracted_alphabets += char\n",
    "\n",
    "# Display the extracted alphabets\n",
    "print(\"Extracted alphabets:\", extracted_alphabets)\n"
   ]
  },
  {
   "cell_type": "code",
   "execution_count": 36,
   "id": "34969f45",
   "metadata": {},
   "outputs": [
    {
     "name": "stdout",
     "output_type": "stream",
     "text": [
      "Enter a string: pw sKILLS\n",
      "Number of uppercase letters: 5\n"
     ]
    }
   ],
   "source": [
    "# Count the number of uppercase letters in a string\n",
    "\n",
    "# Take user input for a string\n",
    "input_string = input(\"Enter a string: \")\n",
    "\n",
    "# Initialize a counter for uppercase letters\n",
    "uppercase_count = 0\n",
    "\n",
    "# Iterate through the characters and count uppercase letters\n",
    "for char in input_string:\n",
    "    if char.isupper():\n",
    "        uppercase_count += 1\n",
    "\n",
    "# Display the count of uppercase letters\n",
    "print(\"Number of uppercase letters:\", uppercase_count)\n"
   ]
  },
  {
   "cell_type": "code",
   "execution_count": 37,
   "id": "8ee4c388",
   "metadata": {},
   "outputs": [
    {
     "name": "stdout",
     "output_type": "stream",
     "text": [
      "Enter a string: pw sKILLS\n",
      "Number of lowercase letters: 3\n"
     ]
    }
   ],
   "source": [
    "# Count the number of lowercase letters in a string.\n",
    "\n",
    "# Take user input for a string\n",
    "input_string = input(\"Enter a string: \")\n",
    "\n",
    "# Initialize a counter for lowercase letters\n",
    "lowercase_count = 0\n",
    "\n",
    "# Iterate through the characters and count lowercase letters\n",
    "for char in input_string:\n",
    "    if char.islower():\n",
    "        lowercase_count += 1\n",
    "\n",
    "# Display the count of lowercase letters\n",
    "print(\"Number of lowercase letters:\", lowercase_count)\n"
   ]
  },
  {
   "cell_type": "code",
   "execution_count": 38,
   "id": "46d1d4d8",
   "metadata": {},
   "outputs": [
    {
     "name": "stdout",
     "output_type": "stream",
     "text": [
      "Enter a string: pw SKILLS\n",
      "String with swapped case: PW skills\n"
     ]
    }
   ],
   "source": [
    "# Swap the case of each character in a string.\n",
    "\n",
    "# Take user input for a string\n",
    "input_string = input(\"Enter a string: \")\n",
    "\n",
    "# Swap the case of each character in the string\n",
    "swapped_string = input_string.swapcase()\n",
    "\n",
    "# Display the string with swapped case\n",
    "print(\"String with swapped case:\", swapped_string)\n",
    "\n"
   ]
  },
  {
   "cell_type": "code",
   "execution_count": 40,
   "id": "723fa1c7",
   "metadata": {},
   "outputs": [
    {
     "name": "stdout",
     "output_type": "stream",
     "text": [
      "Enter a string: pw Skills\n",
      "Enter the word to remove: pw\n",
      "Modified string:  Skills\n"
     ]
    }
   ],
   "source": [
    "# Remove a specific word from a string.\n",
    "\n",
    "# Take user input for a string\n",
    "input_string = input(\"Enter a string: \")\n",
    "\n",
    "# Specify the word to remove\n",
    "word_to_remove = input(\"Enter the word to remove: \")\n",
    "\n",
    "# Remove the specified word from the string\n",
    "modified_string = input_string.replace(word_to_remove, \"\")\n",
    "\n",
    "# Display the modified string\n",
    "print(\"Modified string:\", modified_string)\n"
   ]
  },
  {
   "cell_type": "code",
   "execution_count": 43,
   "id": "f30cba09",
   "metadata": {},
   "outputs": [
    {
     "name": "stdout",
     "output_type": "stream",
     "text": [
      "Enter an email address: support@pwskills\n",
      "Valid email address.\n"
     ]
    }
   ],
   "source": [
    "# Check if a string is a valid email address.\n",
    "\n",
    "# pip install validate_email_address\n",
    "\n",
    "from validate_email_address import validate_email\n",
    "\n",
    "# Take user input for an email address\n",
    "email_address = input(\"Enter an email address: \")\n",
    "\n",
    "# Use validate_email() to check if the email address is valid\n",
    "if validate_email(email_address):\n",
    "    print(\"Valid email address.\")\n",
    "else:\n",
    "    print(\"Invalid email address.\")\n"
   ]
  },
  {
   "cell_type": "code",
   "execution_count": 45,
   "id": "947849fc",
   "metadata": {},
   "outputs": [
    {
     "name": "stdout",
     "output_type": "stream",
     "text": [
      "Enter an email address: 12@gmail.com\n",
      "Valid email address.\n"
     ]
    }
   ],
   "source": [
    "import re\n",
    "\n",
    "# Take user input for an email address\n",
    "email_address = input(\"Enter an email address: \")\n",
    "\n",
    "# Define a regular expression pattern for a valid email address\n",
    "pattern = r'^[a-zA-Z0-9._%+-]+@[a-zA-Z0-9.-]+\\.[a-zA-Z]{2,}$'\n",
    "\n",
    "# Use re.match() to check if the email address matches the pattern\n",
    "if re.match(pattern, email_address):\n",
    "    print(\"Valid email address.\")\n",
    "else:\n",
    "    print(\"Invalid email address.\")\n"
   ]
  },
  {
   "cell_type": "code",
   "execution_count": 1,
   "id": "4f740a78",
   "metadata": {},
   "outputs": [
    {
     "name": "stdout",
     "output_type": "stream",
     "text": [
      "Enter an email address: sjhfjsh\n",
      "Extracted username: sjhfjsh\n"
     ]
    }
   ],
   "source": [
    "#  Extract the username from an email address string.\n",
    "\n",
    "# Take user input for an email address\n",
    "email_address = input(\"Enter an email address: \")\n",
    "\n",
    "# Extract the username from the email address\n",
    "username = email_address.split('@')[0]\n",
    "\n",
    "# Display the extracted username\n",
    "print(\"Extracted username:\", username)\n",
    "\n"
   ]
  },
  {
   "cell_type": "code",
   "execution_count": 2,
   "id": "92a4a449",
   "metadata": {},
   "outputs": [
    {
     "name": "stdout",
     "output_type": "stream",
     "text": [
      "email.com\n"
     ]
    }
   ],
   "source": [
    "# Extract the username from an email address string.\n",
    "\n",
    "email = \"example.user@email.com\"\n",
    "\n",
    "# Split the email address at the \"@\" symbol\n",
    "parts = email.split(\"@\")\n",
    "\n",
    "# The domain name is the second part (index 1)\n",
    "domain = parts[1]\n",
    "\n",
    "# Print the extracted domain name\n",
    "print(domain)\n"
   ]
  },
  {
   "cell_type": "code",
   "execution_count": 47,
   "id": "aa95a686",
   "metadata": {},
   "outputs": [
    {
     "name": "stdout",
     "output_type": "stream",
     "text": [
      "Enter an email address: support@pwskills.com\n",
      "Extracted domain name: pwskills.com\n"
     ]
    }
   ],
   "source": [
    "# Extract the domain name from an email address string\n",
    "\n",
    "# Take user input for an email address\n",
    "email_address = input(\"Enter an email address: \")\n",
    "\n",
    "# Extract the domain name from the email address\n",
    "domain_name = email_address.split('@')[1]\n",
    "\n",
    "# Display the extracted domain name\n",
    "print(\"Extracted domain name:\", domain_name)\n"
   ]
  },
  {
   "cell_type": "code",
   "execution_count": 50,
   "id": "af5d449f",
   "metadata": {},
   "outputs": [
    {
     "name": "stdout",
     "output_type": "stream",
     "text": [
      "Enter a string: pw  skills     edu\n",
      "Modified string: pw skills edu\n"
     ]
    }
   ],
   "source": [
    "#  Replace multiple spaces in a string with a single space.\n",
    "\n",
    "import re\n",
    "\n",
    "# Take user input for a string\n",
    "input_string = input(\"Enter a string: \")\n",
    "\n",
    "# Replace multiple spaces with a single space using regular expression\n",
    "modified_string = re.sub(r'\\s+', ' ', input_string)\n",
    "\n",
    "# Display the modified string\n",
    "print(\"Modified string:\", modified_string)\n"
   ]
  },
  {
   "cell_type": "code",
   "execution_count": 3,
   "id": "defa6f8d",
   "metadata": {},
   "outputs": [
    {
     "name": "stdout",
     "output_type": "stream",
     "text": [
      "Enter a URL: fssg.com\n",
      "Invalid URL.\n"
     ]
    }
   ],
   "source": [
    "# Check if a string is a valid URL.\n",
    "\n",
    "from urllib.parse import urlparse\n",
    "\n",
    "# Take user input for a URL\n",
    "url = input(\"Enter a URL: \")\n",
    "\n",
    "# Parse the URL using urlparse\n",
    "parsed_url = urlparse(url)\n",
    "\n",
    "# Check if the scheme and netloc are not empty, indicating a valid URL\n",
    "if parsed_url.scheme and parsed_url.netloc:\n",
    "    print(\"Valid URL.\")\n",
    "else:\n",
    "    print(\"Invalid URL.\")\n"
   ]
  },
  {
   "cell_type": "code",
   "execution_count": 14,
   "id": "6f366b24",
   "metadata": {},
   "outputs": [
    {
     "name": "stdout",
     "output_type": "stream",
     "text": [
      "Enter a URL: http://\n",
      "Extracted protocol: http\n"
     ]
    }
   ],
   "source": [
    "# Extract the protocol (http or https) from a URL string\n",
    "\n",
    "# Take user input for a URL\n",
    "url = input(\"Enter a URL: \")\n",
    "\n",
    "# Check if the URL starts with \"http://\" or \"https://\"\n",
    "if url.startswith(\"http://\"):\n",
    "    protocol = \"http\"\n",
    "elif url.startswith(\"https://\"):\n",
    "    protocol = \"https\"\n",
    "else:\n",
    "    protocol = \"Unknown\"\n",
    "\n",
    "# Display the extracted protocol\n",
    "print(\"Extracted protocol:\", protocol)\n"
   ]
  },
  {
   "cell_type": "code",
   "execution_count": 15,
   "id": "1f5820e4",
   "metadata": {},
   "outputs": [
    {
     "name": "stdout",
     "output_type": "stream",
     "text": [
      "Enter a string: pwskills\n",
      "Character frequencies:\n",
      "'p': 1\n",
      "'w': 1\n",
      "'s': 2\n",
      "'k': 1\n",
      "'i': 1\n",
      "'l': 2\n"
     ]
    }
   ],
   "source": [
    "#  Find the frequency of each character in a string.\n",
    "\n",
    "# Take user input for a string\n",
    "input_string = input(\"Enter a string: \")\n",
    "\n",
    "# Initialize an empty dictionary to store character frequencies\n",
    "character_frequency = {}\n",
    "\n",
    "# Iterate through the characters and update the dictionary\n",
    "for char in input_string:\n",
    "    if char in character_frequency:\n",
    "        character_frequency[char] += 1\n",
    "    else:\n",
    "        character_frequency[char] = 1\n",
    "\n",
    "# Display the character frequencies\n",
    "print(\"Character frequencies:\")\n",
    "for char, count in character_frequency.items():\n",
    "    print(f\"'{char}': {count}\")\n"
   ]
  },
  {
   "cell_type": "code",
   "execution_count": 18,
   "id": "26b2ec24",
   "metadata": {},
   "outputs": [
    {
     "name": "stdout",
     "output_type": "stream",
     "text": [
      "Enter a string: pw , .!@sk@ill$5s\n",
      "String with punctuation removed: pw  skill5s\n"
     ]
    }
   ],
   "source": [
    "# Remove all punctuation from a string.\n",
    "\n",
    "import string\n",
    "\n",
    "# Take user input for a string\n",
    "input_string = input(\"Enter a string: \")\n",
    "\n",
    "# Remove punctuation using list comprehension and string.punctuation\n",
    "cleaned_string = ''.join([char for char in input_string if char not in string.punctuation])\n",
    "\n",
    "# Display the cleaned string\n",
    "\n",
    "print(\"String with punctuation removed:\", cleaned_string)\n"
   ]
  },
  {
   "cell_type": "code",
   "execution_count": 22,
   "id": "c0c2a071",
   "metadata": {},
   "outputs": [
    {
     "name": "stdout",
     "output_type": "stream",
     "text": [
      "Enter a string: 1234\n",
      "The string contains only digits.\n"
     ]
    }
   ],
   "source": [
    "# Check if a string contains only digits.\n",
    "\n",
    "# Take user input for a string\n",
    "input_string = input(\"Enter a string: \")\n",
    "\n",
    "# Check if the string contains only digits\n",
    "if input_string.isdigit():\n",
    "    print(\"The string contains only digits.\")\n",
    "else:\n",
    "    print(\"The string does not contain only digits.\")\n"
   ]
  },
  {
   "cell_type": "code",
   "execution_count": 24,
   "id": "1312794a",
   "metadata": {},
   "outputs": [
    {
     "name": "stdout",
     "output_type": "stream",
     "text": [
      "Enter a string: pwskills\n",
      "The string contains only alphabetic characters.\n"
     ]
    }
   ],
   "source": [
    "# Check if a string contains only alphabets.\n",
    "\n",
    "# Take user input for a string\n",
    "input_string = input(\"Enter a string: \")\n",
    "\n",
    "# Check if the string contains only alphabetic characters\n",
    "if input_string.isalpha():\n",
    "    print(\"The string contains only alphabetic characters.\")\n",
    "else:\n",
    "    print(\"The string does not contain only alphabetic characters.\")\n",
    "\n",
    "    "
   ]
  },
  {
   "cell_type": "code",
   "execution_count": 25,
   "id": "970ef4f4",
   "metadata": {},
   "outputs": [
    {
     "name": "stdout",
     "output_type": "stream",
     "text": [
      "Enter a string: pw ski lls\n",
      "List of characters: ['p', 'w', ' ', 's', 'k', 'i', ' ', 'l', 'l', 's']\n"
     ]
    }
   ],
   "source": [
    "#  Convert a string to a list of characters.\n",
    "\n",
    "# Take user input for a string\n",
    "input_string = input(\"Enter a string: \")\n",
    "\n",
    "# Convert the string to a list of characters using the list() function\n",
    "character_list = list(input_string)\n",
    "\n",
    "# Display the list of characters\n",
    "print(\"List of characters:\", character_list)\n"
   ]
  },
  {
   "cell_type": "code",
   "execution_count": 31,
   "id": "7d1eb43f",
   "metadata": {},
   "outputs": [
    {
     "name": "stdout",
     "output_type": "stream",
     "text": [
      "Enter the first string: pwskills\n",
      "Enter the second string: skillspw\n",
      "first sorted string is  ['i', 'k', 'l', 'l', 'p', 's', 's', 'w']\n",
      "scond sorted string is  ['i', 'k', 'l', 'l', 'p', 's', 's', 'w']\n",
      "The strings are anagrams.\n"
     ]
    }
   ],
   "source": [
    "# Check if two strings are anagrams.\n",
    "\n",
    "# Take user input for two strings\n",
    "string1 = input(\"Enter the first string: \")\n",
    "string2 = input(\"Enter the second string: \")\n",
    "\n",
    "# Convert the strings to lowercase and remove spaces\n",
    "string1 = string1.lower().replace(\" \", \"\")\n",
    "string2 = string2.lower().replace(\" \", \"\")\n",
    "\n",
    "print(\"first sorted string is \", sorted(string1))\n",
    "print(\"scond sorted string is \", sorted(string2))\n",
    "\n",
    "# Check if the sorted versions of the strings are the same\n",
    "if sorted(string1) == sorted(string2):\n",
    "    print(\"The strings are anagrams.\")\n",
    "else:\n",
    "    print(\"The strings are not anagrams.\")\n"
   ]
  },
  {
   "cell_type": "code",
   "execution_count": 4,
   "id": "4f64eb13",
   "metadata": {},
   "outputs": [
    {
     "name": "stdout",
     "output_type": "stream",
     "text": [
      "Encoded text: Khoor, Zruog!\n"
     ]
    }
   ],
   "source": [
    "\n",
    "#  Encode a string using a Caesar cipher.\n",
    "\n",
    "def caesar_cipher(text, shift):\n",
    "    result = \"\"\n",
    "\n",
    "    for char in text:\n",
    "        if char.isalpha():\n",
    "            # Determine if the character is uppercase or lowercase\n",
    "            is_upper = char.isupper()\n",
    "            char = char.lower()  # Convert to lowercase for easier manipulation\n",
    "\n",
    "            # Shift the character within the range of lowercase letters (a-z)\n",
    "            shifted_char = chr(((ord(char) - ord('a') + shift) % 26) + ord('a'))\n",
    "\n",
    "            if is_upper:\n",
    "                shifted_char = shifted_char.upper()  # Convert back to uppercase if it was uppercase\n",
    "\n",
    "            result += shifted_char\n",
    "        else:\n",
    "            # If the character is not a letter, add it unchanged\n",
    "            result += char\n",
    "\n",
    "    return result\n",
    "\n",
    "# Example usage\n",
    "plaintext = \"Hello, World!\"\n",
    "shift = 3\n",
    "encoded_text = caesar_cipher(plaintext, shift)\n",
    "print(\"Encoded text:\", encoded_text)\n",
    "\n"
   ]
  },
  {
   "cell_type": "code",
   "execution_count": 5,
   "id": "eacd6c5f",
   "metadata": {},
   "outputs": [
    {
     "name": "stdout",
     "output_type": "stream",
     "text": [
      "Decoded text: Hello, World!\n"
     ]
    }
   ],
   "source": [
    "\n",
    "# Decode a Caesar cipher encoded string.\n",
    "\n",
    "def caesar_cipher_decode(encoded_text, shift):\n",
    "    return caesar_cipher(encoded_text, -shift)\n",
    "\n",
    "# Example usage\n",
    "encoded_text = \"Khoor, Zruog!\"\n",
    "shift = 3\n",
    "decoded_text = caesar_cipher_decode(encoded_text, shift)\n",
    "print(\"Decoded text:\", decoded_text)\n"
   ]
  },
  {
   "cell_type": "code",
   "execution_count": 35,
   "id": "8baadf29",
   "metadata": {},
   "outputs": [
    {
     "name": "stdout",
     "output_type": "stream",
     "text": [
      "Enter a string: best in the the best the best the world\n",
      "Most frequent word: the\n",
      "Frequency: 4\n"
     ]
    }
   ],
   "source": [
    "# Find the most frequent word in a string.\n",
    "\n",
    "from collections import Counter\n",
    "\n",
    "# Take user input for a string\n",
    "input_string = input(\"Enter a string: \")\n",
    "\n",
    "# Tokenize the string into words\n",
    "words = input_string.split()\n",
    "\n",
    "# Count the occurrences of each word using Counter\n",
    "word_count = Counter(words)\n",
    "\n",
    "# Find the most common word\n",
    "most_common_word = max(word_count, key=word_count.get)\n",
    "\n",
    "# Display the most frequent word and its count\n",
    "print(\"Most frequent word:\", most_common_word)\n",
    "print(\"Frequency:\", word_count[most_common_word])\n"
   ]
  },
  {
   "cell_type": "code",
   "execution_count": 8,
   "id": "d2d7d85f",
   "metadata": {},
   "outputs": [
    {
     "name": "stdout",
     "output_type": "stream",
     "text": [
      "Enter a string: jkgbfjgfn\n",
      "Unique words: {'jkgbfjgfn'}\n"
     ]
    }
   ],
   "source": [
    "# Find all unique words in a string.\n",
    "\n",
    "# Take user input for a string\n",
    "input_string = input(\"Enter a string: \")\n",
    "\n",
    "# Tokenize the string into words\n",
    "words = input_string.split()\n",
    "\n",
    "# Create a set to store unique words\n",
    "unique_words = set(words)\n",
    "\n",
    "# Display the unique words\n",
    "print(\"Unique words:\", unique_words)\n"
   ]
  },
  {
   "cell_type": "code",
   "execution_count": 9,
   "id": "2a9d3886",
   "metadata": {},
   "outputs": [
    {
     "name": "stdout",
     "output_type": "stream",
     "text": [
      "Number of syllables: 3\n"
     ]
    }
   ],
   "source": [
    "\n",
    "# Count the number of syllables in a string\n",
    "def count_syllables(word):\n",
    "    vowels = \"AEIOUaeiou\"\n",
    "    count = 0\n",
    "    prev_char = ''\n",
    "\n",
    "    for char in word:\n",
    "        if char in vowels and prev_char not in vowels:\n",
    "            count += 1\n",
    "        prev_char = char\n",
    "\n",
    "    return count\n",
    "\n",
    "# Example usage\n",
    "word = \"programming\"\n",
    "syllable_count = count_syllables(word)\n",
    "print(\"Number of syllables:\", syllable_count)\n",
    "\n",
    "\n"
   ]
  },
  {
   "cell_type": "code",
   "execution_count": 10,
   "id": "2b5f5c1e",
   "metadata": {},
   "outputs": [
    {
     "name": "stdout",
     "output_type": "stream",
     "text": [
      "Enter a string: hsjfbjkfsfjs\n",
      "The string does not contain special characters.\n"
     ]
    }
   ],
   "source": [
    "# Check if a string contains any special characters.\n",
    "\n",
    "# Take user input for a string\n",
    "input_string = input(\"Enter a string: \")\n",
    "\n",
    "# Check if the string contains any special characters\n",
    "contains_special_characters = any(not char.isalnum() for char in input_string)\n",
    "\n",
    "# Display the result\n",
    "if contains_special_characters:\n",
    "    print(\"The string contains special characters.\")\n",
    "else:\n",
    "    print(\"The string does not contain special characters.\")\n"
   ]
  },
  {
   "cell_type": "code",
   "execution_count": 2,
   "id": "f5c55a1a",
   "metadata": {},
   "outputs": [
    {
     "name": "stdout",
     "output_type": "stream",
     "text": [
      "Enter a string: pw skills is an online education platform\n",
      "Enter the position of the word to remove: 4\n",
      "words is  ['pw', 'skills', 'is', 'an', 'online', 'education', 'platform']\n",
      "type of words is  <class 'list'>\n",
      "Word removed: an\n",
      "Modified string: pw skills is online education platform\n"
     ]
    }
   ],
   "source": [
    "# Remove the nth word from a string.\n",
    "\n",
    "# Take user input for a string\n",
    "input_string = input(\"Enter a string: \")\n",
    "\n",
    "# Take user input for the position of the word to remove\n",
    "n = int(input(\"Enter the position of the word to remove: \")) - 1  # Subtract 1 to convert to 0-based index\n",
    "\n",
    "# Split the string into words\n",
    "words = input_string.split()\n",
    "print(\"words is \", words)\n",
    "print(\"type of words is \",type(words))\n",
    "# Check if the specified position is valid\n",
    "if 0 <= n < len(words):\n",
    "    # Remove the specified word\n",
    "    removed_word = words.pop(n)\n",
    "\n",
    "    # Join the remaining words back together\n",
    "    modified_string = ' '.join(words)\n",
    "\n",
    "    print(f\"Word removed: {removed_word}\")\n",
    "    print(\"Modified string:\", modified_string)\n",
    "else:\n",
    "    print(\"Invalid position. No word removed.\")\n"
   ]
  },
  {
   "cell_type": "code",
   "execution_count": 3,
   "id": "2ab2c680",
   "metadata": {},
   "outputs": [
    {
     "name": "stdout",
     "output_type": "stream",
     "text": [
      "Enter a string: pw skills is online education platform\n",
      "Enter the position to insert the word: 4\n",
      "Enter the word to insert: an\n",
      "Modified string: pw skills is an online education platform\n"
     ]
    }
   ],
   "source": [
    "#  Insert a word at the nth position in a string\n",
    "\n",
    "# Take user input for a string\n",
    "input_string = input(\"Enter a string: \")\n",
    "\n",
    "# Take user input for the position to insert the word\n",
    "n = int(input(\"Enter the position to insert the word: \")) - 1  # Subtract 1 to convert to 0-based index\n",
    "\n",
    "# Take user input for the word to insert\n",
    "new_word = input(\"Enter the word to insert: \")\n",
    "\n",
    "# Split the string into words\n",
    "words = input_string.split()\n",
    "\n",
    "# Check if the specified position is valid\n",
    "if 0 <= n <= len(words):\n",
    "    # Insert the new word at the specified position\n",
    "    words.insert(n, new_word)\n",
    "\n",
    "    # Join the modified words back together\n",
    "    modified_string = ' '.join(words)\n",
    "\n",
    "    print(\"Modified string:\", modified_string)\n",
    "else:\n",
    "    print(\"Invalid position. Word not inserted.\")\n",
    "\n"
   ]
  },
  {
   "cell_type": "code",
   "execution_count": 12,
   "id": "3cf7ae31",
   "metadata": {},
   "outputs": [
    {
     "name": "stdout",
     "output_type": "stream",
     "text": [
      "['Name', 'Age', 'Location']\n",
      "['Alice', '30', 'New York']\n",
      "['Bob', '25', 'Los Angeles']\n",
      "['Charlie', '35', 'Chicago']\n",
      "complete data is  [['Name', 'Age', 'Location'], ['Alice', '30', 'New York'], ['Bob', '25', 'Los Angeles'], ['Charlie', '35', 'Chicago']]\n"
     ]
    }
   ],
   "source": [
    "\n",
    "# Convert a CSV string to a list of lists\n",
    "\n",
    "\n",
    "\n",
    "import csv\n",
    "from io import StringIO\n",
    "\n",
    "# Sample CSV string\n",
    "csv_string = \"Name,Age,Location\\nAlice,30,New York\\nBob,25,Los Angeles\\nCharlie,35,Chicago\"\n",
    "\n",
    "# Initialize a list to store the rows\n",
    "csv_data = []\n",
    "\n",
    "# Create a CSV reader object from the CSV string\n",
    "csv_reader = csv.reader(StringIO(csv_string))\n",
    "\n",
    "# Iterate through the rows and append them to the list\n",
    "for row in csv_reader:\n",
    "    csv_data.append(row)\n",
    "\n",
    "# Print the resulting list of lists\n",
    "for row in csv_data:\n",
    "    print(row)\n",
    "\n",
    "print(\"complete data is \", csv_data)"
   ]
  },
  {
   "cell_type": "markdown",
   "id": "64e20d82",
   "metadata": {},
   "source": [
    "# List Based Practice Problem "
   ]
  },
  {
   "cell_type": "code",
   "execution_count": 5,
   "id": "0907edd8",
   "metadata": {},
   "outputs": [
    {
     "data": {
      "text/plain": [
       "[1, 2, 3, 4, 5, 6, 7, 8, 9, 10]"
      ]
     },
     "execution_count": 5,
     "metadata": {},
     "output_type": "execute_result"
    }
   ],
   "source": [
    "#  Create a list with integers from 1 to 10.\n",
    "\n",
    "list1 = [i for i in range(1,11)]\n",
    "list1"
   ]
  },
  {
   "cell_type": "code",
   "execution_count": 7,
   "id": "74228944",
   "metadata": {},
   "outputs": [
    {
     "name": "stdout",
     "output_type": "stream",
     "text": [
      "list length is  10\n"
     ]
    }
   ],
   "source": [
    "# Find the length of a list without using the `len()` function.\n",
    "list1_len = 0\n",
    "for i in list1:\n",
    "    list1_len += 1\n",
    "print(\"list length is \", list1_len)"
   ]
  },
  {
   "cell_type": "code",
   "execution_count": 8,
   "id": "79c353b1",
   "metadata": {},
   "outputs": [],
   "source": [
    "# Append an element to the end of a list.\n",
    "list1.append(11)"
   ]
  },
  {
   "cell_type": "code",
   "execution_count": 9,
   "id": "92d1a8f5",
   "metadata": {},
   "outputs": [
    {
     "data": {
      "text/plain": [
       "[1, 2, 3, 4, 5, 6, 7, 8, 9, 10, 11]"
      ]
     },
     "execution_count": 9,
     "metadata": {},
     "output_type": "execute_result"
    }
   ],
   "source": [
    "list1"
   ]
  },
  {
   "cell_type": "code",
   "execution_count": 11,
   "id": "31d792f8",
   "metadata": {},
   "outputs": [
    {
     "name": "stdout",
     "output_type": "stream",
     "text": [
      "Enter a list of elements (comma-separated): 1,2,3,4,5,6\n",
      "Enter the element to insert: 0\n",
      "Enter the index to insert the element: 0\n",
      "Modified list: ['0', '1', '2', '3', '4', '5', '6']\n"
     ]
    }
   ],
   "source": [
    "#  Insert an element at a specific index in a list.\n",
    "\n",
    "# Take user input for a list of elements\n",
    "input_list = input(\"Enter a list of elements (comma-separated): \").split(',')\n",
    "\n",
    "# Take user input for the element to insert\n",
    "new_element = input(\"Enter the element to insert: \")\n",
    "\n",
    "# Take user input for the index where the element will be inserted\n",
    "index = int(input(\"Enter the index to insert the element: \"))\n",
    "\n",
    "# Insert the new element at the specified index\n",
    "input_list.insert(index, new_element)\n",
    "\n",
    "# Display the modified list\n",
    "print(\"Modified list:\", input_list)\n"
   ]
  },
  {
   "cell_type": "code",
   "execution_count": 12,
   "id": "aa77e415",
   "metadata": {},
   "outputs": [
    {
     "name": "stdout",
     "output_type": "stream",
     "text": [
      "Enter a list of elements (comma-separated): 1,2,3,4,5,6\n",
      "Enter the element to remove: 2\n",
      "Element '2' removed successfully.\n",
      "Modified list: ['1', '3', '4', '5', '6']\n"
     ]
    }
   ],
   "source": [
    "# Remove an element from a list by its value.\n",
    "\n",
    "# Take user input for a list of elements\n",
    "input_list = input(\"Enter a list of elements (comma-separated): \").split(',')\n",
    "\n",
    "# Take user input for the element to remove\n",
    "element_to_remove = input(\"Enter the element to remove: \")\n",
    "\n",
    "try:\n",
    "    # Remove the specified element from the list\n",
    "    input_list.remove(element_to_remove)\n",
    "    print(f\"Element '{element_to_remove}' removed successfully.\")\n",
    "    print(\"Modified list:\", input_list)\n",
    "except ValueError:\n",
    "    print(f\"Element '{element_to_remove}' not found in the list.\")\n"
   ]
  },
  {
   "cell_type": "code",
   "execution_count": 13,
   "id": "e3641858",
   "metadata": {},
   "outputs": [
    {
     "name": "stdout",
     "output_type": "stream",
     "text": [
      "Enter a list of elements (comma-separated): 1,2,3,4,5,6\n",
      "Enter the index of the element to remove: 0\n",
      "Element '1' at index 0 removed successfully.\n",
      "Modified list: ['2', '3', '4', '5', '6']\n"
     ]
    }
   ],
   "source": [
    "# Remove an element from a list by its index.\n",
    "\n",
    "# Take user input for a list of elements\n",
    "input_list = input(\"Enter a list of elements (comma-separated): \").split(',')\n",
    "\n",
    "# Take user input for the index of the element to remove\n",
    "index_to_remove = int(input(\"Enter the index of the element to remove: \"))\n",
    "\n",
    "try:\n",
    "    # Remove the element at the specified index from the list\n",
    "    removed_element = input_list.pop(index_to_remove)\n",
    "    print(f\"Element '{removed_element}' at index {index_to_remove} removed successfully.\")\n",
    "    print(\"Modified list:\", input_list)\n",
    "except IndexError:\n",
    "    print(f\"Index {index_to_remove} is out of range.\")\n"
   ]
  },
  {
   "cell_type": "code",
   "execution_count": 16,
   "id": "032a25f2",
   "metadata": {},
   "outputs": [
    {
     "name": "stdout",
     "output_type": "stream",
     "text": [
      "Enter a list of elements (comma-separated): q,w,e,r\n",
      "Enter the element to check: q\n",
      "Element 'q' exists in the list.\n"
     ]
    }
   ],
   "source": [
    "# Check if an element exists in a list.\n",
    "# Take user input for a list of elements\n",
    "input_list = input(\"Enter a list of elements (comma-separated): \").split(',')\n",
    "\n",
    "# Take user input for the element to check\n",
    "element_to_check = input(\"Enter the element to check: \")\n",
    "\n",
    "# Check if the element exists in the list\n",
    "if element_to_check in input_list:\n",
    "    print(f\"Element '{element_to_check}' exists in the list.\")\n",
    "else:\n",
    "    print(f\"Element '{element_to_check}' does not exist in the list.\")\n",
    "\n",
    "    \n",
    "    "
   ]
  },
  {
   "cell_type": "code",
   "execution_count": 18,
   "id": "cae925cf",
   "metadata": {},
   "outputs": [
    {
     "name": "stdout",
     "output_type": "stream",
     "text": [
      "Enter a list of elements (comma-separated): 1,2,,,4\n",
      "Enter the element to find: \n",
      "Element '' found at index: 2\n"
     ]
    }
   ],
   "source": [
    "# Find the index of the first occurrence of an element in a list.\n",
    "\n",
    "# Take user input for a list of elements\n",
    "input_list = input(\"Enter a list of elements (comma-separated): \").split(',')\n",
    "\n",
    "# Take user input for the element to find\n",
    "element_to_find = input(\"Enter the element to find: \")\n",
    "\n",
    "try:\n",
    "    # Find the index of the first occurrence of the element\n",
    "    index = input_list.index(element_to_find)\n",
    "    print(f\"Element '{element_to_find}' found at index:\", index)\n",
    "except ValueError:\n",
    "    print(f\"Element '{element_to_find}' not found in the list.\")\n"
   ]
  },
  {
   "cell_type": "code",
   "execution_count": 19,
   "id": "68af0c0d",
   "metadata": {},
   "outputs": [
    {
     "name": "stdout",
     "output_type": "stream",
     "text": [
      "Enter a list of elements (comma-separated): 1,2,3,4,5,6,5,5,4,3,2,1,5,6\n",
      "Enter the element to count: 1\n",
      "Element '1' occurs 2 times in the list.\n"
     ]
    }
   ],
   "source": [
    "# Count the occurrences of an element in a list\n",
    "\n",
    "# Take user input for a list of elements\n",
    "input_list = input(\"Enter a list of elements (comma-separated): \").split(',')\n",
    "\n",
    "# Take user input for the element to count\n",
    "element_to_count = input(\"Enter the element to count: \")\n",
    "\n",
    "# Count the occurrences of the element in the list\n",
    "occurrences = input_list.count(element_to_count)\n",
    "\n",
    "print(f\"Element '{element_to_count}' occurs {occurrences} times in the list.\")\n"
   ]
  },
  {
   "cell_type": "code",
   "execution_count": 22,
   "id": "30c58644",
   "metadata": {},
   "outputs": [
    {
     "name": "stdout",
     "output_type": "stream",
     "text": [
      "Enter a list of elements (comma-separated): 1,2,3,4,5,6,7,8,9\n",
      "Reversed list: ['9', '8', '7', '6', '5', '4', '3', '2', '1']\n"
     ]
    }
   ],
   "source": [
    "# Reverse the order of elements in a list.\n",
    "\n",
    "# Take user input for a list of elements\n",
    "input_list = input(\"Enter a list of elements (comma-separated): \").split(',')\n",
    "\n",
    "# Reverse the order of elements using slicing\n",
    "reversed_list = input_list[::-1]\n",
    "\n",
    "# Display the reversed list\n",
    "print(\"Reversed list:\", reversed_list)\n"
   ]
  },
  {
   "cell_type": "code",
   "execution_count": 26,
   "id": "822484d6",
   "metadata": {},
   "outputs": [
    {
     "name": "stdout",
     "output_type": "stream",
     "text": [
      "Enter a list of elements (comma-separated): 4,1,d,a,c,6,7,b,A,65,64\n",
      "Sorted list: ['1', '4', '6', '64', '65', '7', 'A', 'a', 'b', 'c', 'd']\n"
     ]
    }
   ],
   "source": [
    "# Sort a list in ascending order.\n",
    "\n",
    "# Take user input for a list of elements\n",
    "input_list = input(\"Enter a list of elements (comma-separated): \").split(',')\n",
    "\n",
    "# Sort the list in ascending order (considering mixed types)\n",
    "sorted_list = sorted(input_list, key=lambda x: (isinstance(x, str), x))\n",
    "\n",
    "# Display the sorted list\n",
    "print(\"Sorted list:\", sorted_list)\n",
    "\n"
   ]
  },
  {
   "cell_type": "code",
   "execution_count": 31,
   "id": "b2d1addd",
   "metadata": {},
   "outputs": [
    {
     "name": "stdout",
     "output_type": "stream",
     "text": [
      "Sorted list: [1, 4, 6, 7, 64, 65, 66, 'A', 'a', 'b', 'c', 'd']\n"
     ]
    }
   ],
   "source": [
    "# Sort a list in ascending order.\n",
    "\n",
    "# Take user input for a list of elements\n",
    "input_list = [4,1,'d','a','c',6,7,'b','A',65,64,66]\n",
    "\n",
    "# Sort the list in ascending order (considering mixed types)\n",
    "sorted_list = sorted(input_list, key=lambda x: (isinstance(x, str), x))\n",
    "# Display the sorted list\n",
    "print(\"Sorted list:\", sorted_list)"
   ]
  },
  {
   "cell_type": "code",
   "execution_count": 32,
   "id": "9b82e9d6",
   "metadata": {},
   "outputs": [
    {
     "name": "stdout",
     "output_type": "stream",
     "text": [
      "Enter a list of elements (comma-separated): 4,1,d,a,c,6,7,b,A,65,64\n",
      "Sorted list in descending order is : ['d', 'c', 'b', 'a', 'A', '7', '65', '64', '6', '4', '1']\n"
     ]
    }
   ],
   "source": [
    "# Sort a list in descending order.\n",
    "\n",
    "# Take user input for a list of elements\n",
    "input_list = input(\"Enter a list of elements (comma-separated): \").split(',')\n",
    "\n",
    "# Sort the list in ascending order (considering mixed types)\n",
    "sorted_list = sorted(input_list, key=lambda x: (isinstance(x, str), x), reverse=True)\n",
    "\n",
    "# Display the sorted list\n",
    "print(\"Sorted list in descending order is :\", sorted_list)"
   ]
  },
  {
   "cell_type": "code",
   "execution_count": 33,
   "id": "516ccb93",
   "metadata": {},
   "outputs": [
    {
     "name": "stdout",
     "output_type": "stream",
     "text": [
      "Even numbers from 1 to 20: [2, 4, 6, 8, 10, 12, 14, 16, 18, 20]\n"
     ]
    }
   ],
   "source": [
    "# Create a list of even numbers from 1 to 20.\n",
    "\n",
    "# Create a list of even numbers from 1 to 20 using list comprehension\n",
    "even_numbers = [x for x in range(2, 21, 2)]\n",
    "\n",
    "# Display the list of even numbers\n",
    "print(\"Even numbers from 1 to 20:\", even_numbers)\n"
   ]
  },
  {
   "cell_type": "code",
   "execution_count": 36,
   "id": "42f9dd2c",
   "metadata": {},
   "outputs": [
    {
     "name": "stdout",
     "output_type": "stream",
     "text": [
      "Odd numbers from 1 to 20: [1, 3, 5, 7, 9, 11, 13, 15, 17, 19]\n"
     ]
    }
   ],
   "source": [
    "# Create a list of odd numbers from 1 to 20.\n",
    "# Create a list of odd numbers from 1 to 20 using list comprehension\n",
    "odd_numbers = [x for x in range(1, 21, 2)]\n",
    "\n",
    "# Display the list of odd numbers\n",
    "print(\"Odd numbers from 1 to 20:\", odd_numbers)\n",
    "\n"
   ]
  },
  {
   "cell_type": "code",
   "execution_count": 39,
   "id": "49aeda26",
   "metadata": {},
   "outputs": [
    {
     "name": "stdout",
     "output_type": "stream",
     "text": [
      "the sum of all elements is  55\n"
     ]
    }
   ],
   "source": [
    "#  Find the sum of all elements in a list.\n",
    "# create a list of even numbers\n",
    "\n",
    "even_numbers = [x for x in range(1, 11)]\n",
    "sum = 0\n",
    "for i in even_numbers:\n",
    "    sum = sum + i\n",
    "print(\"the sum of all elements is \", sum)"
   ]
  },
  {
   "cell_type": "code",
   "execution_count": 42,
   "id": "da914942",
   "metadata": {},
   "outputs": [
    {
     "name": "stdout",
     "output_type": "stream",
     "text": [
      "max number from list is  90\n"
     ]
    }
   ],
   "source": [
    "# Find the maximum value in a list.\n",
    "list2 = [1,3,5,9,0,23,45,78,87,90]\n",
    "print(\"max number from list is \", max(list2))"
   ]
  },
  {
   "cell_type": "code",
   "execution_count": 50,
   "id": "ec7ba510",
   "metadata": {},
   "outputs": [
    {
     "name": "stdout",
     "output_type": "stream",
     "text": [
      "min number from list is  -5\n"
     ]
    }
   ],
   "source": [
    "# Find the minimum value in a list.\n",
    "list3 = [1,3,5,9,23,45,78,87,90,0,-1,-5]\n",
    "print(\"min number from list is \", min(list3))"
   ]
  },
  {
   "cell_type": "code",
   "execution_count": 52,
   "id": "35f996bf",
   "metadata": {},
   "outputs": [
    {
     "data": {
      "text/plain": [
       "[1, 4, 9, 16, 25, 36, 49, 64, 81, 100]"
      ]
     },
     "execution_count": 52,
     "metadata": {},
     "output_type": "execute_result"
    }
   ],
   "source": [
    "# Create a list of squares of numbers from 1 to 10.\n",
    "\n",
    "squares_list = [x**2 for x in range(1,11)]\n",
    "squares_list"
   ]
  },
  {
   "cell_type": "code",
   "execution_count": 54,
   "id": "b9a43afe",
   "metadata": {},
   "outputs": [
    {
     "name": "stdout",
     "output_type": "stream",
     "text": [
      "Enter the length of the list: 10\n",
      "Enter the lower bound of the range: 11\n",
      "Enter the upper bound of the range: 100\n",
      "List of random numbers: [21, 52, 26, 100, 23, 32, 49, 55, 52, 75]\n"
     ]
    }
   ],
   "source": [
    "# Create a list of random numbers\n",
    "import random\n",
    "\n",
    "# Take user input for the length of the list\n",
    "list_length = int(input(\"Enter the length of the list: \"))\n",
    "\n",
    "# Take user input for the range of random numbers\n",
    "lower_bound = int(input(\"Enter the lower bound of the range: \"))\n",
    "upper_bound = int(input(\"Enter the upper bound of the range: \"))\n",
    "\n",
    "# Create a list of random numbers\n",
    "random_numbers = [random.randint(lower_bound, upper_bound) for _ in range(list_length)]\n",
    "\n",
    "# Display the list of random numbers\n",
    "print(\"List of random numbers:\", random_numbers)\n"
   ]
  },
  {
   "cell_type": "code",
   "execution_count": 55,
   "id": "287ef94a",
   "metadata": {},
   "outputs": [
    {
     "name": "stdout",
     "output_type": "stream",
     "text": [
      "Enter a list of elements (comma-separated): 1,2,34,,5,6,7,,13,2,1,2\n",
      "List with duplicates removed: ['', '5', '6', '2', '1', '13', '7', '34']\n"
     ]
    }
   ],
   "source": [
    "# Remove duplicates from a list.\n",
    "# Take user input for a list of elements\n",
    "input_list = input(\"Enter a list of elements (comma-separated): \").split(',')\n",
    "\n",
    "# Convert the list to a set to remove duplicates, then back to a list\n",
    "unique_list = list(set(input_list))\n",
    "\n",
    "# Display the list with duplicates removed\n",
    "print(\"List with duplicates removed:\", unique_list)\n"
   ]
  },
  {
   "cell_type": "code",
   "execution_count": 58,
   "id": "8fad4897",
   "metadata": {},
   "outputs": [
    {
     "name": "stdout",
     "output_type": "stream",
     "text": [
      "common elements between two lists are  {1, 2, 7}\n"
     ]
    }
   ],
   "source": [
    "# Find the common elements between two lists\n",
    "\n",
    "list1 = [1,2,3,6,7]\n",
    "list2 = [7,8,9,0,1,2]\n",
    "set1 = set(list1)\n",
    "set2 = set(list2)\n",
    "print(\"common elements between two lists are \", set1.intersection(set2))"
   ]
  },
  {
   "cell_type": "code",
   "execution_count": 61,
   "id": "70a93b16",
   "metadata": {},
   "outputs": [
    {
     "name": "stdout",
     "output_type": "stream",
     "text": [
      "difference from set1 to set2  {3, 6}\n",
      "difference from set2 to set1 {0, 8, 9}\n"
     ]
    }
   ],
   "source": [
    "# Find the difference between two lists.\n",
    "\n",
    "list1 = [1,2,3,6,7]\n",
    "list2 = [7,8,9,0,1,2]\n",
    "set1 = set(list1)\n",
    "set2 = set(list2)\n",
    "print(\"difference from set1 to set2 \", set1.difference(set2))\n",
    "print(\"difference from set2 to set1\", set2.difference(set1))"
   ]
  },
  {
   "cell_type": "code",
   "execution_count": 62,
   "id": "48b59e2c",
   "metadata": {},
   "outputs": [
    {
     "name": "stdout",
     "output_type": "stream",
     "text": [
      "difference from set1 to set2  {0, 3, 6, 8, 9}\n"
     ]
    }
   ],
   "source": [
    "\n",
    "list1 = [1,2,3,6,7]\n",
    "list2 = [7,8,9,0,1,2]\n",
    "set1 = set(list1)\n",
    "set2 = set(list2)\n",
    "print(\"difference from set1 to set2 \", set1.symmetric_difference(set2))\n"
   ]
  },
  {
   "cell_type": "code",
   "execution_count": 63,
   "id": "69e01dd3",
   "metadata": {},
   "outputs": [
    {
     "name": "stdout",
     "output_type": "stream",
     "text": [
      "merged list is  [1, 2, 3, 6, 7, 7, 8, 9, 0, 1, 2]\n"
     ]
    }
   ],
   "source": [
    "# Merge two lists.\n",
    "\n",
    "list1 = [1,2,3,6,7]\n",
    "list2 = [7,8,9,0,1,2]\n",
    "print(\"merged list is \", list1+list2)"
   ]
  },
  {
   "cell_type": "code",
   "execution_count": 69,
   "id": "ee1c6126",
   "metadata": {},
   "outputs": [
    {
     "name": "stdout",
     "output_type": "stream",
     "text": [
      "ori_list is  [1, 2, 3, 4, 5, 6, 7, 8, 9, 10]\n",
      "mul_lits is  [2, 4, 6, 8, 10, 12, 14, 16, 18, 20]\n"
     ]
    }
   ],
   "source": [
    "# Multiply all elements in a list by 2.\n",
    "# create a list of 10 ele from 1 to 10 , and multiply each ele by 2\n",
    "ori_list = [x for x in range(1,11)]\n",
    "mul_list = [x*2 for x in ori_list]\n",
    "print(\"ori_list is \", ori_list)\n",
    "print(\"mul_lits is \", mul_list)"
   ]
  },
  {
   "cell_type": "code",
   "execution_count": 71,
   "id": "a6ffb3d9",
   "metadata": {},
   "outputs": [
    {
     "name": "stdout",
     "output_type": "stream",
     "text": [
      "odd_nums list is  [7, 9, 1, 67, 89, 45]\n"
     ]
    }
   ],
   "source": [
    "# Filter out all even numbers from a list.\n",
    "list4 = [7,8,9,0,1,2,67,89,90,12,45]\n",
    "\n",
    "odd_nums = [i for i in list4 if i%2 !=0]\n",
    "print(\"odd_nums list is \", odd_nums)"
   ]
  },
  {
   "cell_type": "code",
   "execution_count": 73,
   "id": "16a1c690",
   "metadata": {},
   "outputs": [
    {
     "name": "stdout",
     "output_type": "stream",
     "text": [
      "Enter a list of strings (comma-separated): 1,2,3,5,7,8,0,75,3\n",
      "List of integers: [1, 2, 3, 5, 7, 8, 0, 75, 3]\n"
     ]
    }
   ],
   "source": [
    "# Convert a list of strings to a list of integers.\n",
    "\n",
    "# Take user input for a list of strings\n",
    "string_list = input(\"Enter a list of strings (comma-separated): \").split(',')\n",
    "\n",
    "# Convert the list of strings to a list of integers\n",
    "int_list = [int(item) for item in string_list]\n",
    "\n",
    "# Display the list of integers\n",
    "print(\"List of integers:\", int_list)\n"
   ]
  },
  {
   "cell_type": "code",
   "execution_count": 75,
   "id": "29dcdebb",
   "metadata": {},
   "outputs": [
    {
     "name": "stdout",
     "output_type": "stream",
     "text": [
      "Enter a list of integers (comma-separated): 1,2,3,4,4,5,6\n",
      "List of strings: ['1', '2', '3', '4', '4', '5', '6']\n"
     ]
    }
   ],
   "source": [
    "# Convert a list of integers to a list of strings.\n",
    "\n",
    "# Take user input for a list of integers\n",
    "int_list = [int(item) for item in input(\"Enter a list of integers (comma-separated): \").split(',')]\n",
    "\n",
    "# Convert the list of integers to a list of strings\n",
    "string_list = [str(item) for item in int_list]\n",
    "\n",
    "# Display the list of strings\n",
    "print(\"List of strings:\", string_list)\n"
   ]
  },
  {
   "cell_type": "code",
   "execution_count": 77,
   "id": "8dd56eb2",
   "metadata": {},
   "outputs": [
    {
     "name": "stdout",
     "output_type": "stream",
     "text": [
      "Flattened list: [1, 2, 3, 4, 5, 6, 7, 8, 9]\n"
     ]
    }
   ],
   "source": [
    "# Flatten a nested list.\n",
    "\n",
    "def flatten_list(nested_list):\n",
    "    flat_list = []\n",
    "    for item in nested_list:\n",
    "        if isinstance(item, list):\n",
    "            flat_list.extend(flatten_list(item))\n",
    "        else:\n",
    "            flat_list.append(item)\n",
    "    return flat_list\n",
    "\n",
    "# Example nested list\n",
    "nested_list = [[1, 2, [3, 4]], [5, 6], [7, [8, 9]]]\n",
    "\n",
    "# Flatten the nested list\n",
    "flattened_list = flatten_list(nested_list)\n",
    "\n",
    "# Display the flattened list\n",
    "print(\"Flattened list:\", flattened_list)\n"
   ]
  },
  {
   "cell_type": "code",
   "execution_count": 79,
   "id": "853e5b38",
   "metadata": {},
   "outputs": [
    {
     "name": "stdout",
     "output_type": "stream",
     "text": [
      "First 10 Fibonacci numbers: [0, 1, 1, 2, 3, 5, 8, 13, 21, 34]\n"
     ]
    }
   ],
   "source": [
    "# Create a list of the first 10 Fibonacci numbers\n",
    "\n",
    "# Initialize a list to store Fibonacci numbers\n",
    "fibonacci_numbers = []\n",
    "\n",
    "# Define the first two Fibonacci numbers\n",
    "a, b = 0, 1\n",
    "\n",
    "# Generate the first 10 Fibonacci numbers\n",
    "for _ in range(10):\n",
    "    fibonacci_numbers.append(a)\n",
    "    a, b = b, a + b\n",
    "\n",
    "# Display the list of Fibonacci numbers\n",
    "print(\"First 10 Fibonacci numbers:\", fibonacci_numbers)\n",
    "\n"
   ]
  },
  {
   "cell_type": "code",
   "execution_count": 81,
   "id": "5bf549c9",
   "metadata": {},
   "outputs": [
    {
     "name": "stdout",
     "output_type": "stream",
     "text": [
      "Enter a list of elements (comma-separated): 0,1,2,3,4\n",
      "The list is sorted.\n"
     ]
    }
   ],
   "source": [
    "# Check if a list is sorted.\n",
    "\n",
    "def is_sorted(input_list):\n",
    "    # Check if the list is empty or has only one element (considered sorted)\n",
    "    if len(input_list) <= 1:\n",
    "        return True\n",
    "    \n",
    "    # Iterate through the list to check for sorting\n",
    "    for i in range(len(input_list) - 1):\n",
    "        if input_list[i] > input_list[i + 1]:\n",
    "            return False\n",
    "    return True\n",
    "\n",
    "# Take user input for a list of elements\n",
    "input_list = input(\"Enter a list of elements (comma-separated): \").split(',')\n",
    "\n",
    "# Convert the list elements to integers (if they are numeric)\n",
    "input_list = [int(item) if item.isdigit() else item for item in input_list]\n",
    "\n",
    "# Check if the list is sorted\n",
    "if is_sorted(input_list):\n",
    "    print(\"The list is sorted.\")\n",
    "else:\n",
    "    print(\"The list is not sorted.\")\n"
   ]
  },
  {
   "cell_type": "code",
   "execution_count": 82,
   "id": "d96f1c47",
   "metadata": {},
   "outputs": [
    {
     "name": "stdout",
     "output_type": "stream",
     "text": [
      "Enter a list of elements (comma-separated): 1,2,3,4,a,b,c,d\n",
      "Enter the number of positions to rotate left: 4\n",
      "List after left rotation: ['a', 'b', 'c', 'd', '1', '2', '3', '4']\n"
     ]
    }
   ],
   "source": [
    "# Rotate a list to the left by `n` positions.\n",
    "\n",
    "# Take user input for a list of elements\n",
    "input_list = input(\"Enter a list of elements (comma-separated): \").split(',')\n",
    "\n",
    "# Take user input for the number of positions to rotate left\n",
    "n = int(input(\"Enter the number of positions to rotate left: \"))\n",
    "\n",
    "# Perform the left rotation using list slicing\n",
    "rotated_list = input_list[n:] + input_list[:n]\n",
    "\n",
    "# Display the rotated list\n",
    "print(\"List after left rotation:\", rotated_list)\n"
   ]
  },
  {
   "cell_type": "code",
   "execution_count": 83,
   "id": "133341e0",
   "metadata": {},
   "outputs": [
    {
     "name": "stdout",
     "output_type": "stream",
     "text": [
      "Enter a list of elements (comma-separated): 1,2,3,4,a,b,c,d\n",
      "Enter the number of positions to rotate right: 4\n",
      "List after right rotation: ['a', 'b', 'c', 'd', '1', '2', '3', '4']\n"
     ]
    }
   ],
   "source": [
    "# Rotate a list to the right by `n` positions.\n",
    "\n",
    "# Take user input for a list of elements\n",
    "input_list = input(\"Enter a list of elements (comma-separated): \").split(',')\n",
    "\n",
    "# Take user input for the number of positions to rotate right\n",
    "n = int(input(\"Enter the number of positions to rotate right: \"))\n",
    "\n",
    "# Perform the right rotation using list slicing\n",
    "rotated_list = input_list[-n:] + input_list[:-n]\n",
    "\n",
    "# Display the rotated list\n",
    "print(\"List after right rotation:\", rotated_list)\n",
    "\n"
   ]
  },
  {
   "cell_type": "code",
   "execution_count": 84,
   "id": "eb6c62f4",
   "metadata": {},
   "outputs": [
    {
     "name": "stdout",
     "output_type": "stream",
     "text": [
      "Prime numbers up to 50: [2, 3, 5, 7, 11, 13, 17, 19, 23, 29, 31, 37, 41, 43, 47]\n"
     ]
    }
   ],
   "source": [
    "# Create a list of prime numbers up to 50\n",
    "\n",
    "# Function to check if a number is prime\n",
    "def is_prime(num):\n",
    "    if num <= 1:\n",
    "        return False\n",
    "    if num <= 3:\n",
    "        return True\n",
    "    if num % 2 == 0 or num % 3 == 0:\n",
    "        return False\n",
    "    i = 5\n",
    "    while i * i <= num:\n",
    "        if num % i == 0 or num % (i + 2) == 0:\n",
    "            return False\n",
    "        i += 6\n",
    "    return True\n",
    "\n",
    "# Create a list of prime numbers up to 50\n",
    "prime_numbers = [num for num in range(2, 51) if is_prime(num)]\n",
    "\n",
    "# Display the list of prime numbers\n",
    "print(\"Prime numbers up to 50:\", prime_numbers)\n"
   ]
  },
  {
   "cell_type": "code",
   "execution_count": 86,
   "id": "2f0cb163",
   "metadata": {},
   "outputs": [
    {
     "name": "stdout",
     "output_type": "stream",
     "text": [
      "[1, 2, 3]\n",
      "[4, 5, 6]\n",
      "[7, 8, 9]\n",
      "[10, 11, 12]\n",
      "[13]\n"
     ]
    }
   ],
   "source": [
    "# Split a list into chunks of size `n`.\n",
    "\n",
    "def chunk_list(input_list, n):\n",
    "    \"\"\"Split a list into chunks of size n.\"\"\"\n",
    "    for i in range(0, len(input_list), n):\n",
    "        yield input_list[i:i + n]\n",
    "\n",
    "# Example list\n",
    "my_list = [1, 2, 3, 4, 5, 6, 7, 8, 9, 10, 11, 12, 13]\n",
    "\n",
    "# Define the chunk size\n",
    "chunk_size = 3\n",
    "\n",
    "# Use the chunk_list function to split the list\n",
    "chunks = list(chunk_list(my_list, chunk_size))\n",
    "\n",
    "# Display the list of chunks\n",
    "for chunk in chunks:\n",
    "    print(chunk)\n"
   ]
  },
  {
   "cell_type": "code",
   "execution_count": 92,
   "id": "6e1fb6ad",
   "metadata": {},
   "outputs": [
    {
     "name": "stdout",
     "output_type": "stream",
     "text": [
      "sorted list is  [12, 23, 53, 65, 75, 78, 656]\n",
      "second largest number is  78\n"
     ]
    }
   ],
   "source": [
    "#  Find the second largest number in a list.\n",
    "\n",
    "my_list = [12,53,65,78,23,656,75]\n",
    "my_list.sort()\n",
    "print(\"sorted list is \", my_list)\n",
    "print(\"second largest number is \", my_list[-2])"
   ]
  },
  {
   "cell_type": "code",
   "execution_count": 97,
   "id": "c9041ba0",
   "metadata": {},
   "outputs": [
    {
     "name": "stdout",
     "output_type": "stream",
     "text": [
      "List with squared elements: [1, 4, 9, 16, 25, 36, 49, 64, 81, 100]\n"
     ]
    }
   ],
   "source": [
    "#  Replace every element in a list with its square\n",
    "\n",
    "input_list = [1, 2, 3, 4, 5, 6, 7, 8, 9, 10]\n",
    "\n",
    "for i in range(len(input_list)):\n",
    "    if isinstance(input_list[i], int):\n",
    "        input_list[i] = input_list[i] ** 2\n",
    "\n",
    "# Display the list with squared elements\n",
    "print(\"List with squared elements:\", input_list)"
   ]
  },
  {
   "cell_type": "code",
   "execution_count": 98,
   "id": "4bef6ccf",
   "metadata": {},
   "outputs": [
    {
     "data": {
      "text/plain": [
       "{1: 0, 2: 1, 3: 2, 4: 3, 5: 4, 6: 5, 7: 6, 8: 7, 9: 8, 10: 9}"
      ]
     },
     "execution_count": 98,
     "metadata": {},
     "output_type": "execute_result"
    }
   ],
   "source": [
    "# Convert a list to a dictionary where list elements become keys and their\n",
    "# indices become values.\n",
    "\n",
    "new_dict = {}\n",
    "input_list = [1, 2, 3, 4, 5, 6, 7, 8, 9, 10]\n",
    "for index,ele in enumerate(input_list):\n",
    "    new_dict[ele] = index\n",
    "new_dict"
   ]
  },
  {
   "cell_type": "code",
   "execution_count": 101,
   "id": "5cb8c076",
   "metadata": {},
   "outputs": [
    {
     "name": "stdout",
     "output_type": "stream",
     "text": [
      "Shuffled list: [9, 7, 4, 5, 1, 3, 8, 6, 2, 10]\n"
     ]
    }
   ],
   "source": [
    "# Shuffle the elements of a list randomly.\n",
    "\n",
    "import random\n",
    "\n",
    "# Take user input for a list of elements\n",
    "input_list = [1, 2, 3, 4, 5, 6, 7, 8, 9, 10]\n",
    "# Shuffle the list randomly\n",
    "random.shuffle(input_list)\n",
    "\n",
    "# Display the shuffled list\n",
    "print(\"Shuffled list:\", input_list)\n"
   ]
  },
  {
   "cell_type": "code",
   "execution_count": 102,
   "id": "e7ca1321",
   "metadata": {},
   "outputs": [
    {
     "name": "stdout",
     "output_type": "stream",
     "text": [
      "First 10 factorial numbers: [1, 1, 2, 6, 24, 120, 720, 5040, 40320, 362880]\n"
     ]
    }
   ],
   "source": [
    "# Create a list of the first 10 factorial numbers.\n",
    "\n",
    "# Function to calculate factorial\n",
    "def factorial(n):\n",
    "    if n == 0:\n",
    "        return 1\n",
    "    else:\n",
    "        return n * factorial(n - 1)\n",
    "\n",
    "# Create a list of the first 10 factorial numbers\n",
    "factorial_numbers = [factorial(i) for i in range(10)]\n",
    "\n",
    "# Display the list of factorial numbers\n",
    "print(\"First 10 factorial numbers:\", factorial_numbers)\n"
   ]
  },
  {
   "cell_type": "code",
   "execution_count": 104,
   "id": "2d919004",
   "metadata": {},
   "outputs": [
    {
     "name": "stdout",
     "output_type": "stream",
     "text": [
      "First 10 factorial numbers: [1, 1, 2, 6, 24, 120, 720, 5040, 40320, 362880]\n"
     ]
    }
   ],
   "source": [
    "# Function to calculate factorial without recursion\n",
    "def factorial(n):\n",
    "    result = 1\n",
    "    for i in range(1, n + 1):\n",
    "        result *= i\n",
    "    return result\n",
    "\n",
    "# Create a list of the first 10 factorial numbers\n",
    "factorial_numbers = [factorial(i) for i in range(10)]\n",
    "\n",
    "# Display the list of factorial numbers\n",
    "print(\"First 10 factorial numbers:\", factorial_numbers)\n"
   ]
  },
  {
   "cell_type": "markdown",
   "id": "991049b2",
   "metadata": {},
   "source": [
    "Check if two lists have at least one element in common."
   ]
  },
  {
   "cell_type": "code",
   "execution_count": 1,
   "id": "022aa81a",
   "metadata": {},
   "outputs": [
    {
     "name": "stdout",
     "output_type": "stream",
     "text": [
      "True\n"
     ]
    }
   ],
   "source": [
    "\n",
    "def have_common_element(list1, list2):\n",
    "    for item in list1:\n",
    "        if item in list2:\n",
    "            return True\n",
    "    return False\n",
    "\n",
    "# Example usage:\n",
    "list1 = [1, 2, 3, 4, 5]\n",
    "list2 = [5, 6, 7, 8, 9]\n",
    "result = have_common_element(list1, list2)\n",
    "print(result)  # Output will be True\n"
   ]
  },
  {
   "cell_type": "markdown",
   "id": "43e431a3",
   "metadata": {},
   "source": [
    "Remove all elements from a list."
   ]
  },
  {
   "cell_type": "code",
   "execution_count": 2,
   "id": "3408b4aa",
   "metadata": {},
   "outputs": [
    {
     "name": "stdout",
     "output_type": "stream",
     "text": [
      "[]\n"
     ]
    }
   ],
   "source": [
    "my_list = [1, 2, 3, 4, 5]\n",
    "\n",
    "# Option 1: Using clear() method\n",
    "my_list.clear()\n",
    "\n",
    "# Option 2: Assign an empty list\n",
    "# my_list = []\n",
    "\n",
    "print(my_list)  # Output will be an empty list: []\n"
   ]
  },
  {
   "cell_type": "markdown",
   "id": "ddfc4b70",
   "metadata": {},
   "source": [
    "Replace negative numbers in a list with 0."
   ]
  },
  {
   "cell_type": "code",
   "execution_count": 3,
   "id": "f5e299b9",
   "metadata": {},
   "outputs": [
    {
     "name": "stdout",
     "output_type": "stream",
     "text": [
      "[1, 0, 3, 0, 5, 0]\n"
     ]
    }
   ],
   "source": [
    "original_list = [1, -2, 3, -4, 5, -6]\n",
    "modified_list = [x if x >= 0 else 0 for x in original_list]\n",
    "\n",
    "print(modified_list)\n"
   ]
  },
  {
   "cell_type": "markdown",
   "id": "386130c6",
   "metadata": {},
   "source": [
    "Convert a string into a list of words."
   ]
  },
  {
   "cell_type": "code",
   "execution_count": 4,
   "id": "3d932e2b",
   "metadata": {},
   "outputs": [
    {
     "name": "stdout",
     "output_type": "stream",
     "text": [
      "['This', 'is', 'a', 'sample', 'string.']\n"
     ]
    }
   ],
   "source": [
    "def string_to_word_list(input_string):\n",
    "    # Split the string into a list of words based on whitespace\n",
    "    word_list = input_string.split()\n",
    "    return word_list\n",
    "\n",
    "# Example usage:\n",
    "input_string = \"This is a sample string.\"\n",
    "word_list = string_to_word_list(input_string)\n",
    "print(word_list)  # Output: ['This', 'is', 'a', 'sample', 'string.']\n"
   ]
  },
  {
   "cell_type": "markdown",
   "id": "82f5cea6",
   "metadata": {},
   "source": [
    "Convert a list of words into a string."
   ]
  },
  {
   "cell_type": "code",
   "execution_count": 7,
   "id": "3239e147",
   "metadata": {},
   "outputs": [
    {
     "name": "stdout",
     "output_type": "stream",
     "text": [
      "joined_str is \n",
      " This is a list of words\n"
     ]
    }
   ],
   "source": [
    "word_list = [\"This\", \"is\", \"a\", \"list\", \"of\", \"words\"]\n",
    "\n",
    "# Join the list of words into\n",
    "joined_str = \" \".join(word_list)\n",
    "print(f\"joined_str is \\n {joined_str}\")\n"
   ]
  },
  {
   "cell_type": "markdown",
   "id": "1181ff29",
   "metadata": {},
   "source": [
    "Create a list of the first `n` powers of 2."
   ]
  },
  {
   "cell_type": "code",
   "execution_count": 53,
   "id": "1bcef186",
   "metadata": {},
   "outputs": [
    {
     "data": {
      "text/plain": [
       "[1, 2, 4, 8, 16, 32, 64, 128, 256, 512, 1024]"
      ]
     },
     "execution_count": 53,
     "metadata": {},
     "output_type": "execute_result"
    }
   ],
   "source": [
    "n = 10  # Replace with the desired number of powers\n",
    "powers_of_2 = [2 ** i for i in range(n+1)]\n",
    "powers_of_2"
   ]
  },
  {
   "cell_type": "markdown",
   "id": "a83816b2",
   "metadata": {},
   "source": [
    "Find the longest string in a list of strings."
   ]
  },
  {
   "cell_type": "code",
   "execution_count": 56,
   "id": "2e7ef09c",
   "metadata": {},
   "outputs": [
    {
     "name": "stdout",
     "output_type": "stream",
     "text": [
      "max length ele is sample_string120290\n"
     ]
    }
   ],
   "source": [
    "str_list = [\"string1\", \"str2\", \"sample_str1\", \"sample_string120290\", \"sample_string21\"]\n",
    "max_len = len(str_list[0])\n",
    "for ele in str_list:\n",
    "    if len(ele) > max_len:\n",
    "        max_len = len(ele)\n",
    "        res = ele\n",
    "print(f\"max length ele is {res}\")\n"
   ]
  },
  {
   "cell_type": "code",
   "execution_count": 57,
   "id": "783c274b",
   "metadata": {},
   "outputs": [
    {
     "data": {
      "text/plain": [
       "'sample_string120290'"
      ]
     },
     "execution_count": 57,
     "metadata": {},
     "output_type": "execute_result"
    }
   ],
   "source": [
    "str_list1 = [\"string1\", \"str2\", \"sample_str1\", \"sample_string120290\", \"sample_string21\"]\n",
    "res = max(str_list1, key = len)\n",
    "res"
   ]
  },
  {
   "cell_type": "markdown",
   "id": "bad47d9c",
   "metadata": {},
   "source": [
    " Find the shortest string in a list of strings."
   ]
  },
  {
   "cell_type": "code",
   "execution_count": 58,
   "id": "0874bcf3",
   "metadata": {},
   "outputs": [
    {
     "name": "stdout",
     "output_type": "stream",
     "text": [
      "min length ele is s\n"
     ]
    }
   ],
   "source": [
    "str_list2 = [\"string1\", \"st\", \"sample_str1\", \"sample_string2\", \"sample_string21\" , \"s\"]\n",
    "min_len = len(str_list2[0])\n",
    "for ele in str_list2:\n",
    "    if len(ele) < min_len:\n",
    "        min_len = len(ele)\n",
    "        res = ele\n",
    "print(f\"min length ele is {res}\")"
   ]
  },
  {
   "cell_type": "code",
   "execution_count": 61,
   "id": "2acfe5f1",
   "metadata": {},
   "outputs": [
    {
     "data": {
      "text/plain": [
       "''"
      ]
     },
     "execution_count": 61,
     "metadata": {},
     "output_type": "execute_result"
    }
   ],
   "source": [
    "str_list3 = [\"string1\", \"str2\", \"sample_str1\", \"sample_string120290\", \"sample_string21\", \"s\", \"\"]\n",
    "res = min(str_list3, key = len)\n",
    "res"
   ]
  },
  {
   "cell_type": "markdown",
   "id": "80f26cc3",
   "metadata": {},
   "source": [
    " Create a list of the first `n` triangular numbers."
   ]
  },
  {
   "cell_type": "code",
   "execution_count": 91,
   "id": "bb5f022d",
   "metadata": {},
   "outputs": [
    {
     "name": "stdout",
     "output_type": "stream",
     "text": [
      "The number is a triangular number\n"
     ]
    }
   ],
   "source": [
    "def isTriangular(num):\n",
    " \n",
    "    # Base case\n",
    "    if (num < 0):\n",
    "        return False\n",
    " \n",
    "    # A Triangular number must be\n",
    "    # sum of first n natural numbers\n",
    "    sum, n = 0, 1\n",
    " \n",
    "    while(sum <= num):\n",
    "     \n",
    "        sum = sum + n\n",
    "        if (sum == num):\n",
    "            return True\n",
    "        n += 1\n",
    " \n",
    "    return False\n",
    " \n",
    "# Driver code\n",
    "n = 55\n",
    "if (isTriangular(n)):\n",
    "    print(\"The number is a triangular number\")\n",
    "else:\n",
    "    print(\"The number is NOT a triangular number\")"
   ]
  },
  {
   "cell_type": "code",
   "execution_count": 92,
   "id": "315e73e7",
   "metadata": {},
   "outputs": [
    {
     "data": {
      "text/plain": [
       "[1, 3, 6, 10, 15, 21, 28, 36, 45, 55]"
      ]
     },
     "execution_count": 92,
     "metadata": {},
     "output_type": "execute_result"
    }
   ],
   "source": [
    "n = 10\n",
    "sum = 0\n",
    "tri_list = []\n",
    "for i in range(1, n+1):\n",
    "    sum = sum+i\n",
    "    tri_list.append(sum)\n",
    "tri_list"
   ]
  },
  {
   "cell_type": "markdown",
   "id": "5c22f749",
   "metadata": {},
   "source": [
    "Check if a list contains another list as a subsequence."
   ]
  },
  {
   "cell_type": "code",
   "execution_count": null,
   "id": "80418c63",
   "metadata": {},
   "outputs": [],
   "source": [
    "list1 = [1,2,3,4,5,6,7,8,9,0,10,89,90,67,56,45,23]\n"
   ]
  },
  {
   "cell_type": "markdown",
   "id": "83fba7bf",
   "metadata": {},
   "source": [
    " Swap two elements in a list by their indices."
   ]
  },
  {
   "cell_type": "code",
   "execution_count": 70,
   "id": "32fa6254",
   "metadata": {},
   "outputs": [
    {
     "name": "stdout",
     "output_type": "stream",
     "text": [
      "enter first index between 0 and 9 4\n",
      "enter second index between 0 and 9 5\n"
     ]
    },
    {
     "data": {
      "text/plain": [
       "[0, 1, 2, 3, 5, 4, 6, 7, 8, 9]"
      ]
     },
     "execution_count": 70,
     "metadata": {},
     "output_type": "execute_result"
    }
   ],
   "source": [
    "input_list = [0,1,2,3,4,5,6,7,8,9]\n",
    "first_idx = int(input(\"enter first index between 0 and 9 \"))\n",
    "second_idx = int(input(\"enter second index between 0 and 9 \"))\n",
    "\n",
    "temp = input_list[second_idx] \n",
    "input_list[second_idx] = input_list[first_idx]\n",
    "input_list[first_idx]  = temp\n",
    "\n",
    "input_list"
   ]
  },
  {
   "cell_type": "markdown",
   "id": "31c3539f",
   "metadata": {},
   "source": [
    "# Tuple Based Practice Problem"
   ]
  },
  {
   "cell_type": "code",
   "execution_count": 1,
   "id": "9b095260",
   "metadata": {},
   "outputs": [
    {
     "data": {
      "text/plain": [
       "(1, 2, 3, 4, 5)"
      ]
     },
     "execution_count": 1,
     "metadata": {},
     "output_type": "execute_result"
    }
   ],
   "source": [
    "#  Create a tuple with integers from 1 to 5.\n",
    "\n",
    "my_tuple = (1, 2, 3, 4, 5)\n",
    "my_tuple\n"
   ]
  },
  {
   "cell_type": "code",
   "execution_count": 3,
   "id": "2c852992",
   "metadata": {},
   "outputs": [
    {
     "data": {
      "text/plain": [
       "3"
      ]
     },
     "execution_count": 3,
     "metadata": {},
     "output_type": "execute_result"
    }
   ],
   "source": [
    "# Access the third element of a tuple.\n",
    "my_tuple[2]"
   ]
  },
  {
   "cell_type": "code",
   "execution_count": 4,
   "id": "96b839e8",
   "metadata": {},
   "outputs": [
    {
     "name": "stdout",
     "output_type": "stream",
     "text": [
      "The length of the tuple is: 5\n"
     ]
    }
   ],
   "source": [
    "# Find the length of a tuple without using the `len()` function.\n",
    "my_tuple = (1, 2, 3, 4, 5)\n",
    "count = 0\n",
    "\n",
    "for item in my_tuple:\n",
    "    count += 1\n",
    "\n",
    "print(\"The length of the tuple is:\", count)\n"
   ]
  },
  {
   "cell_type": "code",
   "execution_count": 5,
   "id": "d2eef282",
   "metadata": {},
   "outputs": [
    {
     "data": {
      "text/plain": [
       "Counter({1: 1, 2: 1, 3: 1, 4: 1, 5: 1})"
      ]
     },
     "execution_count": 5,
     "metadata": {},
     "output_type": "execute_result"
    }
   ],
   "source": [
    "# Count the occurrences of an element in a tuple.\n",
    "\n",
    "from collections import Counter\n",
    "\n",
    "freq = Counter(my_tuple)\n",
    "freq"
   ]
  },
  {
   "cell_type": "code",
   "execution_count": 6,
   "id": "b58c307f",
   "metadata": {},
   "outputs": [
    {
     "name": "stdout",
     "output_type": "stream",
     "text": [
      "The element 2 appears 3 times in the tuple.\n"
     ]
    }
   ],
   "source": [
    "my_tuple = (1, 2, 2, 3, 4, 2, 5)\n",
    "\n",
    "# Count the occurrences of the element 2 in the tuple\n",
    "count_of_2 = my_tuple.count(2)\n",
    "\n",
    "print(\"The element 2 appears\", count_of_2, \"times in the tuple.\")\n"
   ]
  },
  {
   "cell_type": "code",
   "execution_count": 10,
   "id": "47feb364",
   "metadata": {},
   "outputs": [
    {
     "name": "stdout",
     "output_type": "stream",
     "text": [
      "The first occurrence of the element 2 is at index: 3\n"
     ]
    }
   ],
   "source": [
    "#  Find the index of the first occurrence of an element in a tuple.\n",
    "\n",
    "my_tuple = (1, 3, 4, 2, 5, 2)\n",
    "\n",
    "# Find the index of the first occurrence of the element 2 in the tuple\n",
    "index_of_2 = my_tuple.index(2)\n",
    "\n",
    "print(\"The first occurrence of the element 2 is at index:\", index_of_2)\n"
   ]
  },
  {
   "cell_type": "code",
   "execution_count": 13,
   "id": "7943aaf1",
   "metadata": {},
   "outputs": [
    {
     "name": "stdout",
     "output_type": "stream",
     "text": [
      "0 is not present in (1, 3, 4, 2, 5, 2)\n"
     ]
    }
   ],
   "source": [
    "# Check if an element exists in a tuple.\n",
    "my_tuple = (1, 3, 4, 2, 5, 2)\n",
    "\n",
    "find_ele = 0\n",
    "\n",
    "if find_ele in my_tuple:\n",
    "    print(f\"{find_ele} is present in {my_tuple}\")\n",
    "else:\n",
    "    print(f\"{find_ele} is not present in {my_tuple}\")\n"
   ]
  },
  {
   "cell_type": "code",
   "execution_count": 15,
   "id": "5a4a9ae9",
   "metadata": {},
   "outputs": [
    {
     "name": "stdout",
     "output_type": "stream",
     "text": [
      "<class 'list'>\n",
      "<class 'tuple'>\n"
     ]
    }
   ],
   "source": [
    "# Convert a tuple to a list.\n",
    "\n",
    "my_tuple = (1, 3, 4, 2, 5, 2) \n",
    "my_list = list(my_tuple)\n",
    "print(type(my_list))\n",
    "print(type(my_tuple))"
   ]
  },
  {
   "cell_type": "code",
   "execution_count": 17,
   "id": "725e684e",
   "metadata": {},
   "outputs": [
    {
     "name": "stdout",
     "output_type": "stream",
     "text": [
      "<class 'list'>\n",
      "<class 'tuple'>\n"
     ]
    }
   ],
   "source": [
    "# Convert a list to a tuple.\n",
    "\n",
    "my_list = [1, 3, 4, 2, 5, 2]\n",
    "my_tuple = tuple(my_list)\n",
    "print(type(my_list))\n",
    "print(type(my_tuple))"
   ]
  },
  {
   "cell_type": "code",
   "execution_count": 18,
   "id": "8a72f0c4",
   "metadata": {},
   "outputs": [
    {
     "name": "stdout",
     "output_type": "stream",
     "text": [
      "a = 1\n",
      "b = 2\n",
      "c = 3\n"
     ]
    }
   ],
   "source": [
    "# Unpack the elements of a tuple into variables.\n",
    "\n",
    "my_tuple = (1, 2, 3)\n",
    "\n",
    "# Unpack the elements of the tuple into separate variables\n",
    "a, b, c = my_tuple\n",
    "\n",
    "print(\"a =\", a)\n",
    "print(\"b =\", b)\n",
    "print(\"c =\", c)\n"
   ]
  },
  {
   "cell_type": "code",
   "execution_count": 22,
   "id": "7dabe03e",
   "metadata": {},
   "outputs": [
    {
     "name": "stdout",
     "output_type": "stream",
     "text": [
      "(2, 4, 6, 8, 10)\n",
      "<class 'tuple'>\n"
     ]
    }
   ],
   "source": [
    "#  Create a tuple of even numbers from 1 to 10.\n",
    "\n",
    "even_tuple = tuple([x for x in range(1,11) if x%2 == 0])\n",
    "print(even_tuple)\n",
    "print(type(even_tuple))"
   ]
  },
  {
   "cell_type": "code",
   "execution_count": 23,
   "id": "a2e07d79",
   "metadata": {},
   "outputs": [
    {
     "name": "stdout",
     "output_type": "stream",
     "text": [
      "(1, 3, 5, 7, 9)\n",
      "<class 'tuple'>\n"
     ]
    }
   ],
   "source": [
    "#  Create a tuple of odd numbers from 1 to 10.\n",
    "\n",
    "odd_tuple = tuple([x for x in range(1,11) if x%2 != 0])\n",
    "print(odd_tuple)\n",
    "print(type(odd_tuple))\n"
   ]
  },
  {
   "cell_type": "code",
   "execution_count": 24,
   "id": "9dccbfc3",
   "metadata": {},
   "outputs": [
    {
     "name": "stdout",
     "output_type": "stream",
     "text": [
      "(1, 2, 3, 4, 5, 6)\n"
     ]
    }
   ],
   "source": [
    "# Concatenate two tuples.\n",
    "\n",
    "tuple1 = (1, 2, 3)\n",
    "tuple2 = (4, 5, 6)\n",
    "\n",
    "# Concatenate the two tuples\n",
    "concatenated_tuple = tuple1 + tuple2\n",
    "\n",
    "print(concatenated_tuple)\n"
   ]
  },
  {
   "cell_type": "code",
   "execution_count": 25,
   "id": "61d8adad",
   "metadata": {},
   "outputs": [
    {
     "name": "stdout",
     "output_type": "stream",
     "text": [
      "(1, 2, 3, 1, 2, 3, 1, 2, 3)\n"
     ]
    }
   ],
   "source": [
    "# Repeat a tuple three times.\n",
    "tuple1 = (1, 2, 3)\n",
    "print(tuple1*3)"
   ]
  },
  {
   "cell_type": "code",
   "execution_count": 26,
   "id": "aa2193f3",
   "metadata": {},
   "outputs": [
    {
     "name": "stdout",
     "output_type": "stream",
     "text": [
      "The tuple is empty.\n"
     ]
    }
   ],
   "source": [
    "#  Check if a tuple is empty.\n",
    "my_tuple = ()  # An empty tuple\n",
    "\n",
    "if not my_tuple:\n",
    "    print(\"The tuple is empty.\")\n",
    "else:\n",
    "    print(\"The tuple is not empty.\")\n"
   ]
  },
  {
   "cell_type": "code",
   "execution_count": 27,
   "id": "aad1609b",
   "metadata": {},
   "outputs": [
    {
     "name": "stdout",
     "output_type": "stream",
     "text": [
      "((1, 2, 3), ('a', 'b', 'c'))\n"
     ]
    }
   ],
   "source": [
    "#  Create a nested tuple.\n",
    "nested_tuple = ((1, 2, 3), ('a', 'b', 'c'))\n",
    "\n",
    "print(nested_tuple)\n"
   ]
  },
  {
   "cell_type": "code",
   "execution_count": 28,
   "id": "438df1ac",
   "metadata": {},
   "outputs": [
    {
     "name": "stdout",
     "output_type": "stream",
     "text": [
      "(1, 2, 3)\n"
     ]
    }
   ],
   "source": [
    "# Access the first element of a nested tuple.\n",
    "\n",
    "first_element = nested_tuple[0]\n",
    "\n",
    "print(first_element)\n"
   ]
  },
  {
   "cell_type": "code",
   "execution_count": 31,
   "id": "b280875f",
   "metadata": {},
   "outputs": [
    {
     "data": {
      "text/plain": [
       "tuple"
      ]
     },
     "execution_count": 31,
     "metadata": {},
     "output_type": "execute_result"
    }
   ],
   "source": [
    "# Create a tuple with a single element.\n",
    "\n",
    "sing_ele_tuple = (1,)\n",
    "type(sing_ele_tuple)"
   ]
  },
  {
   "cell_type": "code",
   "execution_count": 33,
   "id": "497d7f12",
   "metadata": {},
   "outputs": [
    {
     "name": "stdout",
     "output_type": "stream",
     "text": [
      "Tuples are equal\n"
     ]
    }
   ],
   "source": [
    "# Compare two tuples.\n",
    "\n",
    "tuple1 = (1, 2, 3)\n",
    "tuple2 = (1, 2, 3)\n",
    "\n",
    "if tuple1 == tuple2:\n",
    "    print(\"Tuples are equal\")\n",
    "else:\n",
    "    print(\"Tuples are not equal\")\n"
   ]
  },
  {
   "cell_type": "code",
   "execution_count": 34,
   "id": "edf2c140",
   "metadata": {},
   "outputs": [
    {
     "name": "stdout",
     "output_type": "stream",
     "text": [
      "Tuples are not equal\n"
     ]
    }
   ],
   "source": [
    "tuple1 = (1, 2, 3)\n",
    "tuple2 = (4, 5, 6)\n",
    "\n",
    "if tuple1 != tuple2:\n",
    "    print(\"Tuples are not equal\")\n",
    "else:\n",
    "    print(\"Tuples are equal\")\n"
   ]
  },
  {
   "cell_type": "code",
   "execution_count": 35,
   "id": "6f798ed0",
   "metadata": {},
   "outputs": [
    {
     "ename": "NameError",
     "evalue": "name 'my_tuple' is not defined",
     "output_type": "error",
     "traceback": [
      "\u001b[0;31m---------------------------------------------------------------------------\u001b[0m",
      "\u001b[0;31mNameError\u001b[0m                                 Traceback (most recent call last)",
      "Cell \u001b[0;32mIn[35], line 11\u001b[0m\n\u001b[1;32m      6\u001b[0m \u001b[38;5;28;01mdel\u001b[39;00m my_tuple\n\u001b[1;32m      8\u001b[0m \u001b[38;5;66;03m# Attempting to access my_tuple will result in an error\u001b[39;00m\n\u001b[1;32m      9\u001b[0m \u001b[38;5;66;03m# For example, this would raise a NameError:\u001b[39;00m\n\u001b[1;32m     10\u001b[0m \u001b[38;5;66;03m# print(my_tuple)\u001b[39;00m\n\u001b[0;32m---> 11\u001b[0m \u001b[43mmy_tuple\u001b[49m\n",
      "\u001b[0;31mNameError\u001b[0m: name 'my_tuple' is not defined"
     ]
    }
   ],
   "source": [
    "# Delete a tuple.\n",
    "\n",
    "my_tuple = (1, 2, 3, 4, 5)\n",
    "\n",
    "# Delete the entire tuple\n",
    "del my_tuple\n",
    "\n",
    "# Attempting to access my_tuple will result in an error\n",
    "# For example, this would raise a NameError:\n",
    "# print(my_tuple)\n",
    "my_tuple"
   ]
  },
  {
   "cell_type": "code",
   "execution_count": 37,
   "id": "227c46cd",
   "metadata": {},
   "outputs": [
    {
     "name": "stdout",
     "output_type": "stream",
     "text": [
      "(3, 4)\n"
     ]
    }
   ],
   "source": [
    "# Slice a tuple.\n",
    "my_tuple = (1, 2, 3, 4, 5)\n",
    "\n",
    "new_tuple = my_tuple[2:4]\n",
    "print(new_tuple)\n"
   ]
  },
  {
   "cell_type": "code",
   "execution_count": 38,
   "id": "babbde4f",
   "metadata": {},
   "outputs": [
    {
     "name": "stdout",
     "output_type": "stream",
     "text": [
      "5\n"
     ]
    }
   ],
   "source": [
    "# Find the maximum value in a tuple.\n",
    "my_tuple = (1, 2, 3, 4, 5)\n",
    "print(max(my_tuple))"
   ]
  },
  {
   "cell_type": "code",
   "execution_count": 39,
   "id": "7f35e025",
   "metadata": {},
   "outputs": [
    {
     "name": "stdout",
     "output_type": "stream",
     "text": [
      "1\n"
     ]
    }
   ],
   "source": [
    "# Find the minimum value in a tuple.\n",
    "my_tuple = (1, 2, 3, 4, 5)\n",
    "print(min(my_tuple))"
   ]
  },
  {
   "cell_type": "code",
   "execution_count": 40,
   "id": "4b50e0db",
   "metadata": {},
   "outputs": [
    {
     "name": "stdout",
     "output_type": "stream",
     "text": [
      "('H', 'e', 'l', 'l', 'o', ',', ' ', 'W', 'o', 'r', 'l', 'd', '!')\n"
     ]
    }
   ],
   "source": [
    "# Convert a string to a tuple of characters.\n",
    "\n",
    "my_string = \"Hello, World!\"\n",
    "# Convert the string to a tuple of characters\n",
    "my_tuple = tuple(my_string)\n",
    "\n",
    "print(my_tuple)\n"
   ]
  },
  {
   "cell_type": "code",
   "execution_count": 41,
   "id": "05d4e448",
   "metadata": {},
   "outputs": [
    {
     "name": "stdout",
     "output_type": "stream",
     "text": [
      "Hello, World!\n"
     ]
    }
   ],
   "source": [
    "#  Convert a tuple of characters to a string.\n",
    "\n",
    "my_tuple = ('H', 'e', 'l', 'l', 'o', ',', ' ', 'W', 'o', 'r', 'l', 'd', '!')\n",
    "# Convert the tuple of characters to a string\n",
    "my_string = ''.join(my_tuple)\n",
    "\n",
    "print(my_string)\n"
   ]
  },
  {
   "cell_type": "code",
   "execution_count": 42,
   "id": "8c81a83e",
   "metadata": {},
   "outputs": [
    {
     "name": "stdout",
     "output_type": "stream",
     "text": [
      "(1, 'apple', 3.14, True, [1, 2, 3])\n"
     ]
    }
   ],
   "source": [
    "# Create a tuple from multiple data types.\n",
    "\n",
    "mixed_tuple = (1, \"apple\", 3.14, True, [1, 2, 3])\n",
    "\n",
    "print(mixed_tuple)\n"
   ]
  },
  {
   "cell_type": "code",
   "execution_count": 43,
   "id": "d4d2a7f3",
   "metadata": {},
   "outputs": [
    {
     "name": "stdout",
     "output_type": "stream",
     "text": [
      "The two tuples are identical.\n"
     ]
    }
   ],
   "source": [
    "# Check if two tuples are identical.\n",
    "tuple1 = (1, 2, 3, 4, 5)\n",
    "tuple2 = (1, 2, 3, 4, 5)\n",
    "\n",
    "if tuple1 == tuple2:\n",
    "    print(\"The two tuples are identical.\")\n",
    "else:\n",
    "    print(\"The two tuples are not identical.\")\n"
   ]
  },
  {
   "cell_type": "code",
   "execution_count": 46,
   "id": "ac81a0ee",
   "metadata": {},
   "outputs": [
    {
     "name": "stdout",
     "output_type": "stream",
     "text": [
      "(1, 1, 2, 3, 3, 4, 5, 5, 5, 6, 9)\n"
     ]
    }
   ],
   "source": [
    "# Sort the elements of a tuple.\n",
    "\n",
    "my_tuple = (3, 1, 4, 1, 5, 9, 2, 6, 5, 3, 5)\n",
    "\n",
    "# Sort the elements of the tuple and create a new sorted tuple\n",
    "sorted_tuple = tuple(sorted(my_tuple))\n",
    "\n",
    "print(sorted_tuple)\n"
   ]
  },
  {
   "cell_type": "code",
   "execution_count": 47,
   "id": "c9d35525",
   "metadata": {},
   "outputs": [
    {
     "name": "stdout",
     "output_type": "stream",
     "text": [
      "('1', '2', '3', '4', '5')\n"
     ]
    }
   ],
   "source": [
    "# Convert a tuple of integers to a tuple of strings.\n",
    "\n",
    "tuple_of_integers = (1, 2, 3, 4, 5)\n",
    "\n",
    "# Convert the tuple of integers to a tuple of strings\n",
    "tuple_of_strings = tuple(str(x) for x in tuple_of_integers)\n",
    "\n",
    "print(tuple_of_strings)\n"
   ]
  },
  {
   "cell_type": "code",
   "execution_count": 48,
   "id": "69602a57",
   "metadata": {},
   "outputs": [
    {
     "name": "stdout",
     "output_type": "stream",
     "text": [
      "(1, 2, 3, 4, 5)\n"
     ]
    }
   ],
   "source": [
    "# Convert a tuple of strings to a tuple of integers.\n",
    "tuple_of_strings = ('1', '2', '3', '4', '5')\n",
    "\n",
    "# Convert the tuple of strings to a tuple of integers\n",
    "tuple_of_integers = tuple(int(x) for x in tuple_of_strings)\n",
    "\n",
    "print(tuple_of_integers)\n"
   ]
  },
  {
   "cell_type": "code",
   "execution_count": 49,
   "id": "60db8a7c",
   "metadata": {},
   "outputs": [
    {
     "name": "stdout",
     "output_type": "stream",
     "text": [
      "(1, 2, 3, 4, 5, 6)\n"
     ]
    }
   ],
   "source": [
    "# Merge two tuples.\n",
    "tuple1 = (1, 2, 3)\n",
    "tuple2 = (4, 5, 6)\n",
    "\n",
    "# Merge the two tuples\n",
    "merged_tuple = tuple1 + tuple2\n",
    "\n",
    "print(merged_tuple)\n"
   ]
  },
  {
   "cell_type": "code",
   "execution_count": 50,
   "id": "41e2c624",
   "metadata": {},
   "outputs": [
    {
     "name": "stdout",
     "output_type": "stream",
     "text": [
      "(1, 2, 3, 4, 5, 6, 7, 8)\n"
     ]
    }
   ],
   "source": [
    "# Flatten a nested tuple.\n",
    "def flatten_nested_tuple(nested_tuple):\n",
    "    flattened = []\n",
    "    for item in nested_tuple:\n",
    "        if isinstance(item, tuple):\n",
    "            flattened.extend(flatten_nested_tuple(item))\n",
    "        else:\n",
    "            flattened.append(item)\n",
    "    return tuple(flattened)\n",
    "\n",
    "# Example of a nested tuple\n",
    "nested_tuple = ((1, 2), (3, (4, 5)), 6, (7, 8))\n",
    "\n",
    "# Flatten the nested tuple\n",
    "flattened_tuple = flatten_nested_tuple(nested_tuple)\n",
    "\n",
    "print(flattened_tuple)\n"
   ]
  },
  {
   "cell_type": "code",
   "execution_count": 59,
   "id": "59a0f4ea",
   "metadata": {},
   "outputs": [
    {
     "name": "stdout",
     "output_type": "stream",
     "text": [
      "(5, (2, 3, 5, 7, 11))\n"
     ]
    }
   ],
   "source": [
    "#  Create a tuple of the first 5 prime numbers.\n",
    "\n",
    "from math import sqrt\n",
    "\n",
    "def count_primes(n):\n",
    "    # Your code here\n",
    "    count = 0\n",
    "    prime_num = []\n",
    "    if n <=1:\n",
    "        return 0\n",
    "    else:\n",
    "\n",
    "        for i in range(2, n+1):\n",
    "           if is_prime(i):\n",
    "               count += 1\n",
    "               prime_num.append(i)\n",
    "           if len(prime_num) == 5:\n",
    "                break\n",
    "\n",
    "    return count, tuple(prime_num)\n",
    "\n",
    "def is_prime(x):\n",
    "    for i in range(2, int(sqrt(x))+1):\n",
    "        if x%i == 0:\n",
    "            return False\n",
    "    return True\n",
    "\n",
    "\n",
    "\n",
    "# Test cases\n",
    "print(count_primes(15))    \n"
   ]
  },
  {
   "cell_type": "code",
   "execution_count": 60,
   "id": "6b288a69",
   "metadata": {},
   "outputs": [
    {
     "name": "stdout",
     "output_type": "stream",
     "text": [
      "True\n",
      "False\n"
     ]
    }
   ],
   "source": [
    "# Check if a tuple is a palindrome\n",
    "def is_palindrome_tuple(input_tuple):\n",
    "    return input_tuple == input_tuple[::-1]\n",
    "\n",
    "# Example tuples\n",
    "palindrome_tuple = (1, 2, 3, 2, 1)\n",
    "non_palindrome_tuple = (1, 2, 3, 4, 5)\n",
    "\n",
    "# Check if the tuples are palindromes\n",
    "print(is_palindrome_tuple(palindrome_tuple))  # True\n",
    "print(is_palindrome_tuple(non_palindrome_tuple))  # False\n"
   ]
  },
  {
   "cell_type": "code",
   "execution_count": 61,
   "id": "c77530a3",
   "metadata": {},
   "outputs": [
    {
     "name": "stdout",
     "output_type": "stream",
     "text": [
      "[1, 4, 9, 16, 25]\n"
     ]
    }
   ],
   "source": [
    "# Create a tuple of squares of numbers from 1 to 5.\n",
    "\n",
    "list_sq = [x**2 for x in range(1,6)]\n",
    "print(list_sq)"
   ]
  },
  {
   "cell_type": "code",
   "execution_count": 63,
   "id": "78817251",
   "metadata": {},
   "outputs": [
    {
     "name": "stdout",
     "output_type": "stream",
     "text": [
      "(10, 20, 30, 40, 50, 2)\n"
     ]
    }
   ],
   "source": [
    "# Filter out all even numbers from a tuple.\n",
    "\n",
    "my_tuple = (10,20,30,40,50,11,13,15,2)\n",
    "\n",
    "def is_even(x):\n",
    "    return x %2 == 0\n",
    "\n",
    "filtered_tuple = tuple(filter(is_even, my_tuple))\n",
    "\n",
    "print(filtered_tuple)\n",
    "    \n",
    "    \n"
   ]
  },
  {
   "cell_type": "code",
   "execution_count": 65,
   "id": "7722ac66",
   "metadata": {},
   "outputs": [
    {
     "name": "stdout",
     "output_type": "stream",
     "text": [
      "(20, 40, 60, 80, 100, 22, 26, 30, 4)\n"
     ]
    }
   ],
   "source": [
    "# Multiply all elements in a tuple by 2.\n",
    "\n",
    "my_tuple = (10,20,30,40,50,11,13,15,2)\n",
    "mul_ele = tuple(map(lambda x: x*2, my_tuple))\n",
    "\n",
    "print(mul_ele)"
   ]
  },
  {
   "cell_type": "code",
   "execution_count": 66,
   "id": "27969be0",
   "metadata": {},
   "outputs": [
    {
     "name": "stdout",
     "output_type": "stream",
     "text": [
      "(98, 87, 20, 85, 20)\n"
     ]
    }
   ],
   "source": [
    "# Create a tuple of random numbers.\n",
    "\n",
    "import random\n",
    "\n",
    "# Create a tuple of 5 random integers between 1 and 100\n",
    "random_tuple = tuple(random.randint(1, 100) for _ in range(5))\n",
    "\n",
    "print(random_tuple)\n"
   ]
  },
  {
   "cell_type": "code",
   "execution_count": 67,
   "id": "4dec16b4",
   "metadata": {},
   "outputs": [
    {
     "name": "stdout",
     "output_type": "stream",
     "text": [
      "True\n",
      "False\n"
     ]
    }
   ],
   "source": [
    "# Check if a tuple is sorted.\n",
    "\n",
    "def is_sorted_tuple(input_tuple):\n",
    "    return input_tuple == tuple(sorted(input_tuple))\n",
    "\n",
    "# Example tuples\n",
    "sorted_tuple = (1, 2, 3, 4, 5)\n",
    "unsorted_tuple = (4, 2, 1, 3, 5)\n",
    "\n",
    "# Check if the tuples are sorted\n",
    "print(is_sorted_tuple(sorted_tuple))    # True\n",
    "print(is_sorted_tuple(unsorted_tuple))  # False\n"
   ]
  },
  {
   "cell_type": "code",
   "execution_count": 68,
   "id": "cff9338f",
   "metadata": {},
   "outputs": [
    {
     "name": "stdout",
     "output_type": "stream",
     "text": [
      "(3, 4, 5, 1, 2)\n"
     ]
    }
   ],
   "source": [
    "# Rotate a tuple to the left by `n` positions.\n",
    "\n",
    "def rotate_tuple_left(input_tuple, n):\n",
    "    # Calculate the effective rotation index\n",
    "    n = n % len(input_tuple)\n",
    "    \n",
    "    # Perform the left rotation using slicing and concatenation\n",
    "    rotated_tuple = input_tuple[n:] + input_tuple[:n]\n",
    "    \n",
    "    return rotated_tuple\n",
    "\n",
    "# Example tuple\n",
    "original_tuple = (1, 2, 3, 4, 5)\n",
    "\n",
    "# Rotate the tuple to the left by 2 positions\n",
    "rotated = rotate_tuple_left(original_tuple, 2)\n",
    "\n",
    "print(rotated)\n"
   ]
  },
  {
   "cell_type": "code",
   "execution_count": 69,
   "id": "2fcdb537",
   "metadata": {},
   "outputs": [
    {
     "name": "stdout",
     "output_type": "stream",
     "text": [
      "(4, 5, 1, 2, 3)\n"
     ]
    }
   ],
   "source": [
    "#  Rotate a tuple to the right by `n` positions.\n",
    "\n",
    "def rotate_tuple_right(input_tuple, n):\n",
    "    # Calculate the effective rotation index\n",
    "    n = n % len(input_tuple)\n",
    "    \n",
    "    # Perform the right rotation using slicing and concatenation\n",
    "    rotated_tuple = input_tuple[-n:] + input_tuple[:-n]\n",
    "    \n",
    "    return rotated_tuple\n",
    "\n",
    "# Example tuple\n",
    "original_tuple = (1, 2, 3, 4, 5)\n",
    "\n",
    "# Rotate the tuple to the right by 2 positions\n",
    "rotated = rotate_tuple_right(original_tuple, 2)\n",
    "\n",
    "print(rotated)\n"
   ]
  },
  {
   "cell_type": "code",
   "execution_count": 71,
   "id": "dacb14c4",
   "metadata": {},
   "outputs": [
    {
     "name": "stdout",
     "output_type": "stream",
     "text": [
      "(0, 1, 1, 2, 3)\n"
     ]
    }
   ],
   "source": [
    "# Create a tuple of the first 5 Fibonacci numbers.\n",
    "\n",
    "def fibonacci(n):\n",
    "    a = 0\n",
    "    b = 1\n",
    "\n",
    "    if n <= 0:\n",
    "        return []\n",
    "\n",
    "    fib_list = [a]\n",
    "\n",
    "    for _ in range(1, n):\n",
    "        c = a + b\n",
    "        a = b\n",
    "        b = c\n",
    "\n",
    "        # a, b = b, a + b\n",
    "        fib_list.append(a)\n",
    "    return tuple(fib_list)\n",
    "\n",
    "\n",
    "# Test cases\n",
    "print(fibonacci(5))"
   ]
  },
  {
   "cell_type": "code",
   "execution_count": 72,
   "id": "5efead00",
   "metadata": {},
   "outputs": [
    {
     "name": "stdout",
     "output_type": "stream",
     "text": [
      "Enter a comma-separated list of values: 1,2,3,45\n",
      "('1', '2', '3', '45')\n"
     ]
    }
   ],
   "source": [
    "# Create a tuple from user input.\n",
    "# Get user input as a comma-separated string\n",
    "user_input = input(\"Enter a comma-separated list of values: \")\n",
    "\n",
    "# Split the input string into a list using a comma as the delimiter\n",
    "input_list = user_input.split(\",\")\n",
    "\n",
    "# Convert the list to a tuple\n",
    "user_tuple = tuple(input_list)\n",
    "\n",
    "print(user_tuple)\n"
   ]
  },
  {
   "cell_type": "code",
   "execution_count": 73,
   "id": "e4a23d43",
   "metadata": {},
   "outputs": [
    {
     "name": "stdout",
     "output_type": "stream",
     "text": [
      "(1, 4, 3, 2, 5)\n"
     ]
    }
   ],
   "source": [
    "# Swap two elements in a tuple.\n",
    "\n",
    "# Original tuple\n",
    "original_tuple = (1, 2, 3, 4, 5)\n",
    "\n",
    "# Indices of the elements to swap\n",
    "index1 = 1\n",
    "index2 = 3\n",
    "\n",
    "# Convert the tuple to a list to make it mutable\n",
    "tuple_list = list(original_tuple)\n",
    "\n",
    "# Swap the elements\n",
    "tuple_list[index1], tuple_list[index2] = tuple_list[index2], tuple_list[index1]\n",
    "\n",
    "# Convert the list back to a tuple\n",
    "swapped_tuple = tuple(tuple_list)\n",
    "\n",
    "print(swapped_tuple)\n"
   ]
  },
  {
   "cell_type": "code",
   "execution_count": 74,
   "id": "9136db46",
   "metadata": {},
   "outputs": [
    {
     "name": "stdout",
     "output_type": "stream",
     "text": [
      "(5, 4, 3, 2, 1)\n"
     ]
    }
   ],
   "source": [
    "# Reverse the elements of a tuple.\n",
    "\n",
    "# Original tuple\n",
    "original_tuple = (1, 2, 3, 4, 5)\n",
    "\n",
    "# Reverse the elements using slicing\n",
    "reversed_tuple = original_tuple[::-1]\n",
    "\n",
    "print(reversed_tuple)\n"
   ]
  },
  {
   "cell_type": "code",
   "execution_count": 75,
   "id": "7d4501be",
   "metadata": {},
   "outputs": [
    {
     "name": "stdout",
     "output_type": "stream",
     "text": [
      "(1, 2, 4, 8, 16)\n"
     ]
    }
   ],
   "source": [
    "#  Create a tuple of the first `n` powers of 2.\n",
    "n = 5  # Change this to the desired number of powers of 2\n",
    "powers_of_2_tuple = tuple(2 ** i for i in range(n))\n",
    "\n",
    "print(powers_of_2_tuple)\n"
   ]
  },
  {
   "cell_type": "code",
   "execution_count": 76,
   "id": "ebb14316",
   "metadata": {},
   "outputs": [
    {
     "name": "stdout",
     "output_type": "stream",
     "text": [
      "banana\n"
     ]
    }
   ],
   "source": [
    "#  Find the longest string in a tuple of strings.\n",
    "\n",
    "string_tuple = (\"apple\", \"banana\", \"cherry\", \"date\", \"fig\")\n",
    "\n",
    "# Find the longest string\n",
    "longest_string = max(string_tuple, key=len)\n",
    "\n",
    "print(longest_string)\n"
   ]
  },
  {
   "cell_type": "code",
   "execution_count": 77,
   "id": "b3073b27",
   "metadata": {},
   "outputs": [
    {
     "name": "stdout",
     "output_type": "stream",
     "text": [
      "fig\n"
     ]
    }
   ],
   "source": [
    "# Find the shortest string in a tuple of strings.\n",
    "\n",
    "string_tuple = (\"apple\", \"banana\", \"cherry\", \"date\", \"fig\")\n",
    "\n",
    "# Find the shortest string\n",
    "shortest_string = min(string_tuple, key=len)\n",
    "\n",
    "print(shortest_string)"
   ]
  },
  {
   "cell_type": "code",
   "execution_count": 78,
   "id": "eb9f3534",
   "metadata": {},
   "outputs": [
    {
     "name": "stdout",
     "output_type": "stream",
     "text": [
      "(1, 3, 6, 10, 15)\n"
     ]
    }
   ],
   "source": [
    "#  Create a tuple of the first `n` triangular numbers.\n",
    "n = 5  # Change this to the desired number of triangular numbers\n",
    "triangular_numbers = tuple((i * (i + 1)) // 2 for i in range(1, n + 1))\n",
    "\n",
    "print(triangular_numbers)\n"
   ]
  },
  {
   "cell_type": "code",
   "execution_count": 82,
   "id": "da87d743",
   "metadata": {},
   "outputs": [
    {
     "name": "stdout",
     "output_type": "stream",
     "text": [
      "True\n"
     ]
    }
   ],
   "source": [
    "# Check if a tuple contains another tuple as a subsequence.\n",
    "\n",
    "def contains_subsequence(main_tuple, sub_tuple):\n",
    "    if not sub_tuple:\n",
    "        return True  # An empty tuple is always a subsequence\n",
    "\n",
    "    i = 0\n",
    "    j = 0\n",
    "\n",
    "    while i < len(main_tuple) and j < len(sub_tuple):\n",
    "        if main_tuple[i] == sub_tuple[j]:\n",
    "            j += 1\n",
    "        i += 1\n",
    "\n",
    "    return j == len(sub_tuple)\n",
    "\n",
    "# Example tuples\n",
    "main_tuple = (1, 2, 3, 4, 5, 6, 7)\n",
    "sub_tuple = (3, 4, 5)\n",
    "\n",
    "# Check if sub_tuple is a subsequence of main_tuple\n",
    "print(contains_subsequence(main_tuple, sub_tuple))  # True\n"
   ]
  },
  {
   "cell_type": "code",
   "execution_count": 83,
   "id": "c1c5c4ca",
   "metadata": {},
   "outputs": [
    {
     "name": "stdout",
     "output_type": "stream",
     "text": [
      "(1, 0, 1, 0, 1, 0, 1, 0, 1, 0)\n"
     ]
    }
   ],
   "source": [
    "#  Create a tuple of alternating 1s and 0s of length `n`.\n",
    "\n",
    "n = 10  # Change this to the desired length of the tuple\n",
    "alternating_tuple = tuple(1 if i % 2 == 0 else 0 for i in range(n))\n",
    "\n",
    "print(alternating_tuple)\n"
   ]
  },
  {
   "cell_type": "markdown",
   "id": "7ed7c2b8",
   "metadata": {},
   "source": [
    "# Set Based Practice Problem"
   ]
  },
  {
   "cell_type": "code",
   "execution_count": 14,
   "id": "8ceae781",
   "metadata": {},
   "outputs": [
    {
     "name": "stdout",
     "output_type": "stream",
     "text": [
      "{1, 2, 3, 4, 5}\n",
      "<class 'set'>\n"
     ]
    }
   ],
   "source": [
    "# 1. Create a set with integers from 1 to 5.\n",
    "\n",
    "set1 = set(range(1,6))\n",
    "print(set1)\n",
    "print(type(set1))"
   ]
  },
  {
   "cell_type": "code",
   "execution_count": 16,
   "id": "a4cc01a6",
   "metadata": {},
   "outputs": [
    {
     "data": {
      "text/plain": [
       "{1, 2, 3, 4, 5, 6}"
      ]
     },
     "execution_count": 16,
     "metadata": {},
     "output_type": "execute_result"
    }
   ],
   "source": [
    "# 2. Add an element to a set.\n",
    "\n",
    "set1.add(6)\n",
    "set1"
   ]
  },
  {
   "cell_type": "code",
   "execution_count": 17,
   "id": "7ab10b87",
   "metadata": {},
   "outputs": [
    {
     "name": "stdout",
     "output_type": "stream",
     "text": [
      "{1, 2, 4, 5}\n"
     ]
    }
   ],
   "source": [
    "# 3.  Remove an element from a set.\n",
    "\n",
    "my_set = {1, 2, 3, 4, 5}\n",
    "\n",
    "# Remove element 3 from the set\n",
    "my_set.remove(3)\n",
    "\n",
    "print(my_set)\n"
   ]
  },
  {
   "cell_type": "code",
   "execution_count": 21,
   "id": "af18386b",
   "metadata": {},
   "outputs": [
    {
     "name": "stdout",
     "output_type": "stream",
     "text": [
      "3 exists in the set\n"
     ]
    }
   ],
   "source": [
    "# 4. Check if an element exists in a set.\n",
    "\n",
    "my_set = {1, 2, 3, 4, 5}\n",
    "\n",
    "# Check if an element exists in the set\n",
    "element_to_check = 3\n",
    "\n",
    "if element_to_check in my_set:\n",
    "    print(f\"{element_to_check} exists in the set\")\n",
    "else:\n",
    "    print(f\"{element_to_check} does not exist in the set\")\n"
   ]
  },
  {
   "cell_type": "code",
   "execution_count": 22,
   "id": "4f4fcdaf",
   "metadata": {},
   "outputs": [
    {
     "name": "stdout",
     "output_type": "stream",
     "text": [
      "Length of the set: 9\n"
     ]
    }
   ],
   "source": [
    "# 5. Find the length of a set without using the `len()` function.\n",
    "\n",
    "my_set = {1, 2, 3, 4, 5, 6, 7, 8, 9}\n",
    "\n",
    "# Initialize a count variable\n",
    "count = 0\n",
    "\n",
    "# Iterate through the set and count the elements\n",
    "for _ in my_set:\n",
    "    count += 1\n",
    "\n",
    "# The 'count' variable now holds the length of the set\n",
    "print(\"Length of the set:\", count)\n"
   ]
  },
  {
   "cell_type": "code",
   "execution_count": 23,
   "id": "91185d85",
   "metadata": {},
   "outputs": [
    {
     "name": "stdout",
     "output_type": "stream",
     "text": [
      "Set after clearing: set()\n"
     ]
    }
   ],
   "source": [
    "# 6. Clear all elements from a set.\n",
    "\n",
    "my_set = {1, 2, 3, 4, 5}\n",
    "\n",
    "# Clear all elements from the set\n",
    "my_set.clear()\n",
    "\n",
    "print(\"Set after clearing:\", my_set)\n"
   ]
  },
  {
   "cell_type": "code",
   "execution_count": 24,
   "id": "d9adedd1",
   "metadata": {},
   "outputs": [
    {
     "name": "stdout",
     "output_type": "stream",
     "text": [
      "{2, 4, 6, 8, 10}\n"
     ]
    }
   ],
   "source": [
    "# 7. Create a set of even numbers from 1 to 10.\n",
    "\n",
    "even_numbers = {x for x in range(1, 11) if x % 2 == 0}\n",
    "print(even_numbers)"
   ]
  },
  {
   "cell_type": "code",
   "execution_count": 25,
   "id": "b8a5c59d",
   "metadata": {},
   "outputs": [
    {
     "name": "stdout",
     "output_type": "stream",
     "text": [
      "{1, 3, 5, 7, 9}\n"
     ]
    }
   ],
   "source": [
    "# 8. Create a set of odd numbers from 1 to 10.\n",
    "\n",
    "odd_numbers = {x for x in range(1, 11) if x % 2 != 0}\n",
    "print(odd_numbers)"
   ]
  },
  {
   "cell_type": "code",
   "execution_count": 26,
   "id": "e2206275",
   "metadata": {},
   "outputs": [
    {
     "name": "stdout",
     "output_type": "stream",
     "text": [
      "Union of set1 and set2: {1, 2, 3, 4, 5, 6, 7}\n"
     ]
    }
   ],
   "source": [
    "# 9. Find the union of two sets.\n",
    "set1 = {1, 2, 3, 4, 5}\n",
    "set2 = {3, 4, 5, 6, 7}\n",
    "\n",
    "# Find the union of two sets using the union() method\n",
    "union_set = set1.union(set2)\n",
    "\n",
    "print(\"Union of set1 and set2:\", union_set)\n"
   ]
  },
  {
   "cell_type": "code",
   "execution_count": 27,
   "id": "8b5742fe",
   "metadata": {},
   "outputs": [
    {
     "name": "stdout",
     "output_type": "stream",
     "text": [
      "Intersection of set1 and set2: {3, 4, 5}\n"
     ]
    }
   ],
   "source": [
    "# 10. Find the intersection of two sets.\n",
    "set1 = {1, 2, 3, 4, 5}\n",
    "set2 = {3, 4, 5, 6, 7}\n",
    "\n",
    "# Find the intersection of two sets using the intersection() method\n",
    "intersection_set = set1.intersection(set2)\n",
    "\n",
    "print(\"Intersection of set1 and set2:\", intersection_set)\n"
   ]
  },
  {
   "cell_type": "code",
   "execution_count": 28,
   "id": "29da135d",
   "metadata": {},
   "outputs": [
    {
     "name": "stdout",
     "output_type": "stream",
     "text": [
      "Difference between set1 and set2: {1, 2}\n"
     ]
    }
   ],
   "source": [
    "# 11. Find the difference between two sets.\n",
    "set1 = {1, 2, 3, 4, 5}\n",
    "set2 = {3, 4, 5, 6, 7}\n",
    "\n",
    "# Find the difference between two sets using the difference() method\n",
    "difference_set = set1.difference(set2)\n",
    "\n",
    "print(\"Difference between set1 and set2:\", difference_set)\n"
   ]
  },
  {
   "cell_type": "code",
   "execution_count": 29,
   "id": "a386438b",
   "metadata": {},
   "outputs": [
    {
     "name": "stdout",
     "output_type": "stream",
     "text": [
      "set1 is a subset of set2\n"
     ]
    }
   ],
   "source": [
    "# 12. Check if a set is a subset of another set.\n",
    "set1 = {1, 2, 3}\n",
    "set2 = {1, 2, 3, 4, 5}\n",
    "\n",
    "# Check if set1 is a subset of set2 using the issubset() method\n",
    "is_subset = set1.issubset(set2)\n",
    "\n",
    "if is_subset:\n",
    "    print(\"set1 is a subset of set2\")\n",
    "else:\n",
    "    print(\"set1 is not a subset of set2\")\n"
   ]
  },
  {
   "cell_type": "code",
   "execution_count": 30,
   "id": "d644ad2e",
   "metadata": {},
   "outputs": [
    {
     "name": "stdout",
     "output_type": "stream",
     "text": [
      "set1 is a superset of set2\n"
     ]
    }
   ],
   "source": [
    "# 13. Check if a set is a superset of another set.\n",
    "\n",
    "set1 = {1, 2, 3, 4, 5}\n",
    "set2 = {1, 2, 3}\n",
    "\n",
    "# Check if set1 is a superset of set2 using the issuperset() method\n",
    "is_superset = set1.issuperset(set2)\n",
    "\n",
    "if is_superset:\n",
    "    print(\"set1 is a superset of set2\")\n",
    "else:\n",
    "    print(\"set1 is not a superset of set2\")\n"
   ]
  },
  {
   "cell_type": "code",
   "execution_count": 31,
   "id": "aee60a4e",
   "metadata": {},
   "outputs": [
    {
     "name": "stdout",
     "output_type": "stream",
     "text": [
      "{1, 2, 3, 4, 5}\n"
     ]
    }
   ],
   "source": [
    "# 14. Create a set from a list.\n",
    "\n",
    "my_list = [1, 2, 3, 4, 5]\n",
    "\n",
    "# Create a set from a list\n",
    "my_set = set(my_list)\n",
    "\n",
    "print(my_set)\n"
   ]
  },
  {
   "cell_type": "code",
   "execution_count": 32,
   "id": "9b4f6930",
   "metadata": {},
   "outputs": [
    {
     "name": "stdout",
     "output_type": "stream",
     "text": [
      "[1, 2, 3, 4, 5]\n"
     ]
    }
   ],
   "source": [
    "# 15. Convert a set to a list.\n",
    "\n",
    "my_set = {1, 2, 3, 4, 5}\n",
    "\n",
    "# Convert a set to a list\n",
    "my_list = list(my_set)\n",
    "\n",
    "print(my_list)\n"
   ]
  },
  {
   "cell_type": "code",
   "execution_count": 46,
   "id": "9ccd6e61",
   "metadata": {},
   "outputs": [
    {
     "name": "stdout",
     "output_type": "stream",
     "text": [
      "Removed element: 1\n"
     ]
    }
   ],
   "source": [
    "# 16. Remove a random element from a set.\n",
    "\n",
    "my_set = {1, 2, 3, 4, 5, 9}\n",
    "\n",
    "# Remove and print a random element from the set\n",
    "removed_element = my_set.pop()\n",
    "print(\"Removed element:\", removed_element)\n"
   ]
  },
  {
   "cell_type": "code",
   "execution_count": 54,
   "id": "9c5c34f6",
   "metadata": {},
   "outputs": [
    {
     "name": "stdout",
     "output_type": "stream",
     "text": [
      "Popped element: 1\n"
     ]
    }
   ],
   "source": [
    "# 17. Pop an element from a set\n",
    "\n",
    "my_set = {1, 2, 3, 4, 5}\n",
    "\n",
    "# Pop and print a random element from the set\n",
    "popped_element = my_set.pop()\n",
    "print(\"Popped element:\", popped_element)\n"
   ]
  },
  {
   "cell_type": "code",
   "execution_count": 57,
   "id": "02822679",
   "metadata": {},
   "outputs": [
    {
     "name": "stdout",
     "output_type": "stream",
     "text": [
      "The sets have no elements in common.\n"
     ]
    }
   ],
   "source": [
    "# 18. Check if two sets have no elements in common.\n",
    "\n",
    "set1 = {1, 2, 3}\n",
    "set2 = {4, 5, 6}\n",
    "\n",
    "# Check if the two sets have no elements in common\n",
    "have_no_common_elements = set1.isdisjoint(set2)\n",
    "\n",
    "if have_no_common_elements:\n",
    "    print(\"The sets have no elements in common.\")\n",
    "else:\n",
    "    print(\"The sets have elements in common.\")\n"
   ]
  },
  {
   "cell_type": "code",
   "execution_count": 58,
   "id": "35253539",
   "metadata": {},
   "outputs": [
    {
     "name": "stdout",
     "output_type": "stream",
     "text": [
      "Symmetric difference between set1 and set2: {1, 2, 6, 7}\n"
     ]
    }
   ],
   "source": [
    "# 19. Find the symmetric difference between two sets.\n",
    "\n",
    "set1 = {1, 2, 3, 4, 5}\n",
    "set2 = {3, 4, 5, 6, 7}\n",
    "\n",
    "# Find the symmetric difference between two sets using the symmetric_difference() method\n",
    "symmetric_diff_set = set1.symmetric_difference(set2)\n",
    "\n",
    "print(\"Symmetric difference between set1 and set2:\", symmetric_diff_set)\n"
   ]
  },
  {
   "cell_type": "code",
   "execution_count": 59,
   "id": "5a5a5c05",
   "metadata": {},
   "outputs": [
    {
     "name": "stdout",
     "output_type": "stream",
     "text": [
      "Updated set1: {1, 2, 3, 4, 5}\n"
     ]
    }
   ],
   "source": [
    "# 20. Update a set with elements from another set.\n",
    "\n",
    "set1 = {1, 2, 3}\n",
    "set2 = {3, 4, 5}\n",
    "\n",
    "# Update set1 with elements from set2 using the |= operator\n",
    "set1 |= set2\n",
    "\n",
    "print(\"Updated set1:\", set1)\n"
   ]
  },
  {
   "cell_type": "code",
   "execution_count": 60,
   "id": "6a2cb298",
   "metadata": {},
   "outputs": [
    {
     "name": "stdout",
     "output_type": "stream",
     "text": [
      "Updated set1: {1, 2, 3, 4, 5}\n"
     ]
    }
   ],
   "source": [
    "set1 = {1, 2, 3}\n",
    "set2 = {3, 4, 5}\n",
    "\n",
    "# Update set1 with elements from set2 using the update() method\n",
    "set1.update(set2)\n",
    "\n",
    "print(\"Updated set1:\", set1)\n"
   ]
  },
  {
   "cell_type": "code",
   "execution_count": 61,
   "id": "2cb26500",
   "metadata": {},
   "outputs": [
    {
     "name": "stdout",
     "output_type": "stream",
     "text": [
      "{2, 3, 5, 7, 11}\n"
     ]
    }
   ],
   "source": [
    "# 21. Create a set of the first 5 prime numbers.\n",
    "\n",
    "prime_numbers = {2, 3, 5, 7, 11}\n",
    "\n",
    "print(prime_numbers)"
   ]
  },
  {
   "cell_type": "code",
   "execution_count": 69,
   "id": "3c3f5261",
   "metadata": {},
   "outputs": [
    {
     "name": "stdout",
     "output_type": "stream",
     "text": [
      "The sets are identical.\n"
     ]
    }
   ],
   "source": [
    "# 22. Check if two sets are identical.\n",
    "set1 = {1, 2, 3, 4, 5}\n",
    "set2 = {5, 4, 3, 2, 1}\n",
    "\n",
    "# Check if two sets are identical\n",
    "are_identical = set1 == set2\n",
    "\n",
    "if are_identical:\n",
    "    print(\"The sets are identical.\")\n",
    "else:\n",
    "    print(\"The sets are not identical.\")\n",
    "\n"
   ]
  },
  {
   "cell_type": "code",
   "execution_count": 72,
   "id": "4d18fb84",
   "metadata": {},
   "outputs": [
    {
     "name": "stdout",
     "output_type": "stream",
     "text": [
      "frozenset({1, 2, 3, 4, 5})\n"
     ]
    },
    {
     "ename": "AttributeError",
     "evalue": "'frozenset' object has no attribute 'add'",
     "output_type": "error",
     "traceback": [
      "\u001b[0;31m---------------------------------------------------------------------------\u001b[0m",
      "\u001b[0;31mAttributeError\u001b[0m                            Traceback (most recent call last)",
      "Cell \u001b[0;32mIn[72], line 10\u001b[0m\n\u001b[1;32m      6\u001b[0m frozen_set \u001b[38;5;241m=\u001b[39m \u001b[38;5;28mfrozenset\u001b[39m(my_set)\n\u001b[1;32m      8\u001b[0m \u001b[38;5;28mprint\u001b[39m(frozen_set)\n\u001b[0;32m---> 10\u001b[0m \u001b[43mfrozen_set\u001b[49m\u001b[38;5;241;43m.\u001b[39;49m\u001b[43madd\u001b[49m(\u001b[38;5;241m6\u001b[39m)\n",
      "\u001b[0;31mAttributeError\u001b[0m: 'frozenset' object has no attribute 'add'"
     ]
    }
   ],
   "source": [
    "# 23. Create a frozen set.\n",
    "\n",
    "my_set = {1, 2, 3, 4, 5}\n",
    "\n",
    "# Create a frozen set from a regular set\n",
    "frozen_set = frozenset(my_set)\n",
    "\n",
    "print(frozen_set)\n",
    "\n",
    "frozen_set.add(6)\n"
   ]
  },
  {
   "cell_type": "code",
   "execution_count": 73,
   "id": "f7b944f2",
   "metadata": {},
   "outputs": [
    {
     "name": "stdout",
     "output_type": "stream",
     "text": [
      "The sets are disjoint (they have no elements in common).\n"
     ]
    }
   ],
   "source": [
    "# 24. Check if a set is disjoint with another set.\n",
    "\n",
    "set1 = {1, 2, 3}\n",
    "set2 = {4, 5, 6}\n",
    "\n",
    "# Check if the two sets are disjoint using the isdisjoint() method\n",
    "are_disjoint = set1.isdisjoint(set2)\n",
    "\n",
    "if are_disjoint:\n",
    "    print(\"The sets are disjoint (they have no elements in common).\")\n",
    "else:\n",
    "    print(\"The sets are not disjoint (they share at least one element).\")\n"
   ]
  },
  {
   "cell_type": "code",
   "execution_count": 74,
   "id": "e868269d",
   "metadata": {},
   "outputs": [
    {
     "name": "stdout",
     "output_type": "stream",
     "text": [
      "{1, 4, 9, 16, 25}\n"
     ]
    }
   ],
   "source": [
    "# 25. Create a set of squares of numbers from 1 to 5.\n",
    "\n",
    "squares_set = {x ** 2 for x in range(1, 6)}\n",
    "print(squares_set)"
   ]
  },
  {
   "cell_type": "code",
   "execution_count": 75,
   "id": "b3d84264",
   "metadata": {},
   "outputs": [
    {
     "name": "stdout",
     "output_type": "stream",
     "text": [
      "{1, 3, 5, 7, 9}\n"
     ]
    }
   ],
   "source": [
    "# 26. Filter out all even numbers from a set.\n",
    "\n",
    "original_set = {1, 2, 3, 4, 5, 6, 7, 8, 9}\n",
    "\n",
    "filtered_set = set(filter(lambda x: x%2!=0, original_set))\n",
    "print(filtered_set)\n"
   ]
  },
  {
   "cell_type": "code",
   "execution_count": 76,
   "id": "b4566886",
   "metadata": {},
   "outputs": [
    {
     "name": "stdout",
     "output_type": "stream",
     "text": [
      "{2, 4, 6, 8, 10, 12, 14, 16, 18}\n"
     ]
    }
   ],
   "source": [
    "# 27. Multiply all elements in a set by 2.\n",
    "\n",
    "original_set = {1, 2, 3, 4, 5, 6, 7, 8, 9}\n",
    "\n",
    "\n",
    "mul_set = set(map(lambda x: x*2, original_set))\n",
    "print(mul_set)"
   ]
  },
  {
   "cell_type": "code",
   "execution_count": 84,
   "id": "c507abc0",
   "metadata": {},
   "outputs": [
    {
     "name": "stdout",
     "output_type": "stream",
     "text": [
      "{96, 99, 35, 71, 82, 51, 86, 24, 29, 94}\n"
     ]
    }
   ],
   "source": [
    "# 28. Create a set of random numbers.\n",
    "\n",
    "\n",
    "import random\n",
    "\n",
    "# Define the range and the number of random numbers you want\n",
    "start_range = 1\n",
    "end_range = 100\n",
    "number_of_random_numbers = 10\n",
    "\n",
    "# Create a set of random integers\n",
    "random_set = set(random.sample(range(start_range, end_range + 1), number_of_random_numbers))\n",
    "\n",
    "print(random_set)\n"
   ]
  },
  {
   "cell_type": "code",
   "execution_count": 85,
   "id": "88db157f",
   "metadata": {},
   "outputs": [
    {
     "name": "stdout",
     "output_type": "stream",
     "text": [
      "The set is empty\n"
     ]
    }
   ],
   "source": [
    "# 29. Check if a set is empty.\n",
    "\n",
    "my_set = set()\n",
    "\n",
    "if not my_set:\n",
    "    print(\"The set is empty\")\n",
    "else:\n",
    "    print(\"The set is not empty\")\n"
   ]
  },
  {
   "cell_type": "code",
   "execution_count": 86,
   "id": "a6222813",
   "metadata": {},
   "outputs": [
    {
     "name": "stdout",
     "output_type": "stream",
     "text": [
      "{frozenset({1, 2, 3}), frozenset({4, 5, 6})}\n"
     ]
    }
   ],
   "source": [
    "# 30. Create a nested set (hint: use frozenset).\n",
    "\n",
    "\n",
    "nested_set = {frozenset({1, 2, 3}), frozenset({4, 5, 6})}\n",
    "\n",
    "print(nested_set)\n"
   ]
  },
  {
   "cell_type": "code",
   "execution_count": 87,
   "id": "050cbb32",
   "metadata": {},
   "outputs": [
    {
     "name": "stdout",
     "output_type": "stream",
     "text": [
      "Set after removing 3: {1, 2, 4, 5}\n"
     ]
    }
   ],
   "source": [
    "# 31. Remove an element from a set using the discard method.\n",
    "\n",
    "my_set = {1, 2, 3, 4, 5}\n",
    "\n",
    "# Remove an element using the discard method\n",
    "my_set.discard(3)\n",
    "\n",
    "print(\"Set after removing 3:\", my_set)\n"
   ]
  },
  {
   "cell_type": "code",
   "execution_count": 88,
   "id": "32781a49",
   "metadata": {},
   "outputs": [
    {
     "name": "stdout",
     "output_type": "stream",
     "text": [
      "The sets are equal.\n",
      "set1 is a subset of set2.\n",
      "set1 is a proper subset of set2.\n",
      "set1 is a superset of set2.\n",
      "set1 is a proper superset of set2.\n"
     ]
    }
   ],
   "source": [
    "# 32. Compare two sets.\n",
    "\n",
    "set1 = {1, 2, 3}\n",
    "set2 = {3, 2, 1}\n",
    "\n",
    "if set1 == set2:\n",
    "    print(\"The sets are equal.\")\n",
    "\n",
    "    \n",
    "set1 = {1, 2}\n",
    "set2 = {1, 2, 3, 4}\n",
    "\n",
    "if set1 <= set2:\n",
    "    print(\"set1 is a subset of set2.\")\n",
    "\n",
    "\n",
    "    \n",
    "set1 = {1, 2}\n",
    "set2 = {1, 2, 3, 4}\n",
    "\n",
    "if set1 < set2:\n",
    "    print(\"set1 is a proper subset of set2.\")\n",
    "\n",
    "    \n",
    "    \n",
    "set1 = {1, 2, 3, 4}\n",
    "set2 = {1, 2}\n",
    "\n",
    "if set1 >= set2:\n",
    "    print(\"set1 is a superset of set2.\")\n",
    "\n",
    "    \n",
    "\n",
    "set1 = {1, 2, 3, 4}\n",
    "set2 = {1, 2}\n",
    "\n",
    "if set1 > set2:\n",
    "    print(\"set1 is a proper superset of set2.\")\n",
    "\n",
    "    \n",
    "    \n",
    "    \n",
    "\n",
    "\n",
    "\n"
   ]
  },
  {
   "cell_type": "code",
   "execution_count": 89,
   "id": "a4dd48e7",
   "metadata": {},
   "outputs": [
    {
     "name": "stdout",
     "output_type": "stream",
     "text": [
      "{'h', 'o', 'e', 'l'}\n"
     ]
    }
   ],
   "source": [
    "# 33. Create a set from a string.\n",
    "\n",
    "my_string = \"hello\"\n",
    "\n",
    "# Create a set from a string\n",
    "my_set = set(my_string)\n",
    "\n",
    "print(my_set)\n"
   ]
  },
  {
   "cell_type": "code",
   "execution_count": 90,
   "id": "e5e22295",
   "metadata": {},
   "outputs": [
    {
     "name": "stdout",
     "output_type": "stream",
     "text": [
      "{1, 2, 3, 4, 5}\n"
     ]
    }
   ],
   "source": [
    "# 34. Convert a set of strings to a set of integers.\n",
    "\n",
    "set_of_strings = {\"1\", \"2\", \"3\", \"4\", \"5\"}\n",
    "\n",
    "# Convert the set of strings to a set of integers\n",
    "set_of_integers = {int(s) for s in set_of_strings}\n",
    "\n",
    "print(set_of_integers)\n",
    "\n"
   ]
  },
  {
   "cell_type": "code",
   "execution_count": 91,
   "id": "cd7890ca",
   "metadata": {},
   "outputs": [
    {
     "name": "stdout",
     "output_type": "stream",
     "text": [
      "{'3', '4', '1', '5', '2'}\n"
     ]
    }
   ],
   "source": [
    "# 35. Convert a set of integers to a set of strings.\n",
    "\n",
    "\n",
    "set_of_integers = {1, 2, 3, 4, 5}\n",
    "\n",
    "# Convert the set of integers to a set of strings\n",
    "set_of_strings = {str(i) for i in set_of_integers}\n",
    "\n",
    "print(set_of_strings)\n"
   ]
  },
  {
   "cell_type": "code",
   "execution_count": 97,
   "id": "ce4fdca4",
   "metadata": {},
   "outputs": [
    {
     "name": "stdout",
     "output_type": "stream",
     "text": [
      "{1, 2, 3, 4, 5}\n"
     ]
    }
   ],
   "source": [
    "# 36. Create a set from a tuple.\n",
    "\n",
    "my_tuple = (1, 2, 3, 4, 5)\n",
    "\n",
    "# Create a set from a tuple\n",
    "my_set = set(my_tuple)\n",
    "\n",
    "print(my_set)\n",
    "\n",
    "\n"
   ]
  },
  {
   "cell_type": "code",
   "execution_count": 98,
   "id": "10292a68",
   "metadata": {},
   "outputs": [
    {
     "name": "stdout",
     "output_type": "stream",
     "text": [
      "(1, 2, 3, 4, 5)\n"
     ]
    }
   ],
   "source": [
    "# 37. Convert a set to a tuple.\n",
    "\n",
    "my_set = {1, 2, 3, 4, 5}\n",
    "\n",
    "# Convert a set to a tuple\n",
    "my_tuple = tuple(my_set)\n",
    "\n",
    "print(my_tuple)\n"
   ]
  },
  {
   "cell_type": "code",
   "execution_count": 99,
   "id": "d1511eea",
   "metadata": {},
   "outputs": [
    {
     "name": "stdout",
     "output_type": "stream",
     "text": [
      "Maximum value: 5\n"
     ]
    }
   ],
   "source": [
    "# 38. Find the maximum value in a set.\n",
    "\n",
    "my_set = {1, 2, 3, 4, 5}\n",
    "\n",
    "# Find the maximum value in the set\n",
    "maximum_value = max(my_set)\n",
    "\n",
    "print(\"Maximum value:\", maximum_value)\n"
   ]
  },
  {
   "cell_type": "code",
   "execution_count": 100,
   "id": "d36b97fc",
   "metadata": {},
   "outputs": [
    {
     "name": "stdout",
     "output_type": "stream",
     "text": [
      "Minimum value: 1\n"
     ]
    }
   ],
   "source": [
    "# 39. Find the minimum value in a set.\n",
    "\n",
    "my_set = {5, 2, 4, 1, 3}\n",
    "\n",
    "# Find the minimum value in the set\n",
    "minimum_value = min(my_set)\n",
    "\n",
    "print(\"Minimum value:\", minimum_value)\n"
   ]
  },
  {
   "cell_type": "code",
   "execution_count": 101,
   "id": "98040f5c",
   "metadata": {},
   "outputs": [
    {
     "name": "stdout",
     "output_type": "stream",
     "text": [
      "Enter a comma-separated list of elements: a,1,2\n",
      "User-set: {'2', 'a', '1'}\n"
     ]
    }
   ],
   "source": [
    "# 40. Create a set from user input.\n",
    "\n",
    "# Take user input as a comma-separated string\n",
    "user_input = input(\"Enter a comma-separated list of elements: \")\n",
    "\n",
    "# Split the input string by commas and create a set\n",
    "user_set = set(user_input.split(','))\n",
    "\n",
    "print(\"User-set:\", user_set)\n"
   ]
  },
  {
   "cell_type": "code",
   "execution_count": 102,
   "id": "f984f510",
   "metadata": {},
   "outputs": [
    {
     "name": "stdout",
     "output_type": "stream",
     "text": [
      "The intersection is empty (sets have no common elements).\n"
     ]
    }
   ],
   "source": [
    "# 41. Check if the intersection of two sets is empty.\n",
    "\n",
    "\n",
    "set1 = {1, 2, 3}\n",
    "set2 = {4, 5, 6}\n",
    "\n",
    "# Check if the intersection of the two sets is empty\n",
    "intersection_empty = set1.isdisjoint(set2)\n",
    "\n",
    "if intersection_empty:\n",
    "    print(\"The intersection is empty (sets have no common elements).\")\n",
    "else:\n",
    "    print(\"The intersection is not empty (sets have common elements).\")\n",
    "\n",
    "\n",
    "\n"
   ]
  },
  {
   "cell_type": "code",
   "execution_count": 107,
   "id": "b6472009",
   "metadata": {},
   "outputs": [
    {
     "name": "stdout",
     "output_type": "stream",
     "text": [
      "0,1,1,2,3\n"
     ]
    }
   ],
   "source": [
    "# 42. Create a set of the first 5 Fibonacci numbers.\n",
    "\n",
    "# Function to generate the first n Fibonacci numbers\n",
    "def generate_fibonacci(n):\n",
    "    fibonacci_list = [0, 1]\n",
    "    a, b = 0, 1\n",
    "    for _ in range(n - 2):\n",
    "        a, b = b, a + b\n",
    "        fibonacci_list.append(b)\n",
    "    return fibonacci_list\n",
    "\n",
    "# Create a list of the first 5 Fibonacci numbers (including 0 and 1)\n",
    "first_5_fibonacci = generate_fibonacci(5)\n",
    "\n",
    "# Print the first 5 Fibonacci numbers as a comma-separated list\n",
    "print(','.join(map(str, first_5_fibonacci)))\n"
   ]
  },
  {
   "cell_type": "code",
   "execution_count": 104,
   "id": "405ed747",
   "metadata": {},
   "outputs": [
    {
     "name": "stdout",
     "output_type": "stream",
     "text": [
      "[1, 2, 3, 4, 5]\n"
     ]
    }
   ],
   "source": [
    "# 43. Remove duplicates from a list using sets.\n",
    "\n",
    "my_list = [1, 2, 2, 3, 4, 4, 5]\n",
    "\n",
    "# Remove duplicates from the list using sets\n",
    "unique_list = list(set(my_list))\n",
    "\n",
    "print(unique_list)\n"
   ]
  },
  {
   "cell_type": "code",
   "execution_count": 108,
   "id": "0303508b",
   "metadata": {},
   "outputs": [
    {
     "name": "stdout",
     "output_type": "stream",
     "text": [
      "The sets have the same elements, regardless of count.\n"
     ]
    }
   ],
   "source": [
    "# 44. Check if two sets have the same elements, regardless of their count.\n",
    "\n",
    "set1 = {1, 2, 3, 3, 4}\n",
    "set2 = {4, 3, 2, 1}\n",
    "\n",
    "# Check if the sets have the same elements, regardless of count\n",
    "have_same_elements = set1 == set2\n",
    "\n",
    "if have_same_elements:\n",
    "    print(\"The sets have the same elements, regardless of count.\")\n",
    "else:\n",
    "    print(\"The sets do not have the same elements, regardless of count.\")\n"
   ]
  },
  {
   "cell_type": "code",
   "execution_count": 109,
   "id": "87b898ff",
   "metadata": {},
   "outputs": [
    {
     "name": "stdout",
     "output_type": "stream",
     "text": [
      "{1, 2, 4, 8, 16}\n"
     ]
    }
   ],
   "source": [
    "# 45. Create a set of the first `n` powers of 2.\n",
    "\n",
    "def generate_powers_of_2(n):\n",
    "    powers_set = set()\n",
    "    for i in range(n):\n",
    "        powers_set.add(2 ** i)\n",
    "    return powers_set\n",
    "\n",
    "# Specify the value of n (e.g., 5 for the first 5 powers of 2)\n",
    "n = 5\n",
    "\n",
    "# Create a set of the first n powers of 2\n",
    "powers_of_2_set = generate_powers_of_2(n)\n",
    "\n",
    "print(powers_of_2_set)\n"
   ]
  },
  {
   "cell_type": "code",
   "execution_count": 110,
   "id": "8bd5869c",
   "metadata": {},
   "outputs": [
    {
     "name": "stdout",
     "output_type": "stream",
     "text": [
      "Common elements: {3, 4, 5}\n"
     ]
    }
   ],
   "source": [
    "# 46. Find the common elements between a set and a list.\n",
    "\n",
    "my_set = {1, 2, 3, 4, 5}\n",
    "my_list = [3, 4, 5, 6, 7]\n",
    "\n",
    "# Find the common elements between the set and the list\n",
    "common_elements = my_set.intersection(my_list)\n",
    "\n",
    "print(\"Common elements:\", common_elements)\n"
   ]
  },
  {
   "cell_type": "code",
   "execution_count": 111,
   "id": "91f04ec0",
   "metadata": {},
   "outputs": [
    {
     "name": "stdout",
     "output_type": "stream",
     "text": [
      "{1, 3, 6, 10, 15}\n"
     ]
    }
   ],
   "source": [
    "# 47. Create a set of the first `n` triangular numbers.\n",
    "\n",
    "def generate_triangular_numbers(n):\n",
    "    triangular_set = set()\n",
    "    total = 0\n",
    "    for i in range(1, n + 1):\n",
    "        total += i\n",
    "        triangular_set.add(total)\n",
    "    return triangular_set\n",
    "\n",
    "# Specify the value of n (e.g., 5 for the first 5 triangular numbers)\n",
    "n = 5\n",
    "\n",
    "# Create a set of the first n triangular numbers\n",
    "triangular_numbers_set = generate_triangular_numbers(n)\n",
    "\n",
    "print(triangular_numbers_set)\n"
   ]
  },
  {
   "cell_type": "code",
   "execution_count": 112,
   "id": "9c7f1472",
   "metadata": {},
   "outputs": [
    {
     "name": "stdout",
     "output_type": "stream",
     "text": [
      "set2 is a subset of set1.\n"
     ]
    }
   ],
   "source": [
    "# 48. Check if a set contains another set as a subset.\n",
    "\n",
    "set1 = {1, 2, 3, 4, 5}\n",
    "set2 = {2, 3, 4}\n",
    "\n",
    "# Check if set2 is a subset of set1\n",
    "is_subset = set2.issubset(set1)\n",
    "\n",
    "if is_subset:\n",
    "    print(\"set2 is a subset of set1.\")\n",
    "else:\n",
    "    print(\"set2 is not a subset of set1.\")\n"
   ]
  },
  {
   "cell_type": "code",
   "execution_count": 113,
   "id": "084d2d0b",
   "metadata": {},
   "outputs": [
    {
     "name": "stdout",
     "output_type": "stream",
     "text": [
      "{0, 1}\n"
     ]
    }
   ],
   "source": [
    "# 49. Create a set of alternating 1s and 0s of length `n`.\n",
    "\n",
    "\n",
    "def generate_alternating_set(n):\n",
    "    alternating_set = set()\n",
    "    for i in range(n):\n",
    "        alternating_set.add(i % 2)\n",
    "    return alternating_set\n",
    "\n",
    "# Specify the value of n (e.g., 8 for a set of length 8)\n",
    "n = 8\n",
    "\n",
    "# Create a set of alternating 1s and 0s of length n\n",
    "alternating_set = generate_alternating_set(n)\n",
    "\n",
    "print(alternating_set)\n"
   ]
  },
  {
   "cell_type": "code",
   "execution_count": 114,
   "id": "8afa630c",
   "metadata": {},
   "outputs": [
    {
     "name": "stdout",
     "output_type": "stream",
     "text": [
      "{1, 2, 3, 4, 5, 6, 7}\n"
     ]
    }
   ],
   "source": [
    "# 50. Merge multiple sets into one.\n",
    "\n",
    "set1 = {1, 2, 3}\n",
    "set2 = {3, 4, 5}\n",
    "set3 = {5, 6, 7}\n",
    "\n",
    "# Merge multiple sets into one using the | operator\n",
    "merged_set = set1 | set2 | set3\n",
    "\n",
    "print(merged_set)\n"
   ]
  },
  {
   "cell_type": "code",
   "execution_count": 115,
   "id": "1fd489f6",
   "metadata": {},
   "outputs": [
    {
     "name": "stdout",
     "output_type": "stream",
     "text": [
      "{1, 2, 3, 4, 5, 6, 7}\n"
     ]
    }
   ],
   "source": [
    "set1 = {1, 2, 3}\n",
    "set2 = {3, 4, 5}\n",
    "set3 = {5, 6, 7}\n",
    "\n",
    "# Merge multiple sets into one using the union() method\n",
    "merged_set = set1.union(set2, set3)\n",
    "\n",
    "print(merged_set)\n"
   ]
  },
  {
   "cell_type": "code",
   "execution_count": null,
   "id": "6f0abcba",
   "metadata": {},
   "outputs": [],
   "source": []
  }
 ],
 "metadata": {
  "kernelspec": {
   "display_name": "Python (ml_kernel)",
   "language": "python",
   "name": "your_env_name"
  },
  "language_info": {
   "codemirror_mode": {
    "name": "ipython",
    "version": 3
   },
   "file_extension": ".py",
   "mimetype": "text/x-python",
   "name": "python",
   "nbconvert_exporter": "python",
   "pygments_lexer": "ipython3",
   "version": "3.8.0"
  }
 },
 "nbformat": 4,
 "nbformat_minor": 5
}
