{
 "cells": [
  {
   "cell_type": "code",
   "execution_count": 2,
   "id": "cdf2e083",
   "metadata": {},
   "outputs": [
    {
     "name": "stdout",
     "output_type": "stream",
     "text": [
      "The moves involved in the Tower of Hanoi are:\n",
      "Move disk 1 from rod A to rod C\n",
      "Move disk 2 from rod A to rod B\n",
      "Move disk 1 from rod C to rod B\n",
      "Move disk 3 from rod A to rod C\n",
      "Move disk 1 from rod B to rod A\n",
      "Move disk 2 from rod B to rod C\n",
      "Move disk 1 from rod A to rod C\n"
     ]
    }
   ],
   "source": [
    "# Q.1 Can you explain the logic and working of the Tower of Hanoi algorithm by writing a Java program?\n",
    "# How does the recursion work, and how are the movements of disks between rods accomplished?\n",
    "\n",
    "\n",
    "\n",
    "\"\"\"The Tower of Hanoi is a classic problem that demonstrates the use of recursion in programming. The objective is to move a stack of disks from one rod to another, following these rules:\n",
    "\n",
    "Only one disk can be moved at a time.\n",
    "Each move consists of taking the upper disk from one of the stacks and placing it on top of another stack or on an empty rod.\n",
    "No disk may be placed on top of a smaller disk.\n",
    "Java Program for Tower of Hanoi\n",
    "Here’s a Java program that implements the Tower of Hanoi algorithm using recursion:\"\"\"\n",
    "\n",
    "def solve_tower_of_hanoi(n, source, target, auxiliary):\n",
    "    # Base case: If there is only one disk to move\n",
    "    if n == 1:\n",
    "        print(f\"Move disk 1 from rod {source} to rod {target}\")\n",
    "        return\n",
    "\n",
    "    # Move n-1 disks from source to auxiliary, so they are out of the way\n",
    "    solve_tower_of_hanoi(n - 1, source, auxiliary, target)\n",
    "\n",
    "    # Move the nth disk from source to target\n",
    "    print(f\"Move disk {n} from rod {source} to rod {target}\")\n",
    "\n",
    "    # Move the n-1 disks that we left on auxiliary to target\n",
    "    solve_tower_of_hanoi(n - 1, auxiliary, target, source)\n",
    "\n",
    "# Example usage\n",
    "if __name__ == \"__main__\":\n",
    "    n = 3  # Number of disks\n",
    "    print(\"The moves involved in the Tower of Hanoi are:\")\n",
    "    solve_tower_of_hanoi(n, 'A', 'C', 'B')  # A, B and C are the names of rods\n"
   ]
  },
  {
   "cell_type": "code",
   "execution_count": 3,
   "id": "6c9c3398",
   "metadata": {},
   "outputs": [
    {
     "name": "stdout",
     "output_type": "stream",
     "text": [
      "3\n",
      "5\n"
     ]
    }
   ],
   "source": [
    "# Q.2 Given two strings word1 and word2, return the minimum number of operations required to convert word1\n",
    "# to word2.\n",
    "\n",
    "def min_distance(word1: str, word2: str) -> int:\n",
    "    m, n = len(word1), len(word2)\n",
    "    \n",
    "    # Create a 2D DP array with dimensions (m+1) x (n+1)\n",
    "    dp = [[0] * (n + 1) for _ in range(m + 1)]\n",
    "    \n",
    "    # Initialize base cases\n",
    "    for i in range(m + 1):\n",
    "        dp[i][0] = i  # Deleting all characters from word1\n",
    "    for j in range(n + 1):\n",
    "        dp[0][j] = j  # Inserting all characters into word1 to form word2\n",
    "\n",
    "    # Fill the DP table\n",
    "    for i in range(1, m + 1):\n",
    "        for j in range(1, n + 1):\n",
    "            if word1[i - 1] == word2[j - 1]:\n",
    "                dp[i][j] = dp[i - 1][j - 1]  # No operation needed\n",
    "            else:\n",
    "                dp[i][j] = min(\n",
    "                    dp[i - 1][j] + 1,  # Deletion\n",
    "                    dp[i][j - 1] + 1,  # Insertion\n",
    "                    dp[i - 1][j - 1] + 1  # Replacement\n",
    "                )\n",
    "\n",
    "    return dp[m][n]\n",
    "\n",
    "# Example usage\n",
    "word1 = \"horse\"\n",
    "word2 = \"ros\"\n",
    "print(min_distance(word1, word2))  # Output: 3\n",
    "\n",
    "word1 = \"intention\"\n",
    "word2 = \"execution\"\n",
    "print(min_distance(word1, word2))  # Output: 5\n"
   ]
  },
  {
   "cell_type": "code",
   "execution_count": 8,
   "id": "56edd266",
   "metadata": {},
   "outputs": [
    {
     "name": "stdout",
     "output_type": "stream",
     "text": [
      "Max value: 22\n"
     ]
    }
   ],
   "source": [
    "# Q. 3 Print the max value of the array [ 13, 1, -3, 22, 5].\n",
    "# Q3: Find the maximum value in the array\n",
    "array = [13, 1, -3, 22, 5]\n",
    "max_value = max(array)\n",
    "print(f\"Max value: {max_value}\")\n",
    "\n",
    "\n"
   ]
  },
  {
   "cell_type": "code",
   "execution_count": 9,
   "id": "27da8899",
   "metadata": {},
   "outputs": [
    {
     "name": "stdout",
     "output_type": "stream",
     "text": [
      "Sum of values: 120\n"
     ]
    }
   ],
   "source": [
    "# Q.4 Find the sum of the values of the array [92, 23, 15, -20, 10].\n",
    "\n",
    "# Q4: Find the sum of the array\n",
    "array = [92, 23, 15, -20, 10]\n",
    "sum_value = sum(array)\n",
    "print(f\"Sum of values: {sum_value}\")\n"
   ]
  },
  {
   "cell_type": "code",
   "execution_count": 10,
   "id": "df36207e",
   "metadata": {},
   "outputs": [
    {
     "name": "stdout",
     "output_type": "stream",
     "text": [
      "Max value: 22\n",
      "Sum of values: 120\n",
      "Is 153 an Armstrong number? Yes\n",
      "Is 134 an Armstrong number? No\n"
     ]
    }
   ],
   "source": [
    "# Q.5 Given a number n. Print if it is an armstrong number or not.An armstrong number is a number if the sum\n",
    "# of every digit in that number raised to the power of total digits in that number is equal to the number.\n",
    "# Example : 153 = 1^3 + 5^3 + 3^3 = 1 + 125 + 27 = 153 hence 153 is an armstrong number. (Easy)\n",
    "# Input1 : 153\n",
    "# Output1 : Yes\n",
    "# Input 2 : 134\n",
    "# Output2 : No\n",
    "# Q3: Find the maximum value in the array\n",
    "array1 = [13, 1, -3, 22, 5]\n",
    "max_value = max(array1)\n",
    "print(f\"Max value: {max_value}\")\n",
    "\n",
    "# Q4: Find the sum of the array\n",
    "array2 = [92, 23, 15, -20, 10]\n",
    "sum_value = sum(array2)\n",
    "print(f\"Sum of values: {sum_value}\")\n",
    "\n",
    "# Q5: Check if a number is an Armstrong number\n",
    "def is_armstrong_number(n):\n",
    "    str_n = str(n)\n",
    "    num_digits = len(str_n)\n",
    "    armstrong_sum = sum(int(digit) ** num_digits for digit in str_n)\n",
    "    return armstrong_sum == n\n",
    "\n",
    "# Test the function\n",
    "input1 = 153\n",
    "input2 = 134\n",
    "\n",
    "print(f\"Is {input1} an Armstrong number? {'Yes' if is_armstrong_number(input1) else 'No'}\")\n",
    "print(f\"Is {input2} an Armstrong number? {'Yes' if is_armstrong_number(input2) else 'No'}\")\n",
    "\n"
   ]
  },
  {
   "cell_type": "code",
   "execution_count": null,
   "id": "63d2d844",
   "metadata": {},
   "outputs": [],
   "source": []
  }
 ],
 "metadata": {
  "kernelspec": {
   "display_name": "Python (ml_kernel)",
   "language": "python",
   "name": "your_env_name"
  },
  "language_info": {
   "codemirror_mode": {
    "name": "ipython",
    "version": 3
   },
   "file_extension": ".py",
   "mimetype": "text/x-python",
   "name": "python",
   "nbconvert_exporter": "python",
   "pygments_lexer": "ipython3",
   "version": "3.8.0"
  }
 },
 "nbformat": 4,
 "nbformat_minor": 5
}
