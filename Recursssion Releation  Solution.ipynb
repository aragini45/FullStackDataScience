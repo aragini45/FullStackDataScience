{
 "cells": [
  {
   "cell_type": "code",
   "execution_count": 3,
   "id": "8c7c3317",
   "metadata": {},
   "outputs": [
    {
     "data": {
      "text/plain": [
       "'\\nTo find T(2), we need to compute T(1) first and then use it to find T(2)\\n\\nStep 1: Compute T(1), n=1\\nT(1) = 3T(0) + 12*1 = 3*5 + 12 = 15+12 =27\\n\\nStep 1: Compute T(2), n=2\\nT(2) = 3T(1) + 12 * 2 = 3*27 + 24 = 81 + 24 = 105\\n'"
      ]
     },
     "execution_count": 3,
     "metadata": {},
     "output_type": "execute_result"
    }
   ],
   "source": [
    "# 1. Find the value of T(2) for the recurrence relation T(n) = 3T(n-1) + 12n, given that T(0)=5.\n",
    "\"\"\"\n",
    "To find T(2), we need to compute T(1) first and then use it to find T(2)\n",
    "\n",
    "Step 1: Compute T(1), n=1\n",
    "T(1) = 3T(0) + 12*1 = 3*5 + 12 = 15+12 =27\n",
    "\n",
    "Step 1: Compute T(2), n=2\n",
    "T(2) = 3T(1) + 12 * 2 = 3*27 + 24 = 81 + 24 = 105\n",
    "\"\"\"\n"
   ]
  },
  {
   "cell_type": "code",
   "execution_count": 4,
   "id": "2e9295f4",
   "metadata": {},
   "outputs": [
    {
     "data": {
      "text/plain": [
       "'\\nAssume \\nT(n)=an+b\\n\\nans is \\n'"
      ]
     },
     "execution_count": 4,
     "metadata": {},
     "output_type": "execute_result"
    }
   ],
   "source": [
    "# 2. Given a recurrence relation, solve it using the substitution method:\n",
    "\n",
    "# a. T(n) = T(n-1) + c\n",
    "\"\"\"\n",
    "T(n)=T(0)+nc\n",
    "\"\"\"\n",
    "\n",
    "# b. T(n) = 2T(n/2) + n\n",
    "\"\"\"\n",
    "T(n)=n\n",
    "\"\"\"\n",
    "\n",
    "# c. T(n) = 2T(n/2) + c\n",
    "\"\"\"\n",
    "Assume \n",
    "T(n)=an+b\n",
    "\n",
    "ans is \n",
    "T(n)=an−c\n",
    "\"\"\"\n",
    "\n",
    "\n",
    "# d. T(n) = T(n/2) + c\n",
    "\"\"\"\n",
    "T(n)=alog(n)+b\n",
    "\n",
    "\"\"\"\n",
    "\n",
    "\n"
   ]
  },
  {
   "cell_type": "code",
   "execution_count": null,
   "id": "c8bb343d",
   "metadata": {},
   "outputs": [],
   "source": [
    "# 3. Given a recurrence relation, solve it using the recursive tree approach:\n",
    "\n",
    "\n",
    "# a. T(n) = 2T(n-1) +1\n",
    "\"\"\"\n",
    "T(n) = 2^n T(0) + (2^n − 1) = 2^nc + (2^n−1)\n",
    "\"\"\"\n",
    "\n",
    "\n",
    "# b. T(n) = 2T(n/2) + n\n",
    "\"\"\"\n",
    "T(n)=nlog(n)+O(n)\n",
    "\"\"\"\n",
    "\n"
   ]
  }
 ],
 "metadata": {
  "kernelspec": {
   "display_name": "Python (ml_kernel)",
   "language": "python",
   "name": "your_env_name"
  },
  "language_info": {
   "codemirror_mode": {
    "name": "ipython",
    "version": 3
   },
   "file_extension": ".py",
   "mimetype": "text/x-python",
   "name": "python",
   "nbconvert_exporter": "python",
   "pygments_lexer": "ipython3",
   "version": "3.8.0"
  }
 },
 "nbformat": 4,
 "nbformat_minor": 5
}
