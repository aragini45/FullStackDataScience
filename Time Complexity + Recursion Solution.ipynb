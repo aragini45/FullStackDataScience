{
 "cells": [
  {
   "cell_type": "markdown",
   "id": "530f7e6f",
   "metadata": {},
   "source": [
    "# Find time complexity of below code blocks :"
   ]
  },
  {
   "cell_type": "code",
   "execution_count": 4,
   "id": "e8ef0247",
   "metadata": {},
   "outputs": [],
   "source": [
    "# Problem 1 :\n",
    "# def quicksort(arr):\n",
    "# if len(arr) <= 1:\n",
    "# return arr\n",
    "# pivot = arr[len(arr) // 2]\n",
    "# left = [x for x in arr if x < pivot]\n",
    "# middle = [x for x in arr if x == pivot]\n",
    "# right = [x for x in arr if x > pivot]\n",
    "# return quicksort(left) + middle + quicksort(right)"
   ]
  },
  {
   "cell_type": "code",
   "execution_count": 5,
   "id": "41a4b0a0",
   "metadata": {},
   "outputs": [],
   "source": [
    "# Answer 1\n",
    "# Best and Average Case Time Complexity: O(nlogn)\n",
    "# Worst Case Time Complexity: O(n^2)"
   ]
  },
  {
   "cell_type": "code",
   "execution_count": null,
   "id": "acb61fd2",
   "metadata": {},
   "outputs": [],
   "source": [
    "# Problem 2 :\n",
    "# def nested_loop_example(matrix):\n",
    "# rows, cols = len(matrix), len(matrix[0])\n",
    "# total = 0\n",
    "# for i in range(rows):\n",
    "# for j in range(cols):\n",
    "# total += matrix[i][j]\n",
    "# return total"
   ]
  },
  {
   "cell_type": "code",
   "execution_count": 9,
   "id": "257bb8c3",
   "metadata": {},
   "outputs": [],
   "source": [
    "# Answer 2\n",
    "# Time Complexity: O(rows×cols) or O(n×m) , where n and m are the number of rows and columns, respectively.\n"
   ]
  },
  {
   "cell_type": "code",
   "execution_count": null,
   "id": "eeccfd8a",
   "metadata": {},
   "outputs": [],
   "source": [
    "# Problem 3 :\n",
    "# def example_function(arr):\n",
    "# result = 0\n",
    "# for element in arr:\n",
    "# result += element\n",
    "# return result"
   ]
  },
  {
   "cell_type": "code",
   "execution_count": 10,
   "id": "4460b6ba",
   "metadata": {},
   "outputs": [],
   "source": [
    "# Answer 3\n",
    "# Time Complexity: O(n) , where n is the length of arr."
   ]
  },
  {
   "cell_type": "code",
   "execution_count": 6,
   "id": "d4171e17",
   "metadata": {},
   "outputs": [],
   "source": [
    "# Problem 4 :\n",
    "# def longest_increasing_subsequence(nums):\n",
    "# n = len(nums)\n",
    "# lis = [1] * n\n",
    "# for i in range(1, n):\n",
    "# for j in range(0, i):\n",
    "# if nums[i] > nums[j] and lis[i] < lis[j] + 1:\n",
    "# lis[i] = lis[j] + 1\n",
    "# return max(lis)"
   ]
  },
  {
   "cell_type": "code",
   "execution_count": null,
   "id": "c9254eb6",
   "metadata": {},
   "outputs": [],
   "source": [
    "# Answer 4\n",
    "# Time Complexity: O(n^2) , where n is the length of nums."
   ]
  },
  {
   "cell_type": "code",
   "execution_count": 7,
   "id": "0b0d6482",
   "metadata": {},
   "outputs": [],
   "source": [
    "# Problem 5 :\n",
    "# def mysterious_function(arr):\n",
    "# n = len(arr)\n",
    "# result = 0\n",
    "# for i in range(n):\n",
    "# for j in range(i, n):\n",
    "# result += arr[i] * arr[j]\n",
    "# return result"
   ]
  },
  {
   "cell_type": "code",
   "execution_count": 8,
   "id": "e838fb53",
   "metadata": {},
   "outputs": [],
   "source": [
    "# Answer 5\n",
    "# Time Complexity: O(n^2) , where n is the length of arr."
   ]
  },
  {
   "cell_type": "code",
   "execution_count": null,
   "id": "04bee244",
   "metadata": {},
   "outputs": [],
   "source": []
  },
  {
   "cell_type": "code",
   "execution_count": null,
   "id": "50c8510f",
   "metadata": {},
   "outputs": [],
   "source": []
  },
  {
   "cell_type": "markdown",
   "id": "30fd2136",
   "metadata": {},
   "source": [
    "# Solve the following problems on recursion"
   ]
  },
  {
   "cell_type": "code",
   "execution_count": 12,
   "id": "f3b81917",
   "metadata": {},
   "outputs": [],
   "source": [
    "# Problem 6 : Sum of Digits\n",
    "# Write a recursive function to calculate the sum of digits of a given positive integer.\n",
    "# sum_of_digits(123) -> 6\n",
    "\n"
   ]
  },
  {
   "cell_type": "code",
   "execution_count": 21,
   "id": "3633b205",
   "metadata": {},
   "outputs": [
    {
     "name": "stdout",
     "output_type": "stream",
     "text": [
      "6\n"
     ]
    }
   ],
   "source": [
    "def sum_of_digits(n):\n",
    "    # Base case: if n is a single digit, return it\n",
    "    if n == 0:\n",
    "        return 0\n",
    "    # Recursive case: last digit + sum of remaining digits\n",
    "    return n % 10 + sum_of_digits(n // 10)\n",
    "\n",
    "# Example usage\n",
    "print(sum_of_digits(123))  # Output: 6\n"
   ]
  },
  {
   "cell_type": "code",
   "execution_count": 16,
   "id": "f14b7458",
   "metadata": {},
   "outputs": [],
   "source": [
    "# Problem 7: Fibonacci Series\n",
    "# Write a recursive function to generate the first n numbers of the Fibonacci series.\n",
    "# fibonacci_series(6) -> [0, 1, 1, 2, 3, 5]"
   ]
  },
  {
   "cell_type": "code",
   "execution_count": 24,
   "id": "03668393",
   "metadata": {},
   "outputs": [
    {
     "name": "stdout",
     "output_type": "stream",
     "text": [
      "[0, 1, 1, 2, 3, 5]\n"
     ]
    }
   ],
   "source": [
    "def fibonacci_series(n):\n",
    "    # Base cases: return the first n numbers of the series directly\n",
    "    if n <= 0:\n",
    "        return []\n",
    "    elif n == 1:\n",
    "        return [0]\n",
    "    elif n == 2:\n",
    "        return [0, 1]\n",
    "    \n",
    "    # Recursive case: generate the series up to the (n-1)th term and add the nth term\n",
    "    series = fibonacci_series(n - 1)\n",
    "    series.append(series[-1] + series[-2])\n",
    "    return series\n",
    "\n",
    "# Example usage\n",
    "print(fibonacci_series(6))  # Output: [0, 1, 1, 2, 3, 5]\n"
   ]
  },
  {
   "cell_type": "code",
   "execution_count": 18,
   "id": "cd1bb045",
   "metadata": {},
   "outputs": [],
   "source": [
    "# Problem 8 : Subset Sum\n",
    "# Given a set of positive integers and a target sum, write a recursive function to determine if there exists a subset\n",
    "# of the integers that adds up to the target sum.\n",
    "# subset_sum([3, 34, 4, 12, 5, 2], 9) -> True\n",
    "# Solve the following problems on recursion"
   ]
  },
  {
   "cell_type": "code",
   "execution_count": 23,
   "id": "2dccfaa6",
   "metadata": {},
   "outputs": [
    {
     "name": "stdout",
     "output_type": "stream",
     "text": [
      "True\n"
     ]
    }
   ],
   "source": [
    "def subset_sum(nums, target):\n",
    "    # Base case: if target is 0, we've found a subset\n",
    "    if target == 0:\n",
    "        return True\n",
    "    # Base case: if no elements left and target isn't met\n",
    "    if not nums:\n",
    "        return False\n",
    "    # Recursive case: include or exclude the current element\n",
    "    return subset_sum(nums[1:], target) or subset_sum(nums[1:], target - nums[0])\n",
    "\n",
    "# Example usage\n",
    "print(subset_sum([3, 34, 4, 12, 5, 2], 9))  # Output: True\n"
   ]
  },
  {
   "cell_type": "code",
   "execution_count": 19,
   "id": "e9895b69",
   "metadata": {},
   "outputs": [],
   "source": [
    "\n",
    "# Problem 9: Word Break\n",
    "# Given a non-empty string and a dictionary of words, write a recursive function to determine if the string can be\n",
    "# segmented into a space-separated sequence of dictionary words.\n",
    "# word_break( leetcode , [ leet , code ]) -> True"
   ]
  },
  {
   "cell_type": "code",
   "execution_count": 25,
   "id": "1ef07087",
   "metadata": {},
   "outputs": [
    {
     "name": "stdout",
     "output_type": "stream",
     "text": [
      "True\n"
     ]
    }
   ],
   "source": [
    "def word_break(s, word_dict):\n",
    "    # Base case: if the string is empty, we have a valid segmentation\n",
    "    if not s:\n",
    "        return True\n",
    "    # Try each possible prefix of `s`\n",
    "    for i in range(1, len(s) + 1):\n",
    "        prefix = s[:i]\n",
    "        # If prefix is in word_dict and remaining part can be segmented\n",
    "        if prefix in word_dict and word_break(s[i:], word_dict):\n",
    "            return True\n",
    "    return False\n",
    "\n",
    "# Example usage\n",
    "print(word_break(\"leetcode\", {\"leet\", \"code\"}))  # Output: True\n"
   ]
  },
  {
   "cell_type": "code",
   "execution_count": 20,
   "id": "c1062445",
   "metadata": {},
   "outputs": [],
   "source": [
    "# Problem 10 : N-Queens\n",
    "# Implement a recursive function to solve the N Queens problem, where you have to place N queens on an N×N\n",
    "# chessboard in such a way that no two queens threaten each other.\n",
    "# n_queens(4)\n",
    "# [\n",
    "# [\".Q..\",\n",
    "# \"...Q\",\n",
    "# \"Q...\",\n",
    "# \"..Q.\"],\n",
    "# [\"..Q.\",\n",
    "# \"Q...\",\n",
    "# \"...Q\",\n",
    "# \".Q..\"]\n",
    "# ]"
   ]
  },
  {
   "cell_type": "code",
   "execution_count": 27,
   "id": "eb8b59c5",
   "metadata": {},
   "outputs": [
    {
     "name": "stdout",
     "output_type": "stream",
     "text": [
      "[['.Q..', '...Q', 'Q...', '..Q.'], ['..Q.', 'Q...', '...Q', '.Q..']]\n"
     ]
    }
   ],
   "source": [
    "def n_queens(n):\n",
    "    solutions = []\n",
    "    \n",
    "    # Helper function to check if placing a queen at (row, col) is safe\n",
    "    def is_safe(board, row, col):\n",
    "        for i in range(row):\n",
    "            if board[i] == col or abs(board[i] - col) == abs(i - row):\n",
    "                return False\n",
    "        return True\n",
    "\n",
    "    # Recursive function to solve the problem\n",
    "    def solve(board, row):\n",
    "        if row == n:\n",
    "            # Format the board into the required output format\n",
    "            solutions.append([\".\" * c + \"Q\" + \".\" * (n - c - 1) for c in board])\n",
    "            return\n",
    "        for col in range(n):\n",
    "            if is_safe(board, row, col):\n",
    "                board[row] = col\n",
    "                solve(board, row + 1)\n",
    "                board[row] = -1\n",
    "\n",
    "    # Initialize the board and start the recursion\n",
    "    solve([-1] * n, 0)\n",
    "    return solutions\n",
    "\n",
    "# Example usage\n",
    "print(n_queens(4))\n"
   ]
  },
  {
   "cell_type": "code",
   "execution_count": null,
   "id": "b02b192f",
   "metadata": {},
   "outputs": [],
   "source": []
  }
 ],
 "metadata": {
  "kernelspec": {
   "display_name": "Python (ml_kernel)",
   "language": "python",
   "name": "your_env_name"
  },
  "language_info": {
   "codemirror_mode": {
    "name": "ipython",
    "version": 3
   },
   "file_extension": ".py",
   "mimetype": "text/x-python",
   "name": "python",
   "nbconvert_exporter": "python",
   "pygments_lexer": "ipython3",
   "version": "3.8.0"
  }
 },
 "nbformat": 4,
 "nbformat_minor": 5
}
