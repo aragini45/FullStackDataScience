{
 "cells": [
  {
   "cell_type": "markdown",
   "id": "305851b8",
   "metadata": {},
   "source": [
    "# Constructor"
   ]
  },
  {
   "cell_type": "code",
   "execution_count": 23,
   "id": "b62b91dc",
   "metadata": {},
   "outputs": [
    {
     "data": {
      "text/plain": [
       "'\\nPurpose: A constructor in Python is a special method used for initializing the attributes of a class when \\nan object is created. \\nIt is called automatically when an object is instantiated.\\nUsage: Constructors are defined using the __init__ method. The self parameter represents the \\ninstance of the class, and other parameters can be used to initialize the attributes.\\n'"
      ]
     },
     "execution_count": 23,
     "metadata": {},
     "output_type": "execute_result"
    }
   ],
   "source": [
    "# 1. What is a constructor in Python? Explain its purpose and usage.\n",
    "\n",
    "\n",
    "\"\"\"\n",
    "Purpose: A constructor in Python is a special method used for initializing the attributes of a class when \n",
    "an object is created. \n",
    "It is called automatically when an object is instantiated.\n",
    "Usage: Constructors are defined using the __init__ method. The self parameter represents the \n",
    "instance of the class, and other parameters can be used to initialize the attributes.\n",
    "\"\"\""
   ]
  },
  {
   "cell_type": "code",
   "execution_count": 24,
   "id": "75111234",
   "metadata": {},
   "outputs": [
    {
     "data": {
      "text/plain": [
       "'\\nParameterless Constructor: A constructor without any parameters is called a parameterless constructor. \\nIt initializes the attributes with default values or performs some default setup.\\nParameterized Constructor: A constructor with parameters is called a parameterized constructor. \\nIt takes input parameters and initializes the attributes with the provided values.\\n\\n'"
      ]
     },
     "execution_count": 24,
     "metadata": {},
     "output_type": "execute_result"
    }
   ],
   "source": [
    "# 2. Differentiate between a parameterless constructor and a parameterized constructor in Python.\n",
    "\"\"\"\n",
    "Parameterless Constructor: A constructor without any parameters is called a parameterless constructor. \n",
    "It initializes the attributes with default values or performs some default setup.\n",
    "Parameterized Constructor: A constructor with parameters is called a parameterized constructor. \n",
    "It takes input parameters and initializes the attributes with the provided values.\n",
    "\n",
    "\"\"\"\n"
   ]
  },
  {
   "cell_type": "code",
   "execution_count": 25,
   "id": "af3f0e0d",
   "metadata": {},
   "outputs": [],
   "source": [
    "# 3. How do you define a constructor in a Python class? Provide an example.\n",
    "\n",
    "\n",
    "class MyClass:\n",
    "    def __init__(self):\n",
    "        # constructor code here\n",
    "        pass\n"
   ]
  },
  {
   "cell_type": "code",
   "execution_count": 26,
   "id": "dc331dee",
   "metadata": {},
   "outputs": [
    {
     "data": {
      "text/plain": [
       "'\\nThe __init__ method is a special method in Python classes used as a constructor.\\nIt is automatically called when an object is created from a class.\\nIt initializes the attributes and performs any necessary setup.\\n\\n'"
      ]
     },
     "execution_count": 26,
     "metadata": {},
     "output_type": "execute_result"
    }
   ],
   "source": [
    "# 4. Explain the `__init__` method in Python and its role in constructors.\n",
    "\n",
    "\"\"\"\n",
    "The __init__ method is a special method in Python classes used as a constructor.\n",
    "It is automatically called when an object is created from a class.\n",
    "It initializes the attributes and performs any necessary setup.\n",
    "\n",
    "\"\"\"\n"
   ]
  },
  {
   "cell_type": "code",
   "execution_count": 27,
   "id": "8d0f7357",
   "metadata": {},
   "outputs": [],
   "source": [
    "# 5. In a class named `Person`, create a constructor that initializes the `name` and `age` attributes. Provide an\n",
    "# example of creating an object of this class.\n",
    "\n",
    "class Person:\n",
    "    def __init__(self, name, age):\n",
    "        self.name = name\n",
    "        self.age = age\n",
    "\n",
    "# Creating an object of the class\n",
    "person1 = Person(\"Alice\", 25)\n"
   ]
  },
  {
   "cell_type": "code",
   "execution_count": 30,
   "id": "062e8089",
   "metadata": {},
   "outputs": [
    {
     "name": "stdout",
     "output_type": "stream",
     "text": [
      "Constructor called\n",
      "create new obj2\n",
      "Constructor called\n"
     ]
    }
   ],
   "source": [
    "# 6. How can you call a constructor explicitly in Python? Give an example.\n",
    "\n",
    "\n",
    "\"\"\"\n",
    "Constructors are automatically called when an object is created, so explicit calls are uncommon. \n",
    "However, it can be called using the class name.\n",
    "\"\"\"\n",
    "\n",
    "class MyClass:\n",
    "    def __init__(self):\n",
    "        print(\"Constructor called\")\n",
    "\n",
    "# Explicitly calling the constructor\n",
    "obj = MyClass.__new__(MyClass)\n",
    "MyClass.__init__(obj)\n",
    "\n",
    "print(\"create new obj2\")\n",
    "obj2 = MyClass()"
   ]
  },
  {
   "cell_type": "code",
   "execution_count": 31,
   "id": "e1678242",
   "metadata": {},
   "outputs": [
    {
     "name": "stdout",
     "output_type": "stream",
     "text": [
      "10\n"
     ]
    }
   ],
   "source": [
    "# 7. What is the significance of the `self` parameter in Python constructors? Explain with an example.\n",
    "\n",
    "\"\"\"\n",
    "The self parameter refers to the instance of the class and is used to access the attributes and methods of the object.\n",
    "It must be the first parameter in the constructor and other methods.\n",
    "\n",
    "\"\"\"\n",
    "\n",
    "class MyClass:\n",
    "    def __init__(self, value):\n",
    "        self.value = value\n",
    "\n",
    "obj = MyClass(10)\n",
    "print(obj.value)  # Accessing the attribute using self\n"
   ]
  },
  {
   "cell_type": "code",
   "execution_count": 32,
   "id": "560c2f03",
   "metadata": {},
   "outputs": [
    {
     "data": {
      "text/plain": [
       "'\\nIn Python, if a class does not have a user-defined constructor, Python provides a default constructor.\\nThe default constructor initializes the object with no attributes.\\n'"
      ]
     },
     "execution_count": 32,
     "metadata": {},
     "output_type": "execute_result"
    }
   ],
   "source": [
    "# 8. Discuss the concept of default constructors in Python. When are they used?\n",
    "\n",
    "\"\"\"\n",
    "In Python, if a class does not have a user-defined constructor, Python provides a default constructor.\n",
    "The default constructor initializes the object with no attributes.\n",
    "\"\"\"\n",
    "\n",
    "\n"
   ]
  },
  {
   "cell_type": "code",
   "execution_count": 33,
   "id": "a0070038",
   "metadata": {},
   "outputs": [
    {
     "name": "stdout",
     "output_type": "stream",
     "text": [
      "Area of the rectangle: 50\n"
     ]
    }
   ],
   "source": [
    "# 9. Create a Python class called `Rectangle` with a constructor that initializes the `width` and `height`\n",
    "# attributes. Provide a method to calculate the area of the rectangle.\n",
    "\n",
    "class Rectangle:\n",
    "    def __init__(self, width, height):\n",
    "        self.width = width\n",
    "        self.height = height\n",
    "\n",
    "    def calculate_area(self):\n",
    "        return self.width * self.height\n",
    "\n",
    "# Creating an object of the class\n",
    "rect = Rectangle(5, 10)\n",
    "area = rect.calculate_area()\n",
    "print(f\"Area of the rectangle: {area}\")\n"
   ]
  },
  {
   "cell_type": "code",
   "execution_count": 34,
   "id": "1012acda",
   "metadata": {},
   "outputs": [],
   "source": [
    "# 10. How can you have multiple constructors in a Python class? Explain with an example.\n",
    "\n",
    "\n",
    "\"\"\"\n",
    "Python does not support multiple constructors like some other languages.\n",
    "However, you can achieve similar functionality by using default parameter values.\n",
    "\"\"\"\n",
    "\n",
    "class MyClass:\n",
    "    def __init__(self, param1=None, param2=None):\n",
    "        # constructor code here\n",
    "        pass\n"
   ]
  },
  {
   "cell_type": "code",
   "execution_count": 35,
   "id": "ecff9ff7",
   "metadata": {},
   "outputs": [
    {
     "data": {
      "text/plain": [
       "'\\nMethod overloading is the ability to define multiple methods with the same name but different parameters.\\nPython does not support traditional method overloading.\\nConstructor overloading is achieved by using default values for parameters.\\n'"
      ]
     },
     "execution_count": 35,
     "metadata": {},
     "output_type": "execute_result"
    }
   ],
   "source": [
    "# 11. What is method overloading, and how is it related to constructors in Python?\n",
    "\n",
    "\"\"\"\n",
    "Method overloading is the ability to define multiple methods with the same name but different parameters.\n",
    "Python does not support traditional method overloading.\n",
    "Constructor overloading is achieved by using default values for parameters.\n",
    "\"\"\"\n"
   ]
  },
  {
   "cell_type": "code",
   "execution_count": 39,
   "id": "606eed0d",
   "metadata": {},
   "outputs": [
    {
     "name": "stdout",
     "output_type": "stream",
     "text": [
      "in Parent 10\n",
      "in Child 20\n"
     ]
    }
   ],
   "source": [
    "# 12. Explain the use of the `super()` function in Python constructors. Provide an example.\n",
    "\n",
    "\"\"\"\n",
    "The super() function is used to call a method from the parent class.\n",
    "It is commonly used in the constructor to call the constructor of the parent class.\n",
    "\n",
    "\"\"\"\n",
    "class Parent:\n",
    "    def __init__(self, x):\n",
    "        self.x = x\n",
    "        print(\"in Parent\", self.x)\n",
    "        \n",
    "class Child(Parent):\n",
    "    def __init__(self, x, y):\n",
    "        super().__init__(x)  # calling the constructor of the parent class\n",
    "        self.y = y\n",
    "        print(\"in Child\", self.y)\n",
    "        \n",
    "obj = Child(10, 20)\n"
   ]
  },
  {
   "cell_type": "code",
   "execution_count": 40,
   "id": "2c01cd11",
   "metadata": {},
   "outputs": [
    {
     "name": "stdout",
     "output_type": "stream",
     "text": [
      "Title: The Great Gatsby\n",
      "Author: F. Scott Fitzgerald\n",
      "Published Year: 1925\n"
     ]
    }
   ],
   "source": [
    "# 13. Create a class called `Book` with a constructor that initializes the `title`, `author`, and `published_year`\n",
    "# attributes. Provide a method to display book details.\n",
    "\n",
    "\n",
    "class Book:\n",
    "    def __init__(self, title, author, published_year):\n",
    "        self.title = title\n",
    "        self.author = author\n",
    "        self.published_year = published_year\n",
    "\n",
    "    def display_details(self):\n",
    "        print(f\"Title: {self.title}\")\n",
    "        print(f\"Author: {self.author}\")\n",
    "        print(f\"Published Year: {self.published_year}\")\n",
    "\n",
    "# Creating an object of the class\n",
    "book1 = Book(\"The Great Gatsby\", \"F. Scott Fitzgerald\", 1925)\n",
    "\n",
    "# Displaying book details\n",
    "book1.display_details()\n"
   ]
  },
  {
   "cell_type": "code",
   "execution_count": 41,
   "id": "8da2e724",
   "metadata": {},
   "outputs": [
    {
     "name": "stdout",
     "output_type": "stream",
     "text": [
      "Hello World\n"
     ]
    }
   ],
   "source": [
    "# 14. Discuss the differences between constructors and regular methods in Python classes.\n",
    "\"\"\"\n",
    "Constructors and regular methods in Python classes serve different purposes and have distinct characteristics. Here are the key differences:\n",
    "\n",
    "1. Purpose:\n",
    "\n",
    "Constructor:\n",
    "Initializes the attributes of an object when it is created.\n",
    "Called automatically when an object is instantiated.\n",
    "Typically used for setting up initial values.\n",
    "\n",
    "Regular Method:\n",
    "Performs some action or operation on the object's data.\n",
    "Needs to be called explicitly on an object.\n",
    "Used for actions that are not part of the object's initialization.\n",
    "\n",
    "2.Name:\n",
    "\n",
    "Constructor:\n",
    "Named __init__ in Python.\n",
    "Automatically invoked when an object is created.\n",
    "\n",
    "Regular Method:\n",
    "Can have any name according to the programmer's choice.\n",
    "Needs to be called explicitly using the object.\n",
    "\n",
    "3. Invocation:\n",
    "\n",
    "Constructor:\n",
    "Invoked automatically when an object is created.\n",
    "No need to call it explicitly.\n",
    "\n",
    "Regular Method:\n",
    "Must be called explicitly using the object.\n",
    "\n",
    "4. Return Value:\n",
    "\n",
    "Constructor:\n",
    "Does not return any value explicitly.\n",
    "It initializes the object's attributes.\n",
    "\n",
    "Regular Method:\n",
    "Can return values as needed.\n",
    "\n",
    "5. Number of Parameters:\n",
    "\n",
    "Constructor:\n",
    "Takes self (the instance) and other parameters that are used to initialize attributes.\n",
    "\n",
    "Regular Method:\n",
    "Can take any number of parameters according to the method's functionality.\n",
    "\n",
    "6. Initialization:\n",
    "\n",
    "Constructor:\n",
    "Used for initializing attributes when an object is created.\n",
    "\n",
    "Regular Method:\n",
    "Used for performing actions or computations on the object's data.\n",
    "Here's an example illustrating the differences:\n",
    "\n",
    "\"\"\"\n",
    "class MyClass:\n",
    "    def __init__(self, attribute):\n",
    "        self.attribute = attribute  # Constructor\n",
    "\n",
    "    def regular_method(self, parameter):\n",
    "        return self.attribute + parameter  # Regular Method\n",
    "\n",
    "# Creating an object and invoking the constructor\n",
    "obj = MyClass(\"Hello\")\n",
    "\n",
    "# Invoking a regular method\n",
    "result = obj.regular_method(\" World\")\n",
    "print(result)\n",
    "\n"
   ]
  },
  {
   "cell_type": "code",
   "execution_count": 42,
   "id": "5fb372f7",
   "metadata": {},
   "outputs": [
    {
     "name": "stdout",
     "output_type": "stream",
     "text": [
      "42\n"
     ]
    },
    {
     "data": {
      "text/plain": [
       "'\\nIn this example, self.x is an instance variable, and it is used to store the value of the parameter x \\nwhen an object is created. The self parameter is used to reference the instance of the \\nclass and access its variables.\\n'"
      ]
     },
     "execution_count": 42,
     "metadata": {},
     "output_type": "execute_result"
    }
   ],
   "source": [
    "# 15. Explain the role of the `self` parameter in instance variable initialization within a constructor.\n",
    "\n",
    "\"\"\"\n",
    "In Python, the self parameter in a constructor refers to the instance of the class itself. \n",
    "It is a convention to use the name self, but you could use any name. The self parameter allows you to \n",
    "refer to the instance variables within the class, and it helps distinguish instance variables from local variables.\n",
    "\n",
    "Example:\n",
    "\"\"\"\n",
    "\n",
    "class MyClass:\n",
    "    def __init__(self, x):\n",
    "        self.x = x\n",
    "\n",
    "# Creating an object and invoking the constructor\n",
    "obj = MyClass(42)\n",
    "print(obj.x)  # Accessing the instance variable using 'self'\n",
    "\n",
    "\"\"\"\n",
    "In this example, self.x is an instance variable, and it is used to store the value of the parameter x \n",
    "when an object is created. The self parameter is used to reference the instance of the \n",
    "class and access its variables.\n",
    "\"\"\""
   ]
  },
  {
   "cell_type": "code",
   "execution_count": 45,
   "id": "1432b986",
   "metadata": {},
   "outputs": [
    {
     "data": {
      "text/plain": [
       "'\\nIn this example, the __new__ method is used to control the instantiation process. It checks whether an instance\\nalready exists (cls._instance), and if so, it raises an exception. \\nThis ensures that only one instance of the class can be created.\\n'"
      ]
     },
     "execution_count": 45,
     "metadata": {},
     "output_type": "execute_result"
    }
   ],
   "source": [
    "# 16. How do you prevent a class from having multiple instances by using constructors in Python? Provide an\n",
    "# example.\n",
    "\n",
    "\"\"\"\n",
    "To prevent a class from having multiple instances, you can raise an exception if an instance already exists. \n",
    "This is often implemented using a class variable to track whether an instance has been created.\n",
    "\"\"\"\n",
    "class Singleton:\n",
    "    _instance = None\n",
    "\n",
    "    def __new__(cls):\n",
    "        if cls._instance is not None:\n",
    "            raise Exception(\"An instance already exists. Use the existing instance.\")\n",
    "        cls._instance = super().__new__(cls)\n",
    "        return cls._instance\n",
    "\n",
    "# Creating instances\n",
    "obj1 = Singleton()\n",
    "# obj2 = Singleton()  # This line would raise an exception\n",
    "\n",
    "\"\"\"\n",
    "In this example, the __new__ method is used to control the instantiation process. It checks whether an instance\n",
    "already exists (cls._instance), and if so, it raises an exception. \n",
    "This ensures that only one instance of the class can be created.\n",
    "\"\"\""
   ]
  },
  {
   "cell_type": "code",
   "execution_count": 46,
   "id": "c23bdb3c",
   "metadata": {},
   "outputs": [
    {
     "name": "stdout",
     "output_type": "stream",
     "text": [
      "['Math', 'Science', 'History']\n"
     ]
    }
   ],
   "source": [
    "\n",
    "# 17. Create a Python class called `Student` with a constructor that takes a list of subjects as a parameter and\n",
    "# initializes the `subjects` attribute.\n",
    "\n",
    "\n",
    "class Student:\n",
    "    def __init__(self, subjects):\n",
    "        self.subjects = subjects\n",
    "\n",
    "# Creating an object of the Student class\n",
    "student_obj = Student([\"Math\", \"Science\", \"History\"])\n",
    "print(student_obj.subjects)\n"
   ]
  },
  {
   "cell_type": "code",
   "execution_count": 47,
   "id": "df7931e9",
   "metadata": {},
   "outputs": [
    {
     "data": {
      "text/plain": [
       "\"\\nThe __del__ method in Python is called when an object is about to be destroyed.\\nIt is often used for cleaning up resources or performing other finalization tasks. \\nHowever, its usage is not recommended, and it's often better to use other mechanisms like context managers \\n(with statement).\\n\""
      ]
     },
     "execution_count": 47,
     "metadata": {},
     "output_type": "execute_result"
    }
   ],
   "source": [
    "\n",
    "# 18. What is the purpose of the `__del__` method in Python classes, and how does it relate to constructors?\n",
    "\n",
    "\"\"\"\n",
    "The __del__ method in Python is called when an object is about to be destroyed.\n",
    "It is often used for cleaning up resources or performing other finalization tasks. \n",
    "However, its usage is not recommended, and it's often better to use other mechanisms like context managers \n",
    "(with statement).\n",
    "\"\"\"\n"
   ]
  },
  {
   "cell_type": "code",
   "execution_count": 49,
   "id": "407957ef",
   "metadata": {},
   "outputs": [
    {
     "name": "stdout",
     "output_type": "stream",
     "text": [
      "Alice 10\n"
     ]
    }
   ],
   "source": [
    "# 19. Explain the use of constructor chaining in Python. Provide a practical example.\n",
    "\n",
    "\n",
    "'''\n",
    "Constructor chaining refers to calling one constructor from another within the same class. \n",
    "This can be achieved using super() to call the constructor of the parent class.\n",
    "'''\n",
    "\n",
    "class Parent:\n",
    "    def __init__(self, name):\n",
    "        self.name = name\n",
    "\n",
    "class Child(Parent):\n",
    "    def __init__(self, name, age):\n",
    "        super().__init__(name)  # Calling the constructor of the parent class\n",
    "        self.age = age\n",
    "\n",
    "# Creating an object of the Child class\n",
    "child_obj = Child(\"Alice\", 10)\n",
    "print(child_obj.name, child_obj.age)\n"
   ]
  },
  {
   "cell_type": "code",
   "execution_count": 50,
   "id": "176904ca",
   "metadata": {},
   "outputs": [
    {
     "name": "stdout",
     "output_type": "stream",
     "text": [
      "Car Information: Toyota Camry\n"
     ]
    }
   ],
   "source": [
    "# 20. Create a Python class called `Car` with a default constructor that initializes the `make` and `model`\n",
    "# attributes. Provide a method to display car information.\n",
    "\n",
    "class Car:\n",
    "    def __init__(self, make, model):\n",
    "        self.make = make\n",
    "        self.model = model\n",
    "\n",
    "    def display_info(self):\n",
    "        print(f\"Car Information: {self.make} {self.model}\")\n",
    "\n",
    "# Creating an object of the Car class\n",
    "car_obj = Car(\"Toyota\", \"Camry\")\n",
    "car_obj.display_info()\n"
   ]
  },
  {
   "cell_type": "markdown",
   "id": "7067a48e",
   "metadata": {},
   "source": [
    "# Inheritance"
   ]
  },
  {
   "cell_type": "code",
   "execution_count": 82,
   "id": "5271f627",
   "metadata": {},
   "outputs": [
    {
     "data": {
      "text/plain": [
       "'\\nInheritance is a fundamental concept in object-oriented programming (OOP) that allows a new class\\n(subclass or derived class) to inherit the properties and behaviors (attributes and methods) of an existing \\nclass (base class or parent class). Inheritance promotes code reusability and establishes a relationship between \\nclasses, forming a hierarchy.\\n'"
      ]
     },
     "execution_count": 82,
     "metadata": {},
     "output_type": "execute_result"
    }
   ],
   "source": [
    "# 1. What is inheritance in Python? Explain its significance in object-oriented programming.\n",
    "\n",
    "\"\"\"\n",
    "Inheritance is a fundamental concept in object-oriented programming (OOP) that allows a new class\n",
    "(subclass or derived class) to inherit the properties and behaviors (attributes and methods) of an existing \n",
    "class (base class or parent class). Inheritance promotes code reusability and establishes a relationship between \n",
    "classes, forming a hierarchy.\n",
    "\"\"\"\n"
   ]
  },
  {
   "cell_type": "code",
   "execution_count": 84,
   "id": "5af4fc8c",
   "metadata": {},
   "outputs": [
    {
     "name": "stdout",
     "output_type": "stream",
     "text": [
      "Animal speaks\n",
      "Dog barks\n",
      "Can fly\n",
      "Can swim\n"
     ]
    }
   ],
   "source": [
    "# 2. Differentiate between single inheritance and multiple inheritance in Python. Provide examples for each.\n",
    "\n",
    "\"\"\"\n",
    "Single Inheritance:\n",
    "Single inheritance occurs when a class inherits from only one base class. \n",
    "The derived class inherits the attributes and methods of the single parent class.\n",
    "\"\"\"\n",
    "\n",
    "class Animal:\n",
    "    def speak(self):\n",
    "        print(\"Animal speaks\")\n",
    "\n",
    "class Dog(Animal):\n",
    "    def bark(self):\n",
    "        print(\"Dog barks\")\n",
    "\n",
    "# Creating an object of Dog class\n",
    "my_dog = Dog()\n",
    "my_dog.speak()  # Inherits 'speak' method from Animal class\n",
    "my_dog.bark()\n",
    "\n",
    "\n",
    "\n",
    "\"\"\"\n",
    "Multiple inheritance occurs when a class inherits from more than one base class. \n",
    "The derived class inherits attributes and methods from all the parent classes.\n",
    "\"\"\"\n",
    "\n",
    "class Flyable:\n",
    "    def fly(self):\n",
    "        print(\"Can fly\")\n",
    "\n",
    "class Swimmable:\n",
    "    def swim(self):\n",
    "        print(\"Can swim\")\n",
    "\n",
    "class FlyingFish(Flyable, Swimmable):\n",
    "    pass\n",
    "\n",
    "# Creating an object of FlyingFish class\n",
    "fish = FlyingFish()\n",
    "fish.fly()\n",
    "fish.swim()\n"
   ]
  },
  {
   "cell_type": "code",
   "execution_count": 85,
   "id": "78ddd270",
   "metadata": {},
   "outputs": [
    {
     "name": "stdout",
     "output_type": "stream",
     "text": [
      "Color: Red, Speed: 60, Brand: Toyota\n"
     ]
    }
   ],
   "source": [
    "# 3. Create a Python class called `Vehicle` with attributes `color` and `speed`. Then, create a child class called\n",
    "# `Car` that inherits from `Vehicle` and adds a `brand` attribute. Provide an example of creating a `Car` object.\n",
    "\n",
    "\n",
    "class Vehicle:\n",
    "    def __init__(self, color, speed):\n",
    "        self.color = color\n",
    "        self.speed = speed\n",
    "\n",
    "class Car(Vehicle):\n",
    "    def __init__(self, color, speed, brand):\n",
    "        super().__init__(color, speed)\n",
    "        self.brand = brand\n",
    "\n",
    "# Creating a Car object\n",
    "my_car = Car(\"Red\", 60, \"Toyota\")\n",
    "print(f\"Color: {my_car.color}, Speed: {my_car.speed}, Brand: {my_car.brand}\")\n"
   ]
  },
  {
   "cell_type": "code",
   "execution_count": 86,
   "id": "a79496f0",
   "metadata": {},
   "outputs": [
    {
     "name": "stdout",
     "output_type": "stream",
     "text": [
      "Dog barks\n"
     ]
    }
   ],
   "source": [
    "# 4. Explain the concept of method overriding in inheritance. Provide a practical example.\n",
    "\n",
    "\"\"\"\n",
    "Method overriding occurs when a child class provides a specific implementation for a method that is already\n",
    "defined in its parent class.\n",
    "\"\"\"\n",
    "\n",
    "class Animal:\n",
    "    def speak(self):\n",
    "        print(\"Animal speaks\")\n",
    "\n",
    "class Dog(Animal):\n",
    "    def speak(self):\n",
    "        print(\"Dog barks\")\n",
    "\n",
    "# Creating a Dog object\n",
    "my_dog = Dog()\n",
    "my_dog.speak()  # Overrides 'speak' method from Animal class\n"
   ]
  },
  {
   "cell_type": "code",
   "execution_count": 87,
   "id": "181adf4c",
   "metadata": {},
   "outputs": [
    {
     "name": "stdout",
     "output_type": "stream",
     "text": [
      "Information from Parent class\n",
      "Information from Child class\n"
     ]
    }
   ],
   "source": [
    "# 5. How can you access the methods and attributes of a parent class from a child class in Python? Give an\n",
    "# example.\n",
    "\n",
    "\"\"\"\n",
    "In Python, the super() function is used to access methods and attributes of the parent class from within\n",
    "the child class.\n",
    "\"\"\"\n",
    "\n",
    "class Parent:\n",
    "    def show_info(self):\n",
    "        print(\"Information from Parent class\")\n",
    "\n",
    "class Child(Parent):\n",
    "    def show_info(self):\n",
    "        super().show_info()  # Calls 'show_info' method from Parent class\n",
    "        print(\"Information from Child class\")\n",
    "\n",
    "# Creating a Child object\n",
    "child_obj = Child()\n",
    "child_obj.show_info()\n"
   ]
  },
  {
   "cell_type": "code",
   "execution_count": 88,
   "id": "a247e2b3",
   "metadata": {},
   "outputs": [
    {
     "name": "stdout",
     "output_type": "stream",
     "text": [
      "Information from Parent class\n",
      "Information from Child class\n"
     ]
    }
   ],
   "source": [
    "# 6. Discuss the use of the `super()` function in Python inheritance. When and why is it used? Provide an\n",
    "# example.\n",
    "\n",
    "\"\"\"\n",
    "\n",
    "The super() function is used in Python inheritance to call a method from the parent class, allowing the \n",
    "child class to extend or modify the behavior of that method. \n",
    "It is often used in the context of method overriding to invoke the overridden method from the parent class.\n",
    "\"\"\"\n",
    "\n",
    "class Parent:\n",
    "    def show_info(self):\n",
    "        print(\"Information from Parent class\")\n",
    "\n",
    "class Child(Parent):\n",
    "    def show_info(self):\n",
    "        super().show_info()  # Calls 'show_info' method from Parent class\n",
    "        print(\"Information from Child class\")\n",
    "\n",
    "# Creating a Child object\n",
    "child_obj = Child()\n",
    "child_obj.show_info()\n"
   ]
  },
  {
   "cell_type": "code",
   "execution_count": 89,
   "id": "a2a44c99",
   "metadata": {},
   "outputs": [
    {
     "name": "stdout",
     "output_type": "stream",
     "text": [
      "Animal speaks\n",
      "Dog barks\n",
      "Cat meows\n"
     ]
    }
   ],
   "source": [
    "# 7. Create a Python class called `Animal` with a method `speak()`. Then, create child classes `Dog` and `Cat` that inherit from `Animal` and override the `speak()` method. Provide an example of using these classes.\n",
    "class Animal:\n",
    "    def speak(self):\n",
    "        print(\"Animal speaks\")\n",
    "\n",
    "class Dog(Animal):\n",
    "    def speak(self):\n",
    "        print(\"Dog barks\")\n",
    "\n",
    "class Cat(Animal):\n",
    "    def speak(self):\n",
    "        print(\"Cat meows\")\n",
    "\n",
    "# Creating object of Aninal class\n",
    "animal = Animal()\n",
    "animal.speak()\n",
    "        \n",
    "# Creating objects of Dog and Cat classes\n",
    "dog_obj = Dog()\n",
    "cat_obj = Cat()\n",
    "\n",
    "dog_obj.speak()  # Overrides 'speak' method from Animal class\n",
    "cat_obj.speak()  # Overrides 'speak' method from Animal class\n",
    "\n",
    "\n"
   ]
  },
  {
   "cell_type": "code",
   "execution_count": 90,
   "id": "5ad58dec",
   "metadata": {},
   "outputs": [
    {
     "name": "stdout",
     "output_type": "stream",
     "text": [
      "dog_obj is an instance of Dog class\n"
     ]
    }
   ],
   "source": [
    "# 8. Explain the role of the `isinstance()` function in Python and how it relates to inheritance.\n",
    "\n",
    "\"\"\"\n",
    "The isinstance() function is used to check if an object is an instance of a specified class or a tuple of classes. \n",
    "It returns True if the object is an instance of any of the specified classes; otherwise, it returns False.\n",
    "\"\"\"\n",
    "\n",
    "# Checking if 'dog_obj' is an instance of Dog class\n",
    "if isinstance(dog_obj, Dog):\n",
    "    print(\"dog_obj is an instance of Dog class\")\n"
   ]
  },
  {
   "cell_type": "code",
   "execution_count": 91,
   "id": "a16439a0",
   "metadata": {},
   "outputs": [
    {
     "name": "stdout",
     "output_type": "stream",
     "text": [
      "Dog class is a subclass of Animal class\n"
     ]
    }
   ],
   "source": [
    "# 9. What is the purpose of the `issubclass()` function in Python? Provide an example.\n",
    "\n",
    "\"\"\"\n",
    "The issubclass() function is used to check if a class is a subclass of a specified class. \n",
    "It returns True if the first class is a subclass of the second class; otherwise, it returns False.\n",
    "\"\"\"\n",
    "\n",
    "# Checking if Dog class is a subclass of Animal class\n",
    "if issubclass(Dog, Animal):\n",
    "    print(\"Dog class is a subclass of Animal class\")\n"
   ]
  },
  {
   "cell_type": "code",
   "execution_count": 92,
   "id": "d39ff377",
   "metadata": {},
   "outputs": [
    {
     "name": "stdout",
     "output_type": "stream",
     "text": [
      "Name: John, Age: 25\n"
     ]
    }
   ],
   "source": [
    "# 10. Discuss the concept of constructor inheritance in Python. How are constructors inherited in child classes?\n",
    "\"\"\"\n",
    "Constructors in Python are inherited in child classes, and the super() function is commonly used to \n",
    "invoke the constructor of the parent class.\n",
    "\"\"\"\n",
    "class Parent:\n",
    "    def __init__(self, name):\n",
    "        self.name = name\n",
    "\n",
    "class Child(Parent):\n",
    "    def __init__(self, name, age):\n",
    "        super().__init__(name)  # Calls the constructor of the Parent class\n",
    "        self.age = age\n",
    "\n",
    "# Creating a Child object\n",
    "child_obj = Child(\"John\", 25)\n",
    "print(f\"Name: {child_obj.name}, Age: {child_obj.age}\")\n"
   ]
  },
  {
   "cell_type": "code",
   "execution_count": 93,
   "id": "e11793b0",
   "metadata": {},
   "outputs": [
    {
     "name": "stdout",
     "output_type": "stream",
     "text": [
      "Circle Area: 78.5\n",
      "Rectangle Area: 24\n"
     ]
    }
   ],
   "source": [
    "# 11. Create a Python class called `Shape` with a method `area()` that calculates the area of a shape. Then, create child classes `Circle` and `Rectangle` that inherit from `Shape` and implement the `area()` method\n",
    "# accordingly. Provide an example.\n",
    "\n",
    "from abc import ABC, abstractmethod\n",
    "\n",
    "class Shape(ABC):\n",
    "    @abstractmethod\n",
    "    def area(self):\n",
    "        pass\n",
    "\n",
    "class Circle(Shape):\n",
    "    def __init__(self, radius):\n",
    "        self.radius = radius\n",
    "\n",
    "    def area(self):\n",
    "        return 3.14 * self.radius**2\n",
    "\n",
    "class Rectangle(Shape):\n",
    "    def __init__(self, length, width):\n",
    "        self.length = length\n",
    "        self.width = width\n",
    "\n",
    "    def area(self):\n",
    "        return self.length * self.width\n",
    "\n",
    "# Example usage\n",
    "circle_obj = Circle(5)\n",
    "rectangle_obj = Rectangle(4, 6)\n",
    "\n",
    "print(f\"Circle Area: {circle_obj.area()}\")\n",
    "print(f\"Rectangle Area: {rectangle_obj.area()}\")\n",
    "\n"
   ]
  },
  {
   "cell_type": "code",
   "execution_count": 96,
   "id": "99b7a562",
   "metadata": {},
   "outputs": [
    {
     "name": "stdout",
     "output_type": "stream",
     "text": [
      "Circle Area: 78.5\n"
     ]
    }
   ],
   "source": [
    "# 12. Explain the use of abstract base classes (ABCs) in Python and how they relate to inheritance. Provide an\n",
    "# example using the `abc` module.\n",
    "\n",
    "\"\"\"\n",
    "Abstract base classes are classes that cannot be instantiated and are meant to be subclassed. \n",
    "They can define abstract methods that must be implemented by concrete (non-abstract) subclasses.\n",
    "\n",
    "Example using the abc module:\n",
    "\"\"\"\n",
    "\n",
    "from abc import ABC, abstractmethod\n",
    "\n",
    "class Shape(ABC):\n",
    "    @abstractmethod\n",
    "    def area(self):\n",
    "        pass\n",
    "\n",
    "class Circle(Shape):\n",
    "    def __init__(self, radius):\n",
    "        self.radius = radius\n",
    "\n",
    "    def area(self):\n",
    "        return 3.14 * self.radius**2\n",
    "\n",
    "# Creating an instance would raise TypeError since Shape is abstract\n",
    "# shape_obj = Shape()  # Uncommenting this line would result in an error\n",
    "\n",
    "circle_obj = Circle(5)\n",
    "print(f\"Circle Area: {circle_obj.area()}\")\n"
   ]
  },
  {
   "cell_type": "code",
   "execution_count": 99,
   "id": "d7512a11",
   "metadata": {},
   "outputs": [
    {
     "name": "stdout",
     "output_type": "stream",
     "text": [
      "42\n"
     ]
    }
   ],
   "source": [
    "# 13. How can you prevent a child class from modifying certain attributes or methods inherited from a parent\n",
    "# class in Python?\n",
    "\n",
    "\"\"\"\n",
    "In Python, there is no strict enforcement of preventing a child class from modifying attributes or methods \n",
    "inherited from a parent class. However, you can achieve a level of protection by using name mangling \n",
    "(prefixing with double underscores) for certain attributes in the parent class.\n",
    "\"\"\"\n",
    "\n",
    "class Parent:\n",
    "    def __init__(self):\n",
    "        self.__protected_attribute = 42\n",
    "\n",
    "class Child(Parent):\n",
    "    def modify_protected_attribute(self, new_value):\n",
    "        self.__protected_attribute = new_value\n",
    "\n",
    "# Example usage\n",
    "parent_obj = Parent()\n",
    "child_obj = Child()\n",
    "\n",
    "# Trying to access the protected attribute directly results in an AttributeError\n",
    "# print(parent_obj.__protected_attribute)  # Uncommenting this line would result in an error\n",
    "\n",
    "# Modifying the protected attribute using a method\n",
    "child_obj.modify_protected_attribute(99)\n",
    "print(child_obj._Parent__protected_attribute)  # Accessing the modified attribute using name mangling\n"
   ]
  },
  {
   "cell_type": "code",
   "execution_count": 100,
   "id": "a4eead84",
   "metadata": {},
   "outputs": [
    {
     "name": "stdout",
     "output_type": "stream",
     "text": [
      "Manager: John, Salary: 50000, Department: HR\n"
     ]
    }
   ],
   "source": [
    "# 14. Create a Python class called `Employee` with attributes `name` and `salary`. Then, create a child class\n",
    "# `Manager` that inherits from `Employee` and adds an attribute `department`. Provide an example.\n",
    "\n",
    "class Employee:\n",
    "    def __init__(self, name, salary):\n",
    "        self.name = name\n",
    "        self.salary = salary\n",
    "\n",
    "class Manager(Employee):\n",
    "    def __init__(self, name, salary, department):\n",
    "        super().__init__(name, salary)\n",
    "        self.department = department\n",
    "\n",
    "# Example usage\n",
    "manager_obj = Manager(\"John\", 50000, \"HR\")\n",
    "print(f\"Manager: {manager_obj.name}, Salary: {manager_obj.salary}, Department: {manager_obj.department}\")\n"
   ]
  },
  {
   "cell_type": "code",
   "execution_count": 102,
   "id": "9f283b17",
   "metadata": {},
   "outputs": [
    {
     "name": "stdout",
     "output_type": "stream",
     "text": [
      "5\n",
      "15\n"
     ]
    },
    {
     "data": {
      "text/plain": [
       "'\\nMethod overriding, on the other hand, involves providing a specific implementation for a method \\nin a child class that is already defined in the parent class.'"
      ]
     },
     "execution_count": 102,
     "metadata": {},
     "output_type": "execute_result"
    }
   ],
   "source": [
    "# 15. Discuss the concept of method overloading in Python inheritance. How does it differ from method\n",
    "# overriding?\n",
    "\"\"\"\n",
    "Method overloading in Python involves defining multiple methods with the same name in a class, \n",
    "but with different parameter signatures. Python doesn't support traditional method overloading like some other \n",
    "languages, but you can achieve a similar effect using default parameter values or variable-length argument lists.\n",
    "\"\"\"\n",
    "class Example:\n",
    "    def overloaded_method(self, arg1, arg2=None):\n",
    "        if arg2 is not None:\n",
    "            # Handle case with two arguments\n",
    "            return arg1 + arg2\n",
    "        else:\n",
    "            # Handle case with one argument\n",
    "            return arg1\n",
    "\n",
    "# Example usage\n",
    "example_obj = Example()\n",
    "print(example_obj.overloaded_method(5))        # Output: 5\n",
    "print(example_obj.overloaded_method(5, 10))    # Output: 15\n",
    "\n",
    "\"\"\"\n",
    "Method overriding, on the other hand, involves providing a specific implementation for a method \n",
    "in a child class that is already defined in the parent class.\"\"\""
   ]
  },
  {
   "cell_type": "code",
   "execution_count": 103,
   "id": "4cadc8a7",
   "metadata": {},
   "outputs": [
    {
     "data": {
      "text/plain": [
       "'\\nThe __init__() method in Python is used for initializing the attributes of an object. \\nIn inheritance, the __init__() method of the base class is often called implicitly when creating an object \\nof the derived class using the super() function. It allows the child class to initialize its specific attributes while still benefiting from the initialization of the base class attributes.\\n'"
      ]
     },
     "execution_count": 103,
     "metadata": {},
     "output_type": "execute_result"
    }
   ],
   "source": [
    "# 16. Explain the purpose of the `__init__()` method in Python inheritance and how it is utilized in child classes.\n",
    "\"\"\"\n",
    "The __init__() method in Python is used for initializing the attributes of an object. \n",
    "In inheritance, the __init__() method of the base class is often called implicitly when creating an object \n",
    "of the derived class using the super() function. It allows the child class to initialize its specific attributes while still benefiting from the initialization of the base class attributes.\n",
    "\"\"\""
   ]
  },
  {
   "cell_type": "code",
   "execution_count": 104,
   "id": "c7d37289",
   "metadata": {},
   "outputs": [
    {
     "name": "stdout",
     "output_type": "stream",
     "text": [
      "Eagle soars high in the sky\n",
      "Sparrow flies close to the ground\n"
     ]
    }
   ],
   "source": [
    "# 17. Create a Python class called `Bird` with a method `fly()`. Then, create child classes `Eagle` and `Sparrow` that inherit from `Bird` and implement the `fly()` method differently. Provide an example of using these\n",
    "# classes.\n",
    "\n",
    "\n",
    "class Bird:\n",
    "    def fly(self):\n",
    "        print(\"Bird can fly\")\n",
    "\n",
    "class Eagle(Bird):\n",
    "    def fly(self):\n",
    "        print(\"Eagle soars high in the sky\")\n",
    "\n",
    "class Sparrow(Bird):\n",
    "    def fly(self):\n",
    "        print(\"Sparrow flies close to the ground\")\n",
    "\n",
    "# Example usage\n",
    "eagle_obj = Eagle()\n",
    "sparrow_obj = Sparrow()\n",
    "\n",
    "eagle_obj.fly()    # Output: Eagle soars high in the sky\n",
    "sparrow_obj.fly()  # Output: Sparrow flies close to the ground\n",
    "\n"
   ]
  },
  {
   "cell_type": "code",
   "execution_count": 105,
   "id": "716458e8",
   "metadata": {},
   "outputs": [
    {
     "data": {
      "text/plain": [
       "'\\nThe \"diamond problem\" occurs in languages that support multiple inheritance when a class inherits from two \\nclasses that have a common ancestor. It can lead to ambiguity when calling methods or accessing attributes from \\nthe common ancestor. Python addresses this problem by using a method resolution order (MRO) algorithm, \\nwhich determines the order in which base classes are considered.\\n'"
      ]
     },
     "execution_count": 105,
     "metadata": {},
     "output_type": "execute_result"
    }
   ],
   "source": [
    "# 18. What is the \"diamond problem\" in multiple inheritance, and how does Python address it?\n",
    "\n",
    "\"\"\"\n",
    "The \"diamond problem\" occurs in languages that support multiple inheritance when a class inherits from two \n",
    "classes that have a common ancestor. It can lead to ambiguity when calling methods or accessing attributes from \n",
    "the common ancestor. Python addresses this problem by using a method resolution order (MRO) algorithm, \n",
    "which determines the order in which base classes are considered.\n",
    "\"\"\"\n"
   ]
  },
  {
   "cell_type": "code",
   "execution_count": 107,
   "id": "09a7bf32",
   "metadata": {},
   "outputs": [],
   "source": [
    "# 19. Discuss the concept of \"is-a\" and \"has-a\" relationships in inheritance, and provide examples of each.\n",
    "\n",
    "\"\"\"\n",
    "is-a\" relationship: It signifies inheritance, where a child class is a specialized version of the base class.\n",
    "Example:\n",
    "\"\"\"\n",
    "class Animal:\n",
    "    pass\n",
    "\n",
    "class Mammal(Animal):\n",
    "    pass\n",
    "\n",
    "\"\"\"\n",
    "\"has-a\" relationship: It signifies composition, where a class contains an object of another class.\n",
    "Example:\n",
    "\"\"\"\n",
    "\n",
    "class Car:\n",
    "    pass\n",
    "\n",
    "class Person:\n",
    "    def __init__(self, car):\n",
    "        self.car = car\n"
   ]
  },
  {
   "cell_type": "code",
   "execution_count": 108,
   "id": "45570f08",
   "metadata": {},
   "outputs": [
    {
     "name": "stdout",
     "output_type": "stream",
     "text": [
      "John S12345\n",
      "Dr. Smith P98765\n"
     ]
    }
   ],
   "source": [
    "# 20. Create a Python class hierarchy for a university system. Start with a base class `Person` and create child\n",
    "# classes `Student` and `Professor`, each with their own attributes and methods. Provide an example of using\n",
    "# these classes in a university context.\n",
    "\n",
    "class Person:\n",
    "    def __init__(self, name):\n",
    "        self.name = name\n",
    "\n",
    "class Student(Person):\n",
    "    def __init__(self, name, student_id):\n",
    "        super().__init__(name)\n",
    "        self.student_id = student_id\n",
    "\n",
    "class Professor(Person):\n",
    "    def __init__(self, name, employee_id):\n",
    "        super().__init__(name)\n",
    "        self.employee_id = employee_id\n",
    "\n",
    "# Example usage\n",
    "student_obj = Student(\"John\", \"S12345\")\n",
    "professor_obj = Professor(\"Dr. Smith\", \"P98765\")\n",
    "\n",
    "print(student_obj.name, student_obj.student_id)     # Output: John S12345\n",
    "print(professor_obj.name, professor_obj.employee_id)  # Output: Dr. Smith P98765\n",
    "\n"
   ]
  },
  {
   "cell_type": "markdown",
   "id": "9f992b40",
   "metadata": {},
   "source": [
    "# Encapsulation"
   ]
  },
  {
   "cell_type": "code",
   "execution_count": 129,
   "id": "6a515114",
   "metadata": {},
   "outputs": [
    {
     "data": {
      "text/plain": [
       "\"\\nEncapsulation is one of the fundamental principles of object-oriented programming (OOP) that involves bundling \\nthe data (attributes) and methods (functions) that operate on the data into a single unit known as a class. \\nIt provides a way to restrict access to some of the object's components and prevent the accidental modification of\\ndata, ensuring that the implementation details are hidden from the outside world.\\n\""
      ]
     },
     "execution_count": 129,
     "metadata": {},
     "output_type": "execute_result"
    }
   ],
   "source": [
    "# 1. Explain the concept of encapsulation in Python. What is its role in object-oriented programming?\n",
    "\n",
    "\"\"\"\n",
    "Encapsulation is one of the fundamental principles of object-oriented programming (OOP) that involves bundling \n",
    "the data (attributes) and methods (functions) that operate on the data into a single unit known as a class. \n",
    "It provides a way to restrict access to some of the object's components and prevent the accidental modification of\n",
    "data, ensuring that the implementation details are hidden from the outside world.\n",
    "\"\"\""
   ]
  },
  {
   "cell_type": "code",
   "execution_count": 131,
   "id": "181277b5",
   "metadata": {},
   "outputs": [
    {
     "data": {
      "text/plain": [
       "'\\nAccess Control: Restricts the access to certain components (attributes and methods) of a class.\\nData Hiding: Conceals the internal implementation details, exposing only what is necessary.\\n'"
      ]
     },
     "execution_count": 131,
     "metadata": {},
     "output_type": "execute_result"
    }
   ],
   "source": [
    "# 2. Describe the key principles of encapsulation, including access control and data hiding.\n",
    "\n",
    "\"\"\"\n",
    "Access Control: Restricts the access to certain components (attributes and methods) of a class.\n",
    "Data Hiding: Conceals the internal implementation details, exposing only what is necessary.\n",
    "\"\"\"\n"
   ]
  },
  {
   "cell_type": "code",
   "execution_count": 132,
   "id": "ae409324",
   "metadata": {},
   "outputs": [
    {
     "name": "stdout",
     "output_type": "stream",
     "text": [
      "I'm protected\n",
      "I'm private\n",
      "Updated private value\n"
     ]
    }
   ],
   "source": [
    "# 3. How can you achieve encapsulation in Python classes? Provide an example.\n",
    "\n",
    "\"\"\"\n",
    "Encapsulation in Python can be achieved by using access modifiers (public, private, protected) and methods to \n",
    "interact with the attributes. Here's an example:\n",
    "\"\"\"\n",
    "class EncapsulationExample:\n",
    "    def __init__(self):\n",
    "        self._protected_attribute = \"I'm protected\"\n",
    "        self.__private_attribute = \"I'm private\"\n",
    "\n",
    "    def get_private_attribute(self):\n",
    "        return self.__private_attribute\n",
    "\n",
    "    def set_private_attribute(self, value):\n",
    "        self.__private_attribute = value\n",
    "\n",
    "# Example usage\n",
    "obj = EncapsulationExample()\n",
    "print(obj._protected_attribute)  # Accessing protected attribute\n",
    "print(obj.get_private_attribute())  # Accessing private attribute\n",
    "obj.set_private_attribute(\"Updated private value\")  # Modifying private attribute\n",
    "print(obj.get_private_attribute())  # Accessing modified private attribute\n",
    "\n"
   ]
  },
  {
   "cell_type": "code",
   "execution_count": 133,
   "id": "f5b92740",
   "metadata": {},
   "outputs": [
    {
     "data": {
      "text/plain": [
       "'\\nPublic (default): Accessible from anywhere.\\nPrivate (__ prefix): Accessible only within the class.\\nProtected (_ prefix): Accessible within the class and its subclasses.\\n\\n'"
      ]
     },
     "execution_count": 133,
     "metadata": {},
     "output_type": "execute_result"
    }
   ],
   "source": [
    "# 4. Discuss the difference between public, private, and protected access modifiers in Python.\n",
    "\"\"\"\n",
    "Public (default): Accessible from anywhere.\n",
    "Private (__ prefix): Accessible only within the class.\n",
    "Protected (_ prefix): Accessible within the class and its subclasses.\n",
    "\n",
    "\"\"\""
   ]
  },
  {
   "cell_type": "code",
   "execution_count": 134,
   "id": "38a8e72f",
   "metadata": {},
   "outputs": [],
   "source": [
    "# 5. Create a Python class called `Person` with a private attribute `__name`. Provide methods to get and set the\n",
    "# name attribute.\n",
    "\n",
    "class Person:\n",
    "    def __init__(self, name):\n",
    "        self.__name = name\n",
    "\n",
    "    def get_name(self):\n",
    "        return self.__name\n",
    "\n",
    "    def set_name(self, name):\n",
    "        self.__name = name\n"
   ]
  },
  {
   "cell_type": "code",
   "execution_count": 135,
   "id": "5ac610d5",
   "metadata": {},
   "outputs": [],
   "source": [
    "# 6. Explain the purpose of getter and setter methods in encapsulation. Provide examples.\n",
    "\n",
    "\"\"\"\n",
    "Getter and setter methods are used to access and modify private attributes, providing controlled access:\n",
    "\"\"\"\n",
    "class Example:\n",
    "    def __init__(self):\n",
    "        self.__private_attribute = \"I'm private\"\n",
    "\n",
    "    def get_private_attribute(self):\n",
    "        return self.__private_attribute\n",
    "\n",
    "    def set_private_attribute(self, value):\n",
    "        self.__private_attribute = value\n"
   ]
  },
  {
   "cell_type": "code",
   "execution_count": 136,
   "id": "45eeffbc",
   "metadata": {},
   "outputs": [
    {
     "data": {
      "text/plain": [
       "'\\nName mangling adds a prefix _classname to the attribute names to make them less accessible from outside the class. \\nFor example, self.__private becomes self._EncapsulationExample__private.\\n'"
      ]
     },
     "execution_count": 136,
     "metadata": {},
     "output_type": "execute_result"
    }
   ],
   "source": [
    "# 7. What is name mangling in Python, and how does it affect encapsulation?\n",
    "\n",
    "\"\"\"\n",
    "Name mangling adds a prefix _classname to the attribute names to make them less accessible from outside the class. \n",
    "For example, self.__private becomes self._EncapsulationExample__private.\n",
    "\"\"\""
   ]
  },
  {
   "cell_type": "code",
   "execution_count": 137,
   "id": "d136c729",
   "metadata": {},
   "outputs": [],
   "source": [
    "# 8. Create a Python class called `BankAccount` with private attributes for the account balance (`__balance`) and account number (`__account_number`). Provide methods for depositing and withdrawing money.\n",
    "\n",
    "class BankAccount:\n",
    "    def __init__(self, account_number):\n",
    "        self.__balance = 0\n",
    "        self.__account_number = account_number\n",
    "\n",
    "    def deposit(self, amount):\n",
    "        self.__balance += amount\n",
    "\n",
    "    def withdraw(self, amount):\n",
    "        if amount <= self.__balance:\n",
    "            self.__balance -= amount\n",
    "        else:\n",
    "            print(\"Insufficient funds\")\n",
    "\n",
    "# Example usage\n",
    "account = BankAccount(\"12345\")\n",
    "account.deposit(1000)\n",
    "account.withdraw(500)\n",
    "\n"
   ]
  },
  {
   "cell_type": "code",
   "execution_count": 138,
   "id": "40d2f8e0",
   "metadata": {},
   "outputs": [
    {
     "data": {
      "text/plain": [
       "'\\nCode Maintainability: Changes in the internal implementation do not affect external code.\\nSecurity: Prevents unauthorized access and modification of data.\\n'"
      ]
     },
     "execution_count": 138,
     "metadata": {},
     "output_type": "execute_result"
    }
   ],
   "source": [
    "# 9. Discuss the advantages of encapsulation in terms of code maintainability and security.\n",
    "\n",
    "\"\"\"\n",
    "Code Maintainability: Changes in the internal implementation do not affect external code.\n",
    "Security: Prevents unauthorized access and modification of data.\n",
    "\"\"\"\n"
   ]
  },
  {
   "cell_type": "code",
   "execution_count": 139,
   "id": "feb6b604",
   "metadata": {},
   "outputs": [
    {
     "name": "stdout",
     "output_type": "stream",
     "text": [
      "I'm private\n",
      "I'm private\n",
      "Updated private value\n"
     ]
    }
   ],
   "source": [
    "# 10. How can you access private attributes in Python? Provide an example demonstrating the use of name\n",
    "# mangling.\n",
    "\n",
    "class Example:\n",
    "    def __init__(self):\n",
    "        self.__private_attribute = \"I'm private\"\n",
    "\n",
    "    def get_private_attribute(self):\n",
    "        return self.__private_attribute\n",
    "\n",
    "    def set_private_attribute(self, value):\n",
    "        self.__private_attribute = value\n",
    "\n",
    "# Create an instance of the class\n",
    "obj = Example()\n",
    "\n",
    "# Accessing private attribute using name mangling\n",
    "print(obj._Example__private_attribute)  # Output: I'm private\n",
    "\n",
    "# Using getter method to access private attribute\n",
    "print(obj.get_private_attribute())  # Output: I'm private\n",
    "\n",
    "# Using setter method to modify private attribute\n",
    "obj.set_private_attribute(\"Updated private value\")\n",
    "print(obj.get_private_attribute())  # Output: Updated private value\n"
   ]
  },
  {
   "cell_type": "code",
   "execution_count": 143,
   "id": "f818d20a",
   "metadata": {},
   "outputs": [
    {
     "name": "stdout",
     "output_type": "stream",
     "text": [
      "Alice\n",
      "50000\n",
      "30\n",
      "-----\n",
      "Mr. Smith\n",
      "50000\n"
     ]
    }
   ],
   "source": [
    "# 11. Create a Python class hierarchy for a school system, including classes for students, teachers, and courses,\n",
    "# and implement encapsulation principles to protect sensitive information.\n",
    "\n",
    "\n",
    "class Person:\n",
    "    def __init__(self, name, age, contact):\n",
    "        self._name = name\n",
    "        self._age = age\n",
    "        self._contact = contact\n",
    "\n",
    "    def get_name(self):\n",
    "        return self._name\n",
    "\n",
    "    def set_name(self, name):\n",
    "        self._name = name\n",
    "\n",
    "    def get_age(self):\n",
    "        return self._age\n",
    "\n",
    "    def set_age(self, age):\n",
    "        self._age = age\n",
    "\n",
    "    def get_contact(self):\n",
    "        return self._contact\n",
    "\n",
    "    def set_contact(self, contact):\n",
    "        self._contact = contact\n",
    "\n",
    "\n",
    "class Student(Person):\n",
    "    def __init__(self, name, age, contact, student_id, courses):\n",
    "        super().__init__(name, age, contact)\n",
    "        self._student_id = student_id\n",
    "        self._courses = courses\n",
    "\n",
    "    def get_student_id(self):\n",
    "        return self._student_id\n",
    "\n",
    "    def set_student_id(self, student_id):\n",
    "        self._student_id = student_id\n",
    "\n",
    "    def get_courses(self):\n",
    "        return self._courses\n",
    "\n",
    "    def set_courses(self, courses):\n",
    "        self._courses = courses\n",
    "\n",
    "\n",
    "class Teacher(Person):\n",
    "    def __init__(self, name, age, contact, teacher_id, salary, courses_taught):\n",
    "        super().__init__(name, age, contact)\n",
    "        self._teacher_id = teacher_id\n",
    "        self.__salary = salary  # Encapsulation - private attribute\n",
    "        self._courses_taught = courses_taught\n",
    "\n",
    "    def get_teacher_id(self):\n",
    "        return self._teacher_id\n",
    "\n",
    "    def set_teacher_id(self, teacher_id):\n",
    "        self._teacher_id = teacher_id\n",
    "\n",
    "    def get_salary(self):\n",
    "        return self.__salary\n",
    "\n",
    "    def set_salary(self, salary):\n",
    "        self.__salary = salary\n",
    "\n",
    "    def get_courses_taught(self):\n",
    "        return self._courses_taught\n",
    "\n",
    "    def set_courses_taught(self, courses_taught):\n",
    "        self._courses_taught = courses_taught\n",
    "\n",
    "\n",
    "class Course:\n",
    "    def __init__(self, course_id, course_name, max_students):\n",
    "        self._course_id = course_id\n",
    "        self._course_name = course_name\n",
    "        self._max_students = max_students\n",
    "\n",
    "    def get_course_id(self):\n",
    "        return self._course_id\n",
    "\n",
    "    def set_course_id(self, course_id):\n",
    "        self._course_id = course_id\n",
    "\n",
    "    def get_course_name(self):\n",
    "        return self._course_name\n",
    "\n",
    "    def set_course_name(self, course_name):\n",
    "        self._course_name = course_name\n",
    "\n",
    "    def get_max_students(self):\n",
    "        return self._max_students\n",
    "\n",
    "    def set_max_students(self, max_students):\n",
    "        self._max_students = max_students\n",
    "\n",
    "# Example usage:\n",
    "student1 = Student(\"Alice\", 18, \"123-456-7890\", \"S123\", [\"Math\", \"History\"])\n",
    "teacher1 = Teacher(\"Mr. Smith\", 35, \"987-654-3210\", \"T456\", 50000, [\"Math\"])\n",
    "course1 = Course(\"C101\", \"Math\", 30)\n",
    "\n",
    "print(student1.get_name())  # Output: Alice\n",
    "print(teacher1.get_salary())  # Output: 50000\n",
    "print(course1.get_max_students())  # Output: 30\n",
    "\n",
    "print(\"-----\")\n",
    "\n",
    "print(teacher1.get_name())  \n",
    "print(teacher1.get_salary())  \n",
    "\n"
   ]
  },
  {
   "cell_type": "code",
   "execution_count": 146,
   "id": "e5f0f4a6",
   "metadata": {},
   "outputs": [
    {
     "name": "stdout",
     "output_type": "stream",
     "text": [
      "5\n",
      "7\n",
      "Deleting radius.\n"
     ]
    }
   ],
   "source": [
    "# 12. Explain the concept of property decorators in Python and how they relate to encapsulation.\n",
    "\n",
    "class Circle:\n",
    "    def __init__(self, radius):\n",
    "        self._radius = radius\n",
    "\n",
    "    @property\n",
    "    def radius(self):\n",
    "        return self._radius\n",
    "\n",
    "    @property\n",
    "    def diameter(self):\n",
    "        return 2 * self._radius\n",
    "\n",
    "    @property\n",
    "    def area(self):\n",
    "        return 3.14 * self._radius ** 2\n",
    "\n",
    "    @radius.setter\n",
    "    def radius(self, value):\n",
    "        if value < 0:\n",
    "            raise ValueError(\"Radius cannot be negative.\")\n",
    "        self._radius = value\n",
    "\n",
    "    @radius.deleter\n",
    "    def radius(self):\n",
    "        print(\"Deleting radius.\")\n",
    "        del self._radius\n",
    "\n",
    "\n",
    "# Example usage:\n",
    "circle = Circle(5)\n",
    "\n",
    "# Using the getter property\n",
    "print(circle.radius)  # Output: 5\n",
    "\n",
    "# Using the setter property\n",
    "circle.radius = 7\n",
    "print(circle.radius)  # Output: 7\n",
    "\n",
    "# Using the deleter property\n",
    "del circle.radius  # Output: Deleting radius.\n",
    "# print(circle.radius)\n"
   ]
  },
  {
   "cell_type": "code",
   "execution_count": 148,
   "id": "df76ef18",
   "metadata": {},
   "outputs": [
    {
     "name": "stdout",
     "output_type": "stream",
     "text": [
      "1000\n",
      "1500\n",
      "1300\n"
     ]
    }
   ],
   "source": [
    "# 13. What is data hiding, and why is it important in encapsulation? Provide examples.\n",
    "\n",
    "\"\"\"\n",
    "\n",
    "Data hiding is the concept in object-oriented programming where the internal details or implementation details of a class are hidden from the outside world. It restricts direct access to some of the object's components, typically attributes or methods, and allows controlled access through methods. This is often achieved using access modifiers, such as public, private, and protected in various programming languages.\n",
    "\n",
    "Why data hiding is important in encapsulation:\n",
    "\n",
    "Encapsulation: Data hiding is a fundamental aspect of encapsulation. Encapsulation bundles data (attributes) and the methods that operate on the data into a single unit (a class). It prevents the direct manipulation of internal attributes, enforcing the use of methods to interact with the object.\n",
    "Security: By hiding the internal details, sensitive information is protected from being accessed or modified by external code. This enhances the security and integrity of the data.\n",
    "Abstraction: Data hiding allows the implementation details to be abstracted away, exposing only the necessary information or functionality to the outside world. Users of the class don't need to know how things are implemented internally; they only need to know how to use the public interfaces.\n",
    "Flexibility and Maintenance: Hiding the internal details of a class provides flexibility for the developer to change the implementation without affecting the code that uses the class. This helps in maintaining and evolving the codebase over time.\n",
    "\"\"\"\n",
    "class BankAccount:\n",
    "    def __init__(self, account_number, balance):\n",
    "        self._account_number = account_number  # using a single underscore to indicate \"protected\"\n",
    "        self._balance = balance\n",
    "\n",
    "    def get_balance(self):\n",
    "        # Getter method for accessing the balance\n",
    "        return self._balance\n",
    "\n",
    "    def deposit(self, amount):\n",
    "        # Method for depositing money\n",
    "        self._balance += amount\n",
    "\n",
    "    def withdraw(self, amount):\n",
    "        # Method for withdrawing money with some validation\n",
    "        if amount > 0 and amount <= self._balance:\n",
    "            self._balance -= amount\n",
    "        else:\n",
    "            print(\"Invalid withdrawal amount.\")\n",
    "\n",
    "# Example usage:\n",
    "account = BankAccount(\"123456\", 1000)\n",
    "print(account.get_balance())  # Accessing balance using a getter method\n",
    "account.deposit(500)\n",
    "print(account.get_balance())  # Updated balance\n",
    "account.withdraw(200)\n",
    "print(account.get_balance())  # Updated balance after withdrawal\n"
   ]
  },
  {
   "cell_type": "code",
   "execution_count": 149,
   "id": "02300edc",
   "metadata": {},
   "outputs": [
    {
     "name": "stdout",
     "output_type": "stream",
     "text": [
      "Employee ID: E001\n",
      "Salary: $50000\n",
      "Yearly Bonus: $5000.0\n"
     ]
    }
   ],
   "source": [
    "# 14. Create a Python class called `Employee` with private attributes for salary (`__salary`) and employee ID (`__employee_id`). Provide a method to calculate yearly bonuses.\n",
    "class Employee:\n",
    "    def __init__(self, employee_id, salary):\n",
    "        self.__employee_id = employee_id\n",
    "        self.__salary = salary\n",
    "\n",
    "    def calculate_yearly_bonus(self):\n",
    "        # Assuming a simple bonus calculation, e.g., 10% of the salary\n",
    "        bonus_percentage = 0.10\n",
    "        yearly_bonus = self.__salary * bonus_percentage\n",
    "        return yearly_bonus\n",
    "\n",
    "    def display_employee_details(self):\n",
    "        print(f\"Employee ID: {self.__employee_id}\")\n",
    "        print(f\"Salary: ${self.__salary}\")\n",
    "        print(f\"Yearly Bonus: ${self.calculate_yearly_bonus()}\")\n",
    "\n",
    "\n",
    "# Example usage:\n",
    "employee1 = Employee(employee_id=\"E001\", salary=50000)\n",
    "employee1.display_employee_details()\n"
   ]
  },
  {
   "cell_type": "code",
   "execution_count": 151,
   "id": "674bd7bb",
   "metadata": {},
   "outputs": [
    {
     "name": "stdout",
     "output_type": "stream",
     "text": [
      "John Doe\n"
     ]
    }
   ],
   "source": [
    "# 15. Discuss the use of accessors and mutators in encapsulation. How do they help maintain control over\n",
    "# attribute access?\n",
    "\n",
    "\"\"\"\n",
    "\n",
    "Accessors and mutators, also known as getters and setters, play a crucial role in encapsulation by providing controlled access to the attributes of a class. They help maintain control over attribute access by enforcing encapsulation principles. Here's a discussion on their use:\n",
    "\n",
    "Accessors (Getters):\n",
    "Purpose: Accessors are methods that provide read-only access to the private attributes of a class.\n",
    "Implementation: They typically return the current value of a private attribute.\n",
    "Example:\n",
    "\"\"\"\n",
    "class Employee:\n",
    "    def __init__(self, name):\n",
    "        self.__name = name\n",
    "\n",
    "    def get_name(self):\n",
    "        return self.__name\n",
    "\n",
    "# Usage\n",
    "emp = Employee(\"John Doe\")\n",
    "print(emp.get_name())  # Accessing the name attribute using the getter\n",
    "\n",
    "\n",
    "\"\"\"\n",
    "Mutators (Setters):\n",
    "Purpose: Mutators are methods that provide write access to the private attributes of a class.\n",
    "Implementation: They accept new values as parameters and update the private attributes.\n",
    "Example:\n",
    "\"\"\"\n",
    "\n",
    "class Student:\n",
    "    def __init__(self, name):\n",
    "        self.__name = name\n",
    "\n",
    "    def set_name(self, new_name):\n",
    "        # Add validation or additional logic if needed\n",
    "        self.__name = new_name\n",
    "\n",
    "# Usage\n",
    "student = Student(\"Alice\")\n",
    "student.set_name(\"Bob\")  # Updating the name attribute using the setter\n"
   ]
  },
  {
   "cell_type": "code",
   "execution_count": 152,
   "id": "2cf0cd62",
   "metadata": {},
   "outputs": [
    {
     "data": {
      "text/plain": [
       "\"\\n\\nWhile encapsulation offers numerous benefits in terms of code organization, security, and maintainability, there are also potential drawbacks or disadvantages to consider when using encapsulation in Python:\\n\\nIncreased Complexity:\\nIssue: Encapsulation may introduce additional complexity to the codebase, especially when dealing with a large number of classes or when nesting classes.\\nImpact: Overly complex encapsulation can make the code harder to understand and maintain.\\nPerformance Overhead:\\nIssue: The use of getters and setters may introduce a slight performance overhead compared to direct attribute access.\\nImpact: In performance-critical applications, this overhead might be noticeable, although modern Python implementations have optimized this to some extent.\\nBoilerplate Code:\\nIssue: Encapsulation often requires the creation of getter and setter methods, leading to additional boilerplate code.\\nImpact: This can make the code longer and potentially less readable, especially if there are many attributes in a class.\\nPotential Misuse:\\nIssue: Despite encapsulation, there's no strict enforcement of access control in Python. Attributes can still be accessed and modified directly if desired.\\nImpact: This can lead to unintended misuse of attributes, defeating the purpose of encapsulation.\\nOveruse of Getters and Setters:\\nIssue: In an attempt to encapsulate every attribute, developers might overuse getters and setters, making the code verbose.\\nImpact: This can lead to a less concise and less readable codebase.\\nLimited Flexibility:\\nIssue: Overly strict encapsulation might limit the flexibility to extend or modify a class in the future.\\nImpact: If modifications are needed, developers may need to refactor a significant portion of the code, leading to maintenance challenges.\\nLearning Curve:\\nIssue: For developers new to the codebase, the use of encapsulation may introduce a learning curve.\\nImpact: Understanding the role of each method and the encapsulation strategy employed might take time.\\nTesting Challenges:\\nIssue: Encapsulation may make it challenging to write unit tests, especially if the internal state of an object is hidden.\\nImpact: Writing comprehensive tests may require additional effort or the use of testing frameworks that can access private attributes.\\nDespite these potential drawbacks, the advantages of encapsulation often outweigh the disadvantages, and careful design can mitigate many of these issues. The key is to strike a balance and use encapsulation judiciously based on the specific needs of the application.\\n\\n\""
      ]
     },
     "execution_count": 152,
     "metadata": {},
     "output_type": "execute_result"
    }
   ],
   "source": [
    "# 16. What are the potential drawbacks or disadvantages of using encapsulation in Python?\n",
    "\n",
    "\"\"\"\n",
    "\n",
    "While encapsulation offers numerous benefits in terms of code organization, security, and maintainability, there are also potential drawbacks or disadvantages to consider when using encapsulation in Python:\n",
    "\n",
    "Increased Complexity:\n",
    "Issue: Encapsulation may introduce additional complexity to the codebase, especially when dealing with a large number of classes or when nesting classes.\n",
    "Impact: Overly complex encapsulation can make the code harder to understand and maintain.\n",
    "Performance Overhead:\n",
    "Issue: The use of getters and setters may introduce a slight performance overhead compared to direct attribute access.\n",
    "Impact: In performance-critical applications, this overhead might be noticeable, although modern Python implementations have optimized this to some extent.\n",
    "Boilerplate Code:\n",
    "Issue: Encapsulation often requires the creation of getter and setter methods, leading to additional boilerplate code.\n",
    "Impact: This can make the code longer and potentially less readable, especially if there are many attributes in a class.\n",
    "Potential Misuse:\n",
    "Issue: Despite encapsulation, there's no strict enforcement of access control in Python. Attributes can still be accessed and modified directly if desired.\n",
    "Impact: This can lead to unintended misuse of attributes, defeating the purpose of encapsulation.\n",
    "Overuse of Getters and Setters:\n",
    "Issue: In an attempt to encapsulate every attribute, developers might overuse getters and setters, making the code verbose.\n",
    "Impact: This can lead to a less concise and less readable codebase.\n",
    "Limited Flexibility:\n",
    "Issue: Overly strict encapsulation might limit the flexibility to extend or modify a class in the future.\n",
    "Impact: If modifications are needed, developers may need to refactor a significant portion of the code, leading to maintenance challenges.\n",
    "Learning Curve:\n",
    "Issue: For developers new to the codebase, the use of encapsulation may introduce a learning curve.\n",
    "Impact: Understanding the role of each method and the encapsulation strategy employed might take time.\n",
    "Testing Challenges:\n",
    "Issue: Encapsulation may make it challenging to write unit tests, especially if the internal state of an object is hidden.\n",
    "Impact: Writing comprehensive tests may require additional effort or the use of testing frameworks that can access private attributes.\n",
    "Despite these potential drawbacks, the advantages of encapsulation often outweigh the disadvantages, and careful design can mitigate many of these issues. The key is to strike a balance and use encapsulation judiciously based on the specific needs of the application.\n",
    "\n",
    "\"\"\""
   ]
  },
  {
   "cell_type": "code",
   "execution_count": 153,
   "id": "3ca81a89",
   "metadata": {},
   "outputs": [
    {
     "name": "stdout",
     "output_type": "stream",
     "text": [
      "Title: The Catcher in the Rye\n",
      "Author: J.D. Salinger\n",
      "Availability: Available\n",
      "\n",
      "Title: To Kill a Mockingbird\n",
      "Author: Harper Lee\n",
      "Availability: Not Available\n",
      "\n",
      "Is 'The Catcher in the Rye' available? True\n",
      "Is 'To Kill a Mockingbird' available? False\n",
      "\n",
      "After updating availability status:\n",
      "Title: The Catcher in the Rye\n",
      "Author: J.D. Salinger\n",
      "Availability: Not Available\n",
      "\n"
     ]
    }
   ],
   "source": [
    "# 17. Create a Python class for a library system that encapsulates book information, including titles, authors,\n",
    "# and availability status.\n",
    "\n",
    "\n",
    "class Book:\n",
    "    def __init__(self, title, author, availability=True):\n",
    "        self.__title = title\n",
    "        self.__author = author\n",
    "        self.__availability = availability\n",
    "\n",
    "    # Getter methods\n",
    "    def get_title(self):\n",
    "        return self.__title\n",
    "\n",
    "    def get_author(self):\n",
    "        return self.__author\n",
    "\n",
    "    def is_available(self):\n",
    "        return self.__availability\n",
    "\n",
    "    # Setter method for availability\n",
    "    def set_availability(self, availability):\n",
    "        self.__availability = availability\n",
    "\n",
    "    def display_info(self):\n",
    "        print(f\"Title: {self.__title}\")\n",
    "        print(f\"Author: {self.__author}\")\n",
    "        availability_status = \"Available\" if self.__availability else \"Not Available\"\n",
    "        print(f\"Availability: {availability_status}\")\n",
    "        print()\n",
    "\n",
    "# Example usage:\n",
    "# Create book objects\n",
    "book1 = Book(\"The Catcher in the Rye\", \"J.D. Salinger\")\n",
    "book2 = Book(\"To Kill a Mockingbird\", \"Harper Lee\", availability=False)\n",
    "\n",
    "# Display book information\n",
    "book1.display_info()\n",
    "book2.display_info()\n",
    "\n",
    "# Check availability\n",
    "print(f\"Is '{book1.get_title()}' available? {book1.is_available()}\")\n",
    "print(f\"Is '{book2.get_title()}' available? {book2.is_available()}\")\n",
    "\n",
    "# Set availability status\n",
    "book1.set_availability(False)\n",
    "\n",
    "# Display updated information\n",
    "print(\"\\nAfter updating availability status:\")\n",
    "book1.display_info()\n"
   ]
  },
  {
   "cell_type": "code",
   "execution_count": 154,
   "id": "8b84d89c",
   "metadata": {},
   "outputs": [
    {
     "data": {
      "text/plain": [
       "'\\n\\nEncapsulation enhances code reusability and modularity in Python programs through the following mechanisms:\\n\\nAbstraction: Encapsulation allows you to hide the implementation details of an object and expose only the necessary functionalities. This abstraction makes it easier for other parts of the program to use the object without needing to understand its internal workings. By interacting with the object through well-defined interfaces (methods and properties), users can focus on what the object does rather than how it does it.\\nModularity: With encapsulation, each class can be treated as a module with its own set of behaviors and attributes. Other parts of the program can interact with these modules without worrying about the internal complexities. This modularity makes the code more organized, maintainable, and scalable.\\nCode Reusability: Encapsulation promotes the reuse of code by creating classes and objects that can be easily integrated into different parts of the program. Once a class is defined and encapsulated, it can be instantiated and used in various contexts without modifying its internal implementation. This reuse of code reduces redundancy and promotes a more efficient and maintainable codebase.\\nFlexibility: Encapsulation allows for easier modification of the internal implementation of a class without affecting other parts of the program. As long as the external interface remains the same, changes to the internal details can be made to improve performance, fix bugs, or add new features. This flexibility is crucial for adapting code to evolving requirements.\\nReduced Code Interdependency: Encapsulation reduces the interdependency between different parts of the code. By encapsulating the internal details of a class, changes to one class are less likely to impact other classes. This isolation minimizes the risk of unintended consequences when modifying the code, making it easier to maintain and extend.\\nIn summary, encapsulation promotes abstraction, modularity, code reusability, flexibility, and reduced code interdependency, contributing to the development of robust and maintainable Python programs.\\n'"
      ]
     },
     "execution_count": 154,
     "metadata": {},
     "output_type": "execute_result"
    }
   ],
   "source": [
    "# 18. Explain how encapsulation enhances code reusability and modularity in Python programs.\n",
    "\n",
    "\"\"\"\n",
    "\n",
    "Encapsulation enhances code reusability and modularity in Python programs through the following mechanisms:\n",
    "\n",
    "Abstraction: Encapsulation allows you to hide the implementation details of an object and expose only the necessary functionalities. This abstraction makes it easier for other parts of the program to use the object without needing to understand its internal workings. By interacting with the object through well-defined interfaces (methods and properties), users can focus on what the object does rather than how it does it.\n",
    "Modularity: With encapsulation, each class can be treated as a module with its own set of behaviors and attributes. Other parts of the program can interact with these modules without worrying about the internal complexities. This modularity makes the code more organized, maintainable, and scalable.\n",
    "Code Reusability: Encapsulation promotes the reuse of code by creating classes and objects that can be easily integrated into different parts of the program. Once a class is defined and encapsulated, it can be instantiated and used in various contexts without modifying its internal implementation. This reuse of code reduces redundancy and promotes a more efficient and maintainable codebase.\n",
    "Flexibility: Encapsulation allows for easier modification of the internal implementation of a class without affecting other parts of the program. As long as the external interface remains the same, changes to the internal details can be made to improve performance, fix bugs, or add new features. This flexibility is crucial for adapting code to evolving requirements.\n",
    "Reduced Code Interdependency: Encapsulation reduces the interdependency between different parts of the code. By encapsulating the internal details of a class, changes to one class are less likely to impact other classes. This isolation minimizes the risk of unintended consequences when modifying the code, making it easier to maintain and extend.\n",
    "In summary, encapsulation promotes abstraction, modularity, code reusability, flexibility, and reduced code interdependency, contributing to the development of robust and maintainable Python programs.\n",
    "\"\"\"\n"
   ]
  },
  {
   "cell_type": "code",
   "execution_count": 127,
   "id": "e0e3b5aa",
   "metadata": {},
   "outputs": [],
   "source": [
    "# 19. Describe the concept of information hiding in encapsulation. Why is it essential in software development?\n",
    "\"\"\"\n",
    "Information hiding in encapsulation refers to the practice of concealing the internal details and implementation of an object and exposing only the necessary information through well-defined interfaces. It is an essential concept in software development for several reasons:\n",
    "\n",
    "Abstraction: Information hiding allows developers to create abstract representations of objects. Users of the object interact with it through a set of methods and properties, focusing on what the object does rather than how it achieves its functionality. This abstraction simplifies the complexity of the system, making it more understandable and usable.\n",
    "Reduced Complexity: By hiding the internal details, developers can reduce the complexity of the system. Users and other components of the system don't need to know how an object works internally; they only need to understand its external interface. This simplification makes it easier to manage and maintain large and complex software systems.\n",
    "Security: Information hiding enhances security by restricting access to sensitive data and implementation details. Critical data and methods are encapsulated within a class, and only the necessary functionalities are exposed. This prevents unauthorized access and manipulation of internal states, reducing the risk of security vulnerabilities.\n",
    "Change Management: When the internal implementation of an object is hidden, developers can make changes to the implementation without affecting the users of the object. This is crucial for maintaining and evolving software systems. Changes can be made to improve performance, fix bugs, or add new features, all without impacting the external interface.\n",
    "Encapsulation of Complexity: Information hiding allows developers to encapsulate the complexity of an object's behavior within the object itself. Users only need to know how to use the object's methods and properties, not the intricacies of its internal workings. This encapsulation of complexity improves code organization and makes it more manageable.\n",
    "Flexibility and Evolution: By hiding implementation details, software systems become more adaptable to change. Developers can modify the internal implementation of an object to meet evolving requirements without affecting other parts of the system. This flexibility is crucial for the long-term sustainability of software projects.\n",
    "In summary, information hiding in encapsulation is essential for achieving abstraction, reducing complexity, enhancing security, facilitating change management, encapsulating complexity, and providing flexibility in software development. It contributes to the creation of maintainable, secure, and adaptable software systems.\n",
    "\n",
    "\"\"\"\n"
   ]
  },
  {
   "cell_type": "code",
   "execution_count": 155,
   "id": "5272de78",
   "metadata": {},
   "outputs": [
    {
     "name": "stdout",
     "output_type": "stream",
     "text": [
      "Customer Name: John Doe\n",
      "Customer Address: 123 Main Street\n",
      "Contact Information: john@example.com\n",
      "Customer Name: John Doe\n",
      "Customer Address: 456 Oak Avenue\n",
      "Contact Information: john@example.com\n"
     ]
    }
   ],
   "source": [
    "# 20. Create a Python class called `Customer` with private attributes for customer details like name, address,\n",
    "# and contact information. Implement encapsulation to ensure data integrity and security.\n",
    "class Customer:\n",
    "    def __init__(self, name, address, contact_info):\n",
    "        self.__name = name  # Private attribute for customer name\n",
    "        self.__address = address  # Private attribute for customer address\n",
    "        self.__contact_info = contact_info  # Private attribute for customer contact information\n",
    "\n",
    "    # Getter methods to access private attributes\n",
    "    def get_name(self):\n",
    "        return self.__name\n",
    "\n",
    "    def get_address(self):\n",
    "        return self.__address\n",
    "\n",
    "    def get_contact_info(self):\n",
    "        return self.__contact_info\n",
    "\n",
    "    # Setter methods to modify private attributes\n",
    "    def set_name(self, new_name):\n",
    "        self.__name = new_name\n",
    "\n",
    "    def set_address(self, new_address):\n",
    "        self.__address = new_address\n",
    "\n",
    "    def set_contact_info(self, new_contact_info):\n",
    "        self.__contact_info = new_contact_info\n",
    "\n",
    "    # Method to display customer details\n",
    "    def display_details(self):\n",
    "        print(f\"Customer Name: {self.__name}\")\n",
    "        print(f\"Customer Address: {self.__address}\")\n",
    "        print(f\"Contact Information: {self.__contact_info}\")\n",
    "\n",
    "\n",
    "# Example usage:\n",
    "customer1 = Customer(\"John Doe\", \"123 Main Street\", \"john@example.com\")\n",
    "customer1.display_details()\n",
    "\n",
    "# Modifying customer information using setter methods\n",
    "customer1.set_address(\"456 Oak Avenue\")\n",
    "customer1.display_details()\n"
   ]
  },
  {
   "cell_type": "markdown",
   "id": "a4922176",
   "metadata": {},
   "source": [
    "# Polymorphism"
   ]
  },
  {
   "cell_type": "code",
   "execution_count": 178,
   "id": "8e198851",
   "metadata": {},
   "outputs": [
    {
     "data": {
      "text/plain": [
       "'\\nPolymorphism is the ability of a single function or method to work with different types of objects. \\nIn Python, polymorphism is closely related to object-oriented programming (OOP) and is one of the four fundamental\\nprinciples of OOP (Encapsulation, Inheritance, Polymorphism, and Abstraction). \\nPolymorphism allows a single interface to represent different types of objects.\\n'"
      ]
     },
     "execution_count": 178,
     "metadata": {},
     "output_type": "execute_result"
    }
   ],
   "source": [
    "# 1. What is polymorphism in Python? Explain how it is related to object-oriented programming.\n",
    "\n",
    "\"\"\"\n",
    "Polymorphism is the ability of a single function or method to work with different types of objects. \n",
    "In Python, polymorphism is closely related to object-oriented programming (OOP) and is one of the four fundamental\n",
    "principles of OOP (Encapsulation, Inheritance, Polymorphism, and Abstraction). \n",
    "Polymorphism allows a single interface to represent different types of objects.\n",
    "\"\"\"\n"
   ]
  },
  {
   "cell_type": "code",
   "execution_count": 180,
   "id": "9409b0a5",
   "metadata": {},
   "outputs": [
    {
     "data": {
      "text/plain": [
       "'\\nCompile-time polymorphism: Also known as method overloading, it occurs when multiple methods in the same class have the same name but different parameters. \\nThe correct method is determined during compile-time based on the method signature.\\nRuntime polymorphism: Also known as method overriding, it occurs when a method in a subclass has the same name and signature as a method in its superclass. \\nThe correct method is determined during runtime based on the actual object type.\\n\\n'"
      ]
     },
     "execution_count": 180,
     "metadata": {},
     "output_type": "execute_result"
    }
   ],
   "source": [
    "# 2. Describe the difference between compile-time polymorphism and runtime polymorphism in Python.\n",
    "\n",
    "\"\"\"\n",
    "Compile-time polymorphism: Also known as method overloading, it occurs when multiple methods in the same class have the same name but different parameters. \n",
    "The correct method is determined during compile-time based on the method signature.\n",
    "Runtime polymorphism: Also known as method overriding, it occurs when a method in a subclass has the same name and signature as a method in its superclass. \n",
    "The correct method is determined during runtime based on the actual object type.\n",
    "\n",
    "\"\"\""
   ]
  },
  {
   "cell_type": "code",
   "execution_count": 181,
   "id": "c82bb28b",
   "metadata": {},
   "outputs": [],
   "source": [
    "# 3. Create a Python class hierarchy for shapes (e.g., circle, square, triangle) and demonstrate polymorphism \n",
    "#  through a common method, such as `calculate_area()`.\n",
    "\n",
    "class Shape:\n",
    "    def calculate_area(self):\n",
    "        pass\n",
    "\n",
    "class Circle(Shape):\n",
    "    def calculate_area(self, radius):\n",
    "        return 3.14 * radius**2\n",
    "\n",
    "class Square(Shape):\n",
    "    def calculate_area(self, side):\n",
    "        return side**2\n",
    "\n",
    "class Triangle(Shape):\n",
    "    def calculate_area(self, base, height):\n",
    "        return 0.5 * base * height\n"
   ]
  },
  {
   "cell_type": "code",
   "execution_count": 182,
   "id": "8463fac5",
   "metadata": {},
   "outputs": [
    {
     "name": "stdout",
     "output_type": "stream",
     "text": [
      "Woof!\n"
     ]
    }
   ],
   "source": [
    "# 4. Explain the concept of method overriding in polymorphism. Provide an example.\n",
    "\n",
    "class Animal:\n",
    "    def speak(self):\n",
    "        print(\"Generic animal sound\")\n",
    "\n",
    "class Dog(Animal):\n",
    "    def speak(self):\n",
    "        print(\"Woof!\")\n",
    "\n",
    "dog = Dog()\n",
    "dog.speak()  # Outputs: Woof!\n"
   ]
  },
  {
   "cell_type": "code",
   "execution_count": 183,
   "id": "49da0e33",
   "metadata": {},
   "outputs": [
    {
     "name": "stdout",
     "output_type": "stream",
     "text": [
      "Woof!\n",
      "6\n"
     ]
    }
   ],
   "source": [
    "# 5. How is polymorphism different from method overloading in Python? Provide examples for both.\n",
    "\n",
    "# Polymorphism (Method Overriding):\n",
    "\n",
    "class Animal:\n",
    "    def speak(self):\n",
    "        print(\"Generic animal sound\")\n",
    "\n",
    "class Dog(Animal):\n",
    "    def speak(self):\n",
    "        print(\"Woof!\")\n",
    "\n",
    "dog = Dog()\n",
    "dog.speak()  # Outputs: Woof!\n",
    "\n",
    "# Method Overloading:\n",
    "\n",
    "class Calculator:\n",
    "    def add(self, a, b):\n",
    "        return a + b\n",
    "\n",
    "    def add(self, a, b, c):\n",
    "        return a + b + c\n",
    "\n",
    "calculator = Calculator()\n",
    "print(calculator.add(1, 2, 3))  # Outputs: 6\n",
    "\n"
   ]
  },
  {
   "cell_type": "code",
   "execution_count": 185,
   "id": "cade805e",
   "metadata": {},
   "outputs": [
    {
     "name": "stdout",
     "output_type": "stream",
     "text": [
      "Woof!\n",
      "Meow!\n",
      "Chirping!\n"
     ]
    }
   ],
   "source": [
    "# 6. Create a Python class called `Animal` with a method `speak()`. Then, create child classes like `Dog`, `Cat`, and `Bird`, each with their own `speak()` method. Demonstrate polymorphism by calling the `speak()` method\n",
    "# on objects of different subclasses.\n",
    "\n",
    "class Animal:\n",
    "    def speak(self):\n",
    "        print(\"Generic animal sound\")\n",
    "\n",
    "class Dog(Animal):\n",
    "    def speak(self):\n",
    "        print(\"Woof!\")\n",
    "        \n",
    "class Cat(Animal):\n",
    "    def speak(self):\n",
    "        print(\"Meow!\")\n",
    "        \n",
    "class Bird(Animal):\n",
    "    def speak(self):\n",
    "        print(\"Chirping!\")\n",
    "\n",
    "dog = Dog()\n",
    "dog.speak()  # Outputs: Woof!\n",
    "\n",
    "cat = Cat()\n",
    "cat.speak()\n",
    "\n",
    "bird = Bird()\n",
    "bird.speak()\n",
    "\n",
    "\n"
   ]
  },
  {
   "cell_type": "code",
   "execution_count": 186,
   "id": "32cc222d",
   "metadata": {},
   "outputs": [],
   "source": [
    "# 7. Discuss the use of abstract methods and classes in achieving polymorphism in Python. Provide an example\n",
    "# using the `abc` module.\n",
    "\n",
    "from abc import ABC, abstractmethod\n",
    "\n",
    "class Shape(ABC):\n",
    "    @abstractmethod\n",
    "    def calculate_area(self):\n",
    "        pass\n",
    "\n",
    "class Circle(Shape):\n",
    "    def calculate_area(self, radius):\n",
    "        return 3.14 * radius**2\n"
   ]
  },
  {
   "cell_type": "code",
   "execution_count": 187,
   "id": "7a8161a1",
   "metadata": {},
   "outputs": [],
   "source": [
    "# 8. Create a Python class hierarchy for a vehicle system (e.g., car, bicycle, boat) and implement a polymorphic `start()` method that prints a message specific to each vehicle type.\n",
    "\n",
    "\n",
    "class Vehicle(ABC):\n",
    "    @abstractmethod\n",
    "    def start(self):\n",
    "        pass\n",
    "\n",
    "class Car(Vehicle):\n",
    "    def start(self):\n",
    "        print(\"Car engine started\")\n",
    "\n",
    "class Bicycle(Vehicle):\n",
    "    def start(self):\n",
    "        print(\"Pedaling the bicycle\")\n",
    "\n",
    "class Boat(Vehicle):\n",
    "    def start(self):\n",
    "        print(\"Boat engine started\")\n",
    "\n"
   ]
  },
  {
   "cell_type": "code",
   "execution_count": 188,
   "id": "c6e4b54c",
   "metadata": {},
   "outputs": [
    {
     "data": {
      "text/plain": [
       "'\\nisinstance(object, class) checks if an object is an instance of a class.\\nissubclass(class, classinfo) checks if a class is a subclass of another class.\\nThese functions are useful for checking object types dynamically and facilitating polymorphic behavior.\\n'"
      ]
     },
     "execution_count": 188,
     "metadata": {},
     "output_type": "execute_result"
    }
   ],
   "source": [
    "# 9. Explain the significance of the `isinstance()` and `issubclass()` functions in Python polymorphism.\n",
    "\n",
    "\"\"\"\n",
    "isinstance(object, class) checks if an object is an instance of a class.\n",
    "issubclass(class, classinfo) checks if a class is a subclass of another class.\n",
    "These functions are useful for checking object types dynamically and facilitating polymorphic behavior.\n",
    "\"\"\""
   ]
  },
  {
   "cell_type": "code",
   "execution_count": 189,
   "id": "e7959e94",
   "metadata": {},
   "outputs": [
    {
     "data": {
      "text/plain": [
       "'\\nThe @abstractmethod decorator is used to declare abstract methods in abstract base classes. \\nAbstract methods must be implemented by concrete subclasses, ensuring polymorphic behavior.\\n'"
      ]
     },
     "execution_count": 189,
     "metadata": {},
     "output_type": "execute_result"
    }
   ],
   "source": [
    "# 10. What is the role of the `@abstractmethod` decorator in achieving polymorphism in Python? Provide an\n",
    "# example.\n",
    "\n",
    "\"\"\"\n",
    "The @abstractmethod decorator is used to declare abstract methods in abstract base classes. \n",
    "Abstract methods must be implemented by concrete subclasses, ensuring polymorphic behavior.\n",
    "\"\"\""
   ]
  },
  {
   "cell_type": "code",
   "execution_count": 190,
   "id": "36cad67c",
   "metadata": {},
   "outputs": [],
   "source": [
    "# 11. Create a Python class called `Shape` with a polymorphic method `area()` that calculates the area of \n",
    "# different shapes (e.g., circle, rectangle, triangle).\n",
    "\n",
    "class Shape:\n",
    "    def area(self):\n",
    "        pass\n",
    "\n",
    "class Circle(Shape):\n",
    "    def area(self, radius):\n",
    "        return 3.14 * radius**2\n",
    "\n",
    "class Rectangle(Shape):\n",
    "    def area(self, length, width):\n",
    "        return length * width\n",
    "\n",
    "class Triangle(Shape):\n",
    "    def area(self, base, height):\n",
    "        return 0.5 * base * height\n",
    "\n"
   ]
  },
  {
   "cell_type": "code",
   "execution_count": 191,
   "id": "4b0b477b",
   "metadata": {},
   "outputs": [
    {
     "data": {
      "text/plain": [
       "'\\nCode Reusability: Polymorphism allows the same interface (method name) to be used for different types of objects. This promotes code reuse as the same method can be applied to different classes.\\nFlexibility: Polymorphism allows for flexibility in handling different types of objects without the need for explicit type checking. It simplifies the code and makes it more adaptable to changes.\\n'"
      ]
     },
     "execution_count": 191,
     "metadata": {},
     "output_type": "execute_result"
    }
   ],
   "source": [
    "# 12. Discuss the benefits of polymorphism in terms of code reusability and flexibility in Python programs.\n",
    "\n",
    "\"\"\"\n",
    "Code Reusability: Polymorphism allows the same interface (method name) to be used for different types of objects. This promotes code reuse as the same method can be applied to different classes.\n",
    "Flexibility: Polymorphism allows for flexibility in handling different types of objects without the need for explicit type checking. It simplifies the code and makes it more adaptable to changes.\n",
    "\"\"\""
   ]
  },
  {
   "cell_type": "code",
   "execution_count": 192,
   "id": "cb980df8",
   "metadata": {},
   "outputs": [],
   "source": [
    "# 13. Explain the use of the `super()` function in Python polymorphism. How does it help call methods of parent\n",
    "# classes?\n",
    "\n",
    "\"\"\"\n",
    "The super() function is used to call a method from a parent class in a subclass. \n",
    "It is often used in the overridden methods to invoke the method of the superclass.\n",
    "\"\"\"\n",
    "class Animal:\n",
    "    def speak(self):\n",
    "        print(\"Generic animal sound\")\n",
    "\n",
    "class Dog(Animal):\n",
    "    def speak(self):\n",
    "        super().speak()\n",
    "        print(\"Woof!\")\n"
   ]
  },
  {
   "cell_type": "code",
   "execution_count": 193,
   "id": "5810da63",
   "metadata": {},
   "outputs": [],
   "source": [
    "# 14. Create a Python class hierarchy for a banking system with various account types \n",
    "# (e.g., savings, checking, credit card) and demonstrate polymorphism by implementing a common `withdraw()` method.\n",
    "\n",
    "class Account:\n",
    "    def withdraw(self, amount):\n",
    "        pass\n",
    "\n",
    "class SavingsAccount(Account):\n",
    "    def withdraw(self, amount):\n",
    "        print(f\"Withdrawing {amount} from Savings Account\")\n",
    "\n",
    "class CheckingAccount(Account):\n",
    "    def withdraw(self, amount):\n",
    "        print(f\"Withdrawing {amount} from Checking Account\")\n",
    "\n",
    "class CreditCardAccount(Account):\n",
    "    def withdraw(self, amount):\n",
    "        print(f\"Withdrawing {amount} from Credit Card Account\")\n"
   ]
  },
  {
   "cell_type": "code",
   "execution_count": 196,
   "id": "dfed57d5",
   "metadata": {},
   "outputs": [
    {
     "name": "stdout",
     "output_type": "stream",
     "text": [
      "<__main__.Point object at 0x7fd4a2118fd0>\n",
      "<__main__.Point object at 0x7fd4a2772dc0>\n",
      "Result of Addition: {'x': 4, 'y': 6}\n",
      "Result of Multiplication: {'x': 2, 'y': 4}\n"
     ]
    }
   ],
   "source": [
    "# 15. Describe the concept of operator overloading in Python and how it relates to polymorphism. Provide\n",
    "# examples using operators like `+` and `*`.\n",
    "\n",
    "class Point:\n",
    "    def __init__(self, x, y):\n",
    "        self.x = x\n",
    "        self.y = y\n",
    "\n",
    "    def __add__(self, other):\n",
    "        return Point(self.x + other.x, self.y + other.y)\n",
    "\n",
    "    def __mul__(self, scalar):\n",
    "        return Point(self.x * scalar, self.y * scalar)\n",
    "\n",
    "p1 = Point(1, 2)\n",
    "p2 = Point(3, 4)\n",
    "result_addition = p1 + p2  # Uses __add__ method\n",
    "result_multiplication = p1 * 2  # Uses __mul__ method\n",
    "\n",
    "print(result_addition)\n",
    "print(result_multiplication)\n",
    "\n",
    "print(\"Result of Addition:\", result_addition.__dict__)\n",
    "print(\"Result of Multiplication:\", result_multiplication.__dict__)"
   ]
  },
  {
   "cell_type": "code",
   "execution_count": 197,
   "id": "e836ae1b",
   "metadata": {},
   "outputs": [
    {
     "data": {
      "text/plain": [
       "'\\nDynamic polymorphism refers to the ability of a method to do different things based on the object it is acting upon.\\nIn Python, dynamic polymorphism is achieved through method overriding, \\nwhere the correct method is determined during runtime based on the actual object type.\\n'"
      ]
     },
     "execution_count": 197,
     "metadata": {},
     "output_type": "execute_result"
    }
   ],
   "source": [
    "# 16. What is dynamic polymorphism, and how is it achieved in Python?\n",
    "\"\"\"\n",
    "Dynamic polymorphism refers to the ability of a method to do different things based on the object it is acting upon.\n",
    "In Python, dynamic polymorphism is achieved through method overriding, \n",
    "where the correct method is determined during runtime based on the actual object type.\n",
    "\"\"\""
   ]
  },
  {
   "cell_type": "code",
   "execution_count": 198,
   "id": "76c6e5af",
   "metadata": {},
   "outputs": [],
   "source": [
    "# 17. Create a Python class hierarchy for employees in a company (e.g., manager, developer, designer) and implement polymorphism through a common `calculate_salary()` method.\n",
    "\n",
    "class Employee:\n",
    "    def calculate_salary(self):\n",
    "        pass\n",
    "\n",
    "class Manager(Employee):\n",
    "    def calculate_salary(self):\n",
    "        print(\"Calculating salary for Manager\")\n",
    "\n",
    "class Developer(Employee):\n",
    "    def calculate_salary(self):\n",
    "        print(\"Calculating salary for Developer\")\n",
    "\n",
    "class Designer(Employee):\n",
    "    def calculate_salary(self):\n",
    "        print(\"Calculating salary for Designer\")\n"
   ]
  },
  {
   "cell_type": "code",
   "execution_count": 199,
   "id": "334c0c40",
   "metadata": {},
   "outputs": [
    {
     "data": {
      "text/plain": [
       "'\\nIn Python, there are no function pointers in the traditional sense as in languages like C++. \\nHowever, you can achieve a similar effect using first-class functions and passing functions as arguments. \\nThis allows you to achieve a form of polymorphism where different functions can be used interchangeably.\\n'"
      ]
     },
     "execution_count": 199,
     "metadata": {},
     "output_type": "execute_result"
    }
   ],
   "source": [
    "# 18. Discuss the concept of function pointers and how they can be used to achieve polymorphism in Python.\n",
    "\n",
    "\"\"\"\n",
    "In Python, there are no function pointers in the traditional sense as in languages like C++. \n",
    "However, you can achieve a similar effect using first-class functions and passing functions as arguments. \n",
    "This allows you to achieve a form of polymorphism where different functions can be used interchangeably.\n",
    "\"\"\""
   ]
  },
  {
   "cell_type": "code",
   "execution_count": 200,
   "id": "e235f27a",
   "metadata": {},
   "outputs": [
    {
     "data": {
      "text/plain": [
       "'\\nIn Python, interfaces are not explicitly defined, but abstract classes from the abc module can be used to define \\nabstract methods, ensuring that subclasses implement those methods. Both interfaces and abstract classes \\nfacilitate polymorphism by providing a common structure that multiple classes can follow.\\n'"
      ]
     },
     "execution_count": 200,
     "metadata": {},
     "output_type": "execute_result"
    }
   ],
   "source": [
    "# 19. Explain the role of interfaces and abstract classes in polymorphism, drawing comparisons between them.\n",
    "\n",
    "\"\"\"\n",
    "In Python, interfaces are not explicitly defined, but abstract classes from the abc module can be used to define \n",
    "abstract methods, ensuring that subclasses implement those methods. Both interfaces and abstract classes \n",
    "facilitate polymorphism by providing a common structure that multiple classes can follow.\n",
    "\"\"\""
   ]
  },
  {
   "cell_type": "code",
   "execution_count": 201,
   "id": "9307c568",
   "metadata": {},
   "outputs": [
    {
     "name": "stdout",
     "output_type": "stream",
     "text": [
      "Lion: Mammal sound. Mammal is eating. Mammal is sleeping\n",
      "Parrot: Bird sound. Bird is eating. Bird is sleeping\n",
      "Snake: Reptile sound. Reptile is eating. Reptile is sleeping\n"
     ]
    }
   ],
   "source": [
    "# 20. Create a Python class for a zoo simulation, demonstrating polymorphism with different animal types\n",
    "# (e.g., mammals, birds, reptiles) and their behavior (e.g., eating, sleeping, making sounds).\n",
    "\n",
    "from abc import ABC, abstractmethod\n",
    "\n",
    "class Animal(ABC):\n",
    "    def __init__(self, name):\n",
    "        self.name = name\n",
    "\n",
    "    @abstractmethod\n",
    "    def make_sound(self):\n",
    "        pass\n",
    "\n",
    "    @abstractmethod\n",
    "    def eat(self):\n",
    "        pass\n",
    "\n",
    "    @abstractmethod\n",
    "    def sleep(self):\n",
    "        pass\n",
    "\n",
    "class Mammal(Animal):\n",
    "    def make_sound(self):\n",
    "        return \"Mammal sound\"\n",
    "\n",
    "    def eat(self):\n",
    "        return \"Mammal is eating\"\n",
    "\n",
    "    def sleep(self):\n",
    "        return \"Mammal is sleeping\"\n",
    "\n",
    "class Bird(Animal):\n",
    "    def make_sound(self):\n",
    "        return \"Bird sound\"\n",
    "\n",
    "    def eat(self):\n",
    "        return \"Bird is eating\"\n",
    "\n",
    "    def sleep(self):\n",
    "        return \"Bird is sleeping\"\n",
    "\n",
    "class Reptile(Animal):\n",
    "    def make_sound(self):\n",
    "        return \"Reptile sound\"\n",
    "\n",
    "    def eat(self):\n",
    "        return \"Reptile is eating\"\n",
    "\n",
    "    def sleep(self):\n",
    "        return \"Reptile is sleeping\"\n",
    "\n",
    "# Example Usage:\n",
    "mammal = Mammal(\"Lion\")\n",
    "bird = Bird(\"Parrot\")\n",
    "reptile = Reptile(\"Snake\")\n",
    "\n",
    "animals = [mammal, bird, reptile]\n",
    "\n",
    "for animal in animals:\n",
    "    print(f\"{animal.name}: {animal.make_sound()}. {animal.eat()}. {animal.sleep()}\")\n"
   ]
  },
  {
   "cell_type": "markdown",
   "id": "9c128b3c",
   "metadata": {},
   "source": [
    "# Abstraction"
   ]
  },
  {
   "cell_type": "code",
   "execution_count": 205,
   "id": "eff3d29a",
   "metadata": {},
   "outputs": [
    {
     "data": {
      "text/plain": [
       "'\\nAbstraction in Python is a fundamental concept in object-oriented programming (OOP) that involves simplifying \\ncomplex systems by modeling classes based on essential properties and behaviors. It allows developers to focus on \\nthe essential aspects of an object while hiding unnecessary details. Abstraction helps in managing complexity,\\npromoting code reusability, and enhancing the maintainability of code.\\n'"
      ]
     },
     "execution_count": 205,
     "metadata": {},
     "output_type": "execute_result"
    }
   ],
   "source": [
    "# 1. What is abstraction in Python, and how does it relate to object-oriented programming?\n",
    "\"\"\"\n",
    "Abstraction in Python is a fundamental concept in object-oriented programming (OOP) that involves simplifying \n",
    "complex systems by modeling classes based on essential properties and behaviors. It allows developers to focus on \n",
    "the essential aspects of an object while hiding unnecessary details. Abstraction helps in managing complexity,\n",
    "promoting code reusability, and enhancing the maintainability of code.\n",
    "\"\"\""
   ]
  },
  {
   "cell_type": "code",
   "execution_count": 203,
   "id": "a446b5e2",
   "metadata": {},
   "outputs": [
    {
     "data": {
      "text/plain": [
       "'\\nCode Organization: Abstraction allows the organization of code into modular and manageable components. \\nBy defining abstract classes and interfaces, developers can structure their code in a way that reflects the essential \\nrelationships and interactions between different objects.\\nComplexity Reduction: Abstraction helps in reducing the complexity of a system by focusing on essential \\nfeatures and ignoring non-essential details. This makes the code more readable, understandable, and easier to maintain.\\n'"
      ]
     },
     "execution_count": 203,
     "metadata": {},
     "output_type": "execute_result"
    }
   ],
   "source": [
    "# 2. Describe the benefits of abstraction in terms of code organization and complexity reduction.\n",
    "\"\"\"\n",
    "Code Organization: Abstraction allows the organization of code into modular and manageable components. \n",
    "By defining abstract classes and interfaces, developers can structure their code in a way that reflects the essential \n",
    "relationships and interactions between different objects.\n",
    "Complexity Reduction: Abstraction helps in reducing the complexity of a system by focusing on essential \n",
    "features and ignoring non-essential details. This makes the code more readable, understandable, and easier to maintain.\n",
    "\"\"\""
   ]
  },
  {
   "cell_type": "code",
   "execution_count": 204,
   "id": "03248bf1",
   "metadata": {},
   "outputs": [
    {
     "name": "stdout",
     "output_type": "stream",
     "text": [
      "Circle Area: 78.5\n",
      "Rectangle Area: 24\n"
     ]
    }
   ],
   "source": [
    "# 3. Create a Python class called `Shape` with an abstract method `calculate_area()`. Then, create child classes (e.g., `Circle`, `Rectangle`) that implement the `calculate_area()` method. Provide an example of\n",
    "# using these classes.\n",
    "\n",
    "from abc import ABC, abstractmethod\n",
    "\n",
    "class Shape(ABC):\n",
    "    @abstractmethod\n",
    "    def calculate_area(self):\n",
    "        pass\n",
    "\n",
    "class Circle(Shape):\n",
    "    def __init__(self, radius):\n",
    "        self.radius = radius\n",
    "\n",
    "    def calculate_area(self):\n",
    "        return 3.14 * self.radius**2\n",
    "\n",
    "class Rectangle(Shape):\n",
    "    def __init__(self, width, height):\n",
    "        self.width = width\n",
    "        self.height = height\n",
    "\n",
    "    def calculate_area(self):\n",
    "        return self.width * self.height\n",
    "\n",
    "# Example usage\n",
    "circle = Circle(radius=5)\n",
    "rectangle = Rectangle(width=4, height=6)\n",
    "\n",
    "print(f\"Circle Area: {circle.calculate_area()}\")\n",
    "print(f\"Rectangle Area: {rectangle.calculate_area()}\")\n"
   ]
  },
  {
   "cell_type": "code",
   "execution_count": 214,
   "id": "9de22ae0",
   "metadata": {},
   "outputs": [
    {
     "name": "stdout",
     "output_type": "stream",
     "text": [
      "Subclass is doing something\n"
     ]
    }
   ],
   "source": [
    "# 4. Explain the concept of abstract classes in Python and how they are defined using the `abc` module. Provide\n",
    "# an example.\n",
    "\n",
    "\"\"\"\n",
    "Abstract classes in Python are classes that cannot be instantiated and may contain abstract methods, \n",
    "which are methods without a body. The abc module is used to define abstract base classes.\n",
    "\n",
    "\"\"\"\n",
    "\n",
    "\n",
    "from abc import ABC, abstractmethod\n",
    "\n",
    "class AbstractClassExample(ABC):\n",
    "    @abstractmethod\n",
    "    def do_something(self):\n",
    "        pass\n",
    "\n",
    "class AnotherSubclass(AbstractClassExample):\n",
    "    def do_something(self):\n",
    "        super().do_something()\n",
    "        print(\"Subclass is doing something\")\n",
    "\n",
    "# Example usage\n",
    "x = AnotherSubclass()\n",
    "x.do_something()\n"
   ]
  },
  {
   "cell_type": "code",
   "execution_count": 215,
   "id": "4d0a3dcb",
   "metadata": {},
   "outputs": [
    {
     "data": {
      "text/plain": [
       "'\\nInstantiation: Abstract classes cannot be instantiated, while regular classes can be.\\nAbstract Methods: Abstract classes can have abstract methods (methods without a body) that must be implemented \\nby their subclasses.\\nUse Cases: Abstract classes are used when you want to define a common interface for a group of related classes, \\nensuring that all subclasses implement certain methods. Regular classes are used for general implementations.\\n'"
      ]
     },
     "execution_count": 215,
     "metadata": {},
     "output_type": "execute_result"
    }
   ],
   "source": [
    "# 5. How do abstract classes differ from regular classes in Python? Discuss their use cases.\n",
    "\n",
    "\"\"\"\n",
    "Instantiation: Abstract classes cannot be instantiated, while regular classes can be.\n",
    "Abstract Methods: Abstract classes can have abstract methods (methods without a body) that must be implemented \n",
    "by their subclasses.\n",
    "Use Cases: Abstract classes are used when you want to define a common interface for a group of related classes, \n",
    "ensuring that all subclasses implement certain methods. Regular classes are used for general implementations.\n",
    "\"\"\""
   ]
  },
  {
   "cell_type": "code",
   "execution_count": 216,
   "id": "c9697b89",
   "metadata": {},
   "outputs": [
    {
     "name": "stdout",
     "output_type": "stream",
     "text": [
      "Balance: 500\n"
     ]
    }
   ],
   "source": [
    "# 6. Create a Python class for a bank account and demonstrate abstraction by hiding the account balance and\n",
    "# providing methods to deposit and withdraw funds.\n",
    "\n",
    "from abc import ABC, abstractmethod\n",
    "\n",
    "class BankAccount(ABC):\n",
    "    def __init__(self, balance=0):\n",
    "        self._balance = balance\n",
    "\n",
    "    @abstractmethod\n",
    "    def deposit(self, amount):\n",
    "        pass\n",
    "\n",
    "    @abstractmethod\n",
    "    def withdraw(self, amount):\n",
    "        pass\n",
    "\n",
    "class SavingsAccount(BankAccount):\n",
    "    def deposit(self, amount):\n",
    "        self._balance += amount\n",
    "\n",
    "    def withdraw(self, amount):\n",
    "        if amount <= self._balance:\n",
    "            self._balance -= amount\n",
    "        else:\n",
    "            print(\"Insufficient funds\")\n",
    "\n",
    "# Example usage\n",
    "savings_account = SavingsAccount()\n",
    "savings_account.deposit(1000)\n",
    "savings_account.withdraw(500)\n",
    "print(f\"Balance: {savings_account._balance}\")\n"
   ]
  },
  {
   "cell_type": "code",
   "execution_count": 217,
   "id": "6e22bfb3",
   "metadata": {},
   "outputs": [
    {
     "data": {
      "text/plain": [
       "\"\\n\\nIn Python, an interface class is essentially an abstract class that defines a set of abstract methods. \\nIt serves as a blueprint for other classes to follow, ensuring that they implement the specified methods. \\nWhile Python doesn't have a specific interface keyword, the abc module can be used to create interface-like structures.\\n\""
      ]
     },
     "execution_count": 217,
     "metadata": {},
     "output_type": "execute_result"
    }
   ],
   "source": [
    "# 7. Discuss the concept of interface classes in Python and their role in achieving abstraction.\n",
    "\"\"\"\n",
    "\n",
    "In Python, an interface class is essentially an abstract class that defines a set of abstract methods. \n",
    "It serves as a blueprint for other classes to follow, ensuring that they implement the specified methods. \n",
    "While Python doesn't have a specific interface keyword, the abc module can be used to create interface-like structures.\n",
    "\"\"\""
   ]
  },
  {
   "cell_type": "code",
   "execution_count": 243,
   "id": "a538e32a",
   "metadata": {},
   "outputs": [
    {
     "name": "stdout",
     "output_type": "stream",
     "text": [
      "Buddy the Dog is eating\n",
      "Buddy the Dog is sleeping\n",
      "\n",
      "Whiskers the Cat is eating\n",
      "Whiskers the Cat is sleeping\n",
      "\n",
      "Simba the Lion is eating\n",
      "Simba the Lion is sleeping\n",
      "\n"
     ]
    }
   ],
   "source": [
    "# 8. Create a Python class hierarchy for animals and implement abstraction by defining common methods (e.g., `eat()`, `sleep()`) in an abstract base class.\n",
    "from abc import ABC, abstractmethod\n",
    "\n",
    "class Animal(ABC):\n",
    "    def __init__(self, name):\n",
    "        self.name = name\n",
    "\n",
    "    @abstractmethod\n",
    "    def eat(self):\n",
    "        pass\n",
    "\n",
    "    @abstractmethod\n",
    "    def sleep(self):\n",
    "        pass\n",
    "\n",
    "class Dog(Animal):\n",
    "    def eat(self):\n",
    "        print(f\"{self.name} the Dog is eating\")\n",
    "\n",
    "    def sleep(self):\n",
    "        print(f\"{self.name} the Dog is sleeping\")\n",
    "\n",
    "class Cat(Animal):\n",
    "    def eat(self):\n",
    "        print(f\"{self.name} the Cat is eating\")\n",
    "\n",
    "    def sleep(self):\n",
    "        print(f\"{self.name} the Cat is sleeping\")\n",
    "\n",
    "class Lion(Animal):\n",
    "    def eat(self):\n",
    "        print(f\"{self.name} the Lion is eating\")\n",
    "\n",
    "    def sleep(self):\n",
    "        print(f\"{self.name} the Lion is sleeping\")\n",
    "\n",
    "# Example usage\n",
    "dog = Dog(\"Buddy\")\n",
    "cat = Cat(\"Whiskers\")\n",
    "lion = Lion(\"Simba\")\n",
    "\n",
    "animals = [dog, cat, lion]\n",
    "\n",
    "for animal in animals:\n",
    "    animal.eat()\n",
    "    animal.sleep()\n",
    "    print()\n",
    "\n"
   ]
  },
  {
   "cell_type": "code",
   "execution_count": 277,
   "id": "8bc527a4",
   "metadata": {},
   "outputs": [
    {
     "data": {
      "text/plain": [
       "\"\\nData Hiding:\\nEncapsulation allows you to hide the internal implementation details of a class. \\nThis is achieved by making certain attributes or methods private, accessible only within the class.\\n\\nAbstraction through Methods:\\nEncapsulation enables the definition of abstract interfaces using methods. The internal details are hidden, \\nand users interact with the class through well-defined methods.\\n\\nControlled Access:\\nEncapsulation allows controlled access to attributes and methods, ensuring that users of the class adhere to \\nthe specified interface without directly manipulating internal details.\\n\\nCode Maintenance and Evolution:\\nEncapsulation makes it easier to maintain and evolve the codebase. Internal changes can be made without \\naffecting the external code that relies on the class's interface.\\n\\nIn summary, encapsulation provides a way to hide implementation details and expose a well-defined interface, \\nfacilitating abstraction by allowing users to interact with objects in a controlled and intuitive manner.\\n\""
      ]
     },
     "execution_count": 277,
     "metadata": {},
     "output_type": "execute_result"
    }
   ],
   "source": [
    "# 9. Explain the significance of encapsulation in achieving abstraction. Provide examples.\n",
    "\n",
    "\"\"\"\n",
    "Data Hiding:\n",
    "Encapsulation allows you to hide the internal implementation details of a class. \n",
    "This is achieved by making certain attributes or methods private, accessible only within the class.\n",
    "\n",
    "Abstraction through Methods:\n",
    "Encapsulation enables the definition of abstract interfaces using methods. The internal details are hidden, \n",
    "and users interact with the class through well-defined methods.\n",
    "\n",
    "Controlled Access:\n",
    "Encapsulation allows controlled access to attributes and methods, ensuring that users of the class adhere to \n",
    "the specified interface without directly manipulating internal details.\n",
    "\n",
    "Code Maintenance and Evolution:\n",
    "Encapsulation makes it easier to maintain and evolve the codebase. Internal changes can be made without \n",
    "affecting the external code that relies on the class's interface.\n",
    "\n",
    "In summary, encapsulation provides a way to hide implementation details and expose a well-defined interface, \n",
    "facilitating abstraction by allowing users to interact with objects in a controlled and intuitive manner.\n",
    "\"\"\""
   ]
  },
  {
   "cell_type": "code",
   "execution_count": 278,
   "id": "347e7838",
   "metadata": {},
   "outputs": [
    {
     "data": {
      "text/plain": [
       "'\\nPurpose of Abstract Methods:\\nAbstract methods are methods declared in an abstract class that have no implementation.\\nThe primary purpose is to define a common interface that must be implemented by all the concrete (non-abstract) subclasses.\\nAbstract methods ensure that the subclasses provide a specific behavior without dictating the implementation details.\\nEnforcing Abstraction:\\nAbstraction is the concept of hiding complex implementation details and showing only the necessary features of an object.\\nAbstract methods play a crucial role in enforcing abstraction by defining a contract that subclasses must adhere to.\\nWhen a class contains abstract methods, any concrete subclass must provide concrete implementations for these methods.\\nThis ensures that all subclasses share a common set of methods, maintaining a consistent and predictable interface.\\n'"
      ]
     },
     "execution_count": 278,
     "metadata": {},
     "output_type": "execute_result"
    }
   ],
   "source": [
    "# 10. What is the purpose of abstract methods, and how do they enforce abstraction in Python classes?\n",
    "\n",
    "\"\"\"\n",
    "Purpose of Abstract Methods:\n",
    "Abstract methods are methods declared in an abstract class that have no implementation.\n",
    "The primary purpose is to define a common interface that must be implemented by all the concrete (non-abstract) subclasses.\n",
    "Abstract methods ensure that the subclasses provide a specific behavior without dictating the implementation details.\n",
    "Enforcing Abstraction:\n",
    "Abstraction is the concept of hiding complex implementation details and showing only the necessary features of an object.\n",
    "Abstract methods play a crucial role in enforcing abstraction by defining a contract that subclasses must adhere to.\n",
    "When a class contains abstract methods, any concrete subclass must provide concrete implementations for these methods.\n",
    "This ensures that all subclasses share a common set of methods, maintaining a consistent and predictable interface.\n",
    "\"\"\""
   ]
  },
  {
   "cell_type": "code",
   "execution_count": 279,
   "id": "432ec22e",
   "metadata": {},
   "outputs": [
    {
     "name": "stdout",
     "output_type": "stream",
     "text": [
      "The Toyota Camry car is starting.\n",
      "The Toyota Camry car is stopping.\n",
      "The Schwinn Mountain Bike bicycle is starting.\n",
      "The Schwinn Mountain Bike bicycle is stopping.\n"
     ]
    }
   ],
   "source": [
    "# 11. Create a Python class for a vehicle system and demonstrate abstraction by defining common methods (e.g., `start()`, `stop()`) in an abstract base class.\n",
    "\n",
    "from abc import ABC, abstractmethod\n",
    "\n",
    "# Abstract base class for vehicles\n",
    "class Vehicle(ABC):\n",
    "    def __init__(self, make, model):\n",
    "        self.make = make\n",
    "        self.model = model\n",
    "\n",
    "    @abstractmethod\n",
    "    def start(self):\n",
    "        pass\n",
    "\n",
    "    @abstractmethod\n",
    "    def stop(self):\n",
    "        pass\n",
    "\n",
    "# Concrete subclass for a Car\n",
    "class Car(Vehicle):\n",
    "    def __init__(self, make, model, num_doors):\n",
    "        super().__init__(make, model)\n",
    "        self.num_doors = num_doors\n",
    "\n",
    "    def start(self):\n",
    "        return f\"The {self.make} {self.model} car is starting.\"\n",
    "\n",
    "    def stop(self):\n",
    "        return f\"The {self.make} {self.model} car is stopping.\"\n",
    "\n",
    "# Concrete subclass for a Bicycle\n",
    "class Bicycle(Vehicle):\n",
    "    def __init__(self, make, model, num_gears):\n",
    "        super().__init__(make, model)\n",
    "        self.num_gears = num_gears\n",
    "\n",
    "    def start(self):\n",
    "        return f\"The {self.make} {self.model} bicycle is starting.\"\n",
    "\n",
    "    def stop(self):\n",
    "        return f\"The {self.make} {self.model} bicycle is stopping.\"\n",
    "\n",
    "# Usage\n",
    "car = Car(\"Toyota\", \"Camry\", 4)\n",
    "bicycle = Bicycle(\"Schwinn\", \"Mountain Bike\", 21)\n",
    "\n",
    "print(car.start())  # Concrete implementation for start() in Car\n",
    "print(car.stop())   # Concrete implementation for stop() in Car\n",
    "\n",
    "print(bicycle.start())  # Concrete implementation for start() in Bicycle\n",
    "print(bicycle.stop())   # Concrete implementation for stop() in Bicycle\n",
    "\n"
   ]
  },
  {
   "cell_type": "code",
   "execution_count": 280,
   "id": "2f3aee74",
   "metadata": {},
   "outputs": [
    {
     "name": "stdout",
     "output_type": "stream",
     "text": [
      "Circle Area: 78.5\n",
      "Rectangle Area: 24\n"
     ]
    },
    {
     "data": {
      "text/plain": [
       "'\\n`Shape is an abstract base class with an abstract property area.\\nConcrete subclasses Circle and Rectangle inherit from Shape and provide their own implementations for the area \\nproperty.\\nThe abstract property enforces that any subclass of Shape must implement a area property, promoting a common \\ninterface for shape classes.\\n\\n'"
      ]
     },
     "execution_count": 280,
     "metadata": {},
     "output_type": "execute_result"
    }
   ],
   "source": [
    "# 12. Describe the use of abstract properties in Python and how they can be employed in abstract classes.\n",
    "\"\"\"\n",
    "In Python, abstract properties are used in abstract classes to define a common interface for properties that must \n",
    "be implemented by concrete subclasses. Abstract properties ensure that any subclass inheriting from an abstract \n",
    "class provides a specific property with a getter and/or setter method. To work with abstract properties, \n",
    "the @property and @propertyname.setter decorators are used in conjunction with the ABC (Abstract Base Class) module.\n",
    "\"\"\"\n",
    "from abc import ABC, abstractmethod\n",
    "\n",
    "# Abstract base class for shapes\n",
    "class Shape(ABC):\n",
    "    @property\n",
    "    @abstractmethod\n",
    "    def area(self):\n",
    "        pass\n",
    "\n",
    "# Concrete subclass for a Circle\n",
    "class Circle(Shape):\n",
    "    def __init__(self, radius):\n",
    "        self._radius = radius\n",
    "\n",
    "    @property\n",
    "    def area(self):\n",
    "        return 3.14 * self._radius ** 2\n",
    "\n",
    "# Concrete subclass for a Rectangle\n",
    "class Rectangle(Shape):\n",
    "    def __init__(self, length, width):\n",
    "        self._length = length\n",
    "        self._width = width\n",
    "\n",
    "    @property\n",
    "    def area(self):\n",
    "        return self._length * self._width\n",
    "\n",
    "# Usage\n",
    "circle = Circle(5)\n",
    "rectangle = Rectangle(4, 6)\n",
    "\n",
    "print(f\"Circle Area: {circle.area}\")\n",
    "print(f\"Rectangle Area: {rectangle.area}\")\n",
    "\n",
    "\n",
    "\"\"\"\n",
    "`Shape is an abstract base class with an abstract property area.\n",
    "Concrete subclasses Circle and Rectangle inherit from Shape and provide their own implementations for the area \n",
    "property.\n",
    "The abstract property enforces that any subclass of Shape must implement a area property, promoting a common \n",
    "interface for shape classes.\n",
    "\n",
    "\"\"\""
   ]
  },
  {
   "cell_type": "code",
   "execution_count": 282,
   "id": "169a3a04",
   "metadata": {},
   "outputs": [
    {
     "name": "stdout",
     "output_type": "stream",
     "text": [
      "Manager Salary: $80000\n",
      "Developer Salary: $6400\n",
      "Designer Salary: $65000\n"
     ]
    }
   ],
   "source": [
    "# 13. Create a Python class hierarchy for employees in a company (e.g., manager, developer, designer) and implement abstraction by defining a common `get_salary()` method.\n",
    "\n",
    "from abc import ABC, abstractmethod\n",
    "\n",
    "# Abstract base class for employees\n",
    "class Employee(ABC):\n",
    "    def __init__(self, name, employee_id):\n",
    "        self.name = name\n",
    "        self.employee_id = employee_id\n",
    "\n",
    "    @abstractmethod\n",
    "    def get_salary(self):\n",
    "        pass\n",
    "\n",
    "# Concrete subclass for a Manager\n",
    "class Manager(Employee):\n",
    "    def __init__(self, name, employee_id, salary):\n",
    "        super().__init__(name, employee_id)\n",
    "        self.salary = salary\n",
    "\n",
    "    def get_salary(self):\n",
    "        return self.salary\n",
    "\n",
    "# Concrete subclass for a Developer\n",
    "class Developer(Employee):\n",
    "    def __init__(self, name, employee_id, hourly_rate, hours_worked):\n",
    "        super().__init__(name, employee_id)\n",
    "        self.hourly_rate = hourly_rate\n",
    "        self.hours_worked = hours_worked\n",
    "\n",
    "    def get_salary(self):\n",
    "        return self.hourly_rate * self.hours_worked\n",
    "\n",
    "# Concrete subclass for a Designer\n",
    "class Designer(Employee):\n",
    "    def __init__(self, name, employee_id, monthly_salary, bonus):\n",
    "        super().__init__(name, employee_id)\n",
    "        self.monthly_salary = monthly_salary\n",
    "        self.bonus = bonus\n",
    "\n",
    "    def get_salary(self):\n",
    "        return self.monthly_salary + self.bonus\n",
    "\n",
    "# Usage\n",
    "manager = Manager(\"John Doe\", \"M001\", 80000)\n",
    "developer = Developer(\"Alice Smith\", \"D001\", 40, 160)\n",
    "designer = Designer(\"Bob Johnson\", \"DS001\", 60000, 5000)\n",
    "\n",
    "print(f\"Manager Salary: ${manager.get_salary()}\")\n",
    "print(f\"Developer Salary: ${developer.get_salary()}\")\n",
    "print(f\"Designer Salary: ${designer.get_salary()}\")\n",
    "\n"
   ]
  },
  {
   "cell_type": "code",
   "execution_count": 1,
   "id": "65ecb9a9",
   "metadata": {},
   "outputs": [
    {
     "data": {
      "text/plain": [
       "'\\nInstantiation: Abstract classes cannot be instantiated on their own; they require concrete subclasses to provide \\nimplementations for their abstract methods. Concrete classes, on the other hand, can be instantiated directly.\\n\\nAbstract Methods: Abstract classes may contain abstract methods (methods without implementation) that must be \\nimplemented by concrete subclasses. Concrete classes have fully implemented methods.\\n\\nPurpose: Abstract classes are often used as blueprints or templates, defining a common interface for multiple \\nrelated classes. Concrete classes provide specific implementations for that interface.\\n\\nCompleteness: Abstract classes may contain a mix of abstract and concrete methods, while concrete classes only \\nhave concrete methods.\\n\\nUse Cases: Abstract classes are suitable when you want to define a common structure for a group of related classes. \\nConcrete classes are used when you have a complete implementation and want to create instances.\\n\\n'"
      ]
     },
     "execution_count": 1,
     "metadata": {},
     "output_type": "execute_result"
    }
   ],
   "source": [
    "# 14. Discuss the differences between abstract classes and concrete classes in Python, including their\n",
    "# instantiation.\n",
    "\n",
    "\"\"\"\n",
    "Instantiation: Abstract classes cannot be instantiated on their own; they require concrete subclasses to provide \n",
    "implementations for their abstract methods. Concrete classes, on the other hand, can be instantiated directly.\n",
    "\n",
    "Abstract Methods: Abstract classes may contain abstract methods (methods without implementation) that must be \n",
    "implemented by concrete subclasses. Concrete classes have fully implemented methods.\n",
    "\n",
    "Purpose: Abstract classes are often used as blueprints or templates, defining a common interface for multiple \n",
    "related classes. Concrete classes provide specific implementations for that interface.\n",
    "\n",
    "Completeness: Abstract classes may contain a mix of abstract and concrete methods, while concrete classes only \n",
    "have concrete methods.\n",
    "\n",
    "Use Cases: Abstract classes are suitable when you want to define a common structure for a group of related classes. \n",
    "Concrete classes are used when you have a complete implementation and want to create instances.\n",
    "\n",
    "\"\"\""
   ]
  },
  {
   "cell_type": "code",
   "execution_count": 2,
   "id": "b864a5c8",
   "metadata": {},
   "outputs": [
    {
     "data": {
      "text/plain": [
       "'\\n\\nAbstract Data Types are high-level descriptions of entities that specify the behavior without defining the \\nimplementation details. They help achieve abstraction by hiding the complexities of the data and focusing on \\nwhat operations can be performed.\\n\\nExamples of ADTs include stacks, queues, lists, etc. These can be implemented using classes in Python, \\nwhere the class provides a blueprint for the ADT, and instances represent specific implementations.\\n'"
      ]
     },
     "execution_count": 2,
     "metadata": {},
     "output_type": "execute_result"
    }
   ],
   "source": [
    "# 15. Explain the concept of abstract data types (ADTs) and their role in achieving abstraction in Python.\n",
    "\n",
    "\"\"\"\n",
    "\n",
    "Abstract Data Types are high-level descriptions of entities that specify the behavior without defining the \n",
    "implementation details. They help achieve abstraction by hiding the complexities of the data and focusing on \n",
    "what operations can be performed.\n",
    "\n",
    "Examples of ADTs include stacks, queues, lists, etc. These can be implemented using classes in Python, \n",
    "where the class provides a blueprint for the ADT, and instances represent specific implementations.\n",
    "\"\"\""
   ]
  },
  {
   "cell_type": "code",
   "execution_count": 3,
   "id": "75260210",
   "metadata": {},
   "outputs": [
    {
     "name": "stdout",
     "output_type": "stream",
     "text": [
      "Desktop Computer: Powering on...\n"
     ]
    }
   ],
   "source": [
    "# 16. Create a Python class for a computer system, demonstrating abstraction by defining common methods (e.g., `power_on()`, `shutdown()`) in an abstract base class.\n",
    "\n",
    "from abc import ABC, abstractmethod\n",
    "\n",
    "class ComputerSystem(ABC):\n",
    "    @abstractmethod\n",
    "    def power_on(self):\n",
    "        pass\n",
    "\n",
    "    @abstractmethod\n",
    "    def shutdown(self):\n",
    "        pass\n",
    "\n",
    "class DesktopComputer(ComputerSystem):\n",
    "    def power_on(self):\n",
    "        print(\"Desktop Computer: Powering on...\")\n",
    "\n",
    "    def shutdown(self):\n",
    "        print(\"Desktop Computer: Shutting down...\")\n",
    "\n",
    "class LaptopComputer(ComputerSystem):\n",
    "    def power_on(self):\n",
    "        print(\"Laptop Computer: Powering on...\")\n",
    "\n",
    "    def shutdown(self):\n",
    "        print(\"Laptop Computer: Shutting down...\")\n",
    "\n",
    "# Usage\n",
    "desktop = DesktopComputer()\n",
    "desktop.power_on()\n"
   ]
  },
  {
   "cell_type": "code",
   "execution_count": 4,
   "id": "1c5327df",
   "metadata": {},
   "outputs": [
    {
     "data": {
      "text/plain": [
       "'\\nCode Organization: Abstraction allows for clear organization, separating high-level design from implementation details.\\n\\nCode Reusability: Abstract classes and interfaces enable the reuse of common structures and functionalities across \\ndifferent modules.\\n\\nFlexibility: Abstraction makes it easier to adapt to changes or add new features without affecting the entire codebase.\\n\\n'"
      ]
     },
     "execution_count": 4,
     "metadata": {},
     "output_type": "execute_result"
    }
   ],
   "source": [
    "# 17. Discuss the benefits of using abstraction in large-scale software development projects.\n",
    "\n",
    "\"\"\"\n",
    "Code Organization: Abstraction allows for clear organization, separating high-level design from implementation details.\n",
    "\n",
    "Code Reusability: Abstract classes and interfaces enable the reuse of common structures and functionalities across \n",
    "different modules.\n",
    "\n",
    "Flexibility: Abstraction makes it easier to adapt to changes or add new features without affecting the entire codebase.\n",
    "\n",
    "\"\"\""
   ]
  },
  {
   "cell_type": "code",
   "execution_count": 5,
   "id": "209790d7",
   "metadata": {},
   "outputs": [
    {
     "data": {
      "text/plain": [
       "'\\nAbstraction promotes the creation of reusable components (abstract classes, interfaces) that can be easily \\nintegrated into different parts of the program.\\n\\nBy defining common interfaces and abstract classes, modules become independent, enhancing modularity.\\n\\n'"
      ]
     },
     "execution_count": 5,
     "metadata": {},
     "output_type": "execute_result"
    }
   ],
   "source": [
    "# 18. Explain how abstraction enhances code reusability and modularity in Python programs.\n",
    "\n",
    "\"\"\"\n",
    "Abstraction promotes the creation of reusable components (abstract classes, interfaces) that can be easily \n",
    "integrated into different parts of the program.\n",
    "\n",
    "By defining common interfaces and abstract classes, modules become independent, enhancing modularity.\n",
    "\n",
    "\"\"\""
   ]
  },
  {
   "cell_type": "code",
   "execution_count": 6,
   "id": "26d17ed2",
   "metadata": {},
   "outputs": [
    {
     "name": "stdout",
     "output_type": "stream",
     "text": [
      "Book 'Python Programming' added to the library.\n"
     ]
    }
   ],
   "source": [
    "# 19. Create a Python class for a library system, implementing abstraction by defining common methods (e.g., `add_book()`, `borrow_book()`) in an abstract base class.\n",
    "\n",
    "from abc import ABC, abstractmethod\n",
    "\n",
    "class LibrarySystem(ABC):\n",
    "    @abstractmethod\n",
    "    def add_book(self, book):\n",
    "        pass\n",
    "\n",
    "    @abstractmethod\n",
    "    def borrow_book(self, book, user):\n",
    "        pass\n",
    "\n",
    "class ConcreteLibrarySystem(LibrarySystem):\n",
    "    def add_book(self, book):\n",
    "        print(f\"Book '{book}' added to the library.\")\n",
    "\n",
    "    def borrow_book(self, book, user):\n",
    "        print(f\"User '{user}' borrowed the book '{book}'.\")\n",
    "\n",
    "# Usage\n",
    "library = ConcreteLibrarySystem()\n",
    "library.add_book(\"Python Programming\")\n"
   ]
  },
  {
   "cell_type": "code",
   "execution_count": 7,
   "id": "13b6dcdf",
   "metadata": {},
   "outputs": [
    {
     "data": {
      "text/plain": [
       "'\\n\\nMethod abstraction involves defining methods in abstract classes or interfaces without specifying their implementation.\\n\\nPolymorphism comes into play when concrete classes provide their own implementations for these abstract methods, \\nallowing instances to be used interchangeably based on the common interface.\\n'"
      ]
     },
     "execution_count": 7,
     "metadata": {},
     "output_type": "execute_result"
    }
   ],
   "source": [
    "# 20. Describe the concept of method abstraction in Python and how it relates to polymorphism.\n",
    "\"\"\"\n",
    "\n",
    "Method abstraction involves defining methods in abstract classes or interfaces without specifying their implementation.\n",
    "\n",
    "Polymorphism comes into play when concrete classes provide their own implementations for these abstract methods, \n",
    "allowing instances to be used interchangeably based on the common interface.\n",
    "\"\"\""
   ]
  },
  {
   "cell_type": "markdown",
   "id": "760ba834",
   "metadata": {},
   "source": [
    "# Composition"
   ]
  },
  {
   "cell_type": "code",
   "execution_count": 2,
   "id": "34f5db8d",
   "metadata": {},
   "outputs": [
    {
     "data": {
      "text/plain": [
       "'\\nComposition in Python refers to a design principle where one class contains instances of other classes to build complex objects. It allows for creating complex types by combining simpler ones, promoting code reuse and flexibility. For example, a Car class can contain instances of Engine, Wheel, and Transmission classes.\\n'"
      ]
     },
     "execution_count": 2,
     "metadata": {},
     "output_type": "execute_result"
    }
   ],
   "source": [
    "# 1. Explain the concept of composition in Python and how it is used to build complex objects from simpler ones.\n",
    "\"\"\"\n",
    "Composition in Python refers to a design principle where one class contains instances of other classes to build complex objects. It allows for creating complex types by combining simpler ones, promoting code reuse and flexibility. For example, a Car class can contain instances of Engine, Wheel, and Transmission classes.\n",
    "\"\"\""
   ]
  },
  {
   "cell_type": "code",
   "execution_count": 3,
   "id": "b4ee4f25",
   "metadata": {},
   "outputs": [
    {
     "data": {
      "text/plain": [
       "'\\nComposition: Involves creating complex objects using simpler objects; promotes a \"has-a\" relationship (e.g., a Car has an Engine).\\nInheritance: Involves creating new classes based on existing ones; promotes an \"is-a\" relationship (e.g., a Dog is an Animal). Inheritance can lead to a fragile hierarchy, while composition offers more flexibility.\\n\\n'"
      ]
     },
     "execution_count": 3,
     "metadata": {},
     "output_type": "execute_result"
    }
   ],
   "source": [
    "# 2. Describe the difference between composition and inheritance in object-oriented programming.\n",
    "\"\"\"\n",
    "Composition: Involves creating complex objects using simpler objects; promotes a \"has-a\" relationship (e.g., a Car has an Engine).\n",
    "Inheritance: Involves creating new classes based on existing ones; promotes an \"is-a\" relationship (e.g., a Dog is an Animal). Inheritance can lead to a fragile hierarchy, while composition offers more flexibility.\n",
    "\n",
    "\"\"\"\n"
   ]
  },
  {
   "cell_type": "code",
   "execution_count": 4,
   "id": "2728c168",
   "metadata": {},
   "outputs": [],
   "source": [
    "# 3. Create a Python class called `Author` with attributes for name and birthdate. Then, create a `Book` class\n",
    "# that contains an instance of `Author` as a composition. Provide an example of creating a `Book` object.\n",
    "class Author:\n",
    "    def __init__(self, name, birthdate):\n",
    "        self.name = name\n",
    "        self.birthdate = birthdate\n",
    "\n",
    "class Book:\n",
    "    def __init__(self, title, author):\n",
    "        self.title = title\n",
    "        self.author = author\n",
    "\n",
    "# Example of creating a Book object\n",
    "author_instance = Author(\"J.K. Rowling\", \"1965-07-31\")\n",
    "book_instance = Book(\"Harry Potter\", author_instance)\n",
    "\n"
   ]
  },
  {
   "cell_type": "code",
   "execution_count": 8,
   "id": "b3dcd4d1",
   "metadata": {},
   "outputs": [
    {
     "data": {
      "text/plain": [
       "'Flexibility: Changes to composed classes do not affect the entire hierarchy.\\nReusability: Components can be reused in different contexts without altering their definitions.\\nEasier Testing: Smaller, self-contained components are easier to test.\\n\\n'"
      ]
     },
     "execution_count": 8,
     "metadata": {},
     "output_type": "execute_result"
    }
   ],
   "source": [
    "# 4. Discuss the benefits of using composition over inheritance in Python, especially in terms of code flexibility\n",
    "# and reusability.\n",
    "\"\"\"Flexibility: Changes to composed classes do not affect the entire hierarchy.\n",
    "Reusability: Components can be reused in different contexts without altering their definitions.\n",
    "Easier Testing: Smaller, self-contained components are easier to test.\n",
    "\n",
    "\"\"\""
   ]
  },
  {
   "cell_type": "code",
   "execution_count": 9,
   "id": "bd04ee81",
   "metadata": {},
   "outputs": [],
   "source": [
    "# 5. How can you implement composition in Python classes? Provide examples of using composition to create\n",
    "# complex objects.\n",
    "class Engine:\n",
    "    def __init__(self, horsepower):\n",
    "        self.horsepower = horsepower\n",
    "\n",
    "class Car:\n",
    "    def __init__(self, make, model, engine):\n",
    "        self.make = make\n",
    "        self.model = model\n",
    "        self.engine = engine\n",
    "\n",
    "engine_instance = Engine(300)\n",
    "car_instance = Car(\"Ford\", \"Mustang\", engine_instance)\n"
   ]
  },
  {
   "cell_type": "code",
   "execution_count": 7,
   "id": "a8eabf39",
   "metadata": {},
   "outputs": [],
   "source": [
    "# 6. Create a Python class hierarchy for a music player system, using composition to represent playlists and\n",
    "# songs.\n",
    "class Song:\n",
    "    def __init__(self, title, artist):\n",
    "        self.title = title\n",
    "        self.artist = artist\n",
    "\n",
    "class Playlist:\n",
    "    def __init__(self, name):\n",
    "        self.name = name\n",
    "        self.songs = []\n",
    "\n",
    "    def add_song(self, song):\n",
    "        self.songs.append(song)\n",
    "\n",
    "# Example\n",
    "playlist = Playlist(\"My Playlist\")\n",
    "playlist.add_song(Song(\"Song 1\", \"Artist A\"))\n",
    "playlist.add_song(Song(\"Song 2\", \"Artist B\"))\n",
    "\n"
   ]
  },
  {
   "cell_type": "code",
   "execution_count": 253,
   "id": "f639c0e3",
   "metadata": {},
   "outputs": [],
   "source": [
    "# 7. Explain the concept of \"has-a\" relationships in composition and how it helps design software systems.\n",
    "\"\"\"\"Has-a\" relationships indicate that one object contains another. This helps design software systems by clearly defining the relationships and responsibilities of objects. For instance, a Library has Books, and a Car has Wheels.\n",
    "\n",
    "\"\"\""
   ]
  },
  {
   "cell_type": "code",
   "execution_count": 254,
   "id": "1231b2e3",
   "metadata": {},
   "outputs": [],
   "source": [
    "# 8. Create a Python class for a computer system, using composition to represent components like CPU, RAM,\n",
    "# and storage devices.\n",
    "class CPU:\n",
    "    def __init__(self, brand):\n",
    "        self.brand = brand\n",
    "\n",
    "class RAM:\n",
    "    def __init__(self, size):\n",
    "        self.size = size\n",
    "\n",
    "class Storage:\n",
    "    def __init__(self, capacity):\n",
    "        self.capacity = capacity\n",
    "\n",
    "class Computer:\n",
    "    def __init__(self, cpu, ram, storage):\n",
    "        self.cpu = cpu\n",
    "        self.ram = ram\n",
    "        self.storage = storage\n",
    "\n",
    "# Example\n",
    "computer_instance = Computer(CPU(\"Intel\"), RAM(\"16GB\"), Storage(\"1TB\"))\n"
   ]
  },
  {
   "cell_type": "code",
   "execution_count": 255,
   "id": "1deb1f2c",
   "metadata": {},
   "outputs": [],
   "source": [
    "# 9. Describe the concept of \"delegation\" in composition and how it simplifies the design of complex systems.\n",
    "\"\"\"Delegation involves an object relying on another to provide a specified set of functionalities. This simplifies system design by allowing one class to use the functionality of another without inheriting from it.\n",
    "\n",
    "\"\"\""
   ]
  },
  {
   "cell_type": "code",
   "execution_count": 10,
   "id": "35aac190",
   "metadata": {},
   "outputs": [],
   "source": [
    "# 10. Create a Python class for a car, using composition to represent components like the engine, wheels, and\n",
    "# transmission.\n",
    "class Engine:\n",
    "    def __init__(self, horsepower):\n",
    "        self.horsepower = horsepower\n",
    "\n",
    "class Wheel:\n",
    "    def __init__(self, size):\n",
    "        self.size = size\n",
    "\n",
    "class Car:\n",
    "    def __init__(self, engine, wheels):\n",
    "        self.engine = engine\n",
    "        self.wheels = wheels\n",
    "\n",
    "# Example\n",
    "car_instance = Car(Engine(400), [Wheel(18), Wheel(18), Wheel(18), Wheel(18)])\n"
   ]
  },
  {
   "cell_type": "code",
   "execution_count": 267,
   "id": "3266f2a3",
   "metadata": {},
   "outputs": [],
   "source": [
    "# 11. How can you encapsulate and hide the details of composed objects in Python classes to maintain\n",
    "# abstraction?\n",
    "\"\"\"Encapsulation can be achieved by defining the attributes and methods of composed objects as private or protected, providing public methods for interaction. This maintains abstraction by hiding the details of the implementation.\n",
    "\"\"\"\n"
   ]
  },
  {
   "cell_type": "code",
   "execution_count": 268,
   "id": "cdd06fe7",
   "metadata": {},
   "outputs": [],
   "source": [
    "# 12. Create a Python class for a university course, using composition to represent students, instructors, and\n",
    "# course materials.\n",
    "class Student:\n",
    "    def __init__(self, name):\n",
    "        self.name = name\n",
    "\n",
    "class Instructor:\n",
    "    def __init__(self, name):\n",
    "        self.name = name\n",
    "\n",
    "class Course:\n",
    "    def __init__(self, title, instructor):\n",
    "        self.title = title\n",
    "        self.instructor = instructor\n",
    "        self.students = []\n",
    "\n",
    "    def add_student(self, student):\n",
    "        self.students.append(student)\n",
    "\n",
    "# Example\n",
    "course_instance = Course(\"Python 101\", Instructor(\"Prof. Smith\"))\n",
    "course_instance.add_student(Student(\"Alice\"))\n",
    "course_instance.add_student(Student(\"Bob\"))\n"
   ]
  },
  {
   "cell_type": "code",
   "execution_count": 269,
   "id": "b0985dc0",
   "metadata": {},
   "outputs": [],
   "source": [
    "# 13. Discuss the challenges and drawbacks of composition, such as increased complexity and potential for\n",
    "# tight coupling between objects.\n",
    "\"\"\"Increased Complexity: More classes and relationships can lead to more complex code structures.\n",
    "Tight Coupling: If composed classes are not designed carefully, changes in one class can impact others.\n",
    "\"\"\""
   ]
  },
  {
   "cell_type": "code",
   "execution_count": 270,
   "id": "7f55eb60",
   "metadata": {},
   "outputs": [],
   "source": [
    "# 14. Create a Python class hierarchy for a restaurant system, using composition to represent menus, dishes,\n",
    "# and ingredients.\n",
    "\n",
    "class Ingredient:\n",
    "    def __init__(self, name):\n",
    "        self.name = name\n",
    "\n",
    "class Dish:\n",
    "    def __init__(self, name):\n",
    "        self.name = name\n",
    "        self.ingredients = []\n",
    "\n",
    "    def add_ingredient(self, ingredient):\n",
    "        self.ingredients.append(ingredient)\n",
    "\n",
    "class Menu:\n",
    "    def __init__(self):\n",
    "        self.dishes = []\n",
    "\n",
    "    def add_dish(self, dish):\n",
    "        self.dishes.append(dish)\n",
    "\n",
    "# Example\n",
    "menu = Menu()\n",
    "pizza = Dish(\"Pizza\")\n",
    "pizza.add_ingredient(Ingredient(\"Cheese\"))\n",
    "pizza.add_ingredient(Ingredient(\"Tomato Sauce\"))\n",
    "menu.add_dish(pizza)\n"
   ]
  },
  {
   "cell_type": "code",
   "execution_count": 271,
   "id": "ff0d8d14",
   "metadata": {},
   "outputs": [],
   "source": [
    "# 15. Explain how composition enhances code maintainability and modularity in Python programs.\n",
    "\"\"\"\n",
    "Composition promotes maintainability by allowing changes to be made to individual components without affecting others. It also facilitates modularity by encouraging the use of interchangeable components.\n",
    "\"\"\""
   ]
  },
  {
   "cell_type": "code",
   "execution_count": 272,
   "id": "1ac40464",
   "metadata": {},
   "outputs": [],
   "source": [
    "# 16. Create a Python class for a computer game character, using composition to represent attributes like\n",
    "# weapons, armor, and inventory.\n",
    "class Weapon:\n",
    "    def __init__(self, name):\n",
    "        self.name = name\n",
    "\n",
    "class Armor:\n",
    "    def __init__(self, name):\n",
    "        self.name = name\n",
    "\n",
    "class Inventory:\n",
    "    def __init__(self):\n",
    "        self.items = []\n",
    "\n",
    "class Character:\n",
    "    def __init__(self, name):\n",
    "        self.name = name\n",
    "        self.weapon = None\n",
    "        self.armor = None\n",
    "        self.inventory = Inventory()\n",
    "\n",
    "# Example\n",
    "character_instance = Character(\"Hero\")\n",
    "character_instance.weapon = Weapon(\"Sword\")\n",
    "character_instance.armor = Armor(\"Shield\")\n"
   ]
  },
  {
   "cell_type": "code",
   "execution_count": 273,
   "id": "07eb22a2",
   "metadata": {},
   "outputs": [],
   "source": [
    "# 17. Describe the concept of \"aggregation\" in composition and how it differs from simple composition.\n",
    "\"\"\"Aggregation is a specialized form of composition where the contained objects can exist independently of the container. For example, a Team can have Players, but players can exist without the team.\"\"\"\n"
   ]
  },
  {
   "cell_type": "code",
   "execution_count": 274,
   "id": "86319d95",
   "metadata": {},
   "outputs": [],
   "source": [
    "# 18. Create a Python class for a house, using composition to represent rooms, furniture, and appliances.\n",
    "class Room:\n",
    "    def __init__(self, name):\n",
    "        self.name = name\n",
    "\n",
    "class Furniture:\n",
    "    def __init__(self, type):\n",
    "        self.type = type\n",
    "\n",
    "class House:\n",
    "    def __init__(self):\n",
    "        self.rooms = []\n",
    "        self.furniture = []\n",
    "\n",
    "    def add_room(self, room):\n",
    "        self.rooms.append(room)\n",
    "\n",
    "    def add_furniture(self, furniture):\n",
    "        self.furniture.append(furniture)\n",
    "\n",
    "# Example\n",
    "house_instance = House()\n",
    "house_instance.add_room(Room(\"Living Room\"))\n",
    "house_instance.add_furniture(Furniture(\"Sofa\"))\n"
   ]
  },
  {
   "cell_type": "code",
   "execution_count": 275,
   "id": "ecf265d9",
   "metadata": {},
   "outputs": [],
   "source": [
    "# 19. How can you achieve flexibility in composed objects by allowing them to be replaced or modified\n",
    "# dynamically at runtime?\n",
    "\"\"\"Flexibility can be achieved by allowing composed objects to be set or modified at runtime through methods or properties. For example, you can change the engine of a car object dynamically.\n",
    "\"\"\""
   ]
  },
  {
   "cell_type": "code",
   "execution_count": 276,
   "id": "2afe973a",
   "metadata": {},
   "outputs": [],
   "source": [
    "# 20. Create a Python class for a social media application, using composition to represent users, posts, and\n",
    "# comments.\n",
    "class User:\n",
    "    def __init__(self, username):\n",
    "        self.username = username\n",
    "        self.posts = []\n",
    "\n",
    "class Post:\n",
    "    def __init__(self, content):\n",
    "        self.content = content\n",
    "        self.comments = []\n",
    "\n",
    "class Comment:\n",
    "    def __init__(self, content):\n",
    "        self.content = content\n",
    "\n",
    "class SocialMediaApp:\n",
    "    def __init__(self):\n",
    "        self.users = []\n",
    "\n",
    "    def add_user(self, user):\n",
    "        self.users.append(user)\n",
    "\n",
    "# Example\n",
    "app = SocialMediaApp()\n",
    "user1 = User(\"user1\")\n",
    "user1.posts.append(Post(\"Hello, world!\"))\n",
    "app.add_user(user1)\n"
   ]
  },
  {
   "cell_type": "code",
   "execution_count": null,
   "id": "9e51b578",
   "metadata": {},
   "outputs": [],
   "source": []
  },
  {
   "cell_type": "code",
   "execution_count": null,
   "id": "6e2c54f4",
   "metadata": {},
   "outputs": [],
   "source": []
  }
 ],
 "metadata": {
  "kernelspec": {
   "display_name": "Python (ml_kernel)",
   "language": "python",
   "name": "your_env_name"
  },
  "language_info": {
   "codemirror_mode": {
    "name": "ipython",
    "version": 3
   },
   "file_extension": ".py",
   "mimetype": "text/x-python",
   "name": "python",
   "nbconvert_exporter": "python",
   "pygments_lexer": "ipython3",
   "version": "3.8.0"
  }
 },
 "nbformat": 4,
 "nbformat_minor": 5
}
