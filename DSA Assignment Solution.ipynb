{
 "cells": [
  {
   "cell_type": "code",
   "execution_count": 1,
   "id": "488951c6",
   "metadata": {},
   "outputs": [],
   "source": [
    "# Problem 1: Reverse a singly linked list.\n",
    "# Input: 1 -> 2 -> 3 -> 4 -> 5\n",
    "# Output: 5 -> 4 -> 3 -> 2 -> 1"
   ]
  },
  {
   "cell_type": "code",
   "execution_count": 2,
   "id": "9a052604",
   "metadata": {},
   "outputs": [
    {
     "name": "stdout",
     "output_type": "stream",
     "text": [
      "Original list:\n",
      "1 -> 2 -> 3 -> 4 -> 5\n",
      "Reversed list:\n",
      "5 -> 4 -> 3 -> 2 -> 1\n"
     ]
    }
   ],
   "source": [
    "class ListNode:\n",
    "    def __init__(self, value=0, next=None):\n",
    "        self.value = value\n",
    "        self.next = next\n",
    "\n",
    "def reverse_linked_list(head):\n",
    "    prev = None\n",
    "    current = head\n",
    "    while current:\n",
    "        next_node = current.next  # Save the next node\n",
    "        current.next = prev       # Reverse the current node's pointer\n",
    "        prev = current            # Move prev and current one step forward\n",
    "        current = next_node\n",
    "    return prev  # New head of the reversed list\n",
    "\n",
    "# Helper function to print the linked list\n",
    "def print_linked_list(head):\n",
    "    current = head\n",
    "    while current:\n",
    "        print(current.value, end=\" -> \" if current.next else \"\")\n",
    "        current = current.next\n",
    "    print()\n",
    "\n",
    "# Example usage\n",
    "head = ListNode(1, ListNode(2, ListNode(3, ListNode(4, ListNode(5)))))\n",
    "print(\"Original list:\")\n",
    "print_linked_list(head)\n",
    "\n",
    "reversed_head = reverse_linked_list(head)\n",
    "print(\"Reversed list:\")\n",
    "print_linked_list(reversed_head)\n"
   ]
  },
  {
   "cell_type": "code",
   "execution_count": 24,
   "id": "b9107826",
   "metadata": {},
   "outputs": [],
   "source": [
    "# Problem 2: Merge two sorted linked lists into one sorted linked list.\n",
    "# Input: List 1: 1 -> 3 -> 5, List 2: 2 -> 4 -> 6\n",
    "# Output: 1 -> 2 -> 3 -> 4 -> 5 -> 6"
   ]
  },
  {
   "cell_type": "code",
   "execution_count": 23,
   "id": "9d5f2088",
   "metadata": {},
   "outputs": [
    {
     "name": "stdout",
     "output_type": "stream",
     "text": [
      "Merged list:\n",
      "1 -> 2 -> 3 -> 4 -> 5 -> 6\n"
     ]
    }
   ],
   "source": [
    "class ListNode:\n",
    "    def __init__(self, value=0, next=None):\n",
    "        self.value = value\n",
    "        self.next = next\n",
    "\n",
    "def merge_sorted_linked_lists(l1, l2):\n",
    "    # Dummy node to form the base of the new sorted linked list\n",
    "    dummy = ListNode()\n",
    "    tail = dummy\n",
    "\n",
    "    # Merge nodes from both lists until one list is exhausted\n",
    "    while l1 and l2:\n",
    "        if l1.value < l2.value:\n",
    "            tail.next = l1\n",
    "            l1 = l1.next\n",
    "        else:\n",
    "            tail.next = l2\n",
    "            l2 = l2.next\n",
    "        tail = tail.next\n",
    "\n",
    "    # Attach the remaining nodes from the non-empty list\n",
    "    tail.next = l1 if l1 else l2\n",
    "\n",
    "    # Return the head of the merged list\n",
    "    return dummy.next\n",
    "\n",
    "# Helper function to print the linked list\n",
    "def print_linked_list(head):\n",
    "    current = head\n",
    "    while current:\n",
    "        print(current.value, end=\" -> \" if current.next else \"\")\n",
    "        current = current.next\n",
    "    print()\n",
    "\n",
    "# Example usage\n",
    "# Creating two sorted linked lists:\n",
    "# List 1: 1 -> 3 -> 5\n",
    "l1 = ListNode(1, ListNode(3, ListNode(5)))\n",
    "# List 2: 2 -> 4 -> 6\n",
    "l2 = ListNode(2, ListNode(4, ListNode(6)))\n",
    "\n",
    "# Merging the lists\n",
    "merged_head = merge_sorted_linked_lists(l1, l2)\n",
    "print(\"Merged list:\")\n",
    "print_linked_list(merged_head)\n"
   ]
  },
  {
   "cell_type": "code",
   "execution_count": null,
   "id": "a7dfd726",
   "metadata": {},
   "outputs": [],
   "source": [
    "# Problem 3: Remove the nth node from the end of a linked list.\n",
    "# Input: 1 -> 2 -> 3 -> 4 -> 5, n = 2\n",
    "# Output: 1 -> 2 -> 3 -> 5"
   ]
  },
  {
   "cell_type": "code",
   "execution_count": 25,
   "id": "22cbccdd",
   "metadata": {},
   "outputs": [
    {
     "name": "stdout",
     "output_type": "stream",
     "text": [
      "Modified list after removing the 2nd node from the end:\n",
      "1 -> 2 -> 3 -> 5\n"
     ]
    }
   ],
   "source": [
    "class ListNode:\n",
    "    def __init__(self, value=0, next=None):\n",
    "        self.value = value\n",
    "        self.next = next\n",
    "\n",
    "def remove_nth_from_end(head, n):\n",
    "    # Dummy node to handle edge cases, such as removing the head\n",
    "    dummy = ListNode(0, head)\n",
    "    first = dummy\n",
    "    second = dummy\n",
    "\n",
    "    # Move `first` pointer `n + 1` steps ahead\n",
    "    for _ in range(n + 1):\n",
    "        first = first.next\n",
    "\n",
    "    # Move both `first` and `second` pointers until `first` reaches the end\n",
    "    while first:\n",
    "        first = first.next\n",
    "        second = second.next\n",
    "\n",
    "    # `second` is now at the node just before the one to remove\n",
    "    second.next = second.next.next\n",
    "\n",
    "    # Return the head of the modified list\n",
    "    return dummy.next\n",
    "\n",
    "# Helper function to print the linked list\n",
    "def print_linked_list(head):\n",
    "    current = head\n",
    "    while current:\n",
    "        print(current.value, end=\" -> \" if current.next else \"\")\n",
    "        current = current.next\n",
    "    print()\n",
    "\n",
    "# Example usage\n",
    "# Creating the linked list: 1 -> 2 -> 3 -> 4 -> 5\n",
    "head = ListNode(1, ListNode(2, ListNode(3, ListNode(4, ListNode(5)))))\n",
    "\n",
    "# Removing the 2nd node from the end\n",
    "modified_head = remove_nth_from_end(head, 2)\n",
    "print(\"Modified list after removing the 2nd node from the end:\")\n",
    "print_linked_list(modified_head)\n"
   ]
  },
  {
   "cell_type": "code",
   "execution_count": null,
   "id": "c22f74f2",
   "metadata": {},
   "outputs": [],
   "source": [
    "# Problem 4: Find the intersection point of two linked lists.\n",
    "# Input: List 1: 1 -> 2 -> 3 -> 4, List 2: 9 -> 8 -> 3 -> 4\n",
    "# Output: Node with value 3"
   ]
  },
  {
   "cell_type": "code",
   "execution_count": 26,
   "id": "abcc0cd3",
   "metadata": {},
   "outputs": [
    {
     "name": "stdout",
     "output_type": "stream",
     "text": [
      "Intersection at node with value: 3\n"
     ]
    }
   ],
   "source": [
    "class ListNode:\n",
    "    def __init__(self, value=0, next=None):\n",
    "        self.value = value\n",
    "        self.next = next\n",
    "\n",
    "def get_intersection_node(headA, headB):\n",
    "    if not headA or not headB:\n",
    "        return None\n",
    "\n",
    "    # Initialize two pointers at the heads of each list\n",
    "    p1, p2 = headA, headB\n",
    "\n",
    "    # Traverse both lists; switch heads once reaching the end\n",
    "    while p1 != p2:\n",
    "        # Move to the next node or switch to the head of the other list\n",
    "        p1 = p1.next if p1 else headB\n",
    "        p2 = p2.next if p2 else headA\n",
    "\n",
    "    # Either both will be None (no intersection) or they'll meet at the intersection point\n",
    "    return p1\n",
    "\n",
    "# Helper function to print a linked list from a given node\n",
    "def print_linked_list_from_node(node):\n",
    "    current = node\n",
    "    while current:\n",
    "        print(current.value, end=\" -> \" if current.next else \"\")\n",
    "        current = current.next\n",
    "    print()\n",
    "\n",
    "# Example usage\n",
    "# Creating two intersecting linked lists:\n",
    "# List 1: 1 -> 2 -> 3 -> 4\n",
    "# List 2: 9 -> 8 -> 3 -> 4\n",
    "# Intersection at node with value 3\n",
    "intersecting_node = ListNode(3, ListNode(4))\n",
    "\n",
    "headA = ListNode(1, ListNode(2, intersecting_node))\n",
    "headB = ListNode(9, ListNode(8, intersecting_node))\n",
    "\n",
    "# Find intersection\n",
    "intersection = get_intersection_node(headA, headB)\n",
    "\n",
    "# Output the intersection node\n",
    "if intersection:\n",
    "    print(\"Intersection at node with value:\", intersection.value)  # Output: 3\n",
    "else:\n",
    "    print(\"No intersection found.\")\n"
   ]
  },
  {
   "cell_type": "code",
   "execution_count": null,
   "id": "ab16f759",
   "metadata": {},
   "outputs": [],
   "source": [
    "# Problem 5: Remove duplicates from a sorted linked list.\n",
    "# Input: 1 -> 1 -> 2 -> 3 -> 3\n",
    "# Output: 1 -> 2 -> 3"
   ]
  },
  {
   "cell_type": "code",
   "execution_count": 29,
   "id": "a54a8f0e",
   "metadata": {},
   "outputs": [
    {
     "name": "stdout",
     "output_type": "stream",
     "text": [
      "Original list:\n",
      "1 -> 1 -> 2 -> 3 -> 3\n",
      "List after removing duplicates:\n",
      "1 -> 2 -> 3\n"
     ]
    }
   ],
   "source": [
    "class ListNode:\n",
    "    def __init__(self, value=0, next=None):\n",
    "        self.value = value\n",
    "        self.next = next\n",
    "\n",
    "def remove_duplicates(head):\n",
    "    current = head\n",
    "    while current and current.next:\n",
    "        if current.value == current.next.value:\n",
    "            current.next = current.next.next  # Skip the duplicate\n",
    "        else:\n",
    "            current = current.next  # Move to the next node\n",
    "    return head\n",
    "\n",
    "# Helper function to print the linked list\n",
    "def print_linked_list(head):\n",
    "    current = head\n",
    "    while current:\n",
    "        print(current.value, end=\" -> \" if current.next else \"\")\n",
    "        current = current.next\n",
    "    print()\n",
    "\n",
    "# Example usage\n",
    "head = ListNode(1, ListNode(1, ListNode(2, ListNode(3, ListNode(3)))))\n",
    "\n",
    "print(\"Original list:\")\n",
    "print_linked_list(head)\n",
    "\n",
    "# Remove duplicates\n",
    "modified_head = remove_duplicates(head)\n",
    "print(\"List after removing duplicates:\")\n",
    "print_linked_list(modified_head)\n"
   ]
  },
  {
   "cell_type": "code",
   "execution_count": null,
   "id": "f43d7286",
   "metadata": {},
   "outputs": [],
   "source": [
    "# Problem 6: Add two numbers represented by linked lists (where each node contains a single digit).\n",
    "# Input: List 1: 2 -> 4 -> 3, List 2: 5 -> 6 -> 4 (represents 342 + 465)\n",
    "# Output: 7 -> 0 -> 8 (represents 807)"
   ]
  },
  {
   "cell_type": "code",
   "execution_count": 30,
   "id": "15435881",
   "metadata": {},
   "outputs": [
    {
     "name": "stdout",
     "output_type": "stream",
     "text": [
      "Result of adding the two numbers:\n",
      "7 -> 0 -> 8\n"
     ]
    }
   ],
   "source": [
    "class ListNode:\n",
    "    def __init__(self, value=0, next=None):\n",
    "        self.value = value\n",
    "        self.next = next\n",
    "\n",
    "def add_two_numbers(l1, l2):\n",
    "    # Dummy node to simplify the result list construction\n",
    "    dummy = ListNode()\n",
    "    current = dummy\n",
    "    carry = 0\n",
    "    \n",
    "    # Traverse both lists\n",
    "    while l1 or l2 or carry:\n",
    "        # Get the current digits (if the list is exhausted, consider it 0)\n",
    "        val1 = l1.value if l1 else 0\n",
    "        val2 = l2.value if l2 else 0\n",
    "        \n",
    "        # Sum the digits and the carry\n",
    "        total = val1 + val2 + carry\n",
    "        carry = total // 10  # Update carry for next iteration\n",
    "        current.next = ListNode(total % 10)  # Create a new node with the current digit\n",
    "        \n",
    "        # Move the current pointer and the list pointers\n",
    "        current = current.next\n",
    "        if l1: l1 = l1.next\n",
    "        if l2: l2 = l2.next\n",
    "    \n",
    "    return dummy.next\n",
    "\n",
    "# Helper function to print the linked list\n",
    "def print_linked_list(head):\n",
    "    current = head\n",
    "    while current:\n",
    "        print(current.value, end=\" -> \" if current.next else \"\")\n",
    "        current = current.next\n",
    "    print()\n",
    "\n",
    "# Example usage\n",
    "# Creating two linked lists:\n",
    "# List 1: 2 -> 4 -> 3 (represents 342)\n",
    "l1 = ListNode(2, ListNode(4, ListNode(3)))\n",
    "# List 2: 5 -> 6 -> 4 (represents 465)\n",
    "l2 = ListNode(5, ListNode(6, ListNode(4)))\n",
    "\n",
    "# Adding the numbers\n",
    "result_head = add_two_numbers(l1, l2)\n",
    "\n",
    "# Output the result\n",
    "print(\"Result of adding the two numbers:\")\n",
    "print_linked_list(result_head)\n"
   ]
  },
  {
   "cell_type": "code",
   "execution_count": null,
   "id": "f0320a58",
   "metadata": {},
   "outputs": [],
   "source": [
    "# Problem 7: Swap nodes in pairs in a linked list.\n",
    "# Input: 1 -> 2 -> 3 -> 4\n",
    "# Output: 2 -> 1 -> 4 -> 3"
   ]
  },
  {
   "cell_type": "code",
   "execution_count": 31,
   "id": "39ad7e22",
   "metadata": {},
   "outputs": [
    {
     "name": "stdout",
     "output_type": "stream",
     "text": [
      "List after swapping nodes in pairs:\n",
      "2 -> 1 -> 4 -> 3\n"
     ]
    }
   ],
   "source": [
    "class ListNode:\n",
    "    def __init__(self, value=0, next=None):\n",
    "        self.value = value\n",
    "        self.next = next\n",
    "\n",
    "def swap_pairs(head):\n",
    "    # Create a dummy node to simplify the swapping process\n",
    "    dummy = ListNode(0)\n",
    "    dummy.next = head\n",
    "    current = dummy\n",
    "\n",
    "    # Traverse the list in pairs\n",
    "    while current.next and current.next.next:\n",
    "        # Assign the two nodes to be swapped\n",
    "        first = current.next\n",
    "        second = current.next.next\n",
    "        \n",
    "        # Swap the nodes\n",
    "        first.next = second.next\n",
    "        second.next = first\n",
    "        current.next = second\n",
    "        \n",
    "        # Move to the next pair\n",
    "        current = first\n",
    "\n",
    "    return dummy.next\n",
    "\n",
    "# Helper function to print the linked list\n",
    "def print_linked_list(head):\n",
    "    current = head\n",
    "    while current:\n",
    "        print(current.value, end=\" -> \" if current.next else \"\")\n",
    "        current = current.next\n",
    "    print()\n",
    "\n",
    "# Example usage\n",
    "# Creating the linked list: 1 -> 2 -> 3 -> 4\n",
    "head = ListNode(1, ListNode(2, ListNode(3, ListNode(4))))\n",
    "\n",
    "# Swap nodes in pairs\n",
    "swapped_head = swap_pairs(head)\n",
    "\n",
    "# Output the swapped list\n",
    "print(\"List after swapping nodes in pairs:\")\n",
    "print_linked_list(swapped_head)\n"
   ]
  },
  {
   "cell_type": "code",
   "execution_count": 32,
   "id": "ae57c3b8",
   "metadata": {},
   "outputs": [],
   "source": [
    "# Problem 8: Reverse nodes in a linked list in groups of k.\n",
    "# Input: 1 -> 2 -> 3 -> 4 -> 5, k = 3\n",
    "# Output: 3 -> 2 -> 1 -> 4 -> 5"
   ]
  },
  {
   "cell_type": "code",
   "execution_count": 33,
   "id": "fa327c6a",
   "metadata": {},
   "outputs": [
    {
     "name": "stdout",
     "output_type": "stream",
     "text": [
      "List after reversing nodes in groups of k:\n",
      "3 -> 2 -> 1 -> 4 -> 5\n"
     ]
    }
   ],
   "source": [
    "class ListNode:\n",
    "    def __init__(self, value=0, next=None):\n",
    "        self.value = value\n",
    "        self.next = next\n",
    "\n",
    "def reverse_k_group(head, k):\n",
    "    # Helper function to reverse a part of the list\n",
    "    def reverse_linked_list(start, end):\n",
    "        prev, curr = None, start\n",
    "        while curr != end:\n",
    "            next_node = curr.next\n",
    "            curr.next = prev\n",
    "            prev = curr\n",
    "            curr = next_node\n",
    "        return prev\n",
    "    \n",
    "    # Dummy node to handle edge cases where the head might be reversed\n",
    "    dummy = ListNode(0)\n",
    "    dummy.next = head\n",
    "    group_prev = dummy\n",
    "    \n",
    "    while True:\n",
    "        group_end = group_prev\n",
    "        # Move group_end to the end of the current group of size k\n",
    "        for _ in range(k):\n",
    "            group_end = group_end.next\n",
    "            if not group_end:\n",
    "                return dummy.next\n",
    "        \n",
    "        group_start = group_prev.next\n",
    "        next_group = group_end.next\n",
    "        # Reverse the group of k nodes\n",
    "        group_end.next = None\n",
    "        group_prev.next = reverse_linked_list(group_start, group_end.next)\n",
    "        \n",
    "        # Connect the reversed group to the next group\n",
    "        group_start.next = next_group\n",
    "        group_prev = group_start\n",
    "    \n",
    "    return dummy.next\n",
    "\n",
    "# Helper function to print the linked list\n",
    "def print_linked_list(head):\n",
    "    current = head\n",
    "    while current:\n",
    "        print(current.value, end=\" -> \" if current.next else \"\")\n",
    "        current = current.next\n",
    "    print()\n",
    "\n",
    "# Example usage\n",
    "# Creating the linked list: 1 -> 2 -> 3 -> 4 -> 5\n",
    "head = ListNode(1, ListNode(2, ListNode(3, ListNode(4, ListNode(5)))))\n",
    "\n",
    "# Reverse in groups of k = 3\n",
    "k = 3\n",
    "reversed_head = reverse_k_group(head, k)\n",
    "\n",
    "# Output the result\n",
    "print(\"List after reversing nodes in groups of k:\")\n",
    "print_linked_list(reversed_head)\n"
   ]
  },
  {
   "cell_type": "code",
   "execution_count": 34,
   "id": "0b9a64a2",
   "metadata": {},
   "outputs": [],
   "source": [
    "# Problem 9: Determine if a linked list is a palindrome.\n",
    "# Input: 1 -> 2 -> 2 -> 1\n",
    "# Output: True"
   ]
  },
  {
   "cell_type": "code",
   "execution_count": 35,
   "id": "083c0e3e",
   "metadata": {},
   "outputs": [
    {
     "name": "stdout",
     "output_type": "stream",
     "text": [
      "Is the list a palindrome? True\n"
     ]
    }
   ],
   "source": [
    "class ListNode:\n",
    "    def __init__(self, value=0, next=None):\n",
    "        self.value = value\n",
    "        self.next = next\n",
    "\n",
    "def is_palindrome(head):\n",
    "    # Helper function to reverse the linked list\n",
    "    def reverse_linked_list(start):\n",
    "        prev = None\n",
    "        current = start\n",
    "        while current:\n",
    "            next_node = current.next\n",
    "            current.next = prev\n",
    "            prev = current\n",
    "            current = next_node\n",
    "        return prev\n",
    "\n",
    "    # Edge case: empty list or single node is always a palindrome\n",
    "    if not head or not head.next:\n",
    "        return True\n",
    "\n",
    "    # Step 1: Find the middle of the list\n",
    "    slow = fast = head\n",
    "    while fast and fast.next:\n",
    "        slow = slow.next\n",
    "        fast = fast.next.next\n",
    "\n",
    "    # Step 2: Reverse the second half of the list\n",
    "    second_half = reverse_linked_list(slow)\n",
    "\n",
    "    # Step 3: Compare the first and second half\n",
    "    first_half = head\n",
    "    while second_half:\n",
    "        if first_half.value != second_half.value:\n",
    "            return False\n",
    "        first_half = first_half.next\n",
    "        second_half = second_half.next\n",
    "\n",
    "    return True\n",
    "\n",
    "# Helper function to print the linked list\n",
    "def print_linked_list(head):\n",
    "    current = head\n",
    "    while current:\n",
    "        print(current.value, end=\" -> \" if current.next else \"\")\n",
    "        current = current.next\n",
    "    print()\n",
    "\n",
    "# Example usage\n",
    "# Creating the linked list: 1 -> 2 -> 2 -> 1\n",
    "head = ListNode(1, ListNode(2, ListNode(2, ListNode(1))))\n",
    "\n",
    "# Check if the list is a palindrome\n",
    "result = is_palindrome(head)\n",
    "print(\"Is the list a palindrome?\", result)\n"
   ]
  },
  {
   "cell_type": "code",
   "execution_count": 36,
   "id": "aaa340d0",
   "metadata": {},
   "outputs": [],
   "source": [
    "# Problem 10: Rotate a linked list to the right by k places.\n",
    "# Input: 1 -> 2 -> 3 -> 4 -> 5, k = 2\n",
    "# Output: 4 -> 5 -> 1 -> 2 -> 3 "
   ]
  },
  {
   "cell_type": "code",
   "execution_count": 37,
   "id": "04a04b32",
   "metadata": {},
   "outputs": [
    {
     "name": "stdout",
     "output_type": "stream",
     "text": [
      "List after rotating to the right by k positions:\n",
      "4 -> 5 -> 1 -> 2 -> 3\n"
     ]
    }
   ],
   "source": [
    "class ListNode:\n",
    "    def __init__(self, value=0, next=None):\n",
    "        self.value = value\n",
    "        self.next = next\n",
    "\n",
    "def rotate_right(head, k):\n",
    "    # Edge case: if the list is empty or contains only one node\n",
    "    if not head or not head.next:\n",
    "        return head\n",
    "    \n",
    "    # Step 1: Find the length of the list\n",
    "    length = 1\n",
    "    tail = head\n",
    "    while tail.next:\n",
    "        tail = tail.next\n",
    "        length += 1\n",
    "    \n",
    "    # Step 2: Normalize k (in case k > length)\n",
    "    k = k % length\n",
    "    \n",
    "    # If k is 0, no rotation is needed\n",
    "    if k == 0:\n",
    "        return head\n",
    "    \n",
    "    # Step 3: Make the list circular by connecting the tail to the head\n",
    "    tail.next = head\n",
    "    \n",
    "    # Step 4: Find the new tail (position length - k - 1)\n",
    "    new_tail = head\n",
    "    for _ in range(length - k - 1):\n",
    "        new_tail = new_tail.next\n",
    "    \n",
    "    # Step 5: The new head will be the node next to the new tail\n",
    "    new_head = new_tail.next\n",
    "    new_tail.next = None  # Break the cycle\n",
    "    \n",
    "    return new_head\n",
    "\n",
    "# Helper function to print the linked list\n",
    "def print_linked_list(head):\n",
    "    current = head\n",
    "    while current:\n",
    "        print(current.value, end=\" -> \" if current.next else \"\")\n",
    "        current = current.next\n",
    "    print()\n",
    "\n",
    "# Example usage\n",
    "# Creating the linked list: 1 -> 2 -> 3 -> 4 -> 5\n",
    "head = ListNode(1, ListNode(2, ListNode(3, ListNode(4, ListNode(5)))))\n",
    "\n",
    "# Rotate the list to the right by k = 2\n",
    "k = 2\n",
    "rotated_head = rotate_right(head, k)\n",
    "\n",
    "# Output the rotated list\n",
    "print(\"List after rotating to the right by k positions:\")\n",
    "print_linked_list(rotated_head)\n"
   ]
  },
  {
   "cell_type": "code",
   "execution_count": 38,
   "id": "873bab12",
   "metadata": {},
   "outputs": [],
   "source": [
    "# Problem 11: Flatten a multilevel doubly linked list.\n",
    "# Input: 1 <-> 2 <-> 3 <-> 7 <-> 8 <-> 11 -> 12, 4 <-> 5 -> 9 -> 10, 6 -> 13\n",
    "# Output: 1 <-> 2 <-> 3 <-> 4 <-> 5 <-> 6 <-> 7 <-> 8 <-> 9 <-> 10 <-> 11 <-> 12 <-> 13"
   ]
  },
  {
   "cell_type": "code",
   "execution_count": null,
   "id": "075aad86",
   "metadata": {},
   "outputs": [],
   "source": [
    "class Node:\n",
    "    def __init__(self, value=0, prev=None, next=None, child=None):\n",
    "        self.value = value\n",
    "        self.prev = prev\n",
    "        self.next = next\n",
    "        self.child = child\n",
    "\n",
    "def flatten(head):\n",
    "    # Helper function to flatten the list\n",
    "    def flatten_list(node):\n",
    "        current = node\n",
    "        while current:\n",
    "            # If the current node has a child, we need to flatten the child list\n",
    "            if current.child:\n",
    "                # Flatten the child list recursively\n",
    "                child = current.child\n",
    "                current.child = None  # Remove the child pointer from the current node\n",
    "                # Move to the end of the child list\n",
    "                child_end = flatten_list(child)\n",
    "                \n",
    "                # Insert the flattened child list between current node and its next node\n",
    "                next_node = current.next\n",
    "                current.next = child\n",
    "                child.prev = current\n",
    "                child_end.next = next_node\n",
    "                if next_node:\n",
    "                    next_node.prev = child_end\n",
    "            current = current.next\n",
    "        return current  # Return the last node\n",
    "\n",
    "    flatten_list(head)\n",
    "    return head\n",
    "\n",
    "# Helper function to print the flattened list\n",
    "def print_linked_list(head):\n",
    "    current = head\n",
    "    while current:\n",
    "        print(current.value, end=\" <-> \" if current.next else \"\")\n",
    "        current = current.next\n",
    "    print()\n",
    "\n",
    "# Example usage\n",
    "\n",
    "# Creating the multilevel doubly linked list\n",
    "# Level 1: 1 <-> 2 <-> 3 <-> 7 <-> 8 <-> 11 -> 12\n",
    "# Level 2: 4 <-> 5 -> 9 -> 10\n",
    "# Level 3: 6 -> 13\n",
    "\n",
    "node1 = Node(1)\n",
    "node2 = Node(2)\n",
    "node3 = Node(3)\n",
    "node4 = Node(7)\n",
    "node5 = Node(8)\n",
    "node6 = Node(11)\n",
    "node7 = Node(12)\n",
    "\n",
    "node1.next = node2\n",
    "node2.prev = node1\n",
    "node2.next = node3\n",
    "node3.prev = node2\n",
    "node3.next = node4\n",
    "node4.prev = node3\n",
    "node4.next = node5\n",
    "node5.prev = node4\n",
    "node5.next = node6\n",
    "node6.prev = node5\n",
    "node6.next = node7\n",
    "node7.prev = node6\n",
    "\n",
    "# Level 2 children\n",
    "node8 = Node(4)\n",
    "node9 = Node(5)\n",
    "node10 = Node(9)\n",
    "node11 = Node(10)\n",
    "\n",
    "node8.next = node9\n",
    "node9.prev = node8\n",
    "node9.next = node10\n",
    "node10.prev = node9\n",
    "node10.next = node11\n",
    "node11.prev = node10\n",
    "\n",
    "node3.child = node8  # 3 -> (4 <-> 5 -> 9 -> 10)\n",
    "\n",
    "# Level 3 children\n",
    "node12 = Node(6)\n",
    "node13 = Node(13)\n",
    "\n",
    "node12.next = node13\n",
    "node13.prev = node12\n",
    "\n",
    "node5.child = node12  # 5 -> (6 -> 13)\n",
    "\n",
    "# Flatten the multilevel doubly linked list\n",
    "flattened_head = flatten(node1)\n",
    "\n",
    "# Output the flattened list\n",
    "print(\"Flattened list:\")\n",
    "print_linked_list(flattened_head)\n"
   ]
  },
  {
   "cell_type": "code",
   "execution_count": 41,
   "id": "470c48ed",
   "metadata": {},
   "outputs": [],
   "source": [
    "# Problem 12: Rearrange a linked list such that all even positioned nodes are placed at the end.\n",
    "# Input: 1 -> 2 -> 3 -> 4 -> 5\n",
    "# Output: 1 -> 3 -> 5 -> 2 -> 4"
   ]
  },
  {
   "cell_type": "code",
   "execution_count": 42,
   "id": "5789f10d",
   "metadata": {},
   "outputs": [
    {
     "name": "stdout",
     "output_type": "stream",
     "text": [
      "Rearranged list:\n",
      "1 -> 3 -> 5 -> 2 -> 4\n"
     ]
    }
   ],
   "source": [
    "class Node:\n",
    "    def __init__(self, value=0, next=None):\n",
    "        self.value = value\n",
    "        self.next = next\n",
    "\n",
    "def rearrange_linked_list(head):\n",
    "    if not head or not head.next:\n",
    "        return head\n",
    "    \n",
    "    odd_head = odd = head  # Start of the odd list\n",
    "    even_head = even = head.next  # Start of the even list\n",
    "    current = head.next.next  # The node after the first even node\n",
    "    \n",
    "    # Traverse the list and split the nodes into odd and even\n",
    "    while current:\n",
    "        odd.next = current\n",
    "        odd = odd.next\n",
    "        current = current.next\n",
    "        if current:\n",
    "            even.next = current\n",
    "            even = even.next\n",
    "            current = current.next\n",
    "    \n",
    "    # Terminate the even list to avoid any cycle\n",
    "    even.next = None\n",
    "    # Connect the end of the odd list to the head of the even list\n",
    "    odd.next = even_head\n",
    "    \n",
    "    return odd_head\n",
    "\n",
    "# Helper function to print the linked list\n",
    "def print_linked_list(head):\n",
    "    current = head\n",
    "    while current:\n",
    "        print(current.value, end=\" -> \" if current.next else \"\")\n",
    "        current = current.next\n",
    "    print()\n",
    "\n",
    "# Example usage\n",
    "# Creating the linked list: 1 -> 2 -> 3 -> 4 -> 5\n",
    "node1 = Node(1)\n",
    "node2 = Node(2)\n",
    "node3 = Node(3)\n",
    "node4 = Node(4)\n",
    "node5 = Node(5)\n",
    "\n",
    "node1.next = node2\n",
    "node2.next = node3\n",
    "node3.next = node4\n",
    "node4.next = node5\n",
    "\n",
    "# Rearrange the linked list\n",
    "rearranged_head = rearrange_linked_list(node1)\n",
    "\n",
    "# Output the rearranged list\n",
    "print(\"Rearranged list:\")\n",
    "print_linked_list(rearranged_head)\n"
   ]
  },
  {
   "cell_type": "code",
   "execution_count": null,
   "id": "c023e010",
   "metadata": {},
   "outputs": [],
   "source": [
    "# Problem 13: Given a non-negative number represented as a linked list, add one to it.\n",
    "# Input: 1 -> 2 -> 3 (represents the number 123)\n",
    "# Output: 1 -> 2 -> 4 (represents the number 124)"
   ]
  },
  {
   "cell_type": "code",
   "execution_count": 44,
   "id": "f748821f",
   "metadata": {},
   "outputs": [
    {
     "name": "stdout",
     "output_type": "stream",
     "text": [
      "Updated list after adding one:\n",
      "1 -> 2 -> 4\n"
     ]
    }
   ],
   "source": [
    "class Node:\n",
    "    def __init__(self, value=0, next=None):\n",
    "        self.value = value\n",
    "        self.next = next\n",
    "\n",
    "def reverse_list(head):\n",
    "    prev = None\n",
    "    current = head\n",
    "    while current:\n",
    "        next_node = current.next\n",
    "        current.next = prev\n",
    "        prev = current\n",
    "        current = next_node\n",
    "    return prev\n",
    "\n",
    "def add_one(head):\n",
    "    # Reverse the linked list\n",
    "    head = reverse_list(head)\n",
    "\n",
    "    current = head\n",
    "    carry = 1  # Start by adding one\n",
    "    while current and carry:\n",
    "        new_sum = current.value + carry\n",
    "        current.value = new_sum % 10  # Keep the current digit\n",
    "        carry = new_sum // 10  # Propagate the carry if necessary\n",
    "        \n",
    "        if carry == 0:\n",
    "            break\n",
    "        \n",
    "        # Move to the next node\n",
    "        if current.next is None:\n",
    "            break\n",
    "        current = current.next\n",
    "\n",
    "    # If there is a carry left, add a new node\n",
    "    if carry:\n",
    "        current.next = Node(carry)\n",
    "\n",
    "    # Reverse the list back to original order\n",
    "    return reverse_list(head)\n",
    "\n",
    "# Helper function to print the linked list\n",
    "def print_linked_list(head):\n",
    "    current = head\n",
    "    while current:\n",
    "        print(current.value, end=\" -> \" if current.next else \"\")\n",
    "        current = current.next\n",
    "    print()\n",
    "\n",
    "# Example usage\n",
    "# Creating the linked list: 1 -> 2 -> 3 (represents the number 123)\n",
    "node1 = Node(1)\n",
    "node2 = Node(2)\n",
    "node3 = Node(3)\n",
    "\n",
    "node1.next = node2\n",
    "node2.next = node3\n",
    "\n",
    "# Add one to the number represented by the linked list\n",
    "new_head = add_one(node1)\n",
    "\n",
    "# Output the updated linked list\n",
    "print(\"Updated list after adding one:\")\n",
    "print_linked_list(new_head)\n"
   ]
  },
  {
   "cell_type": "code",
   "execution_count": 45,
   "id": "66499f50",
   "metadata": {},
   "outputs": [],
   "source": [
    "# Problem 14: Given a sorted array and a target value, return the index if the target is found. If not, return the\n",
    "# index where it would be inserted.\n",
    "# Input: nums = [1, 3, 5, 6], target = 5\n",
    "# Output: 2\n"
   ]
  },
  {
   "cell_type": "code",
   "execution_count": 46,
   "id": "9cc7018e",
   "metadata": {},
   "outputs": [
    {
     "name": "stdout",
     "output_type": "stream",
     "text": [
      "Index: 2\n"
     ]
    }
   ],
   "source": [
    "def search_insert(nums, target):\n",
    "    left, right = 0, len(nums) - 1\n",
    "    \n",
    "    while left <= right:\n",
    "        mid = left + (right - left) // 2\n",
    "        \n",
    "        if nums[mid] == target:\n",
    "            return mid\n",
    "        elif nums[mid] < target:\n",
    "            left = mid + 1\n",
    "        else:\n",
    "            right = mid - 1\n",
    "    \n",
    "    # If not found, left is the position where target should be inserted\n",
    "    return left\n",
    "\n",
    "# Example usage\n",
    "nums = [1, 3, 5, 6]\n",
    "target = 5\n",
    "print(\"Index:\", search_insert(nums, target))  # Output: 2\n"
   ]
  },
  {
   "cell_type": "code",
   "execution_count": 47,
   "id": "542183dc",
   "metadata": {},
   "outputs": [],
   "source": [
    "# Problem 15: Find the minimum element in a rotated sorted array.\n",
    "# Input: [4, 5, 6, 7, 0, 1, 2]\n",
    "# Output: 0\n"
   ]
  },
  {
   "cell_type": "code",
   "execution_count": 48,
   "id": "a75d397f",
   "metadata": {},
   "outputs": [
    {
     "name": "stdout",
     "output_type": "stream",
     "text": [
      "Minimum element: 0\n"
     ]
    }
   ],
   "source": [
    "def find_min(nums):\n",
    "    left, right = 0, len(nums) - 1\n",
    "    \n",
    "    while left < right:\n",
    "        mid = left + (right - left) // 2\n",
    "        \n",
    "        # If the middle element is greater than the rightmost element, the minimum is in the right half\n",
    "        if nums[mid] > nums[right]:\n",
    "            left = mid + 1\n",
    "        else:\n",
    "            # Otherwise, the minimum is in the left half or could be the mid element itself\n",
    "            right = mid\n",
    "    \n",
    "    return nums[left]\n",
    "\n",
    "# Example usage\n",
    "nums = [4, 5, 6, 7, 0, 1, 2]\n",
    "print(\"Minimum element:\", find_min(nums))  # Output: 0\n"
   ]
  },
  {
   "cell_type": "code",
   "execution_count": 49,
   "id": "cb9e4a18",
   "metadata": {},
   "outputs": [],
   "source": [
    "# Problem 16: Search for a target value in a rotated sorted array.\n",
    "# Input: nums = [4, 5, 6, 7, 0, 1, 2], target = 0\n",
    "# Output: 4\n"
   ]
  },
  {
   "cell_type": "code",
   "execution_count": 51,
   "id": "80be25f3",
   "metadata": {},
   "outputs": [
    {
     "name": "stdout",
     "output_type": "stream",
     "text": [
      "Target index: 4\n"
     ]
    }
   ],
   "source": [
    "def search(nums, target):\n",
    "    left, right = 0, len(nums) - 1\n",
    "    \n",
    "    while left <= right:\n",
    "        mid = left + (right - left) // 2\n",
    "        \n",
    "        # If we found the target\n",
    "        if nums[mid] == target:\n",
    "            return mid\n",
    "        \n",
    "        # Left side is sorted\n",
    "        if nums[left] <= nums[mid]:\n",
    "            # Target is within the range of the left side\n",
    "            if nums[left] <= target < nums[mid]:\n",
    "                right = mid - 1\n",
    "            else:\n",
    "                left = mid + 1\n",
    "        # Right side is sorted\n",
    "        else:\n",
    "            # Target is within the range of the right side\n",
    "            if nums[mid] < target <= nums[right]:\n",
    "                left = mid + 1\n",
    "            else:\n",
    "                right = mid - 1\n",
    "    \n",
    "    return -1  # If the target is not found\n",
    "\n",
    "# Example usage\n",
    "nums = [4, 5, 6, 7, 0, 1, 2]\n",
    "target = 0\n",
    "print(\"Target index:\", search(nums, target))  # Output: 4\n"
   ]
  },
  {
   "cell_type": "code",
   "execution_count": 50,
   "id": "e4436752",
   "metadata": {},
   "outputs": [],
   "source": [
    "# Problem 17: Find the peak element in an array. A peak element is greater than its neighbors.\n",
    "# Input: nums = [1, 2, 3, 1]\n",
    "# Output: 2 (index of peak element)\n"
   ]
  },
  {
   "cell_type": "code",
   "execution_count": 53,
   "id": "a365a690",
   "metadata": {},
   "outputs": [
    {
     "name": "stdout",
     "output_type": "stream",
     "text": [
      "Peak element index: 2\n"
     ]
    }
   ],
   "source": [
    "def find_peak_element(nums):\n",
    "    left, right = 0, len(nums) - 1\n",
    "    \n",
    "    while left <= right:\n",
    "        mid = left + (right - left) // 2\n",
    "        \n",
    "        # Check if mid is the peak element\n",
    "        if (mid == 0 or nums[mid] > nums[mid - 1]) and (mid == len(nums) - 1 or nums[mid] > nums[mid + 1]):\n",
    "            return mid  # Return the index of the peak element\n",
    "        \n",
    "        # If the element on the right is greater, move to the right half\n",
    "        elif mid < len(nums) - 1 and nums[mid] < nums[mid + 1]:\n",
    "            left = mid + 1\n",
    "        # Otherwise, move to the left half\n",
    "        else:\n",
    "            right = mid - 1\n",
    "    \n",
    "    return -1  # If no peak element is found, which is rare\n",
    "\n",
    "# Example usage\n",
    "nums = [1, 2, 3, 1]\n",
    "print(\"Peak element index:\", find_peak_element(nums))  # Output: 2\n"
   ]
  },
  {
   "cell_type": "code",
   "execution_count": 52,
   "id": "ed171133",
   "metadata": {},
   "outputs": [],
   "source": [
    "# Problem 18: Given a m x n matrix where each row and column is sorted in ascending order, count the number\n",
    "# of negative numbers.\n",
    "# Input: grid = [[4, 3, 2, -1], [3, 2, 1, -1], [1, 1, -1, -2], [-1, -1, -2, -3]]\n",
    "# Output: 8"
   ]
  },
  {
   "cell_type": "code",
   "execution_count": 55,
   "id": "66766a32",
   "metadata": {},
   "outputs": [
    {
     "name": "stdout",
     "output_type": "stream",
     "text": [
      "Number of negative numbers: 8\n"
     ]
    }
   ],
   "source": [
    "def count_negatives(grid):\n",
    "    m, n = len(grid), len(grid[0])\n",
    "    count = 0\n",
    "    row, col = 0, n - 1  # Start from the top-right corner\n",
    "    \n",
    "    while row < m and col >= 0:\n",
    "        if grid[row][col] < 0:\n",
    "            count += (m - row)  # All elements below the current element are negative\n",
    "            col -= 1  # Move left to check the next column\n",
    "        else:\n",
    "            row += 1  # Move down to check the next row\n",
    "    \n",
    "    return count\n",
    "\n",
    "# Example usage\n",
    "grid = [[4, 3, 2, -1], [3, 2, 1, -1], [1, 1, -1, -2], [-1, -1, -2, -3]]\n",
    "print(\"Number of negative numbers:\", count_negatives(grid))  # Output: 8\n"
   ]
  },
  {
   "cell_type": "code",
   "execution_count": 54,
   "id": "bb70c8c8",
   "metadata": {},
   "outputs": [],
   "source": [
    "# Problem 19: Given a 2D matrix sorted in ascending order in each row, and the first integer of each row is\n",
    "# greater than the last integer of the previous row, determine if a target value is present in the matrix.\n",
    "# Input: matrix = [[1, 3, 5, 7], [10, 11, 16, 20], [23, 30, 34, 60]], target = 3\n",
    "# Output: True"
   ]
  },
  {
   "cell_type": "code",
   "execution_count": 57,
   "id": "bd2e6f8c",
   "metadata": {},
   "outputs": [
    {
     "name": "stdout",
     "output_type": "stream",
     "text": [
      "Target found: True\n"
     ]
    }
   ],
   "source": [
    "def search_matrix(matrix, target):\n",
    "    if not matrix or not matrix[0]:\n",
    "        return False\n",
    "    \n",
    "    m, n = len(matrix), len(matrix[0])\n",
    "    left, right = 0, m * n - 1  # Treat the matrix as a 1D array\n",
    "\n",
    "    while left <= right:\n",
    "        mid = left + (right - left) // 2\n",
    "        # Map the 1D index 'mid' to 2D matrix indices\n",
    "        mid_value = matrix[mid // n][mid % n]\n",
    "        \n",
    "        if mid_value == target:\n",
    "            return True\n",
    "        elif mid_value < target:\n",
    "            left = mid + 1\n",
    "        else:\n",
    "            right = mid - 1\n",
    "    \n",
    "    return False\n",
    "\n",
    "# Example usage\n",
    "matrix = [[1, 3, 5, 7], [10, 11, 16, 20], [23, 30, 34, 60]]\n",
    "target = 3\n",
    "print(\"Target found:\", search_matrix(matrix, target))  # Output: True\n"
   ]
  },
  {
   "cell_type": "code",
   "execution_count": 56,
   "id": "5fa613de",
   "metadata": {},
   "outputs": [],
   "source": [
    "# Problem 20: Find Median in Two Sorted Arrays\n",
    "# Problem: Given two sorted arrays, find the median of the combined sorted array.\n",
    "# Input: nums1 = [1, 3], nums2 = [2]\n",
    "# Output: 2.0"
   ]
  },
  {
   "cell_type": "code",
   "execution_count": 59,
   "id": "d1b93217",
   "metadata": {},
   "outputs": [
    {
     "name": "stdout",
     "output_type": "stream",
     "text": [
      "Median: 2\n"
     ]
    }
   ],
   "source": [
    "def findMedianSortedArrays(nums1, nums2):\n",
    "    # Ensure nums1 is the smaller array\n",
    "    if len(nums1) > len(nums2):\n",
    "        nums1, nums2 = nums2, nums1\n",
    "    \n",
    "    m, n = len(nums1), len(nums2)\n",
    "    left, right = 0, m  # Binary search on nums1\n",
    "    \n",
    "    while left <= right:\n",
    "        partition1 = (left + right) // 2\n",
    "        partition2 = (m + n + 1) // 2 - partition1\n",
    "        \n",
    "        # Handle edge cases when partition is at the boundary\n",
    "        max_left1 = float('-inf') if partition1 == 0 else nums1[partition1 - 1]\n",
    "        min_right1 = float('inf') if partition1 == m else nums1[partition1]\n",
    "        \n",
    "        max_left2 = float('-inf') if partition2 == 0 else nums2[partition2 - 1]\n",
    "        min_right2 = float('inf') if partition2 == n else nums2[partition2]\n",
    "        \n",
    "        # Check if we found the correct partition\n",
    "        if max_left1 <= min_right2 and max_left2 <= min_right1:\n",
    "            # Odd length combined, take the max of the left partition\n",
    "            if (m + n) % 2 == 1:\n",
    "                return max(max_left1, max_left2)\n",
    "            # Even length combined, take the average of the max of the left and min of the right\n",
    "            else:\n",
    "                return (max(max_left1, max_left2) + min(min_right1, min_right2)) / 2.0\n",
    "        elif max_left1 > min_right2:\n",
    "            # Move partition1 to the left\n",
    "            right = partition1 - 1\n",
    "        else:\n",
    "            # Move partition1 to the right\n",
    "            left = partition1 + 1\n",
    "    \n",
    "    # If no solution is found, this would indicate the arrays are not sorted or some other edge case\n",
    "    raise ValueError(\"Input arrays are not sorted correctly.\")\n",
    "\n",
    "# Example usage\n",
    "nums1 = [1, 3]\n",
    "nums2 = [2]\n",
    "print(\"Median:\", findMedianSortedArrays(nums1, nums2))  # Output: 2.0\n"
   ]
  },
  {
   "cell_type": "code",
   "execution_count": 58,
   "id": "e838d0c1",
   "metadata": {},
   "outputs": [],
   "source": [
    "# Problem 21: Given a sorted character array and a target letter, find the smallest letter in the array that is\n",
    "# greater than the target.\n",
    "# Input: letters = ['c', 'f', 'j'], target = a\n",
    "# Output: 'c'"
   ]
  },
  {
   "cell_type": "code",
   "execution_count": 60,
   "id": "e6b35b34",
   "metadata": {},
   "outputs": [
    {
     "name": "stdout",
     "output_type": "stream",
     "text": [
      "Next greatest letter: c\n"
     ]
    }
   ],
   "source": [
    "def nextGreatestLetter(letters, target):\n",
    "    left, right = 0, len(letters) - 1\n",
    "    \n",
    "    while left <= right:\n",
    "        mid = left + (right - left) // 2\n",
    "        \n",
    "        # Check if the mid letter is greater than the target\n",
    "        if letters[mid] > target:\n",
    "            right = mid - 1\n",
    "        else:\n",
    "            left = mid + 1\n",
    "    \n",
    "    # After binary search, 'left' will be the index of the smallest letter greater than the target.\n",
    "    # If the target is greater than or equal to the last element, it will loop back to the first element.\n",
    "    return letters[left % len(letters)]\n",
    "\n",
    "\n",
    "# Example usage\n",
    "letters = ['c', 'f', 'j']\n",
    "target = 'a'\n",
    "print(\"Next greatest letter:\", nextGreatestLetter(letters, target))  # Output: 'c'\n"
   ]
  },
  {
   "cell_type": "code",
   "execution_count": 61,
   "id": "f77278ee",
   "metadata": {},
   "outputs": [],
   "source": [
    "# Problem 22: Given an array with n objects colored red, white, or blue, sort them in-place so that objects of\n",
    "# the same color are adjacent, with the colors in the order red, white, and blue.\n",
    "# Input: nums = [2, 0, 2, 1, 1, 0]\n",
    "# Output: [0, 0, 1, 1, 2, 2]"
   ]
  },
  {
   "cell_type": "code",
   "execution_count": 63,
   "id": "057402f1",
   "metadata": {},
   "outputs": [
    {
     "name": "stdout",
     "output_type": "stream",
     "text": [
      "Sorted colors: [0, 0, 1, 1, 2, 2]\n"
     ]
    }
   ],
   "source": [
    "def sortColors(nums):\n",
    "    low, mid, high = 0, 0, len(nums) - 1\n",
    "    \n",
    "    while mid <= high:\n",
    "        if nums[mid] == 0:\n",
    "            nums[low], nums[mid] = nums[mid], nums[low]  # Swap red to the correct position\n",
    "            low += 1\n",
    "            mid += 1\n",
    "        elif nums[mid] == 1:\n",
    "            mid += 1  # White is already in the correct position\n",
    "        else:  # nums[mid] == 2\n",
    "            nums[mid], nums[high] = nums[high], nums[mid]  # Swap blue to the correct position\n",
    "            high -= 1\n",
    "    \n",
    "    return nums\n",
    "\n",
    "# Example usage\n",
    "nums = [2, 0, 2, 1, 1, 0]\n",
    "print(\"Sorted colors:\", sortColors(nums))  # Output: [0, 0, 1, 1, 2, 2]\n"
   ]
  },
  {
   "cell_type": "code",
   "execution_count": 62,
   "id": "7a941a58",
   "metadata": {},
   "outputs": [],
   "source": [
    "# Problem 23: Find the kth largest element in an unsorted array.\n",
    "# Input: nums = [3, 2, 1, 5, 6, 4], k = 2\n",
    "# Output: 5"
   ]
  },
  {
   "cell_type": "code",
   "execution_count": 64,
   "id": "3ba57ab6",
   "metadata": {},
   "outputs": [
    {
     "name": "stdout",
     "output_type": "stream",
     "text": [
      "Kth largest element: 5\n"
     ]
    }
   ],
   "source": [
    "import heapq\n",
    "\n",
    "def findKthLargest(nums, k):\n",
    "    # Create a min-heap with the first 'k' elements\n",
    "    min_heap = nums[:k]\n",
    "    heapq.heapify(min_heap)\n",
    "    \n",
    "    # Iterate through the remaining elements in the array\n",
    "    for num in nums[k:]:\n",
    "        if num > min_heap[0]:  # Only push to heap if the current number is larger than the smallest in the heap\n",
    "            heapq.heappushpop(min_heap, num)\n",
    "    \n",
    "    # The root of the min-heap is the kth largest element\n",
    "    return min_heap[0]\n",
    "\n",
    "# Example usage\n",
    "nums = [3, 2, 1, 5, 6, 4]\n",
    "k = 2\n",
    "print(\"Kth largest element:\", findKthLargest(nums, k))  # Output: 5\n"
   ]
  },
  {
   "cell_type": "code",
   "execution_count": 65,
   "id": "1b57c0cc",
   "metadata": {},
   "outputs": [],
   "source": [
    "# Problem 24: Given an unsorted array, reorder it in-place such that nums[0] <= nums[1] >= nums[2] <=\n",
    "# nums[3]...\n",
    "# Input: nums = [3, 5, 2, 1, 6, 4]\n",
    "# Output: [3, 5, 1, 6, 2, 4]\n"
   ]
  },
  {
   "cell_type": "code",
   "execution_count": 67,
   "id": "2217c3d5",
   "metadata": {},
   "outputs": [
    {
     "name": "stdout",
     "output_type": "stream",
     "text": [
      "Wiggle sorted array: [3, 5, 1, 6, 2, 4]\n"
     ]
    }
   ],
   "source": [
    "def wiggleSort(nums):\n",
    "    for i in range(len(nums) - 1):\n",
    "        if (i % 2 == 0 and nums[i] > nums[i + 1]) or (i % 2 != 0 and nums[i] < nums[i + 1]):\n",
    "            nums[i], nums[i + 1] = nums[i + 1], nums[i]  # Swap elements\n",
    "    return nums\n",
    "\n",
    "# Example usage\n",
    "nums = [3, 5, 2, 1, 6, 4]\n",
    "print(\"Wiggle sorted array:\", wiggleSort(nums))  # Output: [3, 5, 1, 6, 2, 4]\n"
   ]
  },
  {
   "cell_type": "code",
   "execution_count": 66,
   "id": "d78e2a46",
   "metadata": {},
   "outputs": [],
   "source": [
    "# Problem 25: Given an array of integers, calculate the sum of all its elements.\n",
    "# Input: [1, 2, 3, 4, 5]\n",
    "# Output: 15"
   ]
  },
  {
   "cell_type": "code",
   "execution_count": 68,
   "id": "9b8e24ef",
   "metadata": {},
   "outputs": [
    {
     "name": "stdout",
     "output_type": "stream",
     "text": [
      "Sum of elements: 15\n"
     ]
    }
   ],
   "source": [
    "def sum_of_elements(nums):\n",
    "    total = 0\n",
    "    for num in nums:\n",
    "        total += num\n",
    "    return total\n",
    "\n",
    "# Example usage\n",
    "nums = [1, 2, 3, 4, 5]\n",
    "print(\"Sum of elements:\", sum_of_elements(nums))  # Output: 15\n"
   ]
  },
  {
   "cell_type": "code",
   "execution_count": 70,
   "id": "2af42ba4",
   "metadata": {},
   "outputs": [],
   "source": [
    "# Problem 26: Find the maximum element in an array of integers.\n",
    "# Input: [3, 7, 2, 9, 4, 1]\n",
    "# Output: 9"
   ]
  },
  {
   "cell_type": "code",
   "execution_count": 72,
   "id": "9ceec250",
   "metadata": {},
   "outputs": [
    {
     "name": "stdout",
     "output_type": "stream",
     "text": [
      "Maximum element: 9\n"
     ]
    }
   ],
   "source": [
    "def find_maximum(nums):\n",
    "    max_num = nums[0]  # Start by assuming the first element is the maximum\n",
    "    for num in nums:\n",
    "        if num > max_num:\n",
    "            max_num = num  # Update max_num if we find a larger element\n",
    "    return max_num\n",
    "\n",
    "# Example usage\n",
    "nums = [3, 7, 2, 9, 4, 1]\n",
    "print(\"Maximum element:\", find_maximum(nums))  # Output: 9\n"
   ]
  },
  {
   "cell_type": "code",
   "execution_count": 71,
   "id": "70dffcf6",
   "metadata": {},
   "outputs": [],
   "source": [
    "# Problem 27: Implement linear search to find the index of a target element in an array.\n",
    "# Input: [5, 3, 8, 2, 7, 4], target = 8\n",
    "# Output: 2"
   ]
  },
  {
   "cell_type": "code",
   "execution_count": 73,
   "id": "7ca1ad10",
   "metadata": {},
   "outputs": [
    {
     "name": "stdout",
     "output_type": "stream",
     "text": [
      "Index of target: 2\n"
     ]
    }
   ],
   "source": [
    "def linear_search(nums, target):\n",
    "    for index, num in enumerate(nums):\n",
    "        if num == target:\n",
    "            return index  # Return the index if the target is found\n",
    "    return -1  # Return -1 if the target is not found\n",
    "\n",
    "# Example usage\n",
    "nums = [5, 3, 8, 2, 7, 4]\n",
    "target = 8\n",
    "print(\"Index of target:\", linear_search(nums, target))  # Output: 2\n"
   ]
  },
  {
   "cell_type": "code",
   "execution_count": 74,
   "id": "89d4c4f9",
   "metadata": {},
   "outputs": [],
   "source": [
    "# Problem 28 Calculate the factorial of a given number.\n",
    "# Input: 5\n",
    "# Output: 120 (as 5! = 5 * 4 * 3 * 2 * 1 = 120)"
   ]
  },
  {
   "cell_type": "code",
   "execution_count": 76,
   "id": "e21cd13b",
   "metadata": {},
   "outputs": [
    {
     "name": "stdout",
     "output_type": "stream",
     "text": [
      "Factorial of 5 is 120\n"
     ]
    }
   ],
   "source": [
    "def factorial(n):\n",
    "    if n == 0 or n == 1:  # Base case: 0! = 1 and 1! = 1\n",
    "        return 1\n",
    "    return n * factorial(n - 1)  # Recursive case\n",
    "\n",
    "# Example usage\n",
    "n = 5\n",
    "print(\"Factorial of\", n, \"is\", factorial(n))  # Output: 120\n"
   ]
  },
  {
   "cell_type": "code",
   "execution_count": 75,
   "id": "39c8d76c",
   "metadata": {},
   "outputs": [],
   "source": [
    "# Problem 29: Check if a given number is a prime number.\n",
    "# Input: 7\n",
    "# Output: True"
   ]
  },
  {
   "cell_type": "code",
   "execution_count": 77,
   "id": "5db034fa",
   "metadata": {},
   "outputs": [
    {
     "name": "stdout",
     "output_type": "stream",
     "text": [
      "Is 7 a prime number? True\n"
     ]
    }
   ],
   "source": [
    "def is_prime(n):\n",
    "    if n <= 1:\n",
    "        return False  # Numbers less than or equal to 1 are not prime\n",
    "    if n == 2:\n",
    "        return True  # 2 is a prime number\n",
    "    if n % 2 == 0:\n",
    "        return False  # Eliminate even numbers greater than 2\n",
    "    for i in range(3, int(n ** 0.5) + 1, 2):  # Check divisibility up to sqrt(n)\n",
    "        if n % i == 0:\n",
    "            return False\n",
    "    return True\n",
    "\n",
    "# Example usage\n",
    "n = 7\n",
    "print(\"Is\", n, \"a prime number?\", is_prime(n))  # Output: True\n"
   ]
  },
  {
   "cell_type": "code",
   "execution_count": 78,
   "id": "7838358d",
   "metadata": {},
   "outputs": [],
   "source": [
    "# Problem 30: Generate the Fibonacci series up to a given number n.\n",
    "# Input: 8\n",
    "# Output: [0, 1, 1, 2, 3, 5, 8, 13]"
   ]
  },
  {
   "cell_type": "code",
   "execution_count": 79,
   "id": "f25ebf45",
   "metadata": {},
   "outputs": [
    {
     "name": "stdout",
     "output_type": "stream",
     "text": [
      "Fibonacci series up to 8 : [0, 1, 1, 2, 3, 5, 8]\n"
     ]
    }
   ],
   "source": [
    "def fibonacci_series(n):\n",
    "    series = []\n",
    "    a, b = 0, 1\n",
    "    while a <= n:\n",
    "        series.append(a)\n",
    "        a, b = b, a + b  # Update a to b, and b to a + b\n",
    "    return series\n",
    "\n",
    "# Example usage\n",
    "n = 8\n",
    "print(\"Fibonacci series up to\", n, \":\", fibonacci_series(n))  # Output: [0, 1, 1, 2, 3, 5, 8]\n"
   ]
  },
  {
   "cell_type": "code",
   "execution_count": 80,
   "id": "aaa25b74",
   "metadata": {},
   "outputs": [],
   "source": [
    "# Problem 31: Calculate the power of a number using recursion.\n",
    "# Input: base = 3, exponent = 4\n",
    "# Output: 81 (as 3^4 = 3 * 3 * 3 * 3 = 81)"
   ]
  },
  {
   "cell_type": "code",
   "execution_count": 82,
   "id": "819902e5",
   "metadata": {},
   "outputs": [
    {
     "name": "stdout",
     "output_type": "stream",
     "text": [
      "3^4 = 81\n"
     ]
    }
   ],
   "source": [
    "def power(base, exponent):\n",
    "    if exponent == 0:  # Base case: any number raised to the power of 0 is 1\n",
    "        return 1\n",
    "    else:\n",
    "        return base * power(base, exponent - 1)  # Recursive step\n",
    "\n",
    "# Example usage\n",
    "base = 3\n",
    "exponent = 4\n",
    "print(f\"{base}^{exponent} =\", power(base, exponent))  # Output: 81\n"
   ]
  },
  {
   "cell_type": "code",
   "execution_count": 81,
   "id": "73fa0584",
   "metadata": {},
   "outputs": [],
   "source": [
    "# Problem 32: Reverse a given string.\n",
    "# Input: \"hello\"\n",
    "# Output: \"olleh\""
   ]
  },
  {
   "cell_type": "code",
   "execution_count": 83,
   "id": "1d47cc58",
   "metadata": {},
   "outputs": [
    {
     "name": "stdout",
     "output_type": "stream",
     "text": [
      "Reversed string: olleh\n"
     ]
    }
   ],
   "source": [
    "def reverse_string(s):\n",
    "    # Base case: If the string is empty or has only one character, it's already reversed\n",
    "    if len(s) <= 1:\n",
    "        return s\n",
    "    # Recursive case: Reverse the substring and add the first character at the end\n",
    "    return reverse_string(s[1:]) + s[0]\n",
    "\n",
    "# Example usage\n",
    "input_str = \"hello\"\n",
    "print(\"Reversed string:\", reverse_string(input_str))  # Output: \"olleh\"\n"
   ]
  },
  {
   "cell_type": "code",
   "execution_count": null,
   "id": "f22faa36",
   "metadata": {},
   "outputs": [],
   "source": []
  }
 ],
 "metadata": {
  "kernelspec": {
   "display_name": "Python (ml_kernel)",
   "language": "python",
   "name": "your_env_name"
  },
  "language_info": {
   "codemirror_mode": {
    "name": "ipython",
    "version": 3
   },
   "file_extension": ".py",
   "mimetype": "text/x-python",
   "name": "python",
   "nbconvert_exporter": "python",
   "pygments_lexer": "ipython3",
   "version": "3.8.0"
  }
 },
 "nbformat": 4,
 "nbformat_minor": 5
}
