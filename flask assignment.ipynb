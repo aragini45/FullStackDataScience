{
 "cells": [
  {
   "cell_type": "code",
   "execution_count": 1,
   "id": "204ffe85",
   "metadata": {},
   "outputs": [],
   "source": [
    "# 1. Create a Flask app that displays \"Hello, World!\" on the homepage.\n",
    "\n",
    "from flask import Flask\n",
    "\n",
    "app = Flask(__name__)\n",
    "\n",
    "@app.route('/')\n",
    "def hello_world():\n",
    "    return 'Hello, World!'\n",
    "\n",
    "if __name__ == '__main__':\n",
    "    app.run(debug=True)\n"
   ]
  },
  {
   "cell_type": "code",
   "execution_count": 3,
   "id": "81eae8be",
   "metadata": {},
   "outputs": [],
   "source": [
    "# 2. Build a Flask app with static HTML pages and navigate between them.\n",
    "from flask import Flask, render_template\n",
    "\n",
    "app = Flask(__name__)\n",
    "\n",
    "@app.route('/')\n",
    "def home():\n",
    "    return render_template('home.html')\n",
    "\n",
    "@app.route('/about')\n",
    "def about():\n",
    "    return render_template('about.html')\n",
    "\n",
    "if __name__ == '__main__':\n",
    "    app.run(debug=True)\n"
   ]
  },
  {
   "cell_type": "code",
   "execution_count": null,
   "id": "84afe1df",
   "metadata": {},
   "outputs": [],
   "source": [
    "# 3. Develop a Flask app that uses URL parameters to display dynamic content.\n",
    "@app.route('/greet/<name>')\n",
    "def greet(name):\n",
    "    return f'Hello, {name}!'\n"
   ]
  },
  {
   "cell_type": "code",
   "execution_count": null,
   "id": "af515d58",
   "metadata": {},
   "outputs": [],
   "source": [
    "# 4. Create a Flask app with a form that accepts user input and displays it.\n",
    "from flask import request\n",
    "\n",
    "@app.route('/form', methods=['GET', 'POST'])\n",
    "def form():\n",
    "    if request.method == 'POST':\n",
    "        name = request.form['name']\n",
    "        return f'Hello, {name}!'\n",
    "    return '''\n",
    "        <form method=\"post\">\n",
    "            Name: <input type=\"text\" name=\"name\">\n",
    "            <input type=\"submit\" value=\"Submit\">\n",
    "        </form>\n",
    "    '''\n"
   ]
  },
  {
   "cell_type": "code",
   "execution_count": 4,
   "id": "bff1d3d1",
   "metadata": {},
   "outputs": [],
   "source": [
    "# 5. Implement user sessions in a Flask app to store and display user-specific data.\n",
    "from flask import session\n",
    "\n",
    "app.secret_key = 'your_secret_key'  # Set the secret key for sessions\n",
    "\n",
    "@app.route('/setname', methods=['POST'])\n",
    "def set_name():\n",
    "    session['name'] = request.form['name']\n",
    "    return 'Name set!'\n",
    "\n",
    "@app.route('/getname')\n",
    "def get_name():\n",
    "    return f'Hello, {session.get(\"name\", \"Guest\")}!'\n"
   ]
  },
  {
   "cell_type": "code",
   "execution_count": 2,
   "id": "855991bf",
   "metadata": {},
   "outputs": [],
   "source": [
    "# 6. Build a Flask app that allows users to upload files and display them on the website.\n",
    "\n",
    "from flask import request, redirect, url_for\n",
    "\n",
    "@app.route('/upload', methods=['GET', 'POST'])\n",
    "def upload_file():\n",
    "    if request.method == 'POST':\n",
    "        file = request.files['file']\n",
    "        file.save(f'uploads/{file.filename}')\n",
    "        return redirect(url_for('uploaded_file', filename=file.filename))\n",
    "    return '''\n",
    "        <form method=\"post\" enctype=\"multipart/form-data\">\n",
    "            <input type=\"file\" name=\"file\">\n",
    "            <input type=\"submit\" value=\"Upload\">\n",
    "        </form>\n",
    "    '''\n"
   ]
  },
  {
   "cell_type": "code",
   "execution_count": null,
   "id": "34830bd8",
   "metadata": {},
   "outputs": [],
   "source": [
    "# 7. Integrate a SQLite database with Flask to perform CRUD operations on a list of items.\n",
    "from flask_sqlalchemy import SQLAlchemy\n",
    "\n",
    "app.config['SQLALCHEMY_DATABASE_URI'] = 'sqlite:///items.db'\n",
    "db = SQLAlchemy(app)\n",
    "\n",
    "class Item(db.Model):\n",
    "    id = db.Column(db.Integer, primary_key=True)\n",
    "    name = db.Column(db.String(80), nullable=False)\n",
    "\n",
    "@app.route('/add_item', methods=['POST'])\n",
    "def add_item():\n",
    "    new_item = Item(name=request.form['name'])\n",
    "    db.session.add(new_item)\n",
    "    db.session.commit()\n",
    "    return 'Item added!'\n"
   ]
  },
  {
   "cell_type": "code",
   "execution_count": null,
   "id": "2902d1d0",
   "metadata": {},
   "outputs": [],
   "source": [
    "# 8. Implement user authentication and registration in a Flask app using Flask-Login.\n",
    "\"\"\"\n",
    "Set up Flask-Login with User model and login routes.\n",
    "\"\"\""
   ]
  },
  {
   "cell_type": "code",
   "execution_count": null,
   "id": "14b92c86",
   "metadata": {},
   "outputs": [],
   "source": [
    "# 9. Create a RESTful API using Flask to perform CRUD operations on resources like books or movies.\n",
    "@app.route('/books', methods=['GET'])\n",
    "def get_books():\n",
    "    books = Book.query.all()\n",
    "    return jsonify([book.to_dict() for book in books])\n"
   ]
  },
  {
   "cell_type": "code",
   "execution_count": null,
   "id": "323e74d8",
   "metadata": {},
   "outputs": [],
   "source": [
    "# 10. Design a Flask app with proper error handling for 404 and 500 errors.\n",
    "@app.errorhandler(404)\n",
    "def not_found(error):\n",
    "    return 'This page does not exist', 404\n",
    "\n",
    "@app.errorhandler(500)\n",
    "def internal_error(error):\n",
    "    return 'Internal server error', 500\n"
   ]
  },
  {
   "cell_type": "code",
   "execution_count": 5,
   "id": "a8e685ca",
   "metadata": {},
   "outputs": [],
   "source": [
    "# 11. Create a real-time chat application using Flask-SocketIO.\n",
    "from flask_socketio import SocketIO\n",
    "\n",
    "socketio = SocketIO(app)\n",
    "\n",
    "@socketio.on('message')\n",
    "def handle_message(msg):\n",
    "    send(msg, broadcast=True)\n",
    "\n",
    "if __name__ == '__main__':\n",
    "    socketio.run(app)\n"
   ]
  },
  {
   "cell_type": "code",
   "execution_count": 6,
   "id": "05b9e5ed",
   "metadata": {},
   "outputs": [],
   "source": [
    "# 12. Build a Flask app that updates data in real-time using WebSocket connections.\n",
    "\"\"\"Similar to chat, listen for events and update clients.\n",
    "\n",
    "\"\"\""
   ]
  },
  {
   "cell_type": "code",
   "execution_count": 7,
   "id": "ec14f7ef",
   "metadata": {},
   "outputs": [],
   "source": [
    "# 13. Implement notifications in a Flask app using websockets to notify users of updates.\n",
    "\"\"\"\n",
    "\n",
    "Use socketio.emit to send notifications when events occur.\n",
    "\"\"\""
   ]
  },
  {
   "cell_type": "code",
   "execution_count": null,
   "id": "6915d152",
   "metadata": {},
   "outputs": [],
   "source": []
  }
 ],
 "metadata": {
  "kernelspec": {
   "display_name": "Python (ml_kernel)",
   "language": "python",
   "name": "your_env_name"
  },
  "language_info": {
   "codemirror_mode": {
    "name": "ipython",
    "version": 3
   },
   "file_extension": ".py",
   "mimetype": "text/x-python",
   "name": "python",
   "nbconvert_exporter": "python",
   "pygments_lexer": "ipython3",
   "version": "3.8.0"
  }
 },
 "nbformat": 4,
 "nbformat_minor": 5
}
