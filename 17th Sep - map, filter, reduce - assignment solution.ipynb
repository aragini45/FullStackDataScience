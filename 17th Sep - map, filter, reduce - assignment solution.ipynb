{
 "cells": [
  {
   "cell_type": "code",
   "execution_count": 130,
   "id": "6090ffbb",
   "metadata": {},
   "outputs": [],
   "source": [
    "# For Loop :-\n",
    "# If else :\n",
    "\n",
    "# above two already covered in 3rd Sep control flow and for loop questions and submitted the assignmnet also\n",
    "# in this assigment I will start from Map\n",
    "\n",
    "###############################   THANKS   ###############################\n"
   ]
  },
  {
   "cell_type": "markdown",
   "id": "ab8af85c",
   "metadata": {},
   "source": [
    "# MAP"
   ]
  },
  {
   "cell_type": "code",
   "execution_count": 25,
   "id": "3120a9ab",
   "metadata": {},
   "outputs": [
    {
     "name": "stdout",
     "output_type": "stream",
     "text": [
      "[1, 4, 9, 16, 25]\n"
     ]
    }
   ],
   "source": [
    "# 1. Explain the purpose of the `map()` function in Python and provide an example of how it can be\n",
    "# used to apply a function to each element of an iterable.\n",
    "\n",
    "\"\"\"\n",
    "The map() function in Python is used to apply a given function to each element of an iterable (such as a list, tuple, or other iterable objects) and returns an iterable (usually a map object) containing the results. It essentially transforms each element of the original iterable using the provided function.\n",
    "\n",
    "The syntax of the map() function is as follows:\n",
    "\n",
    "map(function, iterable)\n",
    "\n",
    "\n",
    "\"\"\"\n",
    "\n",
    "\n",
    "# Function to square a number\n",
    "def square(x):\n",
    "    return x ** 2\n",
    "\n",
    "# List of numbers\n",
    "numbers = [1, 2, 3, 4, 5]\n",
    "\n",
    "# Use map() to apply the square function to each element in the list\n",
    "squared_numbers = map(square, numbers)\n",
    "\n",
    "# Convert the result to a list (optional)\n",
    "squared_numbers_list = list(squared_numbers)\n",
    "\n",
    "# Print the squared numbers\n",
    "print(squared_numbers_list)\n"
   ]
  },
  {
   "cell_type": "code",
   "execution_count": 29,
   "id": "bb19fe85",
   "metadata": {},
   "outputs": [
    {
     "name": "stdout",
     "output_type": "stream",
     "text": [
      "[1, 4, 9, 16, 25]\n"
     ]
    }
   ],
   "source": [
    "# 2. Write a Python program that uses the `map()` function to square each element of a list of\n",
    "# numbers.\n",
    "\n",
    "numbers = [1, 2, 3, 4, 5]\n",
    "\n",
    "squared_numbers = list(map(lambda x: x**2, numbers))\n",
    "print(squared_numbers)\n",
    "\n"
   ]
  },
  {
   "cell_type": "code",
   "execution_count": 30,
   "id": "ca32735d",
   "metadata": {},
   "outputs": [
    {
     "data": {
      "text/plain": [
       "'\\n\\n\\n'"
      ]
     },
     "execution_count": 30,
     "metadata": {},
     "output_type": "execute_result"
    }
   ],
   "source": [
    "# 3. How does the `map()` function differ from a list comprehension in Python, and when would you\n",
    "# choose one over the other?\n",
    "\n",
    "\"\"\"\n",
    "The map() function and list comprehensions in Python both allow you to transform data in an iterable by applying a function to each element, but they have some differences in terms of syntax and usage.\n",
    "\n",
    "Here's how they differ and when you might choose one over the other:\n",
    "\n",
    "Syntax:\n",
    "map(): Uses a function and an iterable as arguments. The function is applied to each element of the iterable.\n",
    "List Comprehension: Uses a concise expression to generate a new list by iterating over an iterable.\n",
    "Result:\n",
    "map(): Returns a map object (an iterable). You often need to convert it to a list or another data structure to see the results.\n",
    "List Comprehension: Generates a new list directly.\n",
    "Readability:\n",
    "map(): May be less intuitive for some readers, especially if the function is complex.\n",
    "List Comprehension: Often more readable and concise for simple transformations.\n",
    "Performance:\n",
    "In terms of performance, there is typically no significant difference between the two. Both are efficient.\n",
    "Here are some considerations for choosing one over the other:\n",
    "\n",
    "Complex Transformations: If you have a complex transformation that involves multiple lines of code, map() may be more appropriate to maintain code readability.\n",
    "Returning Other Iterables: If you want to generate other iterables like tuples or sets, map() allows you to apply the transformation function and convert the result to the desired type. List comprehensions, on the other hand, directly generate lists.\n",
    "Readability: For simple transformations where readability is essential, list comprehensions are often preferred due to their concise and more Pythonic syntax.\n",
    "Applying Functions: If you have a predefined function you want to apply to elements of an iterable, map() is a good choice. However, you can also use list comprehensions with the function.\n",
    "Preference: Ultimately, the choice between map() and list comprehensions often comes down to personal preference and the specific requirements of your code. Some developers prefer one over the other for their coding style.\n",
    "In summary, both map() and list comprehensions are valuable tools for transforming data in Python. Your choice between them depends on the complexity of the transformation, your coding style, and whether you want to work with other types of iterables.\n",
    "\n",
    "\"\"\"\n"
   ]
  },
  {
   "cell_type": "code",
   "execution_count": 32,
   "id": "de02fb9a",
   "metadata": {},
   "outputs": [
    {
     "name": "stdout",
     "output_type": "stream",
     "text": [
      "['KRISH', 'SUDH', 'VISHWA', 'PRIYA']\n"
     ]
    }
   ],
   "source": [
    "# 4. Create a Python program that uses the `map()` function to convert a list of names to uppercase.\n",
    "\n",
    "names = [\"krish\", \"sudh\", \"vishwa\", \"priya\"]\n",
    "\n",
    "result = list(map(lambda x : x.upper(), names))\n",
    "\n",
    "print(result)"
   ]
  },
  {
   "cell_type": "code",
   "execution_count": 33,
   "id": "83dca3f7",
   "metadata": {},
   "outputs": [
    {
     "name": "stdout",
     "output_type": "stream",
     "text": [
      "[5, 4, 6, 5]\n"
     ]
    }
   ],
   "source": [
    "# 5. Write a Python program that uses the `map()` function to calculate the length of each word in a\n",
    "# list of strings.\n",
    "\n",
    "names = [\"krish\", \"sudh\", \"vishwa\", \"priya\"]\n",
    "\n",
    "result = list(map(lambda x : len(x), names))\n",
    "\n",
    "print(result)"
   ]
  },
  {
   "cell_type": "code",
   "execution_count": 35,
   "id": "0e51433a",
   "metadata": {},
   "outputs": [
    {
     "name": "stdout",
     "output_type": "stream",
     "text": [
      "[11, 22, 33]\n"
     ]
    }
   ],
   "source": [
    "# 6. How can you use the `map()` function to apply a custom function to elements of multiple lists\n",
    "# simultaneously in Python?\n",
    "\n",
    "# Custom function to add elements from two lists\n",
    "def add_elements(x, y):\n",
    "    return x + y\n",
    "\n",
    "# Lists to be processed\n",
    "list1 = [1, 2, 3]\n",
    "list2 = [10, 20, 30]\n",
    "\n",
    "# Use map() to apply the custom function to elements of both lists\n",
    "result = map(add_elements, list1, list2)\n",
    "\n",
    "# Convert the result to a list (optional)\n",
    "result_list = list(result)\n",
    "\n",
    "# Print the result\n",
    "print(result_list)\n"
   ]
  },
  {
   "cell_type": "code",
   "execution_count": 34,
   "id": "e83731b8",
   "metadata": {},
   "outputs": [
    {
     "name": "stdout",
     "output_type": "stream",
     "text": [
      "[32.0, 77.0, 212.0, 14.0, 86.0]\n"
     ]
    }
   ],
   "source": [
    "# 7. Create a Python program that uses `map()` to convert a list of temperatures from Celsius to\n",
    "# Fahrenheit.\n",
    "\n",
    "# Function to convert Celsius to Fahrenheit\n",
    "def celsius_to_fahrenheit(celsius):\n",
    "    return (celsius * 9/5) + 32\n",
    "\n",
    "# List of temperatures in Celsius\n",
    "celsius_temperatures = [0, 25, 100, -10, 30]\n",
    "\n",
    "# Use map() to apply the conversion function to each Celsius temperature\n",
    "fahrenheit_temperatures = map(celsius_to_fahrenheit, celsius_temperatures)\n",
    "\n",
    "# Convert the result to a list (optional)\n",
    "fahrenheit_temperatures_list = list(fahrenheit_temperatures)\n",
    "\n",
    "# Print the converted temperatures\n",
    "print(fahrenheit_temperatures_list)\n"
   ]
  },
  {
   "cell_type": "code",
   "execution_count": 36,
   "id": "a81ab876",
   "metadata": {},
   "outputs": [
    {
     "name": "stdout",
     "output_type": "stream",
     "text": [
      "[3, 3, 2, 5, 2]\n"
     ]
    }
   ],
   "source": [
    "# 8. Write a Python program that uses the `map()` function to round each element of a list of\n",
    "# floating-point numbers to the nearest integer.\n",
    "# List of floating-point numbers\n",
    "float_numbers = [3.14, 2.718, 1.618, 4.669, 2.236]\n",
    "\n",
    "# Use map() to apply the round() function to each element\n",
    "rounded_integers = map(round, float_numbers)\n",
    "\n",
    "# Convert the result to a list (optional)\n",
    "rounded_integers_list = list(rounded_integers)\n",
    "\n",
    "# Print the rounded integers\n",
    "print(rounded_integers_list)\n",
    "\n"
   ]
  },
  {
   "cell_type": "markdown",
   "id": "23577480",
   "metadata": {},
   "source": [
    "# REDUCE"
   ]
  },
  {
   "cell_type": "code",
   "execution_count": 38,
   "id": "33dba71e",
   "metadata": {},
   "outputs": [],
   "source": [
    "from functools import reduce"
   ]
  },
  {
   "cell_type": "code",
   "execution_count": 40,
   "id": "eb647403",
   "metadata": {},
   "outputs": [
    {
     "name": "stdout",
     "output_type": "stream",
     "text": [
      "120\n"
     ]
    }
   ],
   "source": [
    "# 1. What is the `reduce()` function in Python, and what module should you import to use it? Provide\n",
    "# an example of its basic usage.\n",
    "\"\"\"\n",
    "The reduce() function in Python is used to repeatedly apply a specified function to the elements of an iterable, reducing the iterable to a single accumulated result. To use the reduce() function, you need to import it from the functools module.\n",
    "\n",
    "Here's an example of the basic usage of the reduce() function:\n",
    "\"\"\"\n",
    "\n",
    "# Custom function to calculate the product of two numbers\n",
    "def multiply(x, y):\n",
    "    return x * y\n",
    "\n",
    "# List of numbers\n",
    "numbers = [1, 2, 3, 4, 5]\n",
    "\n",
    "# Use reduce() to calculate the product of all numbers in the list\n",
    "result = reduce(multiply, numbers)\n",
    "\n",
    "# Print the result\n",
    "print(result)\n"
   ]
  },
  {
   "cell_type": "code",
   "execution_count": 43,
   "id": "1caa91e4",
   "metadata": {},
   "outputs": [
    {
     "name": "stdout",
     "output_type": "stream",
     "text": [
      "120\n"
     ]
    }
   ],
   "source": [
    "# 2. Write a Python program that uses the `reduce()` function to find the product of all elements in a\n",
    "# list.\n",
    "numbers = [1, 2, 3, 4, 5]\n",
    "\n",
    "res = reduce(lambda x,y: x*y, numbers)\n",
    "print(res)\n"
   ]
  },
  {
   "cell_type": "code",
   "execution_count": 45,
   "id": "90e69dd1",
   "metadata": {},
   "outputs": [
    {
     "name": "stdout",
     "output_type": "stream",
     "text": [
      "5\n"
     ]
    }
   ],
   "source": [
    "# 3. Create a Python program that uses `reduce()` to find the maximum element in a list of numbers.\n",
    "\n",
    "numbers = [1, 2, 3, 4, 5]\n",
    "\n",
    "res = reduce(lambda x,y: x if x>y else y, numbers)\n",
    "print(res)\n"
   ]
  },
  {
   "cell_type": "code",
   "execution_count": 46,
   "id": "dd54b289",
   "metadata": {},
   "outputs": [
    {
     "name": "stdout",
     "output_type": "stream",
     "text": [
      "krishsudhvishwapriya\n"
     ]
    }
   ],
   "source": [
    "# 4. How can you use the `reduce()` function to concatenate a list of strings into a single string?\n",
    "\n",
    "names = [\"krish\", \"sudh\", \"vishwa\", \"priya\"]\n",
    "\n",
    "result = reduce(lambda x,y : x+y, names)\n",
    "\n",
    "print(result)\n"
   ]
  },
  {
   "cell_type": "code",
   "execution_count": 47,
   "id": "23d6c82e",
   "metadata": {},
   "outputs": [
    {
     "name": "stdout",
     "output_type": "stream",
     "text": [
      "The factorial of 5 is: 120\n"
     ]
    }
   ],
   "source": [
    "# 5. Write a Python program that calculates the factorial of a number using the `reduce()` function.\n",
    "from functools import reduce\n",
    "\n",
    "# Custom function to calculate the factorial of a number\n",
    "def factorial(x, y):\n",
    "    return x * y\n",
    "\n",
    "# Number for which you want to calculate the factorial\n",
    "number = 5\n",
    "\n",
    "# Create a list of numbers from 1 to the given number\n",
    "numbers = list(range(1, number + 1))\n",
    "\n",
    "# Use reduce() to calculate the factorial\n",
    "factorial_result = reduce(factorial, numbers)\n",
    "\n",
    "# Print the factorial result\n",
    "print(f\"The factorial of {number} is: {factorial_result}\")\n",
    "\n"
   ]
  },
  {
   "cell_type": "code",
   "execution_count": 48,
   "id": "74acbeed",
   "metadata": {},
   "outputs": [
    {
     "name": "stdout",
     "output_type": "stream",
     "text": [
      "The GCD of the numbers is: 12\n"
     ]
    }
   ],
   "source": [
    "\n",
    "# 6. Create a Python program that uses `reduce()` to find the GCD (Greatest Common Divisor) of a list\n",
    "# of numbers.\n",
    "\n",
    "from functools import reduce\n",
    "from math import gcd  # Import the gcd function from the math module\n",
    "\n",
    "# List of numbers for which you want to find the GCD\n",
    "numbers = [36, 48, 60, 72]\n",
    "\n",
    "# Use reduce() with the gcd function to find the GCD\n",
    "gcd_result = reduce(gcd, numbers)\n",
    "\n",
    "# Print the GCD result\n",
    "print(\"The GCD of the numbers is:\", gcd_result)\n"
   ]
  },
  {
   "cell_type": "code",
   "execution_count": 49,
   "id": "098611d2",
   "metadata": {},
   "outputs": [
    {
     "name": "stdout",
     "output_type": "stream",
     "text": [
      "The sum of the digits of 12345 is: 15\n"
     ]
    }
   ],
   "source": [
    "# 7. Write a Python program that uses the `reduce()` function to find the sum of the digits of a given\n",
    "# number.\n",
    "\n",
    "from functools import reduce\n",
    "\n",
    "# Custom function to add the digits of a number\n",
    "def add_digits(x, y):\n",
    "    return int(x) + int(y)\n",
    "\n",
    "# Number for which you want to find the sum of digits\n",
    "number = 12345\n",
    "\n",
    "# Convert the number to a string and split it into individual digits\n",
    "digits = list(str(number))\n",
    "\n",
    "# Use reduce() to find the sum of digits\n",
    "sum_of_digits = reduce(add_digits, digits)\n",
    "\n",
    "# Print the sum of digits\n",
    "print(f\"The sum of the digits of {number} is: {sum_of_digits}\")\n"
   ]
  },
  {
   "cell_type": "code",
   "execution_count": null,
   "id": "fda8b5fe",
   "metadata": {},
   "outputs": [],
   "source": []
  },
  {
   "cell_type": "markdown",
   "id": "b5883f7e",
   "metadata": {},
   "source": [
    "# FILTER"
   ]
  },
  {
   "cell_type": "code",
   "execution_count": 52,
   "id": "041c4467",
   "metadata": {},
   "outputs": [
    {
     "name": "stdout",
     "output_type": "stream",
     "text": [
      "Even numbers: [2, 4, 6, 8, 10]\n"
     ]
    }
   ],
   "source": [
    "# 1. Explain the purpose of the `filter()` function in Python and provide an example of how it can be\n",
    "# used to filter elements from an iterable.\n",
    "\n",
    "\n",
    "\"\"\"\n",
    "\n",
    "The filter() function in Python is used to filter elements from an iterable based on a specified condition or predicate. It takes two arguments: a function that defines the condition and an iterable (e.g., a list) from which elements will be filtered. The function is applied to each element of the iterable, and only the elements for which the function returns True are included in the filtered result.\n",
    "\n",
    "Here's an example of how the filter() function can be used to filter even numbers from a list:\n",
    "\"\"\"\n",
    "\n",
    "# Custom function to filter even numbers\n",
    "def is_even(number):\n",
    "    return number % 2 == 0\n",
    "\n",
    "# List of numbers\n",
    "numbers = [1, 2, 3, 4, 5, 6, 7, 8, 9, 10]\n",
    "\n",
    "# Use filter() to filter even numbers\n",
    "even_numbers = list(filter(is_even, numbers))\n",
    "\n",
    "# Print the filtered even numbers\n",
    "print(\"Even numbers:\", even_numbers)\n"
   ]
  },
  {
   "cell_type": "code",
   "execution_count": 50,
   "id": "bfb6560b",
   "metadata": {},
   "outputs": [
    {
     "name": "stdout",
     "output_type": "stream",
     "text": [
      "[2, 4, 6]\n"
     ]
    }
   ],
   "source": [
    "# 2. Write a Python program that uses the `filter()` function to select even numbers from a list of\n",
    "# integers.\n",
    "\n",
    "numbers = [1,2,3,4,5,6]\n",
    "\n",
    "res = list(filter(lambda x: x%2 ==0, numbers))\n",
    "print(res)"
   ]
  },
  {
   "cell_type": "code",
   "execution_count": 51,
   "id": "e022f595",
   "metadata": {},
   "outputs": [
    {
     "name": "stdout",
     "output_type": "stream",
     "text": [
      "['krish', 'kunal', 'kapil']\n"
     ]
    }
   ],
   "source": [
    "# 3. Create a Python program that uses the `filter()` function to select names that start with a specific\n",
    "# letter from a list of strings.\n",
    "\n",
    "names = [\"krish\", \"sudh\", \"vishwa\", \"priya\", \"kunal\", \"kapil\"]\n",
    "\n",
    "startswith = 'k'\n",
    "\n",
    "result = list(filter(lambda x : x.startswith(startswith), names))\n",
    "\n",
    "print(result)"
   ]
  },
  {
   "cell_type": "code",
   "execution_count": 53,
   "id": "360a12c6",
   "metadata": {},
   "outputs": [
    {
     "name": "stdout",
     "output_type": "stream",
     "text": [
      "Prime numbers: [2, 3, 5, 7, 11, 13, 17, 23]\n"
     ]
    }
   ],
   "source": [
    "# 4. Write a Python program that uses the `filter()` function to select prime numbers from a list of\n",
    "# integers.\n",
    "# Custom function to check if a number is prime\n",
    "def is_prime(number):\n",
    "    if number <= 1:\n",
    "        return False\n",
    "    if number <= 3:\n",
    "        return True\n",
    "    if number % 2 == 0 or number % 3 == 0:\n",
    "        return False\n",
    "    i = 5\n",
    "    while i * i <= number:\n",
    "        if number % i == 0 or number % (i + 2) == 0:\n",
    "            return False\n",
    "        i += 6\n",
    "    return True\n",
    "\n",
    "# List of integers\n",
    "numbers = [2, 3, 5, 7, 10, 11, 13, 17, 20, 23]\n",
    "\n",
    "# Use filter() to select prime numbers\n",
    "prime_numbers = list(filter(is_prime, numbers))\n",
    "\n",
    "# Print the selected prime numbers\n",
    "print(\"Prime numbers:\", prime_numbers)\n",
    "\n"
   ]
  },
  {
   "cell_type": "code",
   "execution_count": 54,
   "id": "df87df00",
   "metadata": {},
   "outputs": [
    {
     "name": "stdout",
     "output_type": "stream",
     "text": [
      "Filtered list: ['qwerty', 'asdf', 'zxcv']\n"
     ]
    }
   ],
   "source": [
    "\n",
    "# 5. How can you use the `filter()` function to remove None values from a list in Python?\n",
    "\n",
    "# List with None values\n",
    "str_list = [\"qwerty\", \"asdf\", None, \"zxcv\", None]\n",
    "\n",
    "# Custom function to filter out None values\n",
    "def is_not_none(item):\n",
    "    return item is not None\n",
    "\n",
    "# Use filter() to remove None values\n",
    "filtered_list = list(filter(is_not_none, str_list))\n",
    "\n",
    "# Print the filtered list\n",
    "print(\"Filtered list:\", filtered_list)\n"
   ]
  },
  {
   "cell_type": "code",
   "execution_count": 55,
   "id": "57a19ad7",
   "metadata": {},
   "outputs": [
    {
     "name": "stdout",
     "output_type": "stream",
     "text": [
      "Words longer than 5 characters: ['banana', 'cherry', 'elderberry']\n"
     ]
    }
   ],
   "source": [
    "# 6. Create a Python program that uses `filter()` to select words longer than a certain length from a\n",
    "# list of strings.\n",
    "\n",
    "# List of strings\n",
    "word_list = [\"apple\", \"banana\", \"cherry\", \"date\", \"elderberry\", \"fig\", \"grape\"]\n",
    "\n",
    "# Length threshold\n",
    "threshold = 5\n",
    "\n",
    "# Use filter() with lambda to select words longer than the threshold\n",
    "filtered_words = list(filter(lambda word: len(word) > threshold, word_list))\n",
    "\n",
    "# Print the selected words\n",
    "print(\"Words longer than\", threshold, \"characters:\", filtered_words)\n",
    "\n"
   ]
  },
  {
   "cell_type": "code",
   "execution_count": 56,
   "id": "69471840",
   "metadata": {},
   "outputs": [
    {
     "name": "stdout",
     "output_type": "stream",
     "text": [
      "Elements greater than 20 : [25, 30, 40, 50]\n"
     ]
    }
   ],
   "source": [
    "# 7. Write a Python program that uses the `filter()` function to select elements greater than a\n",
    "# specified threshold from a list of values.\n",
    "\n",
    "# List of values\n",
    "value_list = [10, 25, 30, 5, 15, 40, 50]\n",
    "\n",
    "# Threshold\n",
    "threshold = 20\n",
    "\n",
    "# Use filter() with lambda to select elements greater than the threshold\n",
    "filtered_values = list(filter(lambda value: value > threshold, value_list))\n",
    "\n",
    "# Print the selected elements\n",
    "print(\"Elements greater than\", threshold, \":\", filtered_values)\n"
   ]
  },
  {
   "cell_type": "markdown",
   "id": "2a09e0f3",
   "metadata": {},
   "source": [
    "# Recursion"
   ]
  },
  {
   "cell_type": "code",
   "execution_count": 1,
   "id": "cf0cc91c",
   "metadata": {},
   "outputs": [],
   "source": [
    "# 1. Explain the concept of recursion in Python. How does it differ from iteration?\n"
   ]
  },
  {
   "cell_type": "code",
   "execution_count": 3,
   "id": "06af7c7a",
   "metadata": {},
   "outputs": [
    {
     "data": {
      "text/plain": [
       "'\\nRecursion in Python: Recursion is a programming concept where a function calls itself to solve a problem. \\nIn Python, a recursive function is a function that calls itself with modified arguments to solve a smaller \\ninstance of the same problem. It differs from iteration, which uses loops to repeat a block of code a specific \\nnumber of times. \\nRecursion is useful for solving problems that can be broken down into smaller, similar subproblems.\\n\\n'"
      ]
     },
     "execution_count": 3,
     "metadata": {},
     "output_type": "execute_result"
    }
   ],
   "source": [
    "\"\"\"\n",
    "Recursion in Python: Recursion is a programming concept where a function calls itself to solve a problem. \n",
    "In Python, a recursive function is a function that calls itself with modified arguments to solve a smaller \n",
    "instance of the same problem. It differs from iteration, which uses loops to repeat a block of code a specific \n",
    "number of times. \n",
    "Recursion is useful for solving problems that can be broken down into smaller, similar subproblems.\n",
    "\n",
    "\"\"\""
   ]
  },
  {
   "cell_type": "code",
   "execution_count": 4,
   "id": "b5c7faf7",
   "metadata": {},
   "outputs": [],
   "source": [
    "# 2. Write a Python program to calculate the factorial of a number using recursion."
   ]
  },
  {
   "cell_type": "code",
   "execution_count": 5,
   "id": "973f6ca4",
   "metadata": {},
   "outputs": [],
   "source": [
    "def factorial(n):\n",
    "    if n == 0:\n",
    "        return 1\n",
    "    else:\n",
    "        return n * factorial(n - 1)\n"
   ]
  },
  {
   "cell_type": "code",
   "execution_count": 6,
   "id": "386fbc1d",
   "metadata": {},
   "outputs": [
    {
     "data": {
      "text/plain": [
       "120"
      ]
     },
     "execution_count": 6,
     "metadata": {},
     "output_type": "execute_result"
    }
   ],
   "source": [
    "factorial(5)"
   ]
  },
  {
   "cell_type": "code",
   "execution_count": 11,
   "id": "90c2c066",
   "metadata": {},
   "outputs": [],
   "source": [
    "# 3. Create a recursive Python function to find the nth Fibonacci number.\n"
   ]
  },
  {
   "cell_type": "code",
   "execution_count": 28,
   "id": "ee3f6671",
   "metadata": {},
   "outputs": [],
   "source": [
    "# Fibonacci series -> 0,1,1,2,3,5,8\n",
    "def Fibonacci(n):\n",
    "    if n<= 0:\n",
    "        print(\"Incorrect input\")\n",
    "    # First Fibonacci number is 0\n",
    "    elif n == 1:\n",
    "        return 0\n",
    "    # Second Fibonacci number is 1\n",
    "    elif n == 2:\n",
    "        return 1\n",
    "    else:\n",
    "        return Fibonacci(n-1)+Fibonacci(n-2)\n",
    " "
   ]
  },
  {
   "cell_type": "code",
   "execution_count": 30,
   "id": "fb943dba",
   "metadata": {},
   "outputs": [
    {
     "data": {
      "text/plain": [
       "8"
      ]
     },
     "execution_count": 30,
     "metadata": {},
     "output_type": "execute_result"
    }
   ],
   "source": [
    "Fibonacci(7)"
   ]
  },
  {
   "cell_type": "code",
   "execution_count": 8,
   "id": "8fa6de06",
   "metadata": {},
   "outputs": [],
   "source": [
    "# 4. Write a recursive Python function to calculate the sum of all elements in a list."
   ]
  },
  {
   "cell_type": "code",
   "execution_count": 31,
   "id": "738aef41",
   "metadata": {},
   "outputs": [],
   "source": [
    "def sum_list(arr):\n",
    "    if not arr:\n",
    "        return 0\n",
    "    else:\n",
    "        return arr[0] + sum_list(arr[1:])\n"
   ]
  },
  {
   "cell_type": "code",
   "execution_count": 32,
   "id": "42d0744e",
   "metadata": {},
   "outputs": [
    {
     "data": {
      "text/plain": [
       "15"
      ]
     },
     "execution_count": 32,
     "metadata": {},
     "output_type": "execute_result"
    }
   ],
   "source": [
    "sum_list([1,2,3,4,5])"
   ]
  },
  {
   "cell_type": "code",
   "execution_count": 33,
   "id": "53b78d70",
   "metadata": {},
   "outputs": [],
   "source": [
    "# 5. How can you prevent a recursive function from running indefinitely, causing a stack overflow\n",
    "# error?"
   ]
  },
  {
   "cell_type": "code",
   "execution_count": 34,
   "id": "21fc9d7e",
   "metadata": {},
   "outputs": [
    {
     "data": {
      "text/plain": [
       "'\\nPreventing Infinite Recursion: To prevent a recursive function from running indefinitely, \\nyou should have a base case that terminates the recursion. \\nThe base case is a condition that checks whether the recursion should stop. \\nWithout a proper base case, the function will keep calling itself indefinitely and eventually \\nresult in a stack overflow error'"
      ]
     },
     "execution_count": 34,
     "metadata": {},
     "output_type": "execute_result"
    }
   ],
   "source": [
    "\"\"\"\n",
    "Preventing Infinite Recursion: To prevent a recursive function from running indefinitely, \n",
    "you should have a base case that terminates the recursion. \n",
    "The base case is a condition that checks whether the recursion should stop. \n",
    "Without a proper base case, the function will keep calling itself indefinitely and eventually \n",
    "result in a stack overflow error\"\"\""
   ]
  },
  {
   "cell_type": "code",
   "execution_count": 35,
   "id": "7c848d03",
   "metadata": {},
   "outputs": [],
   "source": [
    "# 6. Create a recursive Python function to find the greatest common divisor (GCD) of two numbers\n",
    "# using the Euclidean algorithm."
   ]
  },
  {
   "cell_type": "code",
   "execution_count": 36,
   "id": "0a8fefbe",
   "metadata": {},
   "outputs": [],
   "source": [
    "def gcd(a, b):\n",
    "    if b == 0:\n",
    "        return a\n",
    "    else:\n",
    "        return gcd(b, a % b)\n"
   ]
  },
  {
   "cell_type": "code",
   "execution_count": 37,
   "id": "6a57971a",
   "metadata": {},
   "outputs": [
    {
     "data": {
      "text/plain": [
       "2"
      ]
     },
     "execution_count": 37,
     "metadata": {},
     "output_type": "execute_result"
    }
   ],
   "source": [
    "gcd(4,6)"
   ]
  },
  {
   "cell_type": "code",
   "execution_count": 38,
   "id": "9d6405ac",
   "metadata": {},
   "outputs": [],
   "source": [
    "# 7. Write a recursive Python function to reverse a string."
   ]
  },
  {
   "cell_type": "code",
   "execution_count": 39,
   "id": "c5cdc925",
   "metadata": {},
   "outputs": [],
   "source": [
    "def reverse_string(s):\n",
    "    if not s:\n",
    "        return s\n",
    "    else:\n",
    "        return reverse_string(s[1:]) + s[0]\n"
   ]
  },
  {
   "cell_type": "code",
   "execution_count": 40,
   "id": "54d29f3e",
   "metadata": {},
   "outputs": [
    {
     "data": {
      "text/plain": [
       "'olleh'"
      ]
     },
     "execution_count": 40,
     "metadata": {},
     "output_type": "execute_result"
    }
   ],
   "source": [
    "reverse_string(\"hello\")"
   ]
  },
  {
   "cell_type": "code",
   "execution_count": 41,
   "id": "38e81aa2",
   "metadata": {},
   "outputs": [],
   "source": [
    "# 8. Create a recursive Python function to calculate the power of a number (x^n)."
   ]
  },
  {
   "cell_type": "code",
   "execution_count": 42,
   "id": "bcddb361",
   "metadata": {},
   "outputs": [],
   "source": [
    "def power(x, n):\n",
    "    if n == 0:\n",
    "        return 1\n",
    "    else:\n",
    "        return x * power(x, n - 1)\n"
   ]
  },
  {
   "cell_type": "code",
   "execution_count": 43,
   "id": "fbd19b0f",
   "metadata": {},
   "outputs": [
    {
     "data": {
      "text/plain": [
       "8"
      ]
     },
     "execution_count": 43,
     "metadata": {},
     "output_type": "execute_result"
    }
   ],
   "source": [
    "power(2,3)"
   ]
  },
  {
   "cell_type": "code",
   "execution_count": 47,
   "id": "4cce2461",
   "metadata": {},
   "outputs": [],
   "source": [
    "# 9. Write a recursive Python function to find all permutations of a given string.\n"
   ]
  },
  {
   "cell_type": "code",
   "execution_count": 51,
   "id": "6d493b30",
   "metadata": {},
   "outputs": [
    {
     "name": "stdout",
     "output_type": "stream",
     "text": [
      "['abc', 'bac', 'bca', 'acb', 'cab', 'cba']\n"
     ]
    }
   ],
   "source": [
    "def get_permutations(string):\n",
    "    # Base case: if the string has only one character, return a list containing that character\n",
    "    if len(string) == 1:\n",
    "        return [string]\n",
    "\n",
    "    # Recursive case:\n",
    "    # Get all permutations of the string excluding the first character\n",
    "    smaller_permutations = get_permutations(string[1:])\n",
    "\n",
    "    # Initialize the result list\n",
    "    result = []\n",
    "\n",
    "    # Insert the first character at all possible positions in each smaller permutation\n",
    "    for smaller_permutation in smaller_permutations:\n",
    "        for i in range(len(smaller_permutation) + 1):\n",
    "            result.append(smaller_permutation[:i] + string[0] + smaller_permutation[i:])\n",
    "\n",
    "    return result\n",
    "\n",
    "# Example usage:\n",
    "input_string = \"abc\"\n",
    "permutations = get_permutations(input_string)\n",
    "print(permutations)\n"
   ]
  },
  {
   "cell_type": "code",
   "execution_count": 52,
   "id": "d6601eb0",
   "metadata": {},
   "outputs": [
    {
     "data": {
      "text/plain": [
       "['abc', 'bac', 'bca', 'acb', 'cab', 'cba']"
      ]
     },
     "execution_count": 52,
     "metadata": {},
     "output_type": "execute_result"
    }
   ],
   "source": [
    "get_permutations(\"abc\")"
   ]
  },
  {
   "cell_type": "code",
   "execution_count": 48,
   "id": "33414db9",
   "metadata": {},
   "outputs": [],
   "source": [
    "# 10. Write a recursive Python function to check if a string is a palindrome.\n"
   ]
  },
  {
   "cell_type": "code",
   "execution_count": 53,
   "id": "28dea5bb",
   "metadata": {},
   "outputs": [
    {
     "name": "stdout",
     "output_type": "stream",
     "text": [
      "Is \"radar\" a palindrome? True\n",
      "Is \"python\" a palindrome? False\n"
     ]
    }
   ],
   "source": [
    "def is_palindrome(s):\n",
    "    # Base case: an empty string or a string with one character is a palindrome\n",
    "    if len(s) <= 1:\n",
    "        return True\n",
    "    \n",
    "    # Recursive case:\n",
    "    # Check if the first and last characters are the same\n",
    "    if s[0] == s[-1]:\n",
    "        # Recur on the substring excluding the first and last characters\n",
    "        return is_palindrome(s[1:-1])\n",
    "    \n",
    "    # If the first and last characters are not the same, it's not a palindrome\n",
    "    return False\n",
    "\n",
    "# Example usage:\n",
    "test_string1 = \"radar\"\n",
    "test_string2 = \"python\"\n",
    "\n",
    "print(f'Is \"{test_string1}\" a palindrome? {is_palindrome(test_string1)}')\n",
    "print(f'Is \"{test_string2}\" a palindrome? {is_palindrome(test_string2)}')\n"
   ]
  },
  {
   "cell_type": "code",
   "execution_count": 49,
   "id": "b2ca3707",
   "metadata": {},
   "outputs": [],
   "source": [
    "# 11. Create a recursive Python function to generate all possible combinations of a list of elements.\n"
   ]
  },
  {
   "cell_type": "code",
   "execution_count": 55,
   "id": "5d273192",
   "metadata": {},
   "outputs": [
    {
     "name": "stdout",
     "output_type": "stream",
     "text": [
      "[1, 2, 3, 4]\n",
      "[1, 2, 3]\n",
      "[1, 2, 4]\n",
      "[1, 2]\n",
      "[1, 3, 4]\n",
      "[1, 3]\n",
      "[1, 4]\n",
      "[1]\n",
      "[2, 3, 4]\n",
      "[2, 3]\n",
      "[2, 4]\n",
      "[2]\n",
      "[3, 4]\n",
      "[3]\n",
      "[4]\n",
      "[]\n"
     ]
    }
   ],
   "source": [
    "def generate_combinations(elements, current_combination=[]):\n",
    "    if not elements:\n",
    "        # Base case: an empty list has only one combination, the empty combination.\n",
    "        return [current_combination]\n",
    "\n",
    "    # Recursive case:\n",
    "    # 1. Include the first element in the current combination and recursively generate combinations.\n",
    "    combinations_with_first = generate_combinations(elements[1:], current_combination + [elements[0]])\n",
    "\n",
    "    # 2. Exclude the first element and recursively generate combinations.\n",
    "    combinations_without_first = generate_combinations(elements[1:], current_combination)\n",
    "\n",
    "    # Combine the results from both cases.\n",
    "    return combinations_with_first + combinations_without_first\n",
    "\n",
    "# Example usage:\n",
    "elements_list = [1, 2, 3, 4]\n",
    "all_combinations = generate_combinations(elements_list)\n",
    "\n",
    "# Print the result\n",
    "for combination in all_combinations:\n",
    "    print(combination)\n"
   ]
  },
  {
   "cell_type": "markdown",
   "id": "6d1db08c",
   "metadata": {},
   "source": [
    "# Basics of Functions:"
   ]
  },
  {
   "cell_type": "code",
   "execution_count": 64,
   "id": "036fdff3",
   "metadata": {},
   "outputs": [
    {
     "data": {
      "text/plain": [
       "'\\nA function in Python is a block of organized, reusable code that performs a specific task. \\nIt helps in modularizing code, improving code readability, and promoting code reuse.\\nFunctions make code more manageable by breaking it into smaller, logical units.'"
      ]
     },
     "execution_count": 64,
     "metadata": {},
     "output_type": "execute_result"
    }
   ],
   "source": [
    "# 1. What is a function in Python, and why is it used?\n",
    "\n",
    "\"\"\"\n",
    "A function in Python is a block of organized, reusable code that performs a specific task. \n",
    "It helps in modularizing code, improving code readability, and promoting code reuse.\n",
    "Functions make code more manageable by breaking it into smaller, logical units.\"\"\""
   ]
  },
  {
   "cell_type": "code",
   "execution_count": 65,
   "id": "0d9901b2",
   "metadata": {},
   "outputs": [
    {
     "name": "stdout",
     "output_type": "stream",
     "text": [
      "Hello, Alice!\n"
     ]
    }
   ],
   "source": [
    "# 2. How do you define a function in Python? Provide an example.\n",
    "def greet(name):\n",
    "    print(f\"Hello, {name}!\")\n",
    "\n",
    "# Function call\n",
    "greet(\"Alice\")\n"
   ]
  },
  {
   "cell_type": "code",
   "execution_count": 66,
   "id": "e5c066b9",
   "metadata": {},
   "outputs": [],
   "source": [
    "# 3. Explain the difference between a function definition and a function call.\n",
    "\n",
    "\"\"\"\n",
    "Function Definition: It involves specifying how a function behaves, its parameters, \n",
    "and the code it executes. It starts with the def keyword.\"\"\"\n",
    "\n",
    "def add(x, y):\n",
    "    return x + y\n",
    "\n",
    "\n",
    "\"\"\"\n",
    "Function Call: It is the actual execution of a function, providing values (arguments) for its parameters.\n",
    "\"\"\"\n",
    "\n",
    "result = add(3, 5)\n"
   ]
  },
  {
   "cell_type": "code",
   "execution_count": 67,
   "id": "ab234df2",
   "metadata": {},
   "outputs": [
    {
     "name": "stdout",
     "output_type": "stream",
     "text": [
      "30\n"
     ]
    }
   ],
   "source": [
    "# 4. Write a Python program that defines a function to calculate the sum of two numbers and then\n",
    "# calls the function.\n",
    "\n",
    "def add_numbers(a, b):\n",
    "    return a + b\n",
    "\n",
    "# Function call\n",
    "result = add_numbers(10, 20)\n",
    "print(result)\n"
   ]
  },
  {
   "cell_type": "code",
   "execution_count": 68,
   "id": "c1486994",
   "metadata": {},
   "outputs": [],
   "source": [
    "# 5. What is a function signature, and what information does it typically include?\n",
    "\n",
    "\"\"\"\n",
    "The function signature includes the function name, parameters (if any), and the return type. \n",
    "It provides a concise overview of how the function should be used.\n",
    "\"\"\"\n",
    "\n",
    "def multiply(x: int, y: int) -> int:\n",
    "    return x * y\n"
   ]
  },
  {
   "cell_type": "code",
   "execution_count": 69,
   "id": "116cb2a4",
   "metadata": {},
   "outputs": [
    {
     "data": {
      "text/plain": [
       "200"
      ]
     },
     "execution_count": 69,
     "metadata": {},
     "output_type": "execute_result"
    }
   ],
   "source": [
    "# 6. Create a Python function that takes two arguments and returns their product.\n",
    "\n",
    "def multiply_numbers(x, y):\n",
    "    return x * y\n",
    "\n",
    "multiply_numbers(10,20)"
   ]
  },
  {
   "cell_type": "markdown",
   "id": "dd43cc42",
   "metadata": {},
   "source": [
    "# Function Parameters and Arguments"
   ]
  },
  {
   "cell_type": "code",
   "execution_count": 70,
   "id": "286439b6",
   "metadata": {},
   "outputs": [
    {
     "data": {
      "text/plain": [
       "'\\nFormal parameters are the parameters specified in the function definition. They are placeholders for the actual values that will be \\npassed to the function during a function call.\\nActual arguments are the values passed to the function when it is called. They correspond to the formal \\nparameters defined in the function.\\n\\n'"
      ]
     },
     "execution_count": 70,
     "metadata": {},
     "output_type": "execute_result"
    }
   ],
   "source": [
    "# 1. Explain the concepts of formal parameters and actual arguments in Python functions.\n",
    "\n",
    "\"\"\"\n",
    "Formal parameters are the parameters specified in the function definition. They are placeholders for the actual values that will be \n",
    "passed to the function during a function call.\n",
    "Actual arguments are the values passed to the function when it is called. They correspond to the formal \n",
    "parameters defined in the function.\n",
    "\n",
    "\"\"\""
   ]
  },
  {
   "cell_type": "code",
   "execution_count": 71,
   "id": "a22d4312",
   "metadata": {},
   "outputs": [
    {
     "name": "stdout",
     "output_type": "stream",
     "text": [
      "Hello, Alice!\n",
      "Hi, Bob!\n"
     ]
    }
   ],
   "source": [
    "# 2. Write a Python program that defines a function with default argument values.\n",
    "\n",
    "def greet(name, greeting=\"Hello\"):\n",
    "    print(f\"{greeting}, {name}!\")\n",
    "\n",
    "# Function call with default argument\n",
    "greet(\"Alice\")\n",
    "# Function call with specified argument\n",
    "greet(\"Bob\", \"Hi\")\n"
   ]
  },
  {
   "cell_type": "code",
   "execution_count": 76,
   "id": "cefdb577",
   "metadata": {},
   "outputs": [
    {
     "name": "stdout",
     "output_type": "stream",
     "text": [
      "Alice is 25 years old and lives in Wonderland.\n"
     ]
    }
   ],
   "source": [
    "# 3. How do you use keyword arguments in Python function calls? Provide an example.\n",
    "\n",
    "\"\"\"\n",
    "Keyword arguments allow you to pass values to a function using the parameter names,\n",
    "making it clear which value corresponds to which parameter.\n",
    "\"\"\"\n",
    "\n",
    "def describe_person(name, age, city):\n",
    "    print(f\"{name} is {age} years old and lives in {city}.\")\n",
    "\n",
    "# Using keyword arguments\n",
    "describe_person(name=\"Alice\", age=25, city=\"Wonderland\")\n"
   ]
  },
  {
   "cell_type": "code",
   "execution_count": 77,
   "id": "22a13406",
   "metadata": {},
   "outputs": [
    {
     "name": "stdout",
     "output_type": "stream",
     "text": [
      "15\n"
     ]
    }
   ],
   "source": [
    "# 4. Create a Python function that accepts a variable number of arguments and calculates their sum.\n",
    "\n",
    "def calculate_sum(*args):\n",
    "    return sum(args)\n",
    "\n",
    "result = calculate_sum(1, 2, 3, 4, 5)\n",
    "print(result)\n"
   ]
  },
  {
   "cell_type": "code",
   "execution_count": 78,
   "id": "7ec09de2",
   "metadata": {},
   "outputs": [
    {
     "data": {
      "text/plain": [
       "'\\n*args allows a function to accept a variable number of positional arguments. It collects them into a tuple.\\n**kwargs allows a function to accept a variable number of keyword arguments. It collects them into a dictionary.\\n'"
      ]
     },
     "execution_count": 78,
     "metadata": {},
     "output_type": "execute_result"
    }
   ],
   "source": [
    "# 5. What is the purpose of the `*args` and `**kwargs` syntax in function parameter lists?\n",
    "\n",
    "\"\"\"\n",
    "*args allows a function to accept a variable number of positional arguments. It collects them into a tuple.\n",
    "**kwargs allows a function to accept a variable number of keyword arguments. It collects them into a dictionary.\n",
    "\"\"\""
   ]
  },
  {
   "cell_type": "markdown",
   "id": "c5c80ac1",
   "metadata": {},
   "source": [
    "# Return Values and Scoping"
   ]
  },
  {
   "cell_type": "code",
   "execution_count": 84,
   "id": "7eb02ab6",
   "metadata": {},
   "outputs": [
    {
     "name": "stdout",
     "output_type": "stream",
     "text": [
      "8\n"
     ]
    }
   ],
   "source": [
    "# 1. Describe the role of the `return` statement in Python functions and provide examples.\n",
    "\"\"\"\n",
    "The return statement is used to exit a function and return a value to the caller. \n",
    "It also terminates the execution of the function.\n",
    "\"\"\"\n",
    "\n",
    "def add_numbers(a, b):\n",
    "    result = a + b\n",
    "    return result\n",
    "\n",
    "sum_result = add_numbers(3, 5)\n",
    "print(sum_result)  # Output: 8\n"
   ]
  },
  {
   "cell_type": "code",
   "execution_count": 85,
   "id": "fcf7bc53",
   "metadata": {},
   "outputs": [
    {
     "data": {
      "text/plain": [
       "'\\n\\nVariable scope refers to the region of the code where a variable can be accessed or modified.\\nLocal variables are defined within a function and are only accessible within that function.\\nGlobal variables are defined outside any function and are accessible throughout the entire program.\\n\\n'"
      ]
     },
     "execution_count": 85,
     "metadata": {},
     "output_type": "execute_result"
    }
   ],
   "source": [
    "# 2. Explain the concept of variable scope in Python, including local and global variables.\n",
    "\n",
    "\"\"\"\n",
    "\n",
    "Variable scope refers to the region of the code where a variable can be accessed or modified.\n",
    "Local variables are defined within a function and are only accessible within that function.\n",
    "Global variables are defined outside any function and are accessible throughout the entire program.\n",
    "\n",
    "\"\"\""
   ]
  },
  {
   "cell_type": "code",
   "execution_count": 86,
   "id": "bc3298a4",
   "metadata": {},
   "outputs": [
    {
     "name": "stdout",
     "output_type": "stream",
     "text": [
      "15\n"
     ]
    }
   ],
   "source": [
    "# 3. Write a Python program that demonstrates the use of global variables within functions.\n",
    "\n",
    "global_var = 10  # Global variable\n",
    "\n",
    "def modify_global():\n",
    "    global global_var\n",
    "    global_var += 5\n",
    "\n",
    "modify_global()\n",
    "print(global_var)  # Output: 15\n"
   ]
  },
  {
   "cell_type": "code",
   "execution_count": 93,
   "id": "fe0f32e0",
   "metadata": {},
   "outputs": [
    {
     "name": "stdout",
     "output_type": "stream",
     "text": [
      "120\n"
     ]
    }
   ],
   "source": [
    "# 4. Create a Python function that calculates the factorial of a number and returns it.\n",
    "\n",
    "def factorial(n):\n",
    "    if n == 0 or n == 1:\n",
    "        return 1\n",
    "    else:\n",
    "        return n * factorial(n - 1)\n",
    "\n",
    "result = factorial(5)\n",
    "print(result)  # Output: 120\n"
   ]
  },
  {
   "cell_type": "code",
   "execution_count": 96,
   "id": "fd37215c",
   "metadata": {},
   "outputs": [
    {
     "name": "stdout",
     "output_type": "stream",
     "text": [
      "50\n"
     ]
    }
   ],
   "source": [
    "# 5. How can you access variables defined outside a function from within the function?\n",
    "\n",
    "\"\"\"\n",
    "To access variables defined outside a function, you can use the global keyword for global variables.\n",
    "\"\"\"\n",
    "\n",
    "outside_var = 50  # Global variable\n",
    "\n",
    "def access_global():\n",
    "    global outside_var\n",
    "    print(outside_var)\n",
    "\n",
    "access_global()  # Output: 50\n"
   ]
  },
  {
   "cell_type": "markdown",
   "id": "5a2b652b",
   "metadata": {},
   "source": [
    "# Lambda Functions and Higher-Order Functions"
   ]
  },
  {
   "cell_type": "code",
   "execution_count": 101,
   "id": "0dfddace",
   "metadata": {},
   "outputs": [
    {
     "data": {
      "text/plain": [
       "'\\nLambda functions, also known as anonymous functions, are small, unnamed functions defined using the lambda keyword.\\nThey are typically used for short-term operations where a full function definition is not necessary.\\nLambda functions are often employed in functions like map, filter, and sorted.\\n\\n'"
      ]
     },
     "execution_count": 101,
     "metadata": {},
     "output_type": "execute_result"
    }
   ],
   "source": [
    "# 1. What are lambda functions in Python, and when are they typically used?\n",
    "\n",
    "\"\"\"\n",
    "Lambda functions, also known as anonymous functions, are small, unnamed functions defined using the lambda keyword.\n",
    "They are typically used for short-term operations where a full function definition is not necessary.\n",
    "Lambda functions are often employed in functions like map, filter, and sorted.\n",
    "\n",
    "\"\"\""
   ]
  },
  {
   "cell_type": "code",
   "execution_count": 103,
   "id": "f832e4d9",
   "metadata": {},
   "outputs": [
    {
     "name": "stdout",
     "output_type": "stream",
     "text": [
      "[(4, 1), (3, 2), (1, 5), (2, 8)]\n"
     ]
    }
   ],
   "source": [
    "# 2. Write a Python program that uses lambda functions to sort a list of tuples based on the second\n",
    "# element.\n",
    "data = [(1, 5), (3, 2), (2, 8), (4, 1)]\n",
    "sorted_data = sorted(data, key=lambda x: x[1])\n",
    "print(sorted_data)\n"
   ]
  },
  {
   "cell_type": "code",
   "execution_count": 107,
   "id": "3ad278fb",
   "metadata": {},
   "outputs": [
    {
     "name": "stdout",
     "output_type": "stream",
     "text": [
      "8\n"
     ]
    }
   ],
   "source": [
    "# 3. Explain the concept of higher-order functions in Python, and provide an example.\n",
    "\n",
    "# Higher-order functions take other functions as arguments or return functions as results.\n",
    "\n",
    "def apply_operation(operation, x, y):\n",
    "    return operation(x, y)\n",
    "\n",
    "def add(a, b):\n",
    "    return a + b\n",
    "\n",
    "result = apply_operation(add, 3, 5)\n",
    "print(result)  \n"
   ]
  },
  {
   "cell_type": "code",
   "execution_count": 109,
   "id": "dd3676c8",
   "metadata": {},
   "outputs": [
    {
     "name": "stdout",
     "output_type": "stream",
     "text": [
      "[1, 4, 9, 16]\n"
     ]
    }
   ],
   "source": [
    "# 4. Create a Python function that takes a list of numbers and a function as arguments, applying the\n",
    "# function to each element in the list.\n",
    "\n",
    "def apply_function_to_list(func, num_list):\n",
    "    return [func(x) for x in num_list]\n",
    "\n",
    "square_result = apply_function_to_list(lambda x: x**2, [1, 2, 3, 4])\n",
    "print(square_result)  "
   ]
  },
  {
   "cell_type": "markdown",
   "id": "d00e3f3e",
   "metadata": {},
   "source": [
    "# Built-in Functions"
   ]
  },
  {
   "cell_type": "code",
   "execution_count": 118,
   "id": "83b477bd",
   "metadata": {},
   "outputs": [
    {
     "data": {
      "text/plain": [
       "'\\nlen(): Returns the length (number of items) of an object, such as a list, tuple, or string.\\nmax(): Returns the maximum value from a sequence or a set of arguments.\\nmin(): Returns the minimum value from a sequence or a set of arguments.\\nThese functions provide convenient ways to perform common operations on data structures.\\n'"
      ]
     },
     "execution_count": 118,
     "metadata": {},
     "output_type": "execute_result"
    }
   ],
   "source": [
    "# 1. Describe the role of built-in functions like `len()`, `max()`, and `min()` in Python.\n",
    "\"\"\"\n",
    "len(): Returns the length (number of items) of an object, such as a list, tuple, or string.\n",
    "max(): Returns the maximum value from a sequence or a set of arguments.\n",
    "min(): Returns the minimum value from a sequence or a set of arguments.\n",
    "These functions provide convenient ways to perform common operations on data structures.\n",
    "\"\"\""
   ]
  },
  {
   "cell_type": "code",
   "execution_count": 120,
   "id": "6e7eb68e",
   "metadata": {},
   "outputs": [
    {
     "name": "stdout",
     "output_type": "stream",
     "text": [
      "[1, 4, 9, 16, 25]\n"
     ]
    }
   ],
   "source": [
    "# 2. Write a Python program that uses the `map()` function to apply a function to each element of a\n",
    "# list.\n",
    "\n",
    "numbers = [1, 2, 3, 4, 5]\n",
    "squared_numbers = list(map(lambda x: x**2, numbers))\n",
    "print(squared_numbers)\n",
    "\n"
   ]
  },
  {
   "cell_type": "code",
   "execution_count": 122,
   "id": "b461f8b2",
   "metadata": {},
   "outputs": [
    {
     "name": "stdout",
     "output_type": "stream",
     "text": [
      "[2, 4, 6]\n"
     ]
    }
   ],
   "source": [
    "# 3. How does the `filter()` function work in Python, and when would you use it?\n",
    "\n",
    "\n",
    "\"\"\"\n",
    "The filter() function is used to construct an iterator from elements of an iterable for which a function \n",
    "returns true.\n",
    "It takes a function and an iterable as arguments and returns an iterator containing only the \n",
    "elements that satisfy the function.\n",
    "\"\"\"\n",
    "\n",
    "numbers = [1, 2, 3, 4, 5, 6]\n",
    "even_numbers = list(filter(lambda x: x % 2 == 0, numbers))\n",
    "print(even_numbers)\n",
    "\n"
   ]
  },
  {
   "cell_type": "code",
   "execution_count": 123,
   "id": "beb3ec40",
   "metadata": {},
   "outputs": [
    {
     "name": "stdout",
     "output_type": "stream",
     "text": [
      "120\n"
     ]
    }
   ],
   "source": [
    "# 4. Create a Python program that uses the `reduce()` function to find the product of all elements in\n",
    "# a list.\n",
    "\n",
    "\n",
    "from functools import reduce\n",
    "\n",
    "numbers = [1, 2, 3, 4, 5]\n",
    "product = reduce(lambda x, y: x * y, numbers)\n",
    "print(product)\n"
   ]
  },
  {
   "cell_type": "markdown",
   "id": "6876f68b",
   "metadata": {},
   "source": [
    "# Function Documentation and Best Practices"
   ]
  },
  {
   "cell_type": "code",
   "execution_count": 126,
   "id": "39f76d0f",
   "metadata": {},
   "outputs": [
    {
     "data": {
      "text/plain": [
       "'\\nDocstrings (documentation strings) are used to document Python functions, classes, and modules. \\nThey provide a way to describe the purpose, usage, and other details of the code.\\nDocstrings are enclosed in triple-quotes (single or double) and can be placed at the beginning of a module, \\nfunction, class, or method.\\n\\n'"
      ]
     },
     "execution_count": 126,
     "metadata": {},
     "output_type": "execute_result"
    }
   ],
   "source": [
    "# 1. Explain the purpose of docstrings in Python functions and how to write them.\n",
    "\n",
    "\"\"\"\n",
    "Docstrings (documentation strings) are used to document Python functions, classes, and modules. \n",
    "They provide a way to describe the purpose, usage, and other details of the code.\n",
    "Docstrings are enclosed in triple-quotes (single or double) and can be placed at the beginning of a module, \n",
    "function, class, or method.\n",
    "\n",
    "\"\"\""
   ]
  },
  {
   "cell_type": "code",
   "execution_count": 127,
   "id": "a0406933",
   "metadata": {},
   "outputs": [],
   "source": [
    "# 2.Describe some best practices for naming functions and variables in Python, \n",
    "# including naming conventions and guidelines\n",
    "\n",
    "def add(a, b):\n",
    "    \"\"\"\n",
    "    This function adds two numbers.\n",
    "\n",
    "    Parameters:\n",
    "    a (int): The first number.\n",
    "    b (int): The second number.\n",
    "\n",
    "    Returns:\n",
    "    int: The sum of the two numbers.\n",
    "    \"\"\"\n",
    "    return a + b\n"
   ]
  },
  {
   "cell_type": "code",
   "execution_count": 129,
   "id": "7faa0607",
   "metadata": {},
   "outputs": [
    {
     "data": {
      "text/plain": [
       "8"
      ]
     },
     "execution_count": 129,
     "metadata": {},
     "output_type": "execute_result"
    }
   ],
   "source": [
    "add(2,6)"
   ]
  },
  {
   "cell_type": "code",
   "execution_count": null,
   "id": "43d7ceaf",
   "metadata": {},
   "outputs": [],
   "source": []
  },
  {
   "cell_type": "code",
   "execution_count": null,
   "id": "7f49500c",
   "metadata": {},
   "outputs": [],
   "source": []
  }
 ],
 "metadata": {
  "kernelspec": {
   "display_name": "Python (ml_kernel)",
   "language": "python",
   "name": "your_env_name"
  },
  "language_info": {
   "codemirror_mode": {
    "name": "ipython",
    "version": 3
   },
   "file_extension": ".py",
   "mimetype": "text/x-python",
   "name": "python",
   "nbconvert_exporter": "python",
   "pygments_lexer": "ipython3",
   "version": "3.8.0"
  }
 },
 "nbformat": 4,
 "nbformat_minor": 5
}
