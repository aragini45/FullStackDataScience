{
 "cells": [
  {
   "cell_type": "code",
   "execution_count": 31,
   "id": "df7cd766",
   "metadata": {},
   "outputs": [
    {
     "name": "stdout",
     "output_type": "stream",
     "text": [
      "Duplicate elements present\n",
      "No duplicate elements\n"
     ]
    }
   ],
   "source": [
    "# 1. Given an array, check if it contains any duplicates or not. \n",
    "\n",
    "# arr = [1, 2, 4, 2, 5, 9] \n",
    "\n",
    "# Output = True\n",
    "\n",
    "\n",
    "arr = [1, 2, 4, 2, 5, 9]\n",
    "arr2 = [1, 2, 4, 5, 9]\n",
    "\n",
    "def check_duplicates(arr):\n",
    "    arr_set = set(arr)\n",
    "    if len(arr_set) == len(arr):\n",
    "        print(\"No duplicate elements\")\n",
    "    else:\n",
    "        print(\"Duplicate elements present\")\n",
    "\n",
    "check_duplicates(arr)\n",
    "check_duplicates(arr2)\n",
    "    "
   ]
  },
  {
   "cell_type": "code",
   "execution_count": 32,
   "id": "f53fa11f",
   "metadata": {},
   "outputs": [
    {
     "name": "stdout",
     "output_type": "stream",
     "text": [
      "[5, 6, 7, 1, 2, 3, 4]\n"
     ]
    }
   ],
   "source": [
    "# 2. Given an array and an integer k, rotate the array to the right by k steps. \n",
    "\n",
    "# arr = [1, 2, 3, 4, 5, 6, 7] k = 3 \n",
    "\n",
    "# Output = [5, 6, 7, 1, 2, 3, 4]\n",
    "\n",
    "\n",
    "arr = [1, 2, 3, 4, 5, 6, 7] \n",
    "k = 3\n",
    "\n",
    "output = arr[-k:] + arr[:-k]\n",
    "print(output)\n"
   ]
  },
  {
   "cell_type": "code",
   "execution_count": 33,
   "id": "6bffc93c",
   "metadata": {},
   "outputs": [
    {
     "name": "stdout",
     "output_type": "stream",
     "text": [
      "[12, 9, 7, 5, 4, 2]\n"
     ]
    }
   ],
   "source": [
    "# 3. Reverse the given array in-place, means without using any extra data structure. \n",
    "\n",
    "# arr = [2, 4, 5, 7, 9, 12] \n",
    "\n",
    "# Output = [12, 9, 7, 5, 4, 2]\n",
    "\n",
    "arr = [2, 4, 5, 7, 9, 12]\n",
    "rev_arr = arr[::-1]\n",
    "print(rev_arr)\n"
   ]
  },
  {
   "cell_type": "code",
   "execution_count": 34,
   "id": "c5fc3817",
   "metadata": {},
   "outputs": [
    {
     "name": "stdout",
     "output_type": "stream",
     "text": [
      "20\n"
     ]
    }
   ],
   "source": [
    "# 4. Given an array of integers, find the maximum element in an array\n",
    "\n",
    "#  arr = [10, 5, 20, 8, 15]\n",
    "\n",
    "#  Output = 20\n",
    "\n",
    "arr = [10, 5, 20, 8, 15]\n",
    "max_ele = max(arr)\n",
    "print(max_ele)"
   ]
  },
  {
   "cell_type": "code",
   "execution_count": 35,
   "id": "238d89bf",
   "metadata": {},
   "outputs": [
    {
     "name": "stdout",
     "output_type": "stream",
     "text": [
      "[1, 2, 3, 4, 5]\n"
     ]
    }
   ],
   "source": [
    "# 5. Given a sorted array, remove the duplicate element without using any extra data structure. \n",
    "\n",
    "# arr = [1, 1, 2, 2, 2, 3, 3, 4, 4, 4, 5, 5] \n",
    "\n",
    "# Output = [1, 2, 3, 4, 5]\n",
    "\n",
    "arr = [1, 1, 2, 2, 2, 3, 3, 4, 4, 4, 5, 5] \n",
    "remove_duplicat_ele = set(arr)\n",
    "print(list(remove_duplicat_ele))"
   ]
  },
  {
   "cell_type": "code",
   "execution_count": null,
   "id": "06753223",
   "metadata": {},
   "outputs": [],
   "source": []
  },
  {
   "cell_type": "code",
   "execution_count": null,
   "id": "df79b4a1",
   "metadata": {},
   "outputs": [],
   "source": []
  }
 ],
 "metadata": {
  "kernelspec": {
   "display_name": "Python (ml_kernel)",
   "language": "python",
   "name": "your_env_name"
  },
  "language_info": {
   "codemirror_mode": {
    "name": "ipython",
    "version": 3
   },
   "file_extension": ".py",
   "mimetype": "text/x-python",
   "name": "python",
   "nbconvert_exporter": "python",
   "pygments_lexer": "ipython3",
   "version": "3.8.0"
  }
 },
 "nbformat": 4,
 "nbformat_minor": 5
}
